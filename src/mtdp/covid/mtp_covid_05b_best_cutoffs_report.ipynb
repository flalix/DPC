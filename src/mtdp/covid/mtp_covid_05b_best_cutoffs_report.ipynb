{
 "cells": [
  {
   "cell_type": "code",
   "execution_count": null,
   "id": "8507fa29-279b-4485-965b-77219389672d",
   "metadata": {},
   "outputs": [],
   "source": [
    "from platform import python_version\n",
    "print(python_version())"
   ]
  },
  {
   "cell_type": "markdown",
   "id": "bd5a749a-e8af-47a6-b830-146427535d00",
   "metadata": {},
   "source": [
    "### Calc best cutoffs\n",
    "### Simulate many indexs\n",
    "### Calc if random genes can be equal or better than best cutoffs"
   ]
  },
  {
   "cell_type": "markdown",
   "id": "0c15fce4-6125-4e31-b813-f283fa32017e",
   "metadata": {},
   "source": [
    "## Definitions:\n",
    "  - LFC table has:\n",
    "    - abs_LFC (the absolute LFC cutoff value)\n",
    "    - FDR_LFC, its FDR or p-value adjusted\n",
    "  - The enriched pathway table has:\n",
    "    - FDR_pathway cutoff value\n",
    "   \n",
    "### Default values for LFC table:\n",
    "  - abs_LFC = 1\n",
    "  - FDR_LFC = 0.05\n",
    "  - therefore, a DEG/DAP is abs(LFC) >= 1 and FDR < 0.05\n",
    "\n",
    "### Default values for Enriched Pathways:\n",
    "  - FDR_pathway = 0.05\n",
    "  - therefore, an enriched pathways has FDR < 0.05 and at least 3 DEGs/DAPs\n",
    "\n",
    "### Calculating the best cutoffs:\n",
    "  - We proposed and calculated many indexes to define a new statistics to flebilize the LFC and Enriched Pathway cutoffs.\n",
    "    - Indexes are calculated for each case, each cutoff, and each resulting enriched pathway.\n",
    "  - To find the possible best LFC/FDR expression and FDR pathway cutoffs:\n",
    "     - We look for a high number in n_pathway and n_DEGs_in_pathway, having a low FDR_LFC and a high absLFC.\n",
    "       - The default FDR_LFC (0.05):\n",
    "          - It may have fewer DEGs, resulting in fewer enriched pathways.\n",
    "          - It may have fewer enriched pathways, even having many DEGs/DAPs.\n",
    "       - Therefore, a trade-off exists between optimizing (abs_LFC and FDR_LFC cutoffs) and (FDR_pathway cutoffs, n_pathways, and n_DEGs_in_pathways.)\n",
    "\n",
    "### toi calculates the trade-off between \"LFC\" and \"Enriched Pathways\" cufoffs\n",
    "\n",
    "  - We proposed and calculated four Trade-Off Indexes (toi):\n",
    "\n",
    "<p style=\"font-size: 20px; color: yellow;\">\n",
    "$toi1 = \\sqrt{-log{_{10}}{FDR_{pathway}} * \\frac{n}{N} }$ </p>\n",
    "\n",
    "<p style=\"font-size: 20px; color: cyan;\">\n",
    "$toi2 = \\sqrt{-log{_{10}}{FDR_{LFC}} * -log{_{10}}{FDR_{pathway}} }$ </p>\n",
    "\n",
    "<p style=\"font-size: 20px; color: orange;\">\n",
    "$toi3 = (-log{_{10}}{FDR_{LFC}} * -log{_{10}}{FDR_{pathway}} * \\frac{n}{N})^{1/3}$ </p>\n",
    "\n",
    "<p style=\"font-size: 20px; color: pink;\">\n",
    "$toi4 = (abs\\_LFC * -log{_{10}}{FDR_{LFC}} * -log{_{10}}{FDR_{pathway}} * \\frac{n}{N})^{1/4}$ </p>\n",
    "\n",
    "where,\n",
    "  - n is the number of DEGs/DAPs found in the pathway\n",
    "  - N is the total number of annotated DEGs/DAPs in the pathway (depend in the database, our default database is Reactome 2022)\n",
    "\n",
    "### Then we searched for the best cutoffs\n",
    "  - In each 5 percentile of the index histogram, we look for the best abs_LFC, FDR_LFC, FDR_pathway:\n",
    "  -  We expected that the best cutoff should be in the right tail of the histogram (high index value.)\n",
    "  -  High index values must have a high number of n_pathways and n DEGs in pathways.\n",
    "\n",
    "### Testing the best cutoffs (for each case)\n",
    "\n",
    "  - Is the new set of cutoffs correct? good enough?\n",
    "  - How to establish that the calculated cutoff is correct?\n",
    "  - To answer these questions we calculated the chi-square test between the \"best cutoff\" and the \"default\"\n",
    "    - Best cutoff has:\n",
    "      - n DEGs/DAPs in pathways\n",
    "      - n DEGs/DAPs not in pathways\n",
    "    - The Default cutoff may have:\n",
    "      - n DEGs/DAPs in pathways\n",
    "      - n DEGs/DAPs not in pathways\n",
    "      - The DEGs/DAPs can be:\n",
    "        - greater or equal number of the best cutoff DEGs/DAPs\n",
    "        - fewer number of the best cutoff DEGs/DAPs:\n",
    "           - in this case, one complements the number of DEGs/DAPs with random genes not DEGs/DAPs (found in the experiment)\n",
    "\n",
    "#### Chi-square test:\n",
    "\n",
    "DEGs/DAPs | # in pathway | no in pathway\n",
    "--- | --- | --- \n",
    " Best cutoff |     A      |   B  \n",
    " Default cutoff |   C | D \n",
    "\n",
    "Chi-square p-value:\n",
    "  - p-value < 0.05 denotes that both distributions are not similar; therefore, random genes could not reach the best cutoff DEGs/DAPs; in conclusion, the best cutoff was not found randomly.\n",
    "  - p-value \\>= 0.05 denotes that both distributions are similar, and the best cutoff can be achieved randomly."
   ]
  },
  {
   "cell_type": "code",
   "execution_count": null,
   "id": "f5a3b22e",
   "metadata": {},
   "outputs": [],
   "source": [
    "import os, sys, pickle\n",
    "\n",
    "import numpy as np\n",
    "import pandas as pd\n",
    "pd.set_option('display.width', 100)\n",
    "pd.set_option('max_colwidth', 80)\n",
    "pd.set_option(\"display.precision\", 3)\n",
    "\n",
    "import yaml\n",
    "\n",
    "import seaborn as sns\n",
    "sns.set_context(\"notebook\", font_scale=1.4)\n",
    "\n",
    "import matplotlib.pyplot as plt\n",
    "import matplotlib.gridspec as gridspec\n",
    "%matplotlib inline\n",
    "\n",
    "sys.path.insert(1, '../src/')\n",
    "\n",
    "from Basic import *\n",
    "from enricher_lib import *\n",
    "from config_lib import *\n",
    "\n",
    "import warnings\n",
    "warnings.filterwarnings(\"ignore\")\n",
    "\n",
    "from IPython.display import display, HTML\n",
    "display(HTML(\"<style>:root { --jp-notebook-max-width: 100% !important; }</style>\"))\n",
    "\n",
    "# !pip3 install pyyaml\n",
    "with open('params.yml', 'r') as file:\n",
    "    dic_yml=yaml.safe_load(file)"
   ]
  },
  {
   "cell_type": "code",
   "execution_count": null,
   "id": "2bdaf5e7",
   "metadata": {},
   "outputs": [],
   "source": [
    "root0=dic_yml['root0']\n",
    "email=dic_yml['email']\n",
    "\n",
    "project=dic_yml['project']\n",
    "s_project=dic_yml['s_project']\n",
    "\n",
    "gene_protein=dic_yml['gene_protein']\n",
    "s_omics=dic_yml['s_omics']\n",
    "\n",
    "has_age=dic_yml['has_age']\n",
    "has_gender=dic_yml['has_gender']\n",
    "\n",
    "want_normalized=dic_yml['want_normalized']\n",
    "\n",
    "abs_lfc_cutoff_inf=dic_yml['abs_lfc_cutoff_inf']\n",
    "s_pathw_enrichm_method=dic_yml['s_pathw_enrichm_method']\n",
    "num_min_degs_for_ptw_enr=dic_yml['num_min_degs_for_ptw_enr']\n",
    "\n",
    "tolerance_pathway_index=dic_yml['tolerance_pathway_index']\n",
    "type_sat_ptw_index=dic_yml['type_sat_ptw_index']\n",
    "saturation_lfc_index=dic_yml['saturation_lfc_index']\n",
    "chosen_model_sampling=dic_yml['chosen_model_sampling']\n",
    "\n",
    "case_list=dic_yml['case_list']\n",
    "\n",
    "pval_pathway_cutoff=dic_yml['pval_pathway_cutoff']\n",
    "fdr_pathway_cutoff=dic_yml['fdr_pathway_cutoff']\n",
    "num_of_genes_cutoff=dic_yml['num_of_genes_cutoff']\n",
    "\n",
    "run_list=dic_yml['run_list']\n",
    "chosen_model_list=dic_yml['chosen_model_list']\n",
    "i_dfp_list=dic_yml['i_dfp_list']\n",
    "\n",
    "exp_normalization='quantile_norm' if want_normalized else None\n",
    "normalization='not_normalized' if exp_normalization is None else exp_normalization\n",
    "\n",
    "cfg=Config(project, s_project, case_list, root0)\n",
    "\n",
    "case=case_list[0]\n",
    "\n",
    "n_genes_annot_ptw, n_degs, n_degs_in_ptw, n_degs_not_in_ptw, degs_in_all_ratio=-1,-1,-1,-1,-1\n",
    "abs_lfc_cutoff, fdr_lfc_cutoff, n_degs, n_degs_up, n_degs_dw=cfg.get_best_lfc_cutoff(case, 'not_normalized')\n",
    "\n",
    "\n",
    "print(f\"G/P LFC cutoffs: lfc={abs_lfc_cutoff:.3f}; fdr={fdr_lfc_cutoff:.3f}\")\n",
    "print(f\"Pathway cutoffs: pval={pval_pathway_cutoff:.3f}; fdr={fdr_pathway_cutoff:.3f}; num of genes={num_of_genes_cutoff}\")"
   ]
  },
  {
   "cell_type": "code",
   "execution_count": null,
   "id": "aba18ba7-668d-41cf-8a6f-56a038b370e5",
   "metadata": {},
   "outputs": [],
   "source": []
  },
  {
   "cell_type": "code",
   "execution_count": null,
   "id": "2d76e2fd",
   "metadata": {},
   "outputs": [],
   "source": [
    "enr=enricheR(gene_protein, s_omics, project, s_project, root0,\n",
    "             case_list, has_age, has_gender, clone_objects=False,\n",
    "             exp_normalization=exp_normalization, geneset_num=0, \n",
    "             num_min_degs_for_ptw_enr=num_min_degs_for_ptw_enr, \n",
    "             tolerance_pathway_index=tolerance_pathway_index, \n",
    "             s_pathw_enrichm_method=s_pathw_enrichm_method,\n",
    "             abs_lfc_cutoff_inf=abs_lfc_cutoff_inf, \n",
    "             type_sat_ptw_index=type_sat_ptw_index, saturation_lfc_index=saturation_lfc_index)\n",
    "\n",
    "case=case_list[0]\n",
    "\n",
    "enr.cfg.set_default_best_lfc_cutoff(normalization, abs_lfc_cutoff=1, fdr_lfc_cutoff=0.05)\n",
    "ret, degs, degs_ensembl, dfdegs=enr.open_case(case, verbose=False)\n",
    "print(\"\\nEcho Parameters:\")\n",
    "enr.echo_parameters()\n",
    "geneset_num=enr.geneset_num"
   ]
  },
  {
   "cell_type": "code",
   "execution_count": null,
   "id": "297ec07a-a00b-4261-8599-e3faa776a0ff",
   "metadata": {},
   "outputs": [],
   "source": []
  },
  {
   "cell_type": "markdown",
   "id": "da6cc1be-b9ac-4c3b-a445-28282b739d55",
   "metadata": {},
   "source": [
    "### Error not mapped"
   ]
  },
  {
   "cell_type": "code",
   "execution_count": null,
   "id": "9075552b-5fd5-428a-8adf-6d30cab54df3",
   "metadata": {},
   "outputs": [],
   "source": [
    "enr.dfn"
   ]
  },
  {
   "cell_type": "code",
   "execution_count": null,
   "id": "5d676042-56e3-4c2a-8441-e0b80cb92a5e",
   "metadata": {},
   "outputs": [],
   "source": [
    "case = case_list[1]\n",
    "ret, degs, degs_ensembl, dfdegs = enr.open_case(case, verbose=False)\n",
    "print(\"\\nEcho Parameters:\")\n",
    "enr.echo_parameters()"
   ]
  },
  {
   "cell_type": "code",
   "execution_count": null,
   "id": "6eef46ff-f63e-4b96-808c-2ad7cfd6af52",
   "metadata": {},
   "outputs": [],
   "source": [
    "enr.case, enr.group, enr.gender, enr.age, enr.geneset_num, enr.abs_lfc_cutoff_inf"
   ]
  },
  {
   "cell_type": "code",
   "execution_count": null,
   "id": "b7931219-18c9-4372-8ba4-5c77d20abf17",
   "metadata": {},
   "outputs": [],
   "source": [
    "enr.list_order"
   ]
  },
  {
   "cell_type": "markdown",
   "id": "2517f1c9-f49b-4025-867e-ede88fa225cf",
   "metadata": {},
   "source": [
    "### All text - analytical text"
   ]
  },
  {
   "cell_type": "code",
   "execution_count": null,
   "id": "984f89aa-46d3-46ba-a6ea-63d5a217a7a2",
   "metadata": {},
   "outputs": [],
   "source": [
    "text = enr.degs_to_text_all_cases_summary(verbose=True)\n",
    "# print(text)"
   ]
  },
  {
   "cell_type": "code",
   "execution_count": null,
   "id": "82d47aef-1443-4751-a484-5300c6cf066f",
   "metadata": {},
   "outputs": [],
   "source": []
  },
  {
   "cell_type": "markdown",
   "id": "9e0632a9-c2d5-4418-8145-70ecae7a1563",
   "metadata": {},
   "source": [
    "### Checking totals"
   ]
  },
  {
   "cell_type": "code",
   "execution_count": null,
   "id": "d323a976-44d6-47b7-adce-2809cb729962",
   "metadata": {},
   "outputs": [],
   "source": [
    "case = case_list[0]\n",
    "ret, degs, degs_ensembl, dfdegs = enr.open_case(case, verbose=False)"
   ]
  },
  {
   "cell_type": "code",
   "execution_count": null,
   "id": "4aa3aec2-2abc-488b-9397-c133c4ab686a",
   "metadata": {},
   "outputs": [],
   "source": [
    "enr.n_degs_up_ensembl + enr.n_degs_dw_ensembl, enr.n_degs_up_ensembl, enr.n_degs_dw_ensembl"
   ]
  },
  {
   "cell_type": "code",
   "execution_count": null,
   "id": "173c30cf-5345-46d7-a973-4291a9f651c9",
   "metadata": {},
   "outputs": [],
   "source": [
    "enr.n_degs_in_pathways, len(np.unique(enr.degs_in_pathways))"
   ]
  },
  {
   "cell_type": "code",
   "execution_count": null,
   "id": "6ee6ee99-74ff-4eae-b6c6-d7418e601226",
   "metadata": {},
   "outputs": [],
   "source": [
    "degs_in_pathways = []\n",
    "pathway_list, pathway_id_list, pathway_fdr_list = [], [], []\n",
    "for i in range(len(enr.df_enr)):\n",
    "    row = enr.df_enr.iloc[i]\n",
    "    genes = row.genes\n",
    "    if isinstance(genes, str):\n",
    "        genes = eval(genes)\n",
    "    degs_in_pathways += genes\n",
    "\n",
    "    pathway_list.append(row.pathway)\n",
    "    try:\n",
    "        # now, only Ractome has pathway_id\n",
    "        pathway_id_list.append(row.pathway_id)\n",
    "    except:\n",
    "        pass\n",
    "    pathway_fdr_list.append(row.fdr)\n",
    "\n",
    "degs_in_pathways = list(np.unique(degs_in_pathways))\n",
    "len(degs_in_pathways)"
   ]
  },
  {
   "cell_type": "markdown",
   "id": "80ff7c6b-79a7-4897-9ca1-119fc9ab0854",
   "metadata": {},
   "source": [
    "### Not all annotated Reactome genes have ensembl_id"
   ]
  },
  {
   "cell_type": "code",
   "execution_count": null,
   "id": "1c9f58d8-a8d5-496f-b44d-06d7a4acbcb9",
   "metadata": {},
   "outputs": [],
   "source": [
    "degs_up_in_pathways     = [x for x in enr.degs_up_ensembl  if x in degs_in_pathways]\n",
    "degs_dw_in_pathways     = [x for x in enr.degs_dw_ensembl  if x in degs_in_pathways]\n",
    "\n",
    "len(degs_up_in_pathways) + len(degs_dw_in_pathways)"
   ]
  },
  {
   "cell_type": "code",
   "execution_count": null,
   "id": "c21faf29-2b4f-47c9-ae0e-2e17e7efd11a",
   "metadata": {},
   "outputs": [],
   "source": [
    "len(enr.degs_up_ensembl), len(np.unique(enr.degs_up_ensembl))"
   ]
  },
  {
   "cell_type": "markdown",
   "id": "0b492450-67f5-4bfd-bc7d-8d69fee20e4e",
   "metadata": {},
   "source": [
    "### Reference database"
   ]
  },
  {
   "cell_type": "code",
   "execution_count": null,
   "id": "7e75a31d-e7b8-4056-acc0-bbb64c66e3f8",
   "metadata": {},
   "outputs": [],
   "source": [
    "enr.abs_lfc_cutoff_inf"
   ]
  },
  {
   "cell_type": "code",
   "execution_count": null,
   "id": "f7355e55-da16-4073-8c73-6b1c0e9bdde7",
   "metadata": {},
   "outputs": [],
   "source": [
    "enr.case, enr.group, enr.gender, enr.age"
   ]
  },
  {
   "cell_type": "code",
   "execution_count": null,
   "id": "2ee08543-154c-41a0-a30a-bafd6bfefee7",
   "metadata": {},
   "outputs": [],
   "source": [
    "enr.geneset_num, enr.geneset_lib, enr.dbs_list"
   ]
  },
  {
   "cell_type": "code",
   "execution_count": null,
   "id": "7d50224c-082f-4223-9ec8-a4d54951e8cf",
   "metadata": {},
   "outputs": [],
   "source": [
    "enr.set_db(0, verbose=True)"
   ]
  },
  {
   "cell_type": "code",
   "execution_count": null,
   "id": "d44e6f36-794b-48c4-8baa-1965d37eda04",
   "metadata": {},
   "outputs": [],
   "source": [
    "fname_final_ori, fname_ori, title = enr.set_lfc_names()\n",
    "fname_final_ori, title"
   ]
  },
  {
   "cell_type": "markdown",
   "id": "d15db433-7d2e-49dc-8a35-0373ae0b15b7",
   "metadata": {},
   "source": [
    "### Sampling cutoffs"
   ]
  },
  {
   "cell_type": "code",
   "execution_count": null,
   "id": "ac72e581-8e3f-4920-8e38-0d0ba4009f01",
   "metadata": {},
   "outputs": [],
   "source": [
    "geneset_num_list = [0, 1, 2, 4, 5, 7]\n",
    "\n",
    "for geneset_num in geneset_num_list:\n",
    "    enr.set_db(geneset_num, verbose=True)\n",
    "\n",
    "    s_start = f\"enricher_{enr.geneset_lib}\"\n",
    "\n",
    "    for case in case_list:\n",
    "        files = [x for x in os.listdir(enr.root_enrichment) if x.startswith(s_start) and case in x]\n",
    "        print(\"\\tcase\", case, len(files))\n",
    "\n",
    "    print('')"
   ]
  },
  {
   "cell_type": "code",
   "execution_count": null,
   "id": "2e045549-092b-47ea-834b-5fb3ef4b1f6f",
   "metadata": {},
   "outputs": [],
   "source": []
  },
  {
   "cell_type": "markdown",
   "id": "40d36527",
   "metadata": {},
   "source": [
    "### Define case"
   ]
  },
  {
   "cell_type": "code",
   "execution_count": null,
   "id": "42822773-5ea7-404b-9e8d-f76dd543aa9e",
   "metadata": {},
   "outputs": [],
   "source": [
    "geneset_num = 0\n",
    "enr.set_db(geneset_num, verbose=True)\n",
    "enr.geneset_num, enr.geneset_lib"
   ]
  },
  {
   "cell_type": "code",
   "execution_count": null,
   "id": "0217b466",
   "metadata": {
    "scrolled": true
   },
   "outputs": [],
   "source": [
    "i=0\n",
    "case = case_list[i]\n",
    "\n",
    "ret, degs, degs_ensembl, dfdegs = enr.open_case(case, verbose=False)\n",
    "print(f\"G/P cutoff: lfc={enr.abs_lfc_cutoff:.3f}; lfc_fdr={enr.fdr_lfc_cutoff:.3f}\")\n",
    "len(degs), len(degs_ensembl)"
   ]
  },
  {
   "cell_type": "code",
   "execution_count": null,
   "id": "e7e3d2f7-8fc6-4b60-926e-677934281060",
   "metadata": {},
   "outputs": [],
   "source": [
    "enr.n_degs_in_pathways, enr.n_degs_ensembl_in_pathways"
   ]
  },
  {
   "cell_type": "code",
   "execution_count": null,
   "id": "1c60e9bc-5d87-4f2d-9479-46fd175e7522",
   "metadata": {},
   "outputs": [],
   "source": []
  },
  {
   "cell_type": "code",
   "execution_count": null,
   "id": "567229d3-db70-4b3a-a7f7-e48f6208a8b1",
   "metadata": {},
   "outputs": [],
   "source": [
    "degs_diff = [x for x in enr.degs_in_pathways if x not in enr.degs_ensembl_in_pathways]\n",
    "np.array(degs_diff)"
   ]
  },
  {
   "cell_type": "code",
   "execution_count": null,
   "id": "ef052235-bda8-4702-afc3-b44d37d285b4",
   "metadata": {},
   "outputs": [],
   "source": [
    "enr.fdr_lfc_cutoff"
   ]
  },
  {
   "cell_type": "code",
   "execution_count": null,
   "id": "59fcd6d4-6dd9-43f2-92ff-2f51d7ffab77",
   "metadata": {},
   "outputs": [],
   "source": [
    "# dflfc_ori.columns"
   ]
  },
  {
   "cell_type": "code",
   "execution_count": null,
   "id": "1c0603e8-5e3d-46e4-b3a5-3585ccf03ad7",
   "metadata": {},
   "outputs": [],
   "source": [
    "dflfc_ori = enr.dflfc_ori\n",
    "\n",
    "if s_omics == 'microarray':\n",
    "    cols = ['probe', 'symbol', 'symbol_prev', 'symb_or_syn', 'biotype', '_type',\n",
    "           'lfc', 'abs_lfc', 'fdr',  'description',\n",
    "           'desc_gff', 'description_prev', 'accession', 'ensembl_id', ]\n",
    "elif s_omics == 'proteomics':\n",
    "    cols = ['symbol', 'biotype', 'lfc', 'abs_lfc', 'fdr',  'description', 'ensembl_id', ]\n",
    "else:\n",
    "    cols = ['symbol', 'biotype', 'lfc', 'abs_lfc', 'fdr',  'description', 'ensembl_id', ]\n",
    "\n",
    "dflfc_ori[cols].head(3)"
   ]
  },
  {
   "cell_type": "code",
   "execution_count": null,
   "id": "d4ae7fc9-c7c8-4d20-b09f-6ce5b479d5a7",
   "metadata": {},
   "outputs": [],
   "source": [
    "gene = 'APOC2'\n",
    "\n",
    "dflfc_ori[dflfc_ori.symbol == gene][cols]"
   ]
  },
  {
   "cell_type": "code",
   "execution_count": null,
   "id": "fc0a65a2-28d7-4751-9eb5-c9415d259001",
   "metadata": {},
   "outputs": [],
   "source": [
    "\"; \".join(enr.degs_ensembl)"
   ]
  },
  {
   "cell_type": "code",
   "execution_count": null,
   "id": "414ec57a-27ae-43a0-b2e2-390dbd0b8234",
   "metadata": {},
   "outputs": [],
   "source": [
    "gene in enr.degs_ensembl"
   ]
  },
  {
   "cell_type": "code",
   "execution_count": null,
   "id": "da2005e2-afd4-4f58-b7a0-2eab9cde48ba",
   "metadata": {},
   "outputs": [],
   "source": [
    "dflfc = enr.dflfc\n",
    "dflfc[dflfc.symbol == gene]"
   ]
  },
  {
   "cell_type": "code",
   "execution_count": null,
   "id": "cf740ee5-9d5b-4387-9271-f29c11f7bed3",
   "metadata": {},
   "outputs": [],
   "source": [
    "dfdegs_ensembl = enr.dfdegs_ensembl\n",
    "dfdegs_ensembl[dfdegs_ensembl.symbol == gene]"
   ]
  },
  {
   "cell_type": "code",
   "execution_count": null,
   "id": "372b9593-8959-4255-b223-0014d3691313",
   "metadata": {},
   "outputs": [],
   "source": []
  },
  {
   "cell_type": "code",
   "execution_count": null,
   "id": "84c4b339-af25-4922-95fa-35549ccd5d9a",
   "metadata": {},
   "outputs": [],
   "source": [
    "i=1\n",
    "case = case_list[i]\n",
    "\n",
    "ret, degs, degs_ensembl, dfdegs = enr.open_case(case, verbose=False)\n",
    "print(f\"G/P cutoff: lfc={enr.abs_lfc_cutoff:.3f}; lfc_fdr={enr.fdr_lfc_cutoff:.3f}\")\n",
    "len(degs), len(degs_ensembl)"
   ]
  },
  {
   "cell_type": "markdown",
   "id": "cb369a58-c408-4b1b-875c-14bfabc0a2be",
   "metadata": {},
   "source": [
    "### best_cutoff_quantiles() - for Reactome - return dfcut"
   ]
  },
  {
   "cell_type": "code",
   "execution_count": null,
   "id": "ebfe6e0d-52f5-47ce-9d51-37d15043ddfa",
   "metadata": {},
   "outputs": [],
   "source": [
    "fname = enr.fname_enr_gene_stat%(enr.case, enr.geneset_lib, enr.normalization)\n",
    "filefull = os.path.join(enr.root_ressum, fname)\n",
    "\n",
    "os.path.exists(filefull), fname"
   ]
  },
  {
   "cell_type": "code",
   "execution_count": null,
   "id": "e06afe8c-3bd6-4017-bfc7-15cb192f430d",
   "metadata": {},
   "outputs": [],
   "source": [
    "enr.set_enrichment_name()"
   ]
  },
  {
   "cell_type": "code",
   "execution_count": null,
   "id": "5d0dc701-6a95-4cb6-9bce-e432a1780e7c",
   "metadata": {},
   "outputs": [],
   "source": [
    "force=False; verbose=False\n",
    "\n",
    "case = case_list[0]\n",
    "print(\">>>\", case)\n",
    "dfi = enr.calc_enrichment_cutoff_params_and_ndxs_per_case_and_geneset_lib(case, force=force, verbose=verbose)\n",
    "print(len(dfi))\n",
    "dfi.head(3)"
   ]
  },
  {
   "cell_type": "code",
   "execution_count": null,
   "id": "5b96e3c6-9e09-4425-a8a6-0d56eea43228",
   "metadata": {},
   "outputs": [],
   "source": [
    "case = case_list[1]\n",
    "print(\">>>\", case)\n",
    "dfi = enr.calc_enrichment_cutoff_params_and_ndxs_per_case_and_geneset_lib(case, force=force, verbose=verbose)\n",
    "print(len(dfi))\n",
    "dfi.head(3)"
   ]
  },
  {
   "cell_type": "markdown",
   "id": "cc0c24d3-3fc0-43b7-974f-e595e51d2dfe",
   "metadata": {},
   "source": [
    "### best_cutoff_quantiles() - return dfcut"
   ]
  },
  {
   "cell_type": "code",
   "execution_count": null,
   "id": "c11ec0a6-bb3d-4802-a0de-d0e9f269e57f",
   "metadata": {},
   "outputs": [],
   "source": [
    "fname = enr.fname_enr_gene_stat%(enr.case, enr.geneset_lib, enr.normalization)\n",
    "filefull = os.path.join(enr.root_ressum, fname)\n",
    "os.path.exists(filefull), fname"
   ]
  },
  {
   "cell_type": "code",
   "execution_count": null,
   "id": "04b45e8f-74fe-4dde-b750-04561d879846",
   "metadata": {},
   "outputs": [],
   "source": []
  },
  {
   "cell_type": "markdown",
   "id": "02b63ff0-c60f-42c8-ad2d-37c591b8b326",
   "metadata": {},
   "source": [
    "### build_all_cutoffs_table(col)\n",
    "  - loop case_list\n",
    "    - best_cutoff_quantiles()\n",
    "      - calc_enrichment_cutoff_params_and_ndxs_per_case_and_geneset_lib\n",
    "\n",
    "### Next, calc_best_cutoffs_params()"
   ]
  },
  {
   "cell_type": "code",
   "execution_count": null,
   "id": "9338b22f-fa4a-4f06-939f-0ecb8ce27ae9",
   "metadata": {},
   "outputs": [],
   "source": [
    "enr.open_enriched_pathways_summary()"
   ]
  },
  {
   "cell_type": "code",
   "execution_count": null,
   "id": "c8938220-a320-459d-8fed-9c7774ddeaa0",
   "metadata": {},
   "outputs": [],
   "source": [
    "enr.abs_lfc_cutoff_inf"
   ]
  },
  {
   "cell_type": "code",
   "execution_count": null,
   "id": "af7c76c3",
   "metadata": {
    "scrolled": true
   },
   "outputs": [],
   "source": [
    "cols=['toi1_median', 'toi2_median', 'toi3_median', 'toi4_median']\n",
    "\n",
    "geneset_num = 0\n",
    "enr.set_db(geneset_num)\n",
    "print(enr.geneset_num, enr.geneset_lib, '\\n')\n",
    "\n",
    "for col in cols:\n",
    "    print(\">>>\", col)\n",
    "    dfcut = enr.build_all_cutoffs_table(selected_toi_col=col, force=False, verbose=False)\n"
   ]
  },
  {
   "cell_type": "code",
   "execution_count": null,
   "id": "ddb7308a-dae9-4e8a-a856-4d45554f658b",
   "metadata": {},
   "outputs": [],
   "source": [
    "dfcut.columns"
   ]
  },
  {
   "cell_type": "code",
   "execution_count": null,
   "id": "085d6279-fb0f-4706-b346-3946d3dd20c5",
   "metadata": {},
   "outputs": [],
   "source": [
    "i = 4\n",
    "case = case_list[i]\n",
    "dfi = enr.calc_enrichment_cutoff_params_and_ndxs_per_case_and_geneset_lib(case, force=False, verbose=False)\n",
    "df2 = dfi[ (dfi.case == case)]\n",
    "maxi = df2.toi4_median.max()\n",
    "median = df2.toi4_median.median()\n",
    "case, maxi, median"
   ]
  },
  {
   "cell_type": "code",
   "execution_count": null,
   "id": "08ca7791-f298-4a8e-a8ea-539e000e4b41",
   "metadata": {},
   "outputs": [],
   "source": [
    "i = 6\n",
    "case = case_list[i]\n",
    "dfi = enr.calc_enrichment_cutoff_params_and_ndxs_per_case_and_geneset_lib(case, force=False, verbose=False)\n",
    "df2 = dfi[ (dfi.case == case)]\n",
    "maxi = df2.toi4_median.max()\n",
    "median = df2.toi4_median.median()\n",
    "case, maxi, median"
   ]
  },
  {
   "cell_type": "code",
   "execution_count": null,
   "id": "588aa4bd-fe76-4476-8320-8d19e67803f8",
   "metadata": {},
   "outputs": [],
   "source": []
  },
  {
   "cell_type": "code",
   "execution_count": null,
   "id": "e3e894be-798d-4c4b-8691-7e17071d9aad",
   "metadata": {},
   "outputs": [],
   "source": [
    "cols = ['case', 'geneset_num', 'normalization', 'med_max_ptw', 'parameter', 'quantile',\n",
    "        'quantile_val', 'quantile_val_inf', 'quantile_val_sup', \n",
    "        'abs_lfc_cutoff', 'fdr_lfc_cutoff', \n",
    "        'pathway_pval_cutoff', 'pathway_fdr_cutoff', 'num_of_genes_cutoff',\n",
    "        'n_pathways', 'n_degs_in_pathways', \n",
    "        'n_degs_in_pathways_mean', 'n_degs_in_pathways_median', 'n_degs_in_pathways_std', \n",
    "        'toi1_mean', 'toi1_median', 'toi1_std',\n",
    "        'toi2_mean', 'toi2_median', 'toi2_std',\n",
    "        'toi3_mean', 'toi3_median', 'toi3_std',\n",
    "        'toi4_mean', 'toi4_median', 'toi4_std',]\n",
    "\n",
    "\n",
    "cols = ['case', 'med_max_ptw', 'quantile', 'toi4_median', 'abs_lfc_cutoff', 'fdr_lfc_cutoff',\n",
    "        'pathway_pval_cutoff', 'pathway_fdr_cutoff', 'n_pathways', 'n_degs_in_pathways',\n",
    "        'toi1_median', 'toi2_median', 'toi3_median']"
   ]
  },
  {
   "cell_type": "markdown",
   "id": "74d329a6-d60a-47c5-9b7f-6b7bdf6a678e",
   "metadata": {},
   "source": [
    "### Look for different approaches (sorting)"
   ]
  },
  {
   "cell_type": "code",
   "execution_count": null,
   "id": "9b99e5d9-afbd-4c58-91ba-dc683c309df3",
   "metadata": {},
   "outputs": [],
   "source": [
    "dfcut.case.unique()"
   ]
  },
  {
   "cell_type": "code",
   "execution_count": null,
   "id": "7b5073b1-f2c5-4277-9647-dc513f4329cd",
   "metadata": {},
   "outputs": [],
   "source": [
    "i = 6\n",
    "case = case_list[i]"
   ]
  },
  {
   "cell_type": "code",
   "execution_count": null,
   "id": "c4c6840d-5326-4faf-a642-f4403a97452a",
   "metadata": {},
   "outputs": [],
   "source": [
    "col = 'toi1_median'\n",
    "dfcut = enr.build_all_cutoffs_table(selected_toi_col=col, force=False, verbose=False)\n",
    "df2 = dfcut[(dfcut.case == case) & (dfcut.n_degs_in_pathways > 3) & (dfcut.med_max_ptw == 'median')]\n",
    "df2 = df2.sort_values(col, ascending=False)\n",
    "df2[cols].head(6)"
   ]
  },
  {
   "cell_type": "code",
   "execution_count": null,
   "id": "628cd0a8-7cc2-4c79-b72e-11236f0e90ca",
   "metadata": {},
   "outputs": [],
   "source": [
    "col = 'toi2_median'\n",
    "dfcut = enr.build_all_cutoffs_table(selected_toi_col=col, force=False, verbose=False)\n",
    "df2 = dfcut[(dfcut.case == case) & (dfcut.n_degs_in_pathways > 3) & (dfcut.med_max_ptw == 'median')]\n",
    "df2 = df2.sort_values(col, ascending=False)\n",
    "df2[cols].head(6)"
   ]
  },
  {
   "cell_type": "code",
   "execution_count": null,
   "id": "62b49cb1-2d3f-4e03-b4d9-88295f0ee8e9",
   "metadata": {},
   "outputs": [],
   "source": [
    "col = 'toi3_median'\n",
    "dfcut = enr.build_all_cutoffs_table(selected_toi_col=col, force=False, verbose=False)\n",
    "df2 = dfcut[(dfcut.case == case) & (dfcut.n_degs_in_pathways > 3) & (dfcut.med_max_ptw == 'median')]\n",
    "df2 = df2.sort_values(col, ascending=False)\n",
    "df2[cols].head(6)"
   ]
  },
  {
   "cell_type": "code",
   "execution_count": null,
   "id": "a51dff34",
   "metadata": {},
   "outputs": [],
   "source": [
    "col = 'toi4_median'\n",
    "dfcut = enr.build_all_cutoffs_table(selected_toi_col=col, force=False, verbose=False)\n",
    "df2 = dfcut[(dfcut.case == case) & (dfcut.n_degs_in_pathways > 3) & (dfcut.med_max_ptw == 'median')]\n",
    "df2 = df2.sort_values(col, ascending=False)\n",
    "df2[cols].head(6)"
   ]
  },
  {
   "cell_type": "code",
   "execution_count": null,
   "id": "4a4fb431-cf21-49db-bbfa-bfbfe3af81de",
   "metadata": {},
   "outputs": [],
   "source": []
  },
  {
   "cell_type": "markdown",
   "id": "9697a57f-9aca-454d-b05d-0a82adf4622c",
   "metadata": {},
   "source": [
    "### Bad way to cut - by n_pathways"
   ]
  },
  {
   "cell_type": "code",
   "execution_count": null,
   "id": "175f8e6c-5166-44ac-ad0b-65e6e609d34e",
   "metadata": {},
   "outputs": [],
   "source": [
    "dfa = dfcut[dfcut.case == case].sort_values(['n_pathways', 'n_degs_in_pathways', 'pathway_fdr_cutoff'], ascending=[False, False, True])\n",
    "dfa[cols].head(9)"
   ]
  },
  {
   "cell_type": "code",
   "execution_count": null,
   "id": "68d7d4b0-9d85-4723-a4fc-b7ab0b2d1bbe",
   "metadata": {},
   "outputs": [],
   "source": [
    "dfa = dfcut[dfcut.case == case].sort_values(['n_degs_in_pathways', 'n_pathways', 'pathway_fdr_cutoff'], ascending=[False, False, True])\n",
    "dfa[cols].head(9)"
   ]
  },
  {
   "cell_type": "code",
   "execution_count": null,
   "id": "eee43592-0d18-4ff6-84d8-8f70f706fc82",
   "metadata": {},
   "outputs": [],
   "source": [
    "dfa = dfcut[dfcut.case == case].sort_values(['pathway_fdr_cutoff', 'n_pathways', 'n_degs_in_pathways'], ascending=[True, False, False])\n",
    "dfa[cols].head(9)"
   ]
  },
  {
   "cell_type": "code",
   "execution_count": null,
   "id": "d84016eb-5c32-4824-8b7c-ca3656c838b2",
   "metadata": {},
   "outputs": [],
   "source": []
  },
  {
   "cell_type": "markdown",
   "id": "56872903-b14a-403f-a83b-2f10e6be9e0d",
   "metadata": {},
   "source": [
    "### Revisting DEGs and n_Pathwys x abs_LFC cutoff correlation\n",
    "\n",
    "#### return dic_fig\n",
    "  - which in ['deg', 'up', 'down']"
   ]
  },
  {
   "cell_type": "code",
   "execution_count": null,
   "id": "688faaf1-14ab-46b1-a2ce-23e06a9476fc",
   "metadata": {},
   "outputs": [],
   "source": [
    "plot_up_down = False\n",
    "\n",
    "corr_cutoff=-0.90\n",
    "nregs_fdr = 5\n",
    "\n",
    "for case in case_list:\n",
    "    print(\">>\", case)\n",
    "    ret, dic_fig, df_fdr = enr.plot_nDEG_curve_per_LFC_FDR(case, width=1100, height=700, title=None, \n",
    "                                                           corr_cutoff=corr_cutoff, nregs_fdr=nregs_fdr, verbose=verbose)\n",
    "    \n",
    "    print(\"deg\")\n",
    "    dic_fig['deg'].show()\n",
    "\n",
    "    if plot_up_down:\n",
    "        print(\"up\")\n",
    "        dic_fig['up'].show()\n",
    "        print(\"down\")\n",
    "        dic_fig['down'].show()\n",
    "        \n",
    "    print()"
   ]
  },
  {
   "cell_type": "markdown",
   "id": "0c590c36-dd63-4a15-988b-2b052c4d1737",
   "metadata": {},
   "source": [
    "### Revisting DEGs and n_Pathways x toi4 median"
   ]
  },
  {
   "cell_type": "code",
   "execution_count": null,
   "id": "fed9554a-8ec8-46b1-b901-7b3121e7f934",
   "metadata": {},
   "outputs": [],
   "source": [
    "colors=['navy', 'red', 'darkcyan', 'darkgreen', 'orange', 'brown', 'darksalmon',\n",
    "        'magenta', 'darkturquoise', 'orange', 'darkred', 'indigo', 'magenta', 'maroon', 'black',\n",
    "        'darkblue', 'darkcyan', 'darkgoldenrod', 'darkgray', 'darkgrey', 'olivedrab', 'navy'] + plotly_colors_proteins\n"
   ]
  },
  {
   "cell_type": "markdown",
   "id": "18bec9e5-187c-44c4-92e1-0d8bd2eed725",
   "metadata": {},
   "source": [
    "### New plot - dash combo"
   ]
  },
  {
   "cell_type": "code",
   "execution_count": null,
   "id": "162d4493-3521-4e53-8f28-bc14da0cb5ca",
   "metadata": {},
   "outputs": [],
   "source": [
    "case = enr.case\n",
    "\n",
    "df_fdr = enr.open_fdr_lfc_correlation(case=case)\n",
    "print(len(df_fdr))\n",
    "df_fdr.head(3)"
   ]
  },
  {
   "cell_type": "code",
   "execution_count": null,
   "id": "f35de3f3-4460-4067-9557-b0a79e1444f8",
   "metadata": {},
   "outputs": [],
   "source": [
    "selected_toi_col='toi4_median'\n",
    "force=False\n",
    "fdr = 0.30\n",
    "\n",
    "dfcut = enr.build_all_cutoffs_table(selected_toi_col, force=force, verbose=False)\n",
    "df2 = dfcut[ (dfcut.case == case) & (dfcut.med_max_ptw == 'median')]\n",
    "df2.head(3)"
   ]
  },
  {
   "cell_type": "code",
   "execution_count": null,
   "id": "0f2cf9cb-e168-4b22-a752-f3e16583d55e",
   "metadata": {},
   "outputs": [],
   "source": [
    "fdr = 0.20\n",
    "\n",
    "df2 = dfcut[ (dfcut.case == case) & (dfcut.fdr_lfc_cutoff == fdr)  & (dfcut.med_max_ptw == 'median')]\n",
    "df2"
   ]
  },
  {
   "cell_type": "code",
   "execution_count": null,
   "id": "e7e38f11-a8ea-42bd-892b-56de935e386e",
   "metadata": {},
   "outputs": [],
   "source": []
  },
  {
   "cell_type": "code",
   "execution_count": null,
   "id": "8b7b489c-5374-4b1c-b243-f11b438f3c89",
   "metadata": {},
   "outputs": [],
   "source": [
    "# print(dfcut.columns)\n",
    "cols = ['case', 'toi4_median', 'med_max_ptw',  'quantile', 'quantile_val_inf', 'quantile_val_sup',\n",
    "        'abs_lfc_cutoff', 'fdr_lfc_cutoff', 'pathway_fdr_cutoff',  'n_pathways',\n",
    "        'n_degs_in_pathways']  #  'toi1_median', 'toi2_median',  'toi3_median',\n",
    "\n",
    "#  (dfcut.case == case) & \n",
    "df2 = dfcut[ (dfcut.normalization == enr.normalization) & (dfcut.geneset_num == enr.geneset_num) &\n",
    "             (dfcut.fdr_lfc_cutoff == fdr) & (dfcut.med_max_ptw == 'median')] \n",
    "df2[cols]"
   ]
  },
  {
   "cell_type": "code",
   "execution_count": null,
   "id": "d7c2e489-f467-4b23-b8eb-a8272f8647ba",
   "metadata": {},
   "outputs": [],
   "source": []
  },
  {
   "cell_type": "code",
   "execution_count": null,
   "id": "9cf40fbf-bd03-4fb3-ab9b-81ab9fff1f48",
   "metadata": {},
   "outputs": [],
   "source": [
    "fig = enr.plot_degs_in_pathways_vs_toi_per_case(selected_toi_col=selected_toi_col, title=None, plot_all_dfi=True,\n",
    "                                                width=1300, height=1200, sel_colors=None, plot_bgcolor='lightgray', verbose=False)\n",
    "\n",
    "fig.show()"
   ]
  },
  {
   "cell_type": "markdown",
   "id": "d0d8c9cd-a7fd-4d68-9cf6-dd58d4fbc7b3",
   "metadata": {},
   "source": [
    "## Simplified landscape\n",
    "\n",
    "### Next, per case plot\n",
    "#### ALL DAPs x abs_LFC\n",
    "#### Comments:\n",
    "\n",
    "  - each FDR selects a subset of DEG/DAPs\n",
    "    - abs_LFC may or may not filter them\n",
    "    - we define that only 'curves' that change DEG/DAPs varying the abs_LFC are valid\n",
    "    - we observed that most of the curves saturate at 0.4 abs_LFC\n",
    "  - we defined the range of FDR from 0.05 to 0.75 (here 0.55)\n",
    "    - if we had defined:\n",
    "      - min abs_LFC = 0 and max_FDR = 1, we got in the left-upper corner the total Proteins (or Genes) "
   ]
  },
  {
   "cell_type": "code",
   "execution_count": null,
   "id": "ffc47f5f-775e-4bf1-a9ad-4bc2ec10dc12",
   "metadata": {},
   "outputs": [],
   "source": [
    "fig = enr.plot_degs_in_pathways_vs_toi_per_case(selected_toi_col=selected_toi_col, title=None, plot_all_dfi=False,\n",
    "                                                width=1300, height=1100, sel_colors=None, plot_bgcolor='lightgray', verbose=False)\n",
    "\n",
    "fig.show()"
   ]
  },
  {
   "cell_type": "code",
   "execution_count": null,
   "id": "6485e455-b175-48a3-909f-fa824a571707",
   "metadata": {},
   "outputs": [],
   "source": []
  },
  {
   "cell_type": "markdown",
   "id": "355e174e-3c7a-46bc-bf40-a358a970d7cb",
   "metadata": {},
   "source": [
    "### best_cutoff_quantiles() - for Reactome - return dfcut"
   ]
  },
  {
   "cell_type": "code",
   "execution_count": null,
   "id": "b4f3cd9a-f1ac-49a4-9e30-d5689236217f",
   "metadata": {},
   "outputs": [],
   "source": [
    "fname, fname_cut = enr.set_enrichment_name()\n",
    "# name = 'enricher_Reactome_2022_medulloblastoma_microarray_for_WNT_x_ctrl_not_normalized_cutoff_lfc_0.950_fdr_0.200_pathway_pval_0.050_fdr_0.450_num_genes_3.tsv'\n",
    "\"; \".join(fname_cut.split('_'))"
   ]
  },
  {
   "cell_type": "code",
   "execution_count": null,
   "id": "287099f6-cf44-4441-8afb-20932157a6d5",
   "metadata": {},
   "outputs": [],
   "source": [
    "cols = ['case', 'med_max_ptw', 'quantile', 'toi4_median', 'abs_lfc_cutoff', 'fdr_lfc_cutoff',\n",
    "        'pathway_pval_cutoff', 'pathway_fdr_cutoff', 'n_pathways', 'n_degs_in_pathways',\n",
    "        'toi1_median', 'toi2_median', 'toi3_median']"
   ]
  },
  {
   "cell_type": "code",
   "execution_count": null,
   "id": "199ebcb3-d45a-4bea-83af-559a96b453b0",
   "metadata": {},
   "outputs": [],
   "source": [
    "case = case_list[0]\n",
    "selected_toi_col = 'toi4_median'\n",
    "\n",
    "df2 = dfcut[(dfcut.case == case) & (dfcut.med_max_ptw == 'median')]\n",
    "df2 = df2.sort_values(selected_toi_col, ascending=False)\n",
    "df2[cols].head(6)"
   ]
  },
  {
   "cell_type": "code",
   "execution_count": null,
   "id": "aca01c5e-4e7b-4eff-a635-9a22ca79d95c",
   "metadata": {},
   "outputs": [],
   "source": []
  },
  {
   "cell_type": "markdown",
   "id": "93619c01-9bd6-46c0-9402-1cab2791e241",
   "metadata": {},
   "source": [
    "### Calc best cutoffs and save in config"
   ]
  },
  {
   "cell_type": "markdown",
   "id": "4237b538-a443-4c87-afe3-6853ac2dea66",
   "metadata": {},
   "source": [
    "### Comparing: toi4 (or 1,2,3), n_pathways, n_degs_in_pathways\n",
    "### which is them best?\n",
    "  - n_best_samples = 4 ... the lowest FDRs and highest abs_LFC"
   ]
  },
  {
   "cell_type": "code",
   "execution_count": null,
   "id": "effd7468-2e68-4cac-af41-545f32084cdb",
   "metadata": {},
   "outputs": [],
   "source": [
    "enr.geneset_num, enr.geneset_lib, enr.normalization"
   ]
  },
  {
   "cell_type": "code",
   "execution_count": null,
   "id": "6d3d58da-1148-413e-a134-1871243ac81c",
   "metadata": {},
   "outputs": [],
   "source": []
  },
  {
   "cell_type": "code",
   "execution_count": null,
   "id": "fb6e5843-1901-4c8c-9868-d7bdc34b1bc1",
   "metadata": {},
   "outputs": [],
   "source": [
    "cols2 = ['case', 'med_max_ptw', 'quantile', 'toi4_median', 'toi4_mean', 'abs_lfc_cutoff', 'fdr_lfc_cutoff', 'pathway_fdr_cutoff', \n",
    "         'n_pathways', 'n_degs_in_pathways', 'n_degs_in_pathways_mean',\n",
    "         'n_degs_in_pathways_median', 'n_degs_in_pathways_std',\n",
    "         'toi1_median', 'toi2_median', 'toi3_median']\n",
    "\n",
    "dfconfig = enr.calc_best_cutoffs_params(selected_toi_col='toi4_median', n_best_sample=1, save_config=False, verbose=True)\n",
    "dfconfig = dfconfig[dfconfig.med_max_ptw == 'median']\n",
    "dfconfig[cols2]"
   ]
  },
  {
   "cell_type": "code",
   "execution_count": null,
   "id": "be8a0f02-6a1f-41e4-a1a4-f5f52a0af9ca",
   "metadata": {},
   "outputs": [],
   "source": [
    "dfconfig = enr.calc_best_cutoffs_params(selected_toi_col='toi4_median', n_best_sample=2, save_config=False, verbose=False)\n",
    "dfconfig = dfconfig[dfconfig.med_max_ptw == 'median']\n",
    "dfconfig[cols2]"
   ]
  },
  {
   "cell_type": "code",
   "execution_count": null,
   "id": "84259527-35dd-4877-969d-2efc6396438b",
   "metadata": {},
   "outputs": [],
   "source": [
    "dfconfig = enr.calc_best_cutoffs_params(selected_toi_col='toi4_median', n_best_sample=3, save_config=False, verbose=False)\n",
    "dfconfig = dfconfig[dfconfig.med_max_ptw == 'median']\n",
    "dfconfig[cols2]"
   ]
  },
  {
   "cell_type": "code",
   "execution_count": null,
   "id": "617e1605-5862-400d-8afd-3c2762bfbed7",
   "metadata": {},
   "outputs": [],
   "source": []
  },
  {
   "cell_type": "markdown",
   "id": "8586b4fc-d6b5-4cde-a562-52c9412ba446",
   "metadata": {},
   "source": [
    "### New: multiple best points"
   ]
  },
  {
   "cell_type": "code",
   "execution_count": null,
   "id": "03fc5fb3-86ee-4626-9095-60c7b48af83d",
   "metadata": {},
   "outputs": [],
   "source": [
    "n_best_sample_list = [1, 8, 2, 2, 4, 2, 2, 3]\n",
    "# n_pathways: 45, 29, 42 44, 24, 60, 39, 39 for COVID-19 Taubate\n",
    "\n",
    "dfconfig = enr.calc_multiple_best_cutoffs_params(selected_toi_col='toi4_median', n_best_sample_list=n_best_sample_list,\n",
    "                                                 save_config=False, verbose=False)\n",
    "dfconfig = dfconfig[dfconfig.med_max_ptw == 'median']\n",
    "dfconfig[cols2]"
   ]
  },
  {
   "cell_type": "code",
   "execution_count": null,
   "id": "5972bd12-797d-445e-a220-c0822842b6e2",
   "metadata": {},
   "outputs": [],
   "source": []
  },
  {
   "cell_type": "code",
   "execution_count": null,
   "id": "cc8de54d-a8b6-48dc-8ef4-1c2a29d04dfc",
   "metadata": {},
   "outputs": [],
   "source": [
    "i = 2\n",
    "case1 = case_list[i]\n",
    "dfi1 = enr.calc_enrichment_cutoff_params_and_ndxs_per_case_and_geneset_lib(case1, force=False, verbose=False)\n",
    "dfi1.head(3)"
   ]
  },
  {
   "cell_type": "code",
   "execution_count": null,
   "id": "da84d418-b8cc-458c-af73-4aa24b55d854",
   "metadata": {},
   "outputs": [],
   "source": [
    "i = i+1\n",
    "case2 = case_list[i]\n",
    "dfi2 = enr.calc_enrichment_cutoff_params_and_ndxs_per_case_and_geneset_lib(case2, force=False, verbose=False)\n",
    "dfi2.head(3)"
   ]
  },
  {
   "cell_type": "code",
   "execution_count": null,
   "id": "b7e57303-fce3-42b9-ab4e-c2d9de835cd2",
   "metadata": {},
   "outputs": [],
   "source": [
    "df_fdr = enr.open_fdr_lfc_correlation(case=case1)\n",
    "df_fdr"
   ]
  },
  {
   "cell_type": "code",
   "execution_count": null,
   "id": "ee45e3e0-4afb-40eb-9460-9bb76d8a780b",
   "metadata": {},
   "outputs": [],
   "source": [
    "df_fdr = enr.open_fdr_lfc_correlation(case2)\n",
    "df_fdr"
   ]
  },
  {
   "cell_type": "code",
   "execution_count": null,
   "id": "cdfb88d2-230a-43a6-ad89-0051253d7eb4",
   "metadata": {},
   "outputs": [],
   "source": [
    "# call build_all_cutoffs_table(force)\n",
    "\n",
    "df2 = enr.test_build_all_cutoffs_table(case=case1,  selected_toi_col='toi4_median',\n",
    "                                       med_max_ptw='median', lista_fdr=[0.15, 0.20, 0.25],\n",
    "                                       force=False, verbose=False)\n",
    "#df2 = df2.iloc[:2]\n",
    "df2[cols]"
   ]
  },
  {
   "cell_type": "code",
   "execution_count": null,
   "id": "78198d50-7c34-452f-840c-0a7ac70b1f64",
   "metadata": {},
   "outputs": [],
   "source": [
    "\n",
    "df2 = enr.test_build_all_cutoffs_table(case=case2,  selected_toi_col='toi4_median',\n",
    "                                       med_max_ptw='median', lista_fdr=[0.05, 0.10, 0.15],\n",
    "                                       force=False, verbose=False)\n",
    "# df2 = df2.iloc[:2]\n",
    "df2[cols].head(3)"
   ]
  },
  {
   "cell_type": "code",
   "execution_count": null,
   "id": "bb2c1a25-dda2-4fb4-96a9-71a035ea85b3",
   "metadata": {},
   "outputs": [],
   "source": []
  },
  {
   "cell_type": "code",
   "execution_count": null,
   "id": "5a560ec6-57b7-4940-b551-283336efa42e",
   "metadata": {},
   "outputs": [],
   "source": [
    "dfconfig = enr.calc_best_cutoffs_params(selected_toi_col='toi4_median', n_best_sample=4, save_config=False, verbose=False)\n",
    "dfconfig = dfconfig[dfconfig.med_max_ptw == 'median']\n",
    "dfconfig[cols]"
   ]
  },
  {
   "cell_type": "code",
   "execution_count": null,
   "id": "a16c3965-f79f-4c52-9bef-7dccb147297d",
   "metadata": {},
   "outputs": [],
   "source": [
    "dfconfig = enr.calc_best_cutoffs_params(selected_toi_col='toi4_median', n_best_sample=5, save_config=False, verbose=False)\n",
    "dfconfig = dfconfig[dfconfig.med_max_ptw == 'median']\n",
    "dfconfig[cols2]"
   ]
  },
  {
   "cell_type": "code",
   "execution_count": null,
   "id": "16462beb-15e5-4383-b1ba-8ee57d05ec89",
   "metadata": {},
   "outputs": [],
   "source": [
    "dfconfig = enr.calc_best_cutoffs_params(selected_toi_col='toi4_median', n_best_sample=6, save_config=False, verbose=False)\n",
    "dfconfig = dfconfig[dfconfig.med_max_ptw == 'median']\n",
    "dfconfig[cols2]"
   ]
  },
  {
   "cell_type": "markdown",
   "id": "beed0a08-e722-4826-9d32-db5e9ef0ee17",
   "metadata": {},
   "source": [
    "### Best cutoff"
   ]
  },
  {
   "cell_type": "code",
   "execution_count": null,
   "id": "3faba689-75f6-4dae-b652-47edaa2dc602",
   "metadata": {},
   "outputs": [],
   "source": [
    "enr.cfg.dfbest_cutoffs[cols2]"
   ]
  },
  {
   "cell_type": "code",
   "execution_count": null,
   "id": "72389448-332a-44e9-bead-8df6090a4001",
   "metadata": {},
   "outputs": [],
   "source": [
    "cols1 = ['case', 'med_max_ptw', 'quantile', 'toi4_median']\n",
    "cols2 = ['abs_lfc_cutoff', 'fdr_lfc_cutoff', 'pathway_fdr_cutoff',\n",
    "        'n_pathways', 'n_degs_in_pathways']"
   ]
  },
  {
   "cell_type": "markdown",
   "id": "ded608f0-34fe-4dc9-98a3-47eafa1a73ff",
   "metadata": {},
   "source": [
    "### Comparing: toi4 (or 1,2,3), n_pathways, n_degs_in_pathways"
   ]
  },
  {
   "cell_type": "code",
   "execution_count": null,
   "id": "70f9fc90-68f5-4707-b76a-dab7058ceb2b",
   "metadata": {},
   "outputs": [],
   "source": [
    "i = 4\n",
    "case = case_list[i]\n",
    "case"
   ]
  },
  {
   "cell_type": "code",
   "execution_count": null,
   "id": "31c83c10-8190-46b4-8644-2ea93f8fcdfa",
   "metadata": {},
   "outputs": [],
   "source": [
    "col = 'n_pathways'\n",
    "nrows=6\n",
    "dfcut = enr.build_all_cutoffs_table(col, force=False, verbose=False)\n",
    "case = case_list[0]\n",
    "dfa = dfcut[ (dfcut.case == case) & (dfcut.med_max_ptw == 'median') ][cols]\n",
    "dfa = dfa.sort_values(['n_pathways', 'n_degs_in_pathways'], ascending=[False, False])\n",
    "dfa[cols1+cols2].head(nrows)"
   ]
  },
  {
   "cell_type": "code",
   "execution_count": null,
   "id": "e4fc6af4-0da2-4b42-855c-a8ea1b91be18",
   "metadata": {},
   "outputs": [],
   "source": [
    "print(np.array(cols1))\n",
    "print(np.array(cols2))"
   ]
  },
  {
   "cell_type": "code",
   "execution_count": null,
   "id": "f349294f-84a1-4211-9b56-ff38da5559f8",
   "metadata": {},
   "outputs": [],
   "source": [
    "col = 'toi1_median'\n",
    "n_rows = 6\n",
    "dfcut = enr.build_all_cutoffs_table(col, force=False, verbose=False)\n",
    "dfa = dfcut[ (dfcut.case == case) & (dfcut.med_max_ptw == 'median') ]\n",
    "dfa = dfa.sort_values(col, ascending=False)\n",
    "dfa[cols1+[col]+cols2].head(n_rows)"
   ]
  },
  {
   "cell_type": "code",
   "execution_count": null,
   "id": "176c2ff5-72c2-49b6-8a25-6a52e46756cf",
   "metadata": {},
   "outputs": [],
   "source": [
    "col = 'toi2_median'\n",
    "dfcut = enr.build_all_cutoffs_table(col, force=False, verbose=False)\n",
    "dfa = dfcut[ (dfcut.case == case) & (dfcut.med_max_ptw == 'median') ]\n",
    "dfa = dfa.sort_values(col, ascending=False)\n",
    "dfa[cols1+[col]+cols2].head(n_rows)"
   ]
  },
  {
   "cell_type": "code",
   "execution_count": null,
   "id": "af33a6df-a0fa-4cae-9ae4-a22ecc890f5f",
   "metadata": {},
   "outputs": [],
   "source": []
  },
  {
   "cell_type": "code",
   "execution_count": null,
   "id": "a0a957a5-e2a3-4afd-981d-7976936b4850",
   "metadata": {},
   "outputs": [],
   "source": [
    "col = 'toi3_median'\n",
    "dfcut = enr.build_all_cutoffs_table(col, force=False, verbose=False)\n",
    "dfa = dfcut[ (dfcut.case == case) & (dfcut.med_max_ptw == 'median') ]\n",
    "dfa = dfa.sort_values(col, ascending=False)\n",
    "dfa[cols1+[col]+cols2].head(n_rows)"
   ]
  },
  {
   "cell_type": "code",
   "execution_count": null,
   "id": "6e2b4343-b1a1-4896-a5ec-6990e2eba368",
   "metadata": {},
   "outputs": [],
   "source": []
  },
  {
   "cell_type": "code",
   "execution_count": null,
   "id": "e972ff6a-3d9f-4b1a-b844-8bf4929a524d",
   "metadata": {},
   "outputs": [],
   "source": [
    "col = 'toi4_median'\n",
    "dfcut = enr.build_all_cutoffs_table(col, force=False, verbose=False)\n",
    "dfa = dfcut[ (dfcut.case == case) & (dfcut.med_max_ptw == 'median') ]\n",
    "dfa = dfa.sort_values(col, ascending=False)\n",
    "dfa[cols1+cols2].head(n_rows)"
   ]
  },
  {
   "cell_type": "code",
   "execution_count": null,
   "id": "6204ed16-15f8-4b53-a924-489476db1239",
   "metadata": {},
   "outputs": [],
   "source": []
  },
  {
   "cell_type": "markdown",
   "id": "94786be8-4e79-497e-a99b-4081f336a3e6",
   "metadata": {},
   "source": [
    "### toi4"
   ]
  },
  {
   "cell_type": "code",
   "execution_count": null,
   "id": "0bcc5549-a129-47ee-9059-83b1301c77cf",
   "metadata": {},
   "outputs": [],
   "source": [
    "selected_toi_col = 'toi4_median'\n",
    "\n",
    "fig_list = enr.plot_genes_and_pathways_frequecies_per_cases(selected_toi_col, width=1100, height=700)\n",
    "\n",
    "print(\">>>\", selected_toi_col)\n",
    "print(f\"# {enr.s_deg_dap}s\")\n",
    "fig_list[0].show()\n",
    "print(\"# n pathways\")\n",
    "fig_list[1].show()"
   ]
  },
  {
   "cell_type": "code",
   "execution_count": null,
   "id": "79c2a681-6fe2-4e33-8478-2afec3b2699e",
   "metadata": {},
   "outputs": [],
   "source": []
  },
  {
   "cell_type": "markdown",
   "id": "1fb001ff-8163-4c6b-b416-ea730c8ad919",
   "metadata": {},
   "source": [
    "### Selected best cutoffs per case"
   ]
  },
  {
   "cell_type": "code",
   "execution_count": null,
   "id": "63900b18-d2d9-4808-9401-a868847ab3ae",
   "metadata": {},
   "outputs": [],
   "source": [
    "dfbest = enr.cfg.open_best_ptw_cutoff(verbose=False)\n",
    "dfbest = dfbest[dfbest.med_max_ptw == 'median']\n",
    "print(len(dfbest))\n",
    "dfbest[cols]"
   ]
  },
  {
   "cell_type": "markdown",
   "id": "3eb8bd1f-dbff-4f78-ac7e-d9da37e55d78",
   "metadata": {},
   "source": [
    "### n_pathways: to confirm, is it working?"
   ]
  },
  {
   "cell_type": "code",
   "execution_count": null,
   "id": "21f4d0c9-7685-4c5f-b51f-84a2346a08b9",
   "metadata": {},
   "outputs": [],
   "source": [
    "fig_list = enr.plot_genes_and_pathways_frequecies_per_cases('n_pathways', width=1100, height=700)\n",
    "\n",
    "fig_list[0].show()\n",
    "print(\"\")\n",
    "fig_list[1].show()"
   ]
  },
  {
   "cell_type": "code",
   "execution_count": null,
   "id": "9c86bdd2-cab2-47d7-ae12-82a904b44c15",
   "metadata": {},
   "outputs": [],
   "source": []
  },
  {
   "cell_type": "markdown",
   "id": "df6102e9-985f-47a7-a574-4f52337be525",
   "metadata": {},
   "source": [
    "## Why toi4_median is the best approach?\n",
    "\n",
    "#### balance between best LFC cutoffs and Pathway cutoffs"
   ]
  },
  {
   "cell_type": "code",
   "execution_count": null,
   "id": "c417604f-efae-4703-9523-54eaab163e81",
   "metadata": {},
   "outputs": [],
   "source": [
    "# n_best_sample_list = [2,3]\n",
    "dfconfig = enr.calc_multiple_best_cutoffs_params(selected_toi_col='n_pathways', n_best_sample_list=n_best_sample_list, save_config=False, verbose=False)\n",
    "dfconfig = dfconfig[dfconfig.med_max_ptw == 'median']\n",
    "dfconfig[cols2]"
   ]
  },
  {
   "cell_type": "code",
   "execution_count": null,
   "id": "7888a94e-206f-4988-95a0-75bc46334a72",
   "metadata": {},
   "outputs": [],
   "source": [
    "# n_best_sample_list = [2,3]\n",
    "dfconfig = enr.calc_multiple_best_cutoffs_params(selected_toi_col='toi4_median', n_best_sample_list=n_best_sample_list, save_config=False, verbose=False)\n",
    "dfconfig = dfconfig[dfconfig.med_max_ptw == 'median']\n",
    "dfconfig[cols2]"
   ]
  },
  {
   "cell_type": "markdown",
   "id": "8498df59-a76d-437a-90cd-9484871056ad",
   "metadata": {},
   "source": [
    "## It tries to minimize fdr and maximize abs_lfc cutoffs!!!\n",
    "### look for toi4_median in both tables"
   ]
  },
  {
   "cell_type": "code",
   "execution_count": null,
   "id": "50c83407-c3bf-4b11-b1a2-a4788b68fbf5",
   "metadata": {},
   "outputs": [],
   "source": []
  },
  {
   "cell_type": "markdown",
   "id": "1e33bdd7-9afc-4fce-95c8-ae654457bd7c",
   "metadata": {},
   "source": [
    "### Open best cutoffs (config)"
   ]
  },
  {
   "cell_type": "code",
   "execution_count": null,
   "id": "a030ada5-78c9-47d1-9592-7483cd67f921",
   "metadata": {},
   "outputs": [],
   "source": [
    "dfbest = enr.cfg.open_best_ptw_cutoff(verbose=False)\n",
    "dfbest2 = dfbest[dfbest.med_max_ptw == 'median']\n",
    "dfbest2[cols]"
   ]
  },
  {
   "cell_type": "code",
   "execution_count": null,
   "id": "0b32df15-3493-4459-84fe-872cc132648f",
   "metadata": {},
   "outputs": [],
   "source": []
  },
  {
   "cell_type": "markdown",
   "id": "e7775554-ea98-4436-8803-c3eec9206e05",
   "metadata": {},
   "source": [
    "### Summary DEG/DAPs + Up and Down"
   ]
  },
  {
   "cell_type": "code",
   "execution_count": null,
   "id": "058ac2fe-c271-4796-a87a-bbe7d57bdd13",
   "metadata": {},
   "outputs": [],
   "source": [
    "dfa = enr.summary_degs_up_down(per_biotype=False, ensembl=False, verbose=False)\n",
    "dfa"
   ]
  },
  {
   "cell_type": "code",
   "execution_count": null,
   "id": "9a10de59-701b-4aa9-be86-1b8124e25be2",
   "metadata": {},
   "outputs": [],
   "source": [
    "dfa = enr.summary_degs_up_down(per_biotype=True, ensembl=False, verbose=False)\n",
    "dfa"
   ]
  },
  {
   "cell_type": "code",
   "execution_count": null,
   "id": "e40c9130-c522-4496-a58e-749a27978985",
   "metadata": {},
   "outputs": [],
   "source": []
  },
  {
   "cell_type": "code",
   "execution_count": null,
   "id": "90b0b2d1-2d62-4377-beec-9ea343d56671",
   "metadata": {},
   "outputs": [],
   "source": [
    "dfa = enr.summary_degs_up_down(per_biotype=True, ensembl=True, verbose=False)\n",
    "dfa"
   ]
  },
  {
   "cell_type": "code",
   "execution_count": null,
   "id": "9526f6f3-119e-478a-969b-54b2736b5b38",
   "metadata": {},
   "outputs": [],
   "source": []
  },
  {
   "cell_type": "code",
   "execution_count": null,
   "id": "b199b28e-b317-4db1-8b4f-f742ff9fde5a",
   "metadata": {},
   "outputs": [],
   "source": [
    "per_biotype = False\n",
    "ensembl = False\n",
    "before_best_cutoff = False\n",
    "fig, dfa = enr.barplot_up_down_genes_per_case(per_biotype=per_biotype, ensembl=ensembl, before_best_cutoff=before_best_cutoff, width=1100, height=700, verbose=False)\n",
    "fig.show()"
   ]
  },
  {
   "cell_type": "code",
   "execution_count": null,
   "id": "6db5e6ad-fae9-4e5e-a1d0-3f87f90361cc",
   "metadata": {},
   "outputs": [],
   "source": [
    "per_biotype = True\n",
    "ensembl = False\n",
    "fig, dfa = enr.barplot_up_down_genes_per_case(per_biotype=per_biotype, ensembl=ensembl, before_best_cutoff=before_best_cutoff, width=1100, height=700, verbose=False)\n",
    "fig.show()"
   ]
  },
  {
   "cell_type": "code",
   "execution_count": null,
   "id": "70168ecd-d5b0-478b-ad82-a58cf674d56e",
   "metadata": {},
   "outputs": [],
   "source": [
    "per_biotype = True\n",
    "ensembl = True\n",
    "fig, dfa = enr.barplot_up_down_genes_per_case(per_biotype=per_biotype, ensembl=ensembl, before_best_cutoff=before_best_cutoff, width=1100, height=700, verbose=False)\n",
    "fig.show()"
   ]
  },
  {
   "cell_type": "code",
   "execution_count": null,
   "id": "c4790a8e-d8d3-4852-9aa5-2371b5403aa7",
   "metadata": {},
   "outputs": [],
   "source": []
  },
  {
   "cell_type": "markdown",
   "id": "06d98801-823c-4ecd-b191-e402a678e49a",
   "metadata": {},
   "source": [
    "### Summary DEG-Pathway table\n",
    "  - include TEC - transcritps to be validate by experiment"
   ]
  },
  {
   "cell_type": "code",
   "execution_count": null,
   "id": "3df71e11-2d31-400c-8b43-70a71646251e",
   "metadata": {},
   "outputs": [],
   "source": [
    "pd.set_option(\"display.precision\", 3)\n",
    "dfsum = enr.summary_degs_and_pathways(force=False, verbose=False)\n",
    "# col0 = list(dfsum.columns)[0]\n",
    "# dfsum = dfsum.set_index(col0)\n",
    "# dfsum.index.names = ['index']\n",
    "\n",
    "lista_ndx = list(dfsum.index)\n",
    "lista_ndx = [x for x in lista_ndx if '_ensembl' not in x]\n",
    "lista_ndx"
   ]
  },
  {
   "cell_type": "code",
   "execution_count": null,
   "id": "6301785a-f61f-4b76-ac5c-6a2f4c413e71",
   "metadata": {},
   "outputs": [],
   "source": [
    "cols5 = list(dfsum.columns)\n",
    "# ncols = np.arange(0, len(cols5), 2)\n",
    "# for ncol in ncols:\n",
    "#    dfsum[cols5[ncol]] = dfsum[cols5[ncol]].astype(int)\n",
    "\n",
    "dfsum.loc[lista_ndx, cols5[:8]]"
   ]
  },
  {
   "cell_type": "code",
   "execution_count": null,
   "id": "703535f5-7387-4cf6-afc7-23dcea4059f8",
   "metadata": {},
   "outputs": [],
   "source": [
    "dfsum.loc[lista_ndx, cols5[8:]]"
   ]
  },
  {
   "cell_type": "code",
   "execution_count": null,
   "id": "fd4f2035-38a6-4a86-9eab-d7eef6e24cae",
   "metadata": {},
   "outputs": [],
   "source": []
  },
  {
   "cell_type": "code",
   "execution_count": null,
   "id": "43973f41-fb8d-4a2d-b683-2eaa6d7bfe5c",
   "metadata": {},
   "outputs": [],
   "source": []
  },
  {
   "cell_type": "markdown",
   "id": "4bb5807a-2a8b-490f-aeb6-03335147fdc5",
   "metadata": {},
   "source": [
    "### Open best cutoffs (config)"
   ]
  },
  {
   "cell_type": "code",
   "execution_count": null,
   "id": "dc753655-8424-48ad-a8cd-a1f71cc19a1d",
   "metadata": {},
   "outputs": [],
   "source": [
    "dfbest = enr.cfg.open_best_ptw_cutoff(verbose=False)\n",
    "dfbest1 = dfbest[dfbest.med_max_ptw == 'median']\n",
    "dfbest1[cols]"
   ]
  },
  {
   "cell_type": "code",
   "execution_count": null,
   "id": "12eb229f-1a37-4eb6-ab7b-8a5c9cf580e4",
   "metadata": {},
   "outputs": [],
   "source": [
    "case = case_list[3]\n",
    "dfbest2 = dfbest[dfbest.case == case]\n",
    "dfbest2[cols]"
   ]
  },
  {
   "cell_type": "code",
   "execution_count": null,
   "id": "dafcbdaa-3b54-487c-ad8e-19d4c7999b7f",
   "metadata": {},
   "outputs": [],
   "source": []
  },
  {
   "cell_type": "code",
   "execution_count": null,
   "id": "7ea6aef4-0c7a-4305-a557-dde1827953f6",
   "metadata": {},
   "outputs": [],
   "source": [
    "i = 0\n",
    "case = case_list[i]\n",
    "print(\">>>\", case)\n",
    "enr.open_case(case)\n",
    "df_enr = enr.df_enr\n",
    "print(len(df_enr))\n",
    "df_enr.head(49)"
   ]
  },
  {
   "cell_type": "code",
   "execution_count": null,
   "id": "8deb7f7a-c19d-43a4-b43e-6a12b0d62478",
   "metadata": {},
   "outputs": [],
   "source": []
  },
  {
   "cell_type": "code",
   "execution_count": null,
   "id": "93728132-b40a-405c-9087-c5e0d4306a5e",
   "metadata": {},
   "outputs": [],
   "source": [
    "i = 1\n",
    "case = case_list[i]\n",
    "print(\">>>\", case)\n",
    "enr.open_case(case)\n",
    "df_enr = enr.df_enr\n",
    "print(len(df_enr))\n",
    "df_enr.head(49)"
   ]
  },
  {
   "cell_type": "code",
   "execution_count": null,
   "id": "37b04d0d-8e2f-423a-b659-36af2e078bb3",
   "metadata": {},
   "outputs": [],
   "source": []
  },
  {
   "cell_type": "markdown",
   "id": "803437bf-5598-4a47-8fa9-7c3faf2ce0e1",
   "metadata": {},
   "source": [
    "### Reviewing quantile cutoffs"
   ]
  },
  {
   "cell_type": "code",
   "execution_count": null,
   "id": "0bb20673-73bc-4a8c-9e90-79be574395a6",
   "metadata": {},
   "outputs": [],
   "source": [
    "col='toi4_median'\n",
    "verbose=False\n",
    "\n",
    "case = case_list[0]\n",
    "print(\">>>\", case)\n",
    "dfi = enr.calc_enrichment_cutoff_params_and_ndxs_per_case_and_geneset_lib(case, force=False, verbose=False)\n",
    "\n",
    "dic_quant = enr.best_cutoff_quantiles(case, col, med_max_ptw='median', force=force, verbose=False)\n",
    "df = pd.DataFrame(dic_quant).T\n",
    "cols = ['lim_inf', 'lim_sup', 'abs_lfc_cutoff', 'fdr_lfc_cutoff', 'pathway_pval_cutoff',\n",
    "        'pathway_fdr_cutoff', 'num_of_genes_cutoff', 'n_pathways', 'n_degs_in_pathways',\n",
    "        'n_degs_in_pathways_mean', 'n_degs_in_pathways_median ', 'n_degs_in_pathways_std',\n",
    "        'toi1_mean', 'toi1_median', 'toi1_std',\n",
    "        'toi2_mean', 'toi2_median', 'toi2_std',\n",
    "        'toi3_mean', 'toi3_median', 'toi3_std',\n",
    "        'toi4_mean', 'toi4_median', 'toi4_std'  ]\n",
    "\n",
    "df.columns = cols\n",
    "df = df.reset_index()\n",
    "cols = list(df.columns)\n",
    "cols[0] = 'quantile'\n",
    "df.columns = cols\n",
    "df"
   ]
  },
  {
   "cell_type": "code",
   "execution_count": null,
   "id": "c9c13a62-a9bf-4254-876a-ef65408b624a",
   "metadata": {},
   "outputs": [],
   "source": []
  },
  {
   "cell_type": "code",
   "execution_count": null,
   "id": "49cc3f90-d17d-4556-81a1-3b3cbf51b791",
   "metadata": {},
   "outputs": [],
   "source": [
    "dfi = enr.dfi\n",
    "print(len(dfi))\n",
    "dfi.head(3)"
   ]
  },
  {
   "cell_type": "markdown",
   "id": "c972fdc0-271e-45f0-9d93-9a2a4c7c0632",
   "metadata": {},
   "source": [
    "### TOI curves for a case"
   ]
  },
  {
   "cell_type": "code",
   "execution_count": null,
   "id": "68cee18e-9851-473e-a08c-a41bae9dad23",
   "metadata": {},
   "outputs": [],
   "source": [
    "cols2 = ['case', 'toi4_median', 'abs_lfc_cutoff', 'fdr_lfc_cutoff', 'pathway_fdr_cutoff',  'n_pathways', 'n_degs_in_pathways']\n",
    "\n",
    "dfbest = enr.cfg.open_best_ptw_cutoff(verbose=False)\n",
    "dfbest2 = dfbest[dfbest.med_max_ptw == 'median']\n",
    "# print([True if x in dfbest.columns else False for x in cols2])\n",
    "dfbest2[cols2]"
   ]
  },
  {
   "cell_type": "code",
   "execution_count": null,
   "id": "506542fb-e51a-4d6a-aaca-eff3f8491e21",
   "metadata": {},
   "outputs": [],
   "source": [
    "i = 5\n",
    "case = case_list[i]\n",
    "\n",
    "_plot = 'genes'\n",
    "print(_plot)\n",
    "fig = enr.plot_toi_versus_genes_and_pathways(case=case, selected_toi_col='toi4_median', _plot=_plot, width=1100, height=450, plot_all_dfi=False)\n",
    "fig.show()\n",
    "\n",
    "_plot = 'pathways'\n",
    "print(_plot)\n",
    "fig = enr.plot_toi_versus_genes_and_pathways(case=case, selected_toi_col='toi4_median', _plot=_plot, width=1100, height=450, plot_all_dfi=False)\n",
    "fig.show()"
   ]
  },
  {
   "cell_type": "code",
   "execution_count": null,
   "id": "8bab2269-51f3-44b8-8a63-f76dafb697c1",
   "metadata": {},
   "outputs": [],
   "source": []
  },
  {
   "cell_type": "markdown",
   "id": "3cb9e6d6-0209-44f7-9fcb-3562d3a27991",
   "metadata": {},
   "source": [
    "### Possible databases to study"
   ]
  },
  {
   "cell_type": "code",
   "execution_count": null,
   "id": "6c21b519-c2ab-444f-8d57-cffc2e86ed86",
   "metadata": {},
   "outputs": [],
   "source": [
    "enr.geneset_num, enr.geneset_lib, enr.dbs_list"
   ]
  },
  {
   "cell_type": "code",
   "execution_count": null,
   "id": "89a02f80-9e39-43cf-8b8e-dcb30c1173b0",
   "metadata": {},
   "outputs": [],
   "source": []
  },
  {
   "cell_type": "markdown",
   "id": "dd6bb54a-5003-44cf-882a-79b58da80eb4",
   "metadata": {},
   "source": [
    "### parameter simulations"
   ]
  },
  {
   "cell_type": "code",
   "execution_count": null,
   "id": "c0835f0a-9124-4828-9fdd-38056ba1c788",
   "metadata": {},
   "outputs": [],
   "source": [
    "cols4 = ['toi1_median',  'toi2_median','toi3_median',  'toi4_median',\n",
    "        'n_pathways', 'n_degs_in_pathways', 'n_degs_in_pathways_mean', 'n_degs_in_pathways_median']\n",
    "\n",
    "for col in cols4:\n",
    "    fig = enr.plot_cutoff_simulation_histograms(col, width=1100, height=270)\n",
    "    print(col)\n",
    "    fig.show()"
   ]
  },
  {
   "cell_type": "code",
   "execution_count": null,
   "id": "7ddabeab-0376-4bf4-bb2b-be0da806f34c",
   "metadata": {},
   "outputs": [],
   "source": []
  },
  {
   "cell_type": "markdown",
   "id": "15660b51-80a6-4a51-b4e3-4101fefa9e59",
   "metadata": {},
   "source": [
    "### Default cutoff values x BCA"
   ]
  },
  {
   "cell_type": "code",
   "execution_count": null,
   "id": "935a743c-92e8-4dbd-8971-dd06c9df0c92",
   "metadata": {},
   "outputs": [],
   "source": [
    "for case in case_list:\n",
    "    print(\">>> case\", case, \"\\n\")\n",
    "    \n",
    "    print(\"Default params:\")\n",
    "    \n",
    "    ret, degs_default, degs_ensembl_default, dflfc_default = enr.open_case_params(case, abs_lfc_cutoff=1, fdr_lfc_cutoff=0.05, verbose=False)\n",
    "    # enr.echo_parameters(want_echo_default=False, jump_line=True)\n",
    "    degs_in_pathways_default = enr.degs_in_pathways\n",
    "    degs_not_in_pathways_default = enr.degs_not_in_pathways\n",
    "\n",
    "    print(f\"abs_lfc_cutoff={enr.abs_lfc_cutoff}, fdr_lfc_cutoff={enr.fdr_lfc_cutoff}, pathway_fdr_cutoff={enr.pathway_fdr_cutoff}\")\n",
    "    print(f\"degs {len(degs_default)}, degs with ensembl_id {len(degs_ensembl_default)}\")\n",
    "    \n",
    "    if enr.n_pathways == 0:\n",
    "        print(\"No pahtway enriched.\")\n",
    "    else:\n",
    "        print(f\"degs in pathways={len(degs_in_pathways_default)}, degs not in pathways={len(degs_not_in_pathways_default)}\")\n",
    "        print(f\"n pathways {enr.n_pathways}\")\n",
    "\n",
    "    print(\"\")\n",
    "    ret, degs_bca, degs_ensembl_bca, dflfc_best = enr.open_case(case)\n",
    "    print(\"BCA params:\")\n",
    "    # enr.echo_parameters(want_echo_default=False, jump_line=True)\n",
    "    \n",
    "    degs_in_pathways_bca = enr.degs_in_pathways\n",
    "    degs_not_in_pathways_bca = enr.degs_not_in_pathways\n",
    "\n",
    "    print(f\"abs_lfc_cutoff={enr.abs_lfc_cutoff}, fdr_lfc_cutoff={enr.fdr_lfc_cutoff}, pathway_fdr_cutoff={enr.pathway_fdr_cutoff}\")\n",
    "    print(f\"degs {len(degs_bca)}, degs with ensembl_id {len(degs_ensembl_bca)}\")\n",
    "\n",
    "    if enr.n_pathways == 0:\n",
    "        print(\"No pahtway enriched.\")\n",
    "    else:\n",
    "        print(f\"degs in pathways={len(degs_in_pathways_bca)}, degs not in pathways={len(degs_not_in_pathways_bca)}\")\n",
    "        print(f\"n pathways {enr.n_pathways}\")\n",
    "\n",
    "    print(\"\\n\")"
   ]
  },
  {
   "cell_type": "code",
   "execution_count": null,
   "id": "d6c54bba-eac0-410f-9d8c-05864a65ec02",
   "metadata": {},
   "outputs": [],
   "source": []
  }
 ],
 "metadata": {
  "kernelspec": {
   "display_name": "Python 3 (ipykernel)",
   "language": "python",
   "name": "python3"
  },
  "language_info": {
   "codemirror_mode": {
    "name": "ipython",
    "version": 3
   },
   "file_extension": ".py",
   "mimetype": "text/x-python",
   "name": "python",
   "nbconvert_exporter": "python",
   "pygments_lexer": "ipython3",
   "version": "3.11.11"
  }
 },
 "nbformat": 4,
 "nbformat_minor": 5
}
