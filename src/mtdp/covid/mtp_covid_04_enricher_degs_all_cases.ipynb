{
 "cells": [
  {
   "cell_type": "code",
   "execution_count": null,
   "id": "ee016cd1",
   "metadata": {},
   "outputs": [],
   "source": [
    "from platform import python_version\n",
    "print(python_version())"
   ]
  },
  {
   "cell_type": "markdown",
   "id": "f2198431-5f02-413f-91a0-0d011f533ec6",
   "metadata": {},
   "source": [
    "### Calculating all possible Enrichment Analysis\n",
    "  - for each LFC/FDR cutoff one calculates the Enrichment Analysis\n",
    "  - We used Enricher python API\n",
    "     - Reactome (2022)\n",
    "     - Bioplanet (2019)\n",
    "     - WikiPathways (2021 Human)\n",
    "     - KEGG (2021 Human)\n",
    "     - GO Biological Process (2021)\n",
    "     - MSigDB Hallmark (2020)\n",
    "   \n",
    "### For each enriched pathways one calculates:\n",
    "  - DEGs in the pathway\n",
    "  - DEGs not in the pathway\n",
    "  - index1, 2, 3, 4\n",
    "\n",
    "### An index measures the trade-off between \"LFC\" and \"Enriched Pathways\" cufoff -> LFC - Enriched Pathway Trade-Off Method (LEPTOM)\n",
    "\n",
    "  - We proposed and calculated the following possible indexes:\n",
    "\n",
    "<p style=\"font-size: 20px; color: yellow;\">\n",
    "$index1=\\sqrt{-log{_{10}}{FDR_{pathway}} * \\frac{n}{N} }$ </p>\n",
    "\n",
    "<p style=\"font-size: 20px; color: cyan;\">\n",
    "$index2=\\sqrt{-log{_{10}}{FDR_{LFC}} * -log{_{10}}{FDR_{pathway}} }$ </p>\n",
    "\n",
    "<p style=\"font-size: 20px; color: orange;\">\n",
    "$index3=(-log{_{10}}{FDR_{LFC}} * -log{_{10}}{FDR_{pathway}} * \\frac{n}{N})^{1/3}$ </p>\n",
    "\n",
    "<p style=\"font-size: 20px; color: pink;\">\n",
    "$index4=(abs\\_LFC * -log{_{10}}{FDR_{LFC}} * -log{_{10}}{FDR_{pathway}} * \\frac{n}{N})^{1/4}$ </p>\n",
    "\n",
    "where,\n",
    "  - n is the number of DEGs/DAPs found in the pathway\n",
    "  - N is the total number of annotated DEGs/DAPs in the pathway (depend in the database, our default database is Reactome 2022)\n",
    "\n",
    "\n",
    "#### Where\n",
    "  - $FDR_{pathway}$ is the FDR from the enriched pathway\n",
    "  - n - number of DEGs in the pathway\n",
    "  - N - number of Genes annotated in the pathway by respective Dabase (Like Reactome, KEGG, etc)"
   ]
  },
  {
   "cell_type": "code",
   "execution_count": null,
   "id": "f5a3b22e",
   "metadata": {},
   "outputs": [],
   "source": [
    "import os, sys, pickle\n",
    "\n",
    "import numpy as np\n",
    "import pandas as pd\n",
    "pd.set_option('display.width', 100)\n",
    "pd.set_option('max_colwidth', 80)\n",
    "pd.set_option(\"display.precision\", 3)\n",
    "\n",
    "import yaml\n",
    "\n",
    "import seaborn as sns\n",
    "sns.set_context(\"notebook\", font_scale=1.4)\n",
    "\n",
    "import matplotlib.pyplot as plt\n",
    "import matplotlib.gridspec as gridspec\n",
    "%matplotlib inline\n",
    "\n",
    "sys.path.insert(1, '../src/')\n",
    "\n",
    "from Basic import *\n",
    "from enricher_lib import *\n",
    "\n",
    "import warnings\n",
    "warnings.filterwarnings(\"ignore\")\n",
    "\n",
    "from IPython.display import display, HTML\n",
    "display(HTML(\"<style>:root { --jp-notebook-max-width: 100% !important; }</style>\"))\n",
    "\n",
    "# !pip3 install pyyaml\n",
    "with open('params.yml', 'r') as file:\n",
    "    dic_yml=yaml.safe_load(file)"
   ]
  },
  {
   "cell_type": "code",
   "execution_count": null,
   "id": "2bdaf5e7",
   "metadata": {},
   "outputs": [],
   "source": [
    "root0=dic_yml['root0']\n",
    "email=dic_yml['email']\n",
    "\n",
    "project=dic_yml['project']\n",
    "s_project=dic_yml['s_project']\n",
    "\n",
    "gene_protein=dic_yml['gene_protein']\n",
    "s_omics=dic_yml['s_omics']\n",
    "\n",
    "has_age=dic_yml['has_age']\n",
    "has_gender=dic_yml['has_gender']\n",
    "\n",
    "want_normalized=dic_yml['want_normalized']\n",
    "\n",
    "abs_lfc_cutoff_inf=dic_yml['abs_lfc_cutoff_inf']\n",
    "s_pathw_enrichm_method=dic_yml['s_pathw_enrichm_method']\n",
    "num_min_degs_for_ptw_enr=dic_yml['num_min_degs_for_ptw_enr']\n",
    "\n",
    "tolerance_pathway_index=dic_yml['tolerance_pathway_index']\n",
    "type_sat_ptw_index=dic_yml['type_sat_ptw_index']\n",
    "saturation_lfc_index=dic_yml['saturation_lfc_index']\n",
    "chosen_model_sampling=dic_yml['chosen_model_sampling']\n",
    "\n",
    "case_list=dic_yml['case_list']\n",
    "\n",
    "pval_pathway_cutoff=dic_yml['pval_pathway_cutoff']\n",
    "fdr_pathway_cutoff=dic_yml['fdr_pathway_cutoff']\n",
    "num_of_genes_cutoff=dic_yml['num_of_genes_cutoff']\n",
    "\n",
    "run_list=dic_yml['run_list']\n",
    "chosen_model_list=dic_yml['chosen_model_list']\n",
    "i_dfp_list=dic_yml['i_dfp_list']\n",
    "\n",
    "exp_normalization='quantile_norm' if want_normalized else None\n",
    "normalization='not_normalized' if exp_normalization is None else exp_normalization\n",
    "\n",
    "cfg=Config(project, s_project, case_list, root0)\n",
    "\n",
    "case=case_list[0]\n",
    "\n",
    "n_genes_annot_ptw, n_degs, n_degs_in_ptw, n_degs_not_in_ptw, degs_in_all_ratio=-1,-1,-1,-1,-1\n",
    "abs_lfc_cutoff, fdr_lfc_cutoff, n_degs, n_degs_up, n_degs_dw=cfg.get_best_lfc_cutoff(case, 'not_normalized')\n",
    "\n",
    "\n",
    "print(f\"G/P LFC cutoffs: lfc={abs_lfc_cutoff:.3f}; fdr={fdr_lfc_cutoff:.3f}\")\n",
    "print(f\"Pathway cutoffs: pval={pval_pathway_cutoff:.3f}; fdr={fdr_pathway_cutoff:.3f}; num of genes={num_of_genes_cutoff}\")"
   ]
  },
  {
   "cell_type": "code",
   "execution_count": null,
   "id": "ed719afa-c353-47ff-ae14-c46df3a74ea8",
   "metadata": {},
   "outputs": [],
   "source": [
    "enr=enricheR(gene_protein, s_omics, project, s_project, root0,\n",
    "             case_list, has_age, has_gender, clone_objects=False,\n",
    "             exp_normalization=exp_normalization, geneset_num=0, \n",
    "             num_min_degs_for_ptw_enr=num_min_degs_for_ptw_enr, \n",
    "             tolerance_pathway_index=tolerance_pathway_index, \n",
    "             s_pathw_enrichm_method=s_pathw_enrichm_method,\n",
    "             abs_lfc_cutoff_inf=abs_lfc_cutoff_inf, \n",
    "             type_sat_ptw_index=type_sat_ptw_index, saturation_lfc_index=saturation_lfc_index)\n",
    "\n",
    "case=case_list[0]\n",
    "\n",
    "enr.cfg.set_default_best_lfc_cutoff(normalization, abs_lfc_cutoff=1, fdr_lfc_cutoff=0.05)\n",
    "ret, degs, degs_ensembl, dfdegs=enr.open_case(case, verbose=False)\n",
    "print(\"\\nEcho Parameters:\")\n",
    "enr.echo_parameters()\n",
    "geneset_num=enr.geneset_num"
   ]
  },
  {
   "cell_type": "code",
   "execution_count": null,
   "id": "6bcb4598-1b9e-47ce-8fb9-56cb68c2ea9f",
   "metadata": {},
   "outputs": [],
   "source": [
    "enr.case, enr.group, enr.gender, enr.age, enr.geneset_num, enr.abs_lfc_cutoff_inf"
   ]
  },
  {
   "cell_type": "code",
   "execution_count": null,
   "id": "c998a38c-19fd-47f7-a1f6-1aff017ad2bf",
   "metadata": {},
   "outputs": [],
   "source": [
    "enr.abs_lfc_cutoff_inf, abs_lfc_cutoff_inf"
   ]
  },
  {
   "cell_type": "code",
   "execution_count": null,
   "id": "f9241eff-4415-4d2e-be82-6cc8d7825e6b",
   "metadata": {},
   "outputs": [],
   "source": [
    "for case in case_list:\n",
    "    ret, degs, degs_ensembl, dfdegs = enr.open_case(case, save_file=True, verbose=False)\n",
    "    enr.echo_parameters()\n",
    "    print(\"\\n\\n\\n\")"
   ]
  },
  {
   "cell_type": "code",
   "execution_count": null,
   "id": "3cec7d52-38c2-47c9-a0f0-814718df5eab",
   "metadata": {},
   "outputs": [],
   "source": []
  },
  {
   "cell_type": "markdown",
   "id": "44945ecd-7393-485b-b1e5-bebcc14a7e3c",
   "metadata": {},
   "source": [
    "### Summary of cases - below on can see the enriched tables for different databases"
   ]
  },
  {
   "cell_type": "code",
   "execution_count": null,
   "id": "2d76e2fd",
   "metadata": {
    "scrolled": true
   },
   "outputs": [],
   "source": [
    "geneset_num=0\n",
    "\n",
    "for case in case_list:\n",
    "    enr.open_case(case, force=False, verbose=False)\n",
    "    enr.echo_parameters()\n",
    "    print(\"\")"
   ]
  },
  {
   "cell_type": "markdown",
   "id": "59f64eb8-0aa8-45d8-bea4-58789dc70ed7",
   "metadata": {},
   "source": [
    "### Cutoffs and Results"
   ]
  },
  {
   "cell_type": "code",
   "execution_count": null,
   "id": "d7e9bb74-c010-40ad-9111-48b93b39f68f",
   "metadata": {},
   "outputs": [],
   "source": [
    "for case in case_list:\n",
    "    ret, degs, degs_ensembl, dfdegs=enr.open_case(case, verbose=False)\n",
    "\n",
    "    print(f\"For {case}\")\n",
    "    print(f\"\\tLFC cutoffs: lfc={enr.abs_lfc_cutoff:.3f}; fdr={enr.fdr_lfc_cutoff} #{enr.s_deg_dap}s={len(degs)}\")\n",
    "    print(f\"\\tPathway cutoffs: fdr={enr.pathway_fdr_cutoff:.3f}; num of genes={enr.num_of_genes_cutoff}, #Pathways={enr.n_pathways}, #{enr.s_deg_dap}s in pathwyas={enr.n_degs_in_pathways}\\n\")\n",
    "    "
   ]
  },
  {
   "cell_type": "code",
   "execution_count": null,
   "id": "9bb849b6",
   "metadata": {},
   "outputs": [],
   "source": [
    "# enr.dflfc_ori.head(3)"
   ]
  },
  {
   "cell_type": "code",
   "execution_count": null,
   "id": "83e76446",
   "metadata": {},
   "outputs": [],
   "source": [
    "# df2=enr.dflfc_ori[ (enr.dflfc_ori.symbol == 'IGHA2') | (enr.dflfc_ori.symbol == 'A2M')]\n",
    "# df2"
   ]
  },
  {
   "cell_type": "code",
   "execution_count": null,
   "id": "70f0bb64-680e-4f8b-bd17-1f1edae558a6",
   "metadata": {},
   "outputs": [],
   "source": [
    "fname, fname_ori, title=enr.set_lfc_names()\n",
    "fname, title"
   ]
  },
  {
   "cell_type": "code",
   "execution_count": null,
   "id": "a2d73164",
   "metadata": {
    "scrolled": true
   },
   "outputs": [],
   "source": [
    "enr.set_enrichment_name()"
   ]
  },
  {
   "cell_type": "code",
   "execution_count": null,
   "id": "df77592f-f420-43e6-8c0d-271562f60f57",
   "metadata": {},
   "outputs": [],
   "source": []
  },
  {
   "cell_type": "markdown",
   "id": "b187fd91-64f2-450a-9e16-7627010713e5",
   "metadata": {},
   "source": [
    "### Renaming files - if needed"
   ]
  },
  {
   "cell_type": "code",
   "execution_count": null,
   "id": "3adba08d-1d08-4b1c-8c9f-7db75c91676c",
   "metadata": {},
   "outputs": [],
   "source": [
    "want_rename=False\n",
    "\n",
    "if want_rename:\n",
    "    root=enr.root_enrich\n",
    "    _type='.tsv'\n",
    "    _type=None\n",
    "    pattern_src='not_normalized_'\n",
    "    pattern_dst='not_normalized_cutoff_lfc_'\n",
    "    \n",
    "    rename_files(root, pattern_src, pattern_dst, _type=_type, verbose=False)"
   ]
  },
  {
   "cell_type": "code",
   "execution_count": null,
   "id": "9c233f0e-c8de-4454-bb74-f5a28dd45079",
   "metadata": {},
   "outputs": [],
   "source": []
  },
  {
   "cell_type": "markdown",
   "id": "a392c8b7-fe2c-4288-8ca8-6aae4e9db42b",
   "metadata": {},
   "source": [
    "### Testing EnrichR API "
   ]
  },
  {
   "cell_type": "code",
   "execution_count": null,
   "id": "13fb716b-d511-4068-b8ab-fbed45af02e5",
   "metadata": {},
   "outputs": [],
   "source": [
    "case=case_list[6]\n",
    "ret, degs, degs_ensembl, dfdegs=enr.open_case(case, verbose=False)\n",
    "ret, len(degs), enr.n_degs"
   ]
  },
  {
   "cell_type": "code",
   "execution_count": null,
   "id": "601203c2-91a7-49e3-aec8-ba5e96e3071e",
   "metadata": {},
   "outputs": [],
   "source": [
    "enr.set_db(geneset_num=0)"
   ]
  },
  {
   "cell_type": "code",
   "execution_count": null,
   "id": "5f00a491-b5b2-439b-b084-d4b92af76450",
   "metadata": {},
   "outputs": [],
   "source": [
    "shortId, userListId=enr.open_session_upload_symbols(degs)\n",
    "shortId, userListId"
   ]
  },
  {
   "cell_type": "markdown",
   "id": "0a310a3a-7524-4f60-862d-1b3eeebc5e16",
   "metadata": {},
   "source": [
    "### All enriched cases for many databases"
   ]
  },
  {
   "cell_type": "code",
   "execution_count": null,
   "id": "ef05f2c6-acd6-44f1-877a-b07a4e87c531",
   "metadata": {},
   "outputs": [],
   "source": [
    "fdr_ptw_cutoff_list=np.arange(0.05, 0.80, 0.05)\n",
    "fdr_ptw_cutoff_list"
   ]
  },
  {
   "cell_type": "code",
   "execution_count": null,
   "id": "132ce8bf-3237-41a8-a8d0-ddd55820f244",
   "metadata": {},
   "outputs": [],
   "source": [
    "# dfsim=pdreadcsv( enr.cfg.fname_lfc_cutoff, enr.cfg.root_config)\n",
    "dfsim=enr.cfg.open_all_lfc_cutoff()\n",
    "try:\n",
    "    print(len(dfsim))\n",
    "except:\n",
    "    dfsim=pd.DataFrame()\n",
    "\n",
    "dfsim.tail(3)"
   ]
  },
  {
   "cell_type": "markdown",
   "id": "69c82f44-64ae-4410-8c36-1267700e5028",
   "metadata": {},
   "source": [
    "### How many samples per case?"
   ]
  },
  {
   "cell_type": "code",
   "execution_count": null,
   "id": "c8b199f4-44b1-4704-9b58-ecb28a87a321",
   "metadata": {},
   "outputs": [],
   "source": [
    "for case in case_list:\n",
    "    dfsim2=dfsim[ (dfsim.case == case) & (dfsim.normalization == enr.normalization) & \n",
    "                    (dfsim.n_degs >= enr.num_min_degs_for_ptw_enr)]\n",
    "    print(f\"case {case} #simulations {len(dfsim2)}\")\n"
   ]
  },
  {
   "cell_type": "code",
   "execution_count": null,
   "id": "78f87309-0fb1-43c1-86e5-ee8aa8731526",
   "metadata": {},
   "outputs": [],
   "source": []
  },
  {
   "cell_type": "code",
   "execution_count": null,
   "id": "da849f26-fa4d-47e0-9724-f83dd5880263",
   "metadata": {},
   "outputs": [],
   "source": [
    "dfsim2=dfsim[ (dfsim.normalization == enr.normalization) & (dfsim.n_degs > 2)].copy()\n",
    "dfsim2.index=np.arange(0, len(dfsim2))\n",
    "print(len(dfsim2))"
   ]
  },
  {
   "cell_type": "code",
   "execution_count": null,
   "id": "4c828d5d-7dab-4c1e-8c21-b35afb9557b3",
   "metadata": {
    "scrolled": true
   },
   "outputs": [],
   "source": [
    "for i in range(len(dfsim2)):\n",
    "    row=dfsim2.iloc[i]\n",
    "\n",
    "    degs=eval(row.degs)\n",
    "\n",
    "    case=row.case\n",
    "    abs_lfc_cutoff=row.abs_lfc_cutoff\n",
    "    fdr_lfc_cutoff=row.fdr_lfc_cutoff\n",
    "\n",
    "    print(i, case, abs_lfc_cutoff, fdr_lfc_cutoff, len(degs), degs[:10], '...')\n",
    "    if i > 3: break"
   ]
  },
  {
   "cell_type": "code",
   "execution_count": null,
   "id": "99ef8b17-fb21-43f8-aa56-b92133df6852",
   "metadata": {},
   "outputs": [],
   "source": [
    "dfsim[ (dfsim.case == 'g1_female') & (dfsim.abs_lfc_cutoff == 0.75) & (dfsim.fdr_lfc_cutoff == 0.65)]"
   ]
  },
  {
   "cell_type": "code",
   "execution_count": null,
   "id": "5f84726c-3629-42b9-8f9b-d7103803e7ec",
   "metadata": {},
   "outputs": [],
   "source": [
    "enr.fdr_ptw_cutoff_list"
   ]
  },
  {
   "cell_type": "code",
   "execution_count": null,
   "id": "61a339e7-8c11-4138-9435-839230aa4b00",
   "metadata": {},
   "outputs": [],
   "source": [
    "enr.num_of_genes_list"
   ]
  },
  {
   "cell_type": "markdown",
   "id": "a5a88e80-503f-4e9e-aa83-9aa7ebb17164",
   "metadata": {},
   "source": [
    "### Calc all enrichment analyses"
   ]
  },
  {
   "cell_type": "code",
   "execution_count": null,
   "id": "4c6cacb2-a290-4946-b7fd-2cdf95bba0c2",
   "metadata": {},
   "outputs": [],
   "source": [
    "geneset_num_list=[1, 2, 4, 5, 7]\n",
    "geneset_num_list=[0, 1, 2, 4, 5, 7]\n",
    "geneset_num_list=[0]"
   ]
  },
  {
   "cell_type": "code",
   "execution_count": null,
   "id": "8a5d122f-a64a-4a61-938a-bb704d9b49c4",
   "metadata": {},
   "outputs": [],
   "source": [
    "enr.set_db(0, verbose=True)\n",
    "enr.set_enrichment_name()"
   ]
  },
  {
   "cell_type": "code",
   "execution_count": null,
   "id": "4a34f2e4-206d-43f9-a014-395321dfc22e",
   "metadata": {},
   "outputs": [],
   "source": []
  },
  {
   "cell_type": "code",
   "execution_count": null,
   "id": "b8011030-85ce-4775-aa86-302eb2d11124",
   "metadata": {},
   "outputs": [],
   "source": [
    "enr.abs_lfc_cutoff_inf"
   ]
  },
  {
   "cell_type": "markdown",
   "id": "f2e5cdc2-903b-4e8d-8013-14462d7f2d48",
   "metadata": {},
   "source": [
    "### Testing g2a_male -> zero for 0.95, 0.05"
   ]
  },
  {
   "cell_type": "code",
   "execution_count": null,
   "id": "7d101e1a-7c76-4e6c-b6f4-32c0970db55d",
   "metadata": {},
   "outputs": [],
   "source": [
    "case='g2a_female'\n",
    "ret, degs, degs_ensembl, dfqq=enr.open_case(case)\n",
    "len(degs), enr.n_degs"
   ]
  },
  {
   "cell_type": "code",
   "execution_count": null,
   "id": "d6b03d23-06ab-458f-9373-a2297bd35893",
   "metadata": {},
   "outputs": [],
   "source": [
    "enr.abs_lfc_cutoff=0.95\n",
    "enr.fdr_lfc_cutoff=0.05\n",
    "degs2, _, _=enr.list_of_degs()\n",
    "len(degs2)"
   ]
  },
  {
   "cell_type": "code",
   "execution_count": null,
   "id": "6cdb063e-bbad-48da-b499-7b9309cf917d",
   "metadata": {},
   "outputs": [],
   "source": []
  },
  {
   "cell_type": "code",
   "execution_count": null,
   "id": "b2ff6889-192c-476a-9f10-616b3446d1f2",
   "metadata": {},
   "outputs": [],
   "source": [
    "abs_lfc_cutoff=0.5\n",
    "fdr_lfc_cutoff=0.3\n",
    "degs2, _, _=enr.list_of_degs_set_params(abs_lfc_cutoff, fdr_lfc_cutoff, verbose=True)\n",
    "len(degs2)"
   ]
  },
  {
   "cell_type": "markdown",
   "id": "a4d31032-b44c-47c5-9f58-e76fba730132",
   "metadata": {},
   "source": [
    "### Calc DEFAULT paramenters Enrichment Analysis"
   ]
  },
  {
   "cell_type": "code",
   "execution_count": null,
   "id": "165de596-2378-479c-9484-608b2a73824a",
   "metadata": {},
   "outputs": [],
   "source": [
    "force=False\n",
    "verbose=False\n",
    "geneset_num_list=[0, 1, 2, 4, 5, 7]\n",
    "enr.calc_default_enrichment_analysis(geneset_num_list=geneset_num_list, force=force, verbose=verbose)"
   ]
  },
  {
   "cell_type": "markdown",
   "id": "34c91338-2b28-49da-bbdf-3a0e55915f64",
   "metadata": {},
   "source": [
    "### Reactome in Enricher"
   ]
  },
  {
   "cell_type": "code",
   "execution_count": null,
   "id": "072484a5-306b-46de-bd78-8c5bd1037661",
   "metadata": {},
   "outputs": [],
   "source": [
    "enr.abs_lfc_cutoff_inf"
   ]
  },
  {
   "cell_type": "code",
   "execution_count": null,
   "id": "3c597425-4f6c-4ae0-966c-f1cedb40ab65",
   "metadata": {},
   "outputs": [],
   "source": [
    "df_fdr=enr.open_fdr_lfc_correlation(case, enr.abs_lfc_cutoff_inf)\n",
    "df_fdr.head(3)"
   ]
  },
  {
   "cell_type": "code",
   "execution_count": null,
   "id": "036f4631-fef5-4394-b48d-8d0e76453dff",
   "metadata": {},
   "outputs": [],
   "source": [
    "dfsim=enr.open_simulation_table()\n",
    "dfsim.tail(3)"
   ]
  },
  {
   "cell_type": "code",
   "execution_count": null,
   "id": "1449766b-aa08-4261-9a60-d2235548b15f",
   "metadata": {},
   "outputs": [],
   "source": [
    "dfsim.case.unique()"
   ]
  },
  {
   "cell_type": "code",
   "execution_count": null,
   "id": "902ed256-2dbd-47c0-bb5a-2d266a542d5f",
   "metadata": {},
   "outputs": [],
   "source": []
  },
  {
   "cell_type": "code",
   "execution_count": null,
   "id": "ad1db490-57e8-444a-a38f-e404fe2889c5",
   "metadata": {
    "scrolled": true
   },
   "outputs": [],
   "source": [
    "force=False\n",
    "verbose=False\n",
    "geneset_num_list=[0]\n",
    "# remove the comments - it last some minutes\n",
    "enr.calc_all_enrichment_analysis(geneset_num_list, force=force, verbose=verbose)"
   ]
  },
  {
   "cell_type": "code",
   "execution_count": null,
   "id": "70a76e36-1213-474e-973e-817c68d3a751",
   "metadata": {
    "scrolled": true
   },
   "outputs": [],
   "source": [
    "force=False\n",
    "verbose=False\n",
    "geneset_num_list=[1, 2, 4, 5, 7]\n",
    "# remove the comments - it last some minutes\n",
    "enr.calc_all_enrichment_analysis(geneset_num_list, force=force, verbose=verbose)"
   ]
  },
  {
   "cell_type": "code",
   "execution_count": null,
   "id": "f5cc8629-2c61-4ca1-87ee-e6d21acda241",
   "metadata": {},
   "outputs": [],
   "source": []
  },
  {
   "cell_type": "markdown",
   "id": "d2c49beb-689f-4dbc-b085-d1bcc59122cc",
   "metadata": {},
   "source": [
    "### Sampling Pathways "
   ]
  },
  {
   "cell_type": "code",
   "execution_count": null,
   "id": "5e0646a9-4133-46ed-9e19-edf4014a02c4",
   "metadata": {},
   "outputs": [],
   "source": [
    "dfa=enr.count_sampling(geneset_num_list=[0], prompt_verbose=True)\n",
    "len(dfa)"
   ]
  },
  {
   "cell_type": "code",
   "execution_count": null,
   "id": "01ff32c3-c8ba-4477-8862-d5d997e76bea",
   "metadata": {},
   "outputs": [],
   "source": [
    "fig, dfa=enr.barplot_sampling_cutoffs(prompt_verbose=False, verbose=False)\n",
    "fig.show()"
   ]
  },
  {
   "cell_type": "code",
   "execution_count": null,
   "id": "558ee0a8-c538-4a24-a24e-0531e87ff847",
   "metadata": {},
   "outputs": [],
   "source": []
  },
  {
   "cell_type": "markdown",
   "id": "86d05fb4-54cb-4566-b06e-ef3169a7bb9c",
   "metadata": {},
   "source": [
    "### Other tests"
   ]
  },
  {
   "cell_type": "code",
   "execution_count": null,
   "id": "847aad0b-025d-4691-b35d-66c58a7e661f",
   "metadata": {},
   "outputs": [],
   "source": [
    "force=False; verbose=False\n",
    "num_min_degs_for_ptw_enr=3\n",
    "\n",
    "geneset_num_list=[1, 2, 4, 5, 7]\n",
    "geneset_num_list=[0, 1, 2, 4, 5, 7]\n",
    "geneset_num_list=[0]\n",
    "\n",
    "want_test=False\n",
    "\n",
    "if want_test:\n",
    "    icount=-1\n",
    "    for case in case_list:\n",
    "        if not enr.open_case_simple(case):\n",
    "            print(f\"Problems for {case} !!!!\")\n",
    "            continue\n",
    "        \n",
    "        dfsim2=dfsim[ (dfsim.normalization == enr.normalization) & (dfsim.case == case) &\n",
    "                        (dfsim.n_degs >= num_min_degs_for_ptw_enr)]\n",
    "        \n",
    "        for i in range(len(dfsim2)):\n",
    "            icount += 1\n",
    "            \n",
    "            row=dfsim2.iloc[i]\n",
    "    \n",
    "            degs=eval(row.degs)\n",
    "            case=row.case\n",
    "            \n",
    "            abs_lfc_cutoff=row.abs_lfc_cutoff\n",
    "            fdr_lfc_cutoff=row.fdr_lfc_cutoff\n",
    "    \n",
    "            degs2, _=enr.list_of_degs_params(abs_lfc_cutoff, fdr_lfc_cutoff, verbose=False)\n",
    "    \n",
    "            if len(degs) != len(degs2):\n",
    "                print(\"Error:\", case, abs_lfc_cutoff, fdr_lfc_cutoff, len(degs), len(degs2))\n",
    "                continue\n",
    "    \n",
    "            # if i > 10:break\n",
    "            enr.calc_EA_dataset_symbol(degs, return_value=True, force=force, verbose=verbose)\n",
    "            if icount%100==0:\n",
    "                print(case, len(degs), abs_lfc_cutoff, fdr_lfc_cutoff)\n",
    "                enr.echo_degs()\n",
    "                print(\"\")\n",
    "                enr.echo_enriched_pathways()\n",
    "                print(\"\\n\")\n"
   ]
  },
  {
   "cell_type": "markdown",
   "id": "59d021c9",
   "metadata": {},
   "source": [
    "### Reactome, Bioplanet, KEGG"
   ]
  },
  {
   "cell_type": "code",
   "execution_count": null,
   "id": "f358e4bf",
   "metadata": {},
   "outputs": [],
   "source": [
    "enr.dbs_list"
   ]
  },
  {
   "cell_type": "code",
   "execution_count": null,
   "id": "2c4a2495",
   "metadata": {},
   "outputs": [],
   "source": [
    "[enr.dbs_list[i] for i in [0, 1, 2, 4, 5, 7]]"
   ]
  },
  {
   "cell_type": "code",
   "execution_count": null,
   "id": "8471d829-9cca-43b8-b018-98f6e83f44ac",
   "metadata": {},
   "outputs": [],
   "source": [
    "enr.set_which_db('xxx')"
   ]
  },
  {
   "cell_type": "code",
   "execution_count": null,
   "id": "4ebceb39-7924-44b2-9cad-9bf97067ea24",
   "metadata": {},
   "outputs": [],
   "source": [
    "enr.set_which_db('Reactome_2022')"
   ]
  },
  {
   "cell_type": "code",
   "execution_count": null,
   "id": "e92a868b-2eb8-4068-984a-7803f2a382cd",
   "metadata": {},
   "outputs": [],
   "source": [
    "enr.set_which_db('Reactome')"
   ]
  },
  {
   "cell_type": "code",
   "execution_count": null,
   "id": "7a794e51-ae96-498f-bc62-365e2c8ebfa6",
   "metadata": {},
   "outputs": [],
   "source": [
    "enr.set_which_db('reactome')"
   ]
  },
  {
   "cell_type": "code",
   "execution_count": null,
   "id": "4dfde81d-dce9-4818-8c83-0ca7506ca4dc",
   "metadata": {},
   "outputs": [],
   "source": [
    "enr.set_which_db('KEGG_2021')"
   ]
  },
  {
   "cell_type": "code",
   "execution_count": null,
   "id": "a3c5ada9",
   "metadata": {},
   "outputs": [],
   "source": [
    "enr.set_which_db('KEGG')"
   ]
  },
  {
   "cell_type": "code",
   "execution_count": null,
   "id": "c8cd48f7",
   "metadata": {},
   "outputs": [],
   "source": [
    "enr.set_db(geneset_num=0)"
   ]
  },
  {
   "cell_type": "markdown",
   "id": "b8c50d5d",
   "metadata": {},
   "source": [
    "### Start with Reactome"
   ]
  },
  {
   "cell_type": "code",
   "execution_count": null,
   "id": "c910e76c",
   "metadata": {},
   "outputs": [],
   "source": [
    "case_list"
   ]
  },
  {
   "cell_type": "code",
   "execution_count": null,
   "id": "c83cf0ff",
   "metadata": {},
   "outputs": [],
   "source": [
    "case=case_list[0]\n",
    "enr.open_case(case, verbose=False)\n",
    "degs, dfdegs=enr.list_of_degs(force=False, verbose=True)\n",
    "\n",
    "# enr.set_which_db('Reactome_2022')\n",
    "geneset_num=0\n",
    "force=False; verbose=False\n",
    "\n",
    "print(f\"case: {case}\")\n",
    "print(f\"there are {len(degs)} for fdr < {enr.fdr_lfc_cutoff:.3f} and lfc >= {enr.abs_lfc_cutoff:.3f}\")\n",
    "print(f\"Pathway filter fdr < {enr.fdr_pathway_cutoff:.3f} and lfc >= {enr.pval_pathway_cutoff:.3f} and num_of_genes_cutoff={enr.num_of_genes_cutoff}\")\n",
    "\n",
    "enr.calc_EA_dataset_symbol(degs, force=force, verbose=verbose)"
   ]
  },
  {
   "cell_type": "code",
   "execution_count": null,
   "id": "55e02ef7-aeee-43a1-9ab4-4cb8d013ed1c",
   "metadata": {},
   "outputs": [],
   "source": [
    "i=0\n",
    "case=case_list[i]\n",
    "ret, degs, dfdegs=enr.open_case(case, verbose=False)\n",
    "\n",
    "enr.df_enr"
   ]
  },
  {
   "cell_type": "code",
   "execution_count": null,
   "id": "0f31a9e2",
   "metadata": {},
   "outputs": [],
   "source": [
    "print(enr.geneset_lib)\n",
    "\n",
    "row=enr.get_enriched_pathway_line(i_line=0)\n",
    "\n",
    "if row is not None:\n",
    "    print(row.pathway, row.pathway_id)\n",
    "    print(len(enr.genes_in_pathway), enr.genes_in_pathway)\n"
   ]
  },
  {
   "cell_type": "code",
   "execution_count": null,
   "id": "64a00a7e-0691-4b2b-8fca-0a9e887d5756",
   "metadata": {},
   "outputs": [],
   "source": []
  },
  {
   "cell_type": "markdown",
   "id": "e4e28c1b-4b3b-46ee-bcea-4e9effd321df",
   "metadata": {},
   "source": [
    "### Enriched DEGs"
   ]
  },
  {
   "cell_type": "code",
   "execution_count": null,
   "id": "18a50796",
   "metadata": {},
   "outputs": [],
   "source": [
    "len(enr.all_enr_degs), \",\".join(enr.all_enr_degs)"
   ]
  },
  {
   "cell_type": "code",
   "execution_count": null,
   "id": "9c5b0272-5388-4a72-a352-af79bdca34cc",
   "metadata": {},
   "outputs": [],
   "source": [
    "\",\".join(enr.degs)"
   ]
  },
  {
   "cell_type": "code",
   "execution_count": null,
   "id": "d03ac9a7-375a-4723-84ed-896ae1b6d491",
   "metadata": {},
   "outputs": [],
   "source": [
    "enr_found_degs=[x for x in enr.degs if x in enr.all_enr_degs]\n",
    "\",\".join(enr_found_degs)"
   ]
  },
  {
   "cell_type": "markdown",
   "id": "d3d937e8-73c0-47a9-8b4d-bce491a3ebdd",
   "metadata": {},
   "source": [
    "### Found genes "
   ]
  },
  {
   "cell_type": "code",
   "execution_count": null,
   "id": "ef397512-d70d-4a05-83ec-02200b560101",
   "metadata": {},
   "outputs": [],
   "source": [
    "len(enr.all_enr_degs), \",\".join(enr.all_enr_degs)"
   ]
  },
  {
   "cell_type": "code",
   "execution_count": null,
   "id": "c39f9ef7-cf28-4dda-9bdc-25eaacac91c7",
   "metadata": {},
   "outputs": [],
   "source": [
    "len(enr.enr_found_degs), \",\".join(enr.enr_found_degs)"
   ]
  },
  {
   "cell_type": "code",
   "execution_count": null,
   "id": "e0313d2d-8baf-4220-b651-e10f92d04b64",
   "metadata": {},
   "outputs": [],
   "source": []
  },
  {
   "cell_type": "markdown",
   "id": "debd8dd9-225f-4727-bf4b-70ced9272674",
   "metadata": {},
   "source": [
    "### Not found genes in pathways"
   ]
  },
  {
   "cell_type": "code",
   "execution_count": null,
   "id": "086effd0-96d8-46e7-b42a-fb27fb60f205",
   "metadata": {},
   "outputs": [],
   "source": [
    "len(enr.enr_not_found_degs), \",\".join(enr.enr_not_found_degs)"
   ]
  },
  {
   "cell_type": "code",
   "execution_count": null,
   "id": "e50bd0d7-f852-4535-8a6a-d187afdd7fa2",
   "metadata": {},
   "outputs": [],
   "source": []
  },
  {
   "cell_type": "markdown",
   "id": "77b9f788",
   "metadata": {},
   "source": [
    "### BioPlanet"
   ]
  },
  {
   "cell_type": "code",
   "execution_count": null,
   "id": "93140749",
   "metadata": {},
   "outputs": [],
   "source": [
    "enr.set_db(geneset_num=4)"
   ]
  },
  {
   "cell_type": "code",
   "execution_count": null,
   "id": "614572a0",
   "metadata": {},
   "outputs": [],
   "source": [
    "dfbiop=enr.open_db_pathway()\n",
    "print(len(dfbiop))\n",
    "dfbiop.head(3)"
   ]
  },
  {
   "cell_type": "code",
   "execution_count": null,
   "id": "dee0858f",
   "metadata": {},
   "outputs": [],
   "source": []
  },
  {
   "cell_type": "markdown",
   "id": "f2d7e814",
   "metadata": {},
   "source": [
    "### Bioplanet diseases"
   ]
  },
  {
   "cell_type": "code",
   "execution_count": null,
   "id": "e3ffea62",
   "metadata": {},
   "outputs": [],
   "source": [
    "_=enr.open_bioplanet_disease(force=False)\n",
    "dfdisease=enr.dfdisease\n",
    "print(len(dfdisease))\n",
    "dfdisease.head()"
   ]
  },
  {
   "cell_type": "markdown",
   "id": "05c954e7",
   "metadata": {},
   "source": [
    "### Bioplanet Categories"
   ]
  },
  {
   "cell_type": "code",
   "execution_count": null,
   "id": "72eb2772",
   "metadata": {},
   "outputs": [],
   "source": [
    " _=enr.open_bioplanet_category(force=False)\n",
    "dfbiop_cat=enr.dfbiop_cat\n",
    "print(type(dfbiop_cat.category))\n",
    "print(len(dfbiop_cat))\n",
    "dfbiop_cat.head()"
   ]
  },
  {
   "cell_type": "code",
   "execution_count": null,
   "id": "62de53b8-b78e-47ff-8b1e-c9f21ec06b26",
   "metadata": {},
   "outputs": [],
   "source": []
  },
  {
   "cell_type": "code",
   "execution_count": null,
   "id": "34e6d6fe",
   "metadata": {},
   "outputs": [],
   "source": [
    "def all_equal_list(cols1, cols2):\n",
    "    if cols1 is None and cols2 is None: return True\n",
    "    if cols1 == [] and cols2 == []: return True\n",
    "    \n",
    "    if len(cols1) != len(cols2): return False\n",
    "    \n",
    "    soma=np.sum([1 if cols1[i] != cols2[i] else 0 for i in range(len(cols1))])\n",
    "    return soma == 0\n",
    "\n",
    "cols1=list(enr.dflfc_all.columns)\n",
    "\n",
    "cols2=['probe', 'symbol', 'geneid', 'description', 'logFC', 'meanExpr', \\\n",
    "        't.stat', 'p-value', 'fdr', 'B', 'chr.range', 'org.chromosome', \\\n",
    "        'forward.reverse', 'nuc.sequence', 'gemmaid', 'go.term']\n",
    "\n",
    "all_equal_list(cols1, cols2)"
   ]
  },
  {
   "cell_type": "code",
   "execution_count": null,
   "id": "0f1f5ea1",
   "metadata": {},
   "outputs": [],
   "source": [
    "all_genes=[]\n",
    "for i in range(len(dfsig)):\n",
    "    genes=eval(dfsig.iloc[i].genes)\n",
    "    # print(i, len(genes))\n",
    "    all_genes += genes\n",
    "    \n",
    "all_genes=np.unique(all_genes)\n",
    "all_genes.sort()\n",
    "all_genes\n",
    "\n",
    "not_found_genes=np.array([x for x in enr.deg_list if not x in all_genes])\n",
    "not_found_genes"
   ]
  },
  {
   "cell_type": "code",
   "execution_count": null,
   "id": "a6422904",
   "metadata": {},
   "outputs": [],
   "source": []
  },
  {
   "cell_type": "code",
   "execution_count": null,
   "id": "6ebe33a0",
   "metadata": {},
   "outputs": [],
   "source": [
    "def find_hugo_symbol(gene):\n",
    "    try:\n",
    "        i=enr.gene.dic_genes[gene]\n",
    "        if isinstance(i, list):\n",
    "            i=i[0]\n",
    "            \n",
    "        mat=enr.gene.df_synonyms.iloc[i]['synonyms']\n",
    "        print(\">>>\", gene, i, mat, type(mat))\n",
    "        if isinstance(mat, str):\n",
    "            mat=eval(mat)\n",
    "            \n",
    "        gene0=mat[0]\n",
    "    except:\n",
    "        gene0=gene\n",
    "\n",
    "    return gene0"
   ]
  },
  {
   "cell_type": "code",
   "execution_count": null,
   "id": "94e92862",
   "metadata": {},
   "outputs": [],
   "source": [
    "gene='SEPP1'\n",
    "find_hugo_symbol(gene)"
   ]
  },
  {
   "cell_type": "code",
   "execution_count": null,
   "id": "7a7798e4",
   "metadata": {},
   "outputs": [],
   "source": [
    "enr.dic_genes[gene]"
   ]
  },
  {
   "cell_type": "code",
   "execution_count": null,
   "id": "4f051b01-9425-4314-8117-b3263fc5323f",
   "metadata": {},
   "outputs": [],
   "source": []
  },
  {
   "cell_type": "code",
   "execution_count": null,
   "id": "85aa4508-a192-4c35-88d3-176b308380b2",
   "metadata": {},
   "outputs": [],
   "source": [
    "lista=[x for x in os.listdir(enr.root_result) if 'taubate_PAC_UP_' in x and not '~lock' in x ]\n",
    "print(len(lista))\n",
    "\", \".join(lista)\n"
   ]
  },
  {
   "cell_type": "code",
   "execution_count": null,
   "id": "b0ab86ae-c758-4550-8907-800109001286",
   "metadata": {},
   "outputs": [],
   "source": [
    "root=enr.root_result\n",
    "_type='.tsv'\n",
    "_type=None\n",
    "pattern_src='taubate_PAC'\n",
    "pattern_dst='taubate_MAP'\n",
    "\n",
    "if _type is None:\n",
    "    lista=[x for x in os.listdir(root) if pattern_src in x and not '~lock' in x ]\n",
    "else:\n",
    "    lista=[x for x in os.listdir(root) if pattern_src in x and not '~lock' in x and x.endswith(_type)]\n",
    "\n",
    "if lista == []:\n",
    "    print(f\"There are no files in {root}\")\n",
    "\n",
    "for fname in lista:\n",
    "    fname_src=os.path.join(root, fname)\n",
    "\n",
    "    fname_dst=fname.replace(pattern_src, pattern_dst)\n",
    "    fname_dst=os.path.join(root, fname_dst)\n",
    "\n",
    "    if not  os.path.exists(fname_src):\n",
    "        print(f\"fname does not exist: '{fname_src}'\", fname_src)\n",
    "        continue\n",
    "    if os.path.exists(fname_dst):\n",
    "        print(f\"fname already exists: '{fname_dst}'\")\n",
    "        continue\n",
    "        \n",
    "    if fname_dst == fname_src:\n",
    "        print(f\"fname did not change: 'fname_src'\")\n",
    "        continue\n",
    "        \n",
    "    print(fname_src, 'to', fname_dst)\n",
    "    os.rename(fname_src, fname_dst)"
   ]
  },
  {
   "cell_type": "code",
   "execution_count": null,
   "id": "289b3297-1ee9-4de8-8226-a3c76c7f8f6b",
   "metadata": {},
   "outputs": [],
   "source": []
  },
  {
   "cell_type": "code",
   "execution_count": null,
   "id": "4d1deacc-13bd-4eaa-8927-c95457bdfa6d",
   "metadata": {},
   "outputs": [],
   "source": [
    "\n",
    "def open_enriched_table_manually(self, fname, root):\n",
    "    enr.df_enr0, enr.df_enr=None, None\n",
    "    fname_enr, fname_enr_cutoff=bpx.set_enrichment_name()\n",
    "\n",
    "    bpx.fname_enr=fname_enr\n",
    "    bpx.fname_enr_cutoff=fname_enr_cutoff\n",
    "    bpx.root_enr=root\n",
    "\n",
    "    filefull=os.path.join(root, fname_enr)\n",
    "\n",
    "    if not os.path.exists(filefull):\n",
    "        bpx.deg_list=[]\n",
    "        print(\"File does not exists '%s'\"%(filefull))\n",
    "        return None\n",
    "\n",
    "    df_enr0=pdreadcsv(fname_enr, bpx.root_enr)\n",
    "    ret=False if df_enr0 is None or df_enr0.empty else True\n",
    "\n",
    "    if ret:\n",
    "        df_enr0.columns=bpx.old_pathway_cols\n",
    "        df_enr0=df_enr0[bpx.sel_pathway_cols]\n",
    "\n",
    "        df_enr=df_enr0[ (df_enr0.fdr_pathway_cutoff < 0.05) & (df_enr0.num_of_genes >= bpx.num_of_genes_cutoff)]\n",
    "\n",
    "        bpx.df_enr0=df_enr0\n",
    "        bpx.df_enr=df_enr\n",
    "\n",
    "        print(f\">>> df_enr has {len(df_enr)} enrichment pathways and max(fdr_pathway_cutoff)={df_enr.fdr_pathway_cutoff.max():%.3f}\")\n",
    "        all_enr_genes=[]\n",
    "        for i in range(len(df_enr)):\n",
    "            s_genes=df_enr.iloc[i].genes\n",
    "            if isinstance(s_genes, str) and s_genes != '':\n",
    "                genes=list(s_genes.split(';'))\n",
    "                all_enr_genes += genes\n",
    "\n",
    "        all_enr_genes=list(np.unique(all_enr_genes))\n",
    "    else:\n",
    "        bpx.df_enr0=None\n",
    "        bpx.df_enr=None\n",
    "        all_enr_genes=[]\n",
    "\n",
    "    bpx.all_enr_genes=all_enr_genes\n",
    "    return ret"
   ]
  },
  {
   "cell_type": "code",
   "execution_count": null,
   "id": "f17d4983-0bdf-4bbe-9bf4-23600a850b49",
   "metadata": {},
   "outputs": [],
   "source": []
  },
  {
   "cell_type": "code",
   "execution_count": null,
   "id": "447b047a-e8a5-40b0-b45a-da51dafa818e",
   "metadata": {},
   "outputs": [],
   "source": []
  },
  {
   "cell_type": "markdown",
   "id": "172ce606-80b6-4144-a262-0c85e2c2c8f4",
   "metadata": {},
   "source": [
    "### Studied symbos in pubmed"
   ]
  },
  {
   "cell_type": "code",
   "execution_count": null,
   "id": "136c35d5",
   "metadata": {},
   "outputs": [],
   "source": [
    "prefix=\"taubate_covid19\"\n",
    "inidate=\"2019/10/01\"\n",
    "enddate=\"2030/12/31\"\n",
    "\n",
    "email=\"flalix@gmail.com\"\n",
    "\n",
    "sleep_entrez=[30, 90, 300]; retmax=100000,\n",
    "\n",
    "nlp=NLP(email, prefix, root0, \n",
    "          sleep_entrez=[30, 90, 300], retmax=100000,\n",
    "          only_title_abstract=True, text_quote='',\n",
    "          inidate=inidate, enddate=enddate, root_colab=root_colab, \n",
    "          force_query=False, verbose_query=False, dec_ncpus=2)\n",
    "\n",
    "df_my_gene, df_my_gene_syn=nlp.gene.open_my_gene()\n",
    "print(df_my_gene.shape)\n",
    "df_my_gene.head(3)"
   ]
  },
  {
   "cell_type": "code",
   "execution_count": null,
   "id": "4970dd93-a0a7-4778-85ff-b1363026acb5",
   "metadata": {},
   "outputs": [],
   "source": []
  },
  {
   "cell_type": "code",
   "execution_count": null,
   "id": "397adf02",
   "metadata": {},
   "outputs": [],
   "source": [
    "dfsymb_perc=nlp.find_symbols_build_perc_table(force=False)\n",
    "print(len(dfsymb_perc))\n",
    "dfsymb_perc.head(3)"
   ]
  },
  {
   "cell_type": "code",
   "execution_count": null,
   "id": "dd90f5d8",
   "metadata": {},
   "outputs": [],
   "source": [
    "dfsymb_perc[dfsymb_perc.symbol == 'VWF']"
   ]
  },
  {
   "cell_type": "code",
   "execution_count": null,
   "id": "5487ad7c",
   "metadata": {},
   "outputs": [],
   "source": [
    "all_pubmed=list(dfsymb_perc.symbol)\n",
    "print(len(all_pubmed))\n",
    "all_pubmed.sort()\n",
    "\n",
    "degs_notin=[x for x in degs if not x in all_pubmed]\n",
    "degs_notin.sort()\n",
    "\n",
    "print(len(degs_notin))\n",
    "\", \".join(degs_notin)"
   ]
  },
  {
   "cell_type": "code",
   "execution_count": null,
   "id": "0039e416",
   "metadata": {},
   "outputs": [],
   "source": [
    "dfsymb_perc[dfsymb_perc.symbol == 'CLEC3B']"
   ]
  },
  {
   "cell_type": "code",
   "execution_count": null,
   "id": "f3ae98aa",
   "metadata": {},
   "outputs": [],
   "source": [
    "not 'VWF' in all_pubmed"
   ]
  },
  {
   "cell_type": "code",
   "execution_count": null,
   "id": "22712ae6",
   "metadata": {},
   "outputs": [],
   "source": []
  },
  {
   "cell_type": "code",
   "execution_count": null,
   "id": "9311f7be",
   "metadata": {},
   "outputs": [],
   "source": [
    "all_pubmed=list(dfsymb_perc.symbol)\n",
    "print(len(all_pubmed))\n",
    "all_pubmed.sort()\n",
    "\n",
    "# \", \".join(all_pubmed)"
   ]
  },
  {
   "cell_type": "code",
   "execution_count": null,
   "id": "11095ff8-acc2-4a1f-93ae-89d8711e7dd7",
   "metadata": {},
   "outputs": [],
   "source": []
  },
  {
   "cell_type": "code",
   "execution_count": null,
   "id": "210f7cf3-05b1-47e3-b081-e24c2fef52db",
   "metadata": {},
   "outputs": [],
   "source": [
    "geneset_num_list=[0, 1, 2, 4, 5, 7]\n",
    "prompt_verbose=False\n",
    "\n",
    "dic={}; i=-1\n",
    "for geneset_num in geneset_num_list:\n",
    "    enr.set_db(geneset_num, verbose=True)\n",
    "\n",
    "    s_start=f\"enricheR_{enr.geneset_lib}\"\n",
    "\n",
    "    for case in case_list:\n",
    "        files=[x for x in os.listdir(enr.root_enrichment) if x.startswith(s_start) and case in x]\n",
    "        if prompt_verbose: print(\"\\tcase\", case, len(files))\n",
    "\n",
    "        i+=1\n",
    "        dic[i]={}\n",
    "        dic2=dic[i]\n",
    "    \n",
    "        dic2['geneset_num']=enr.geneset_num\n",
    "        dic2['geneset_lib']=enr.geneset_lib\n",
    "        dic2['case']=case\n",
    "        dic2['n']=len(files)\n",
    "\n",
    "    if prompt_verbose: print('')\n",
    "\n",
    "dfa=pd.DataFrame(dic).T\n",
    "dfa.head(3)"
   ]
  },
  {
   "cell_type": "code",
   "execution_count": null,
   "id": "35990846-21ef-4d1b-b7ca-89f7980fca24",
   "metadata": {},
   "outputs": [],
   "source": [
    "title=f'Sampling cutoffs per geneset'\n",
    "yaxis_title=f'number of samples'\n",
    "width=1100\n",
    "height=700\n",
    "\n",
    "colors=['green', 'red', 'blue', 'brown', 'yellow', 'cyan', 'lightgreen', 'pink', 'gray', 'lightblue']\n",
    "\n",
    "geneset_lista=dfa.geneset_lib.unique()\n",
    "colors_geneset=colors[:len(geneset_lista)]\n",
    "\n",
    "_n_rows=int(np.ceil(len(enr.case_list)/2))\n",
    "fig=make_subplots(rows=_n_rows, cols=2, subplot_titles=enr.case_list)\n",
    "\n",
    "nrow=1\n",
    "ncol=0\n",
    "\n",
    "for case in enr.case_list:\n",
    "    \n",
    "    dfa2=dfa[dfa.case == case].copy()\n",
    "    dfa2=dfa2.sort_values('geneset_lib')\n",
    "    dfa2.index=np.arange(0, len(dfa2))\n",
    "\n",
    "    ncol += 1\n",
    "    if ncol == 3:\n",
    "        ncol=1\n",
    "        nrow += 1\n",
    "        \n",
    "    \n",
    "    fig.add_trace(go.Bar(x=dfa2.geneset_lib, y=dfa2.n, marker_color=colors_geneset, name=case), row=nrow, col=ncol)\n",
    "\n",
    "fig.update_layout(\n",
    "            autosize=True,\n",
    "            title=title,\n",
    "            width=width,\n",
    "            height=height*_n_rows,\n",
    "            plot_bgcolor='lightgray',\n",
    "            xaxis_title=\"cases\",\n",
    "            yaxis_title=yaxis_title,\n",
    "            showlegend=False,\n",
    "            font=dict(\n",
    "                family=\"Arial\",\n",
    "                size=14,\n",
    "                color=\"Black\"\n",
    "            )\n",
    ")\n",
    "\n",
    "figname=title_replace(title)\n",
    "figname=os.path.join(enr.root_figure, figname+'.html')\n",
    "\n",
    "fig.write_html(figname)\n",
    "if verbose: print(\">>> HTML and png saved:\", figname)\n",
    "fig.write_image(figname.replace('.html', '.png'))\n",
    "\n",
    "fig.show()"
   ]
  },
  {
   "cell_type": "code",
   "execution_count": null,
   "id": "41076381-bd6c-4c38-93f1-96ace92e6468",
   "metadata": {},
   "outputs": [],
   "source": [
    "dfa2"
   ]
  }
 ],
 "metadata": {
  "kernelspec": {
   "display_name": "Python 3 (ipykernel)",
   "language": "python",
   "name": "python3"
  },
  "language_info": {
   "codemirror_mode": {
    "name": "ipython",
    "version": 3
   },
   "file_extension": ".py",
   "mimetype": "text/x-python",
   "name": "python",
   "nbconvert_exporter": "python",
   "pygments_lexer": "ipython3",
   "version": "3.11.11"
  }
 },
 "nbformat": 4,
 "nbformat_minor": 5
}
