{
 "cells": [
  {
   "cell_type": "markdown",
   "id": "2069d3bb-c1e2-4598-9156-a517ad2e1c2b",
   "metadata": {},
   "source": [
    "## Sampling pathways"
   ]
  },
  {
   "cell_type": "code",
   "execution_count": null,
   "id": "fd7f82e8-96bd-48b4-80aa-92b0578492a1",
   "metadata": {},
   "outputs": [],
   "source": [
    "from platform import python_version\n",
    "print(python_version())"
   ]
  },
  {
   "cell_type": "code",
   "execution_count": null,
   "id": "24db0cf4-e681-493b-9208-f832bdf0c175",
   "metadata": {},
   "outputs": [],
   "source": [
    "import os, sys, pickle\n",
    "\n",
    "import numpy as np\n",
    "import pandas as pd\n",
    "pd.set_option('display.width', 100)\n",
    "pd.set_option('max_colwidth', 80)\n",
    "pd.set_option(\"display.precision\", 3)\n",
    "\n",
    "import yaml\n",
    "\n",
    "import seaborn as sns\n",
    "sns.set_context(\"notebook\", font_scale=1.4)\n",
    "\n",
    "import matplotlib.pyplot as plt\n",
    "import matplotlib.gridspec as gridspec\n",
    "%matplotlib inline\n",
    "\n",
    "sys.path.insert(1, '../src/')\n",
    "\n",
    "from Basic import *\n",
    "from biopax_lib import *\n",
    "from gemini_lib import *\n",
    "\n",
    "import warnings\n",
    "warnings.filterwarnings(\"ignore\")\n",
    "\n",
    "from IPython.display import display, HTML\n",
    "display(HTML(\"<style>:root { --jp-notebook-max-width: 100% !important; }</style>\"))\n",
    "\n",
    "# !pip3 install pyyaml\n",
    "with open('params.yml', 'r') as file:\n",
    "    dic_yml=yaml.safe_load(file)"
   ]
  },
  {
   "cell_type": "code",
   "execution_count": null,
   "id": "db0e17e2-3775-4709-9873-2f918e1ed275",
   "metadata": {},
   "outputs": [],
   "source": [
    "root0=dic_yml['root0']\n",
    "email=dic_yml['email']\n",
    "\n",
    "project=dic_yml['project']\n",
    "s_project=dic_yml['s_project']\n",
    "\n",
    "gene_protein=dic_yml['gene_protein']\n",
    "s_omics=dic_yml['s_omics']\n",
    "\n",
    "has_age=dic_yml['has_age']\n",
    "has_gender=dic_yml['has_gender']\n",
    "\n",
    "want_normalized=dic_yml['want_normalized']\n",
    "\n",
    "abs_lfc_cutoff_inf=dic_yml['abs_lfc_cutoff_inf']\n",
    "s_pathw_enrichm_method=dic_yml['s_pathw_enrichm_method']\n",
    "num_min_degs_for_ptw_enr=dic_yml['num_min_degs_for_ptw_enr']\n",
    "\n",
    "tolerance_pathway_index=dic_yml['tolerance_pathway_index']\n",
    "type_sat_ptw_index=dic_yml['type_sat_ptw_index']\n",
    "saturation_lfc_index=dic_yml['saturation_lfc_index']\n",
    "chosen_model_sampling=dic_yml['chosen_model_sampling']\n",
    "\n",
    "case_list=dic_yml['case_list']\n",
    "case_sel_list=dic_yml['case_sel_list']\n",
    "\n",
    "pval_pathway_cutoff=dic_yml['pval_pathway_cutoff']\n",
    "fdr_pathway_cutoff=dic_yml['fdr_pathway_cutoff']\n",
    "num_of_genes_cutoff=dic_yml['num_of_genes_cutoff']\n",
    "\n",
    "run_list=dic_yml['run_list']\n",
    "chosen_model_list=dic_yml['chosen_model_list']\n",
    "i_dfp_list=dic_yml['i_dfp_list']\n",
    "\n",
    "exp_normalization='quantile_norm' if want_normalized else None\n",
    "normalization='not_normalized' if exp_normalization is None else exp_normalization\n",
    "\n",
    "cfg=Config(project, s_project, case_list, root0)\n",
    "\n",
    "case=case_list[0]\n",
    "\n",
    "n_genes_annot_ptw, n_degs, n_degs_in_ptw, n_degs_not_in_ptw, degs_in_all_ratio=-1,-1,-1,-1,-1\n",
    "abs_lfc_cutoff, fdr_lfc_cutoff, n_degs, n_degs_up, n_degs_dw=cfg.get_best_lfc_cutoff(case, 'not_normalized')\n",
    "\n",
    "\n",
    "print(f\"G/P LFC cutoffs: lfc={abs_lfc_cutoff:.3f}; fdr={fdr_lfc_cutoff:.3f}\")\n",
    "print(f\"Pathway cutoffs: pval={pval_pathway_cutoff:.3f}; fdr={fdr_pathway_cutoff:.3f}; num of genes={num_of_genes_cutoff}\")"
   ]
  },
  {
   "cell_type": "code",
   "execution_count": null,
   "id": "75d9a3d5-6a54-4b70-9dd2-deb3ddb09810",
   "metadata": {},
   "outputs": [],
   "source": [
    "bpx=Biopax(gene_protein, s_omics, project, s_project, root0,\n",
    "           case_list, has_age, has_gender, clone_objects=False,\n",
    "           exp_normalization=exp_normalization, geneset_num=0, \n",
    "           num_min_degs_for_ptw_enr=num_min_degs_for_ptw_enr, \n",
    "           tolerance_pathway_index=tolerance_pathway_index, \n",
    "           s_pathw_enrichm_method=s_pathw_enrichm_method,\n",
    "           abs_lfc_cutoff_inf=abs_lfc_cutoff_inf, \n",
    "           type_sat_ptw_index=type_sat_ptw_index, saturation_lfc_index=saturation_lfc_index)\n",
    "\n",
    "case=case_list[0]\n",
    "\n",
    "bpx.cfg.set_default_best_lfc_cutoff(normalization, abs_lfc_cutoff=1, fdr_lfc_cutoff=0.05)\n",
    "ret, degs, degs_ensembl, dfdegs=bpx.open_case(case, verbose=False)\n",
    "print(\"\\nEcho Parameters:\")\n",
    "bpx.echo_parameters()\n",
    "\n",
    "geneset_num=bpx.geneset_num"
   ]
  },
  {
   "cell_type": "code",
   "execution_count": null,
   "id": "60faab76-fa20-460c-9f83-57643c63a260",
   "metadata": {},
   "outputs": [],
   "source": [
    "fname, fname_cutoff=bpx.set_enrichment_name()\n",
    "fname, fname_cutoff"
   ]
  },
  {
   "cell_type": "markdown",
   "id": "b12d5ff6-232b-46ce-a145-370eb651266c",
   "metadata": {},
   "source": [
    "### Run all, after finding a case\n",
    "  - please open dfr (reactome) before"
   ]
  },
  {
   "cell_type": "code",
   "execution_count": null,
   "id": "4e6fe1ad-950a-4dad-b9c3-a75f30c67c35",
   "metadata": {},
   "outputs": [],
   "source": [
    "Nenr=len(bpx.df_enr)\n",
    "Nenr"
   ]
  },
  {
   "cell_type": "code",
   "execution_count": null,
   "id": "e1cef531-6600-4586-9a9c-a1e5ba24f55b",
   "metadata": {},
   "outputs": [],
   "source": [
    "bpx.case, len(bpx.df_enr)"
   ]
  },
  {
   "cell_type": "markdown",
   "id": "9aba8f38-38a5-46da-a018-b8de94737396",
   "metadata": {},
   "source": [
    "### MSD (multiple sources dataset): is_seldata=True"
   ]
  },
  {
   "cell_type": "code",
   "execution_count": null,
   "id": "1b7a12af-28ba-4650-9b0c-f05a885a926c",
   "metadata": {},
   "outputs": [],
   "source": [
    "is_seldata=True"
   ]
  },
  {
   "cell_type": "code",
   "execution_count": null,
   "id": "902e89d6-1c57-4e58-8e72-908b815ff6c6",
   "metadata": {},
   "outputs": [],
   "source": [
    "API_KEY=dic_yml['API_KEY']\n",
    "\n",
    "disease=dic_yml['disease']\n",
    "context_disease=dic_yml['context_disease']\n",
    "n_sentences=dic_yml['n_sentences']\n",
    "chosen_model_sampling=dic_yml['chosen_model_sampling']\n",
    "\n",
    "gem=Gemini( bpx=bpx, is_seldata=is_seldata, disease=disease, context_disease=context_disease, \n",
    "             API_KEY=API_KEY, n_sentences=n_sentences, root0=root0, \n",
    "             chosen_model_list=chosen_model_list, i_dfp_list=i_dfp_list, chosen_model_sampling=chosen_model_sampling)\n",
    "print(\"\\n\")\n",
    "print(gem.disease, gem.is_seldata, gem.i_dfp_list, gem.chosen_model_list)\n",
    "print(\"Context:\", context_disease)"
   ]
  },
  {
   "cell_type": "code",
   "execution_count": null,
   "id": "a32bfa5b-ebb6-46f0-99c4-caae06819e50",
   "metadata": {},
   "outputs": [],
   "source": [
    "gem.set_case(bpx.case, bpx.df_enr, bpx.df_enr0)"
   ]
  },
  {
   "cell_type": "code",
   "execution_count": null,
   "id": "c6051c66-ed36-45c4-b28e-0e62657da585",
   "metadata": {},
   "outputs": [],
   "source": [
    "gem.bpx.case_list"
   ]
  },
  {
   "cell_type": "markdown",
   "id": "cffc3a90-c21f-43f0-b940-16241afada31",
   "metadata": {},
   "source": [
    "### Settings: selected data"
   ]
  },
  {
   "cell_type": "code",
   "execution_count": null,
   "id": "0d9a8346-cab1-452d-808e-aa082656c53f",
   "metadata": {},
   "outputs": [],
   "source": [
    "test=False\n",
    "force=False\n",
    "verbose=False\n",
    "\n",
    "chosen_model=3\n",
    "gemini_model='gemini-1.5-flash'\n",
    "\n",
    "query_type='strong'\n",
    "N=30\n",
    "\n",
    "case_sel0=case_sel_list[0]\n",
    "case_sel1=case_sel_list[1]\n",
    "\n",
    "with_gender=False\n",
    "\n",
    "############## for selected ###############\n",
    "run_list=['run01']\n",
    "chosen_model_list=[3]\n",
    "gem.chosen_model_list=chosen_model_list\n",
    "\n",
    "i_dfp_list=[0]\n",
    "case_list=case_sel_list\n",
    "#############################\n",
    "\n",
    "case=case_sel0\n",
    "print(\"\")\n",
    "dfsel=gem.open_yes_no_sampling(case=case, N=N, query_type=query_type, verbose=True)\n",
    "print(\"\")\n",
    "dfsel.head(3)"
   ]
  },
  {
   "cell_type": "code",
   "execution_count": null,
   "id": "f77673ae-0929-4188-bca6-a7036f470e65",
   "metadata": {},
   "outputs": [],
   "source": []
  },
  {
   "cell_type": "markdown",
   "id": "64812a99-e4a7-4d0c-be63-31dc4c521ab9",
   "metadata": {},
   "source": [
    "### Select random results "
   ]
  },
  {
   "cell_type": "code",
   "execution_count": null,
   "id": "340d9ce3-2954-4b1a-8a96-ab0efb9a9b15",
   "metadata": {},
   "outputs": [],
   "source": [
    "# 15 Yes and 15 No\n",
    "N"
   ]
  },
  {
   "cell_type": "code",
   "execution_count": null,
   "id": "b9587e21-dd6f-4e43-ac09-7f18dbe96b1f",
   "metadata": {},
   "outputs": [],
   "source": [
    "case = case_sel0\n",
    "cols=['pathway_id', 'pathway', 'fdr', 'curation']\n",
    "\n",
    "root=os.path.join(gem.root_gemini0, 'run01')\n",
    "\n",
    "verbose=False\n",
    "df_yes, df_no, df_sel_yes, df_sel_no=gem.select_random_results(case=case, chosen_model=chosen_model,\n",
    "                                                               N=N, root=root, query_type=query_type, verbose=verbose)\n",
    "\n",
    "print(gem.gemini_model)\n",
    "len(df_sel_yes), len(df_sel_no)"
   ]
  },
  {
   "cell_type": "code",
   "execution_count": null,
   "id": "c5c7c5cc-c039-48c7-bb83-63c0742861ce",
   "metadata": {},
   "outputs": [],
   "source": [
    "df_sel_yes.head(2)"
   ]
  },
  {
   "cell_type": "code",
   "execution_count": null,
   "id": "f18564d7-425b-4549-b4ae-00920de5ddbc",
   "metadata": {},
   "outputs": [],
   "source": [
    "df_sel_no.head(2)"
   ]
  },
  {
   "cell_type": "markdown",
   "id": "8b6a7f4d-0a4a-4c30-ad4d-5c23071b6b41",
   "metadata": {},
   "source": [
    "### Save random selected pathways"
   ]
  },
  {
   "cell_type": "code",
   "execution_count": null,
   "id": "fbe072be-b8c1-40c1-8691-f3f821a9c169",
   "metadata": {},
   "outputs": [],
   "source": [
    "verbose=True\n",
    "force=False\n",
    "\n",
    "dff=gem.merge_and_save_random_df_yes_no(N, case, query_type,\n",
    "                                          df_sel_yes, df_sel_no, force=force, verbose=verbose)\n",
    "print(len(dff))\n",
    "dff.head(6)"
   ]
  },
  {
   "cell_type": "code",
   "execution_count": null,
   "id": "20aaa0e3-a4d2-429c-bdb8-8e1b1b0bf460",
   "metadata": {},
   "outputs": [],
   "source": []
  },
  {
   "cell_type": "code",
   "execution_count": null,
   "id": "1b8bd1fd-05e0-416e-adff-bde283c6de01",
   "metadata": {},
   "outputs": [],
   "source": [
    "verbose=False\n",
    "\n",
    "df_yes, df_no, df_sel_yes, df_sel_no=gem.select_random_results(case=case, chosen_model=chosen_model,\n",
    "                                                                 N=N, root=root, query_type=query_type, \n",
    "                                                                 verbose=verbose)\n",
    "\n",
    "print(gem.gemini_model)\n",
    "len(df_sel_yes), len(df_sel_no)"
   ]
  },
  {
   "cell_type": "code",
   "execution_count": null,
   "id": "c2b242de-5af5-4cc7-9ff6-1f341460e898",
   "metadata": {},
   "outputs": [],
   "source": [
    "verbose=True\n",
    "force=False\n",
    "\n",
    "dff=gem.merge_and_save_random_df_yes_no(N, case, query_type, df_sel_yes, df_sel_no, force=force, verbose=verbose)\n",
    "print(len(dff))\n",
    "dff.head(6)"
   ]
  },
  {
   "cell_type": "code",
   "execution_count": null,
   "id": "f6f33c41-315b-43fb-af7f-8603881c918a",
   "metadata": {},
   "outputs": [],
   "source": []
  }
 ],
 "metadata": {
  "kernelspec": {
   "display_name": "Python 3 (ipykernel)",
   "language": "python",
   "name": "python3"
  },
  "language_info": {
   "codemirror_mode": {
    "name": "ipython",
    "version": 3
   },
   "file_extension": ".py",
   "mimetype": "text/x-python",
   "name": "python",
   "nbconvert_exporter": "python",
   "pygments_lexer": "ipython3",
   "version": "3.11.11"
  }
 },
 "nbformat": 4,
 "nbformat_minor": 5
}
