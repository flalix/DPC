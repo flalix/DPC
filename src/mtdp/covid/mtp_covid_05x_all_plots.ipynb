{
 "cells": [
  {
   "cell_type": "code",
   "execution_count": null,
   "id": "ee016cd1",
   "metadata": {},
   "outputs": [],
   "source": [
    "from platform import python_version\n",
    "print(python_version())"
   ]
  },
  {
   "cell_type": "markdown",
   "id": "f2198431-5f02-413f-91a0-0d011f533ec6",
   "metadata": {},
   "source": [
    "### Enriched Pathway Statistics"
   ]
  },
  {
   "cell_type": "code",
   "execution_count": null,
   "id": "f5a3b22e",
   "metadata": {},
   "outputs": [],
   "source": [
    "import json, requests\n",
    "import os, sys\n",
    "import pandas as pd\n",
    "\n",
    "import plotly.express as px\n",
    "import plotly.graph_objects as go\n",
    "import plotly.figure_factory as ff\n",
    "import plotly.io as pio\n",
    "from plotly.subplots import make_subplots\n",
    "\n",
    "from scipy.stats import shapiro\n",
    "\n",
    "sys.path.insert(1, '../src/')\n",
    "\n",
    "from Basic import *\n",
    "from enricher_lib import *\n",
    "from nlp_cluster_lib import *\n",
    "from config_lib import *\n",
    "\n",
    "pd.set_option(\"display.precision\", 3)\n",
    "from IPython.display import display, HTML\n",
    "display(HTML(\"<style>:root { --jp-notebook-max-width: 100% !important; }</style>\"))"
   ]
  },
  {
   "cell_type": "code",
   "execution_count": null,
   "id": "2bdaf5e7",
   "metadata": {},
   "outputs": [],
   "source": [
    "root_chibe = \"../../chibe/\"\n",
    "root_colab = '../../colaboracoes/'\n",
    "root0       = '../../colaboracoes/covid/sonia_andrade/taubate/proteomics_202205/'\n",
    "\n",
    "project = 'Taubate COVID-19'\n",
    "s_project = 'taubate_covid19'\n",
    "\n",
    "gene_protein = 'protein'\n",
    "s_omics = 'proteomics'\n",
    "\n",
    "has_age = True\n",
    "has_gender = True\n",
    "\n",
    "want_normalized = False\n",
    "exp_normalization='quantile_norm' if want_normalized else None\n",
    "normalization = 'not_normalized' if exp_normalization is None else exp_normalization\n",
    "\n",
    "abs_lfc_cutoff_inf = 0.40\n",
    "s_pathw_enrichm_method = 'enricher'\n",
    "num_min_degs_for_ptw_enr=3\n",
    "tolerance_gene_reg_index = 0.15\n",
    "\n",
    "case_list = ['g2a_male', 'g2a_female', \n",
    "             'g2b_male', 'g2b_female', \n",
    "             'g3_male_adult',   'g3_male_elder',\n",
    "             'g3_female_adult', 'g3_female_elder']\n",
    "\n",
    "cfg = Config(project, s_project, case_list, root0)\n",
    "\n",
    "case = case_list[0]\n",
    "\n",
    "n_genes_annot_ptw, n_degs, n_degs_in_ptw, n_degs_not_in_ptw, degs_in_all_ratio = -1,-1,-1,-1,-1\n",
    "abs_lfc_cutoff, fdr_lfc_cutoff, n_degs, n_degs_up, n_degs_dw = cfg.get_best_lfc_cutoff(case, 'not_normalized')\n",
    "\n",
    "pval_pathway_cutoff = 0.05\n",
    "fdr_pathway_cutoff = .05\n",
    "num_of_genes_cutoff = 3\n",
    "\n",
    "print(f\"G/P LFC cutoffs: lfc={abs_lfc_cutoff:.3f}; fdr={fdr_lfc_cutoff:.3f}\")\n",
    "print(f\"Pathway cutoffs: pval={pval_pathway_cutoff:.3f}; fdr={fdr_pathway_cutoff:.3f}; num of genes={num_of_genes_cutoff}\")"
   ]
  },
  {
   "cell_type": "code",
   "execution_count": null,
   "id": "2d76e2fd",
   "metadata": {},
   "outputs": [],
   "source": [
    "pathway_name_id = 'Hemostasis - R-HSA-109582'\n",
    "pathway_name_id = 'Regulation Of IGF Transport And Uptake By IGFBPs - R-HSA-381426'\n",
    "pathway_name_id = 'Platelet degranulate - R-HSA-114608'\n",
    "pathway_name_id = 'Platelet Activation, Signaling And Aggregation - R-HSA-76002'\n",
    "pathway_name_id = 'Integrin Cell Surface Interactions - R-HSA-216083'\n",
    "pathway_name_id = 'Neutrophil Degranulation - R-HSA-6798695'\n",
    "pathway_name_id = 'Regulation of Complement cascade - R-HSA-977606'\n",
    "pathway_name_id = 'Response To Elevated Platelet Cytosolic Ca2+ - R-HSA-76005'\n",
    "\n",
    "enr = enricheR(gene_protein, s_omics, project, s_project, root0,\n",
    "              case_list, has_age, has_gender, clone_objects=False,\n",
    "              exp_normalization=exp_normalization, geneset_num=0, \n",
    "              num_min_degs_for_ptw_enr=num_min_degs_for_ptw_enr, \n",
    "              tolerance_gene_reg_index=tolerance_gene_reg_index, \n",
    "              s_pathw_enrichm_method = s_pathw_enrichm_method)\n",
    "\n",
    "\n",
    "case = case_list[0]\n",
    "\n",
    "enr.cfg.set_default_best_lfc_cutoff(normalization, abs_lfc_cutoff=1, fdr_lfc_cutoff=0.05)\n",
    "ret, degs, degs_ensembl, dfdegs = enr.open_case(case, verbose=False)\n",
    "print(\"\\nEcho Parameters:\")\n",
    "enr.echo_parameters()\n",
    "\n",
    "geneset_num = enr.geneset_num"
   ]
  },
  {
   "cell_type": "code",
   "execution_count": null,
   "id": "b4eaa228-cee8-44a0-875f-963975e68db9",
   "metadata": {},
   "outputs": [],
   "source": [
    "print(len(enr.gene.df_my_gene))\n",
    "enr.gene.df_my_gene.head(2)"
   ]
  },
  {
   "cell_type": "code",
   "execution_count": null,
   "id": "39c73ea4",
   "metadata": {},
   "outputs": [],
   "source": [
    "lista = [x for x in os.listdir(enr.root_result) if '_DAP_' in x and not '~lock' in x]\n",
    "lista.sort()\n",
    "print(len(lista))\n",
    "lista[:5]"
   ]
  },
  {
   "cell_type": "code",
   "execution_count": null,
   "id": "58716372-8d39-4085-851a-1f2675ba7999",
   "metadata": {},
   "outputs": [],
   "source": [
    "lista = [x for x in os.listdir(enr.root_enrichment) if 'g2a' in x and not '~lock' in x]\n",
    "lista.sort()\n",
    "print(len(lista))\n",
    "lista[:5]"
   ]
  },
  {
   "cell_type": "code",
   "execution_count": null,
   "id": "0eae3a0e-4686-4a44-b3b2-76ddd297436e",
   "metadata": {},
   "outputs": [],
   "source": [
    "try:\n",
    "    df_enr = enr.df_enr\n",
    "    print(len(df_enr))\n",
    "except:\n",
    "    print(\"df_enr is None\")\n",
    "    df_enr = pd.DataFrame()\n",
    "\n",
    "df_enr.head(3)"
   ]
  },
  {
   "cell_type": "code",
   "execution_count": null,
   "id": "41c450c2-54e0-4cca-b71f-8f2b2e84c6af",
   "metadata": {},
   "outputs": [],
   "source": [
    "enr.cfg.open_best_ptw_cutoff()\n",
    "\n",
    "enr.echo_default()\n",
    "print(\"\")\n",
    "\n",
    "for case in case_list:\n",
    "    ret, degs, degs_ensembl, dflfc = enr.open_case(case)\n",
    "    if not ret:\n",
    "        print(f\"\\nError?? case {case}\")\n",
    "        continue\n",
    "\n",
    "    print(f\"Case {case}\")\n",
    "    print('--------')\n",
    "    \n",
    "    enr.echo_enriched_pathways()\n",
    "    print(\"\")"
   ]
  },
  {
   "cell_type": "code",
   "execution_count": null,
   "id": "28cc3738-e45a-44a1-9282-eb09fbd2eb8c",
   "metadata": {},
   "outputs": [],
   "source": [
    "enr.df_enr"
   ]
  },
  {
   "cell_type": "markdown",
   "id": "59f64eb8-0aa8-45d8-bea4-58789dc70ed7",
   "metadata": {},
   "source": [
    "### Reactome"
   ]
  },
  {
   "cell_type": "code",
   "execution_count": null,
   "id": "af9f0d5a-7e20-494e-884d-e290d40235be",
   "metadata": {},
   "outputs": [],
   "source": [
    "dfreact = enr.reactome.open_reactome_abstract()\n",
    "print(len(dfreact))\n",
    "dfreact.head(3)"
   ]
  },
  {
   "cell_type": "markdown",
   "id": "40d36527",
   "metadata": {},
   "source": [
    "### Define case"
   ]
  },
  {
   "cell_type": "code",
   "execution_count": null,
   "id": "59e4c3bd-395c-4bc8-8de0-628759f68acb",
   "metadata": {},
   "outputs": [],
   "source": [
    "i=1\n",
    "verbose = False\n",
    "\n",
    "case = case_list[i]\n",
    "ret, degs, degs_ensembl, dfdegs = enr.open_case(case, verbose=verbose)\n",
    "\n",
    "print(f\"LFC cutoff: lfc={enr.abs_lfc_cutoff:.3f} fdr={enr.fdr_lfc_cutoff}\")\n",
    "\n",
    "if enr.df_enr is None:\n",
    "    print(len(degs), 'df_enr is None')\n",
    "else:\n",
    "    print(len(degs), len(enr.df_enr))"
   ]
  },
  {
   "cell_type": "code",
   "execution_count": null,
   "id": "9bb849b6",
   "metadata": {},
   "outputs": [],
   "source": [
    "# dfi = enr.calc_best_cutoff_parameters_by_case_geneset(case, force=False, verbose=False)\n",
    "dfi = enr.calc_enrichment_cutoff_params_and_ndxs_per_case_and_geneset_lib(case, force=False, verbose=False)\n",
    "print(len(dfi))\n",
    "dfi.tail(3)"
   ]
  },
  {
   "cell_type": "markdown",
   "id": "a392c8b7-fe2c-4288-8ca8-6aae4e9db42b",
   "metadata": {},
   "source": [
    "### Plot test"
   ]
  },
  {
   "cell_type": "code",
   "execution_count": null,
   "id": "45d055e7-999a-4508-bc3d-a40d1fe6866b",
   "metadata": {},
   "outputs": [],
   "source": [
    "_n_rows = int(np.ceil(len(case_list)/4))\n",
    "_n_rows"
   ]
  },
  {
   "cell_type": "code",
   "execution_count": null,
   "id": "dc31a9b1-9b42-4c0d-b1a6-11c2b536fa27",
   "metadata": {},
   "outputs": [],
   "source": [
    "dfi.columns"
   ]
  },
  {
   "cell_type": "code",
   "execution_count": null,
   "id": "5e6d992e-27e5-41bd-a4d6-f50773449d8a",
   "metadata": {},
   "outputs": [],
   "source": [
    "width=1100; height=700\n",
    "cols = ['toi1_median',  'toi2_median','toi3_median',  'toi4_median','n_pathways', 'n_degs_in_pathways', 'n_degs_in_pathways_mean', 'n_degs_in_pathways_median']\n",
    "\n",
    "for col in cols:\n",
    "    fig = enr.plot_cutoff_simulation_histograms(col, width=1100, height=270)\n",
    "    fig.show()"
   ]
  },
  {
   "cell_type": "code",
   "execution_count": null,
   "id": "98ab5335-7a63-40e6-ae71-c4ec4727002d",
   "metadata": {},
   "outputs": [],
   "source": [
    "cols = ['cutoff', 'pathway_fdr_cutoff', \n",
    "        'n_pathways', 'all_genes_annotatted_in_pathway', 'n_degs_in_pathways',\n",
    "        'n_degs_in_pathways_mean', 'n_degs_in_pathways_median',\n",
    "        'toi1_mean', 'toi1_median', 'toi2_mean', 'toi2_median', \n",
    "        'toi3_mean', 'toi3_median', 'toi4_mean', 'toi4_median']"
   ]
  },
  {
   "cell_type": "markdown",
   "id": "6ab81bdf-cec7-4b6a-a72d-60d410dec575",
   "metadata": {},
   "source": [
    "### Barplots"
   ]
  },
  {
   "cell_type": "code",
   "execution_count": null,
   "id": "a66abacd-d1d5-4580-a3b8-d89bc8650a1d",
   "metadata": {},
   "outputs": [],
   "source": [
    "dfi = enr.calc_enrichment_cutoff_params_and_ndxs_per_case_and_geneset_lib(case, force=False, verbose=False)\n",
    "print(dfi.case.unique())\n",
    "\n",
    "dfi2 = dfi[dfi.fdr_lfc_cutoff < 0.7]\n",
    "dfi2 = dfi2.sort_values(['n_pathways', 'n_degs_in_pathways'], ascending=[False, False])\n",
    "dfi2[cols].head(3)"
   ]
  },
  {
   "cell_type": "code",
   "execution_count": null,
   "id": "2cd63998-5396-4923-9a53-b3fc4a09bb3b",
   "metadata": {},
   "outputs": [],
   "source": [
    "dfi.fdr_lfc_cutoff.unique()"
   ]
  },
  {
   "cell_type": "code",
   "execution_count": null,
   "id": "7ff35caa-d544-495e-9ee7-a52dd3055a09",
   "metadata": {},
   "outputs": [],
   "source": []
  },
  {
   "cell_type": "markdown",
   "id": "b119f01a-7426-4ae4-9790-40240b14c526",
   "metadata": {},
   "source": [
    "### WNT"
   ]
  },
  {
   "cell_type": "code",
   "execution_count": null,
   "id": "ac10b186-6f55-4338-9ab2-f1bb0e89ff4c",
   "metadata": {},
   "outputs": [],
   "source": []
  },
  {
   "cell_type": "code",
   "execution_count": null,
   "id": "0c3927a4-3919-44f8-bbcd-874091197f63",
   "metadata": {},
   "outputs": [],
   "source": [
    "for case in case_list:\n",
    "    print(\">>>\", case)\n",
    "    \n",
    "    width = 1100\n",
    "    height = 700\n",
    "    yaxis_title = \"num of pathways\"\n",
    "    xaxis_title = \"abs_LFC cutoff\"\n",
    "    \n",
    "    title = f'num of Pathways cutoff curve per LFC cutoff for {case}'\n",
    "    \n",
    "    fig = go.Figure()\n",
    "    \n",
    "    dfi = enr.calc_enrichment_cutoff_params_and_ndxs_per_case_and_geneset_lib(case, force=False, verbose=False)\n",
    "    \n",
    "    fdrs = dfi.fdr_lfc_cutoff.unique()\n",
    "    fdrs = fdrs[:8]\n",
    "    \n",
    "    dfi = dfi.sort_values(['fdr_lfc_cutoff', 'abs_lfc_cutoff'], ascending=[True, False])\n",
    "    \n",
    "    for fdr in fdrs:\n",
    "        dfi2 = dfi[ (dfi.fdr_lfc_cutoff == fdr) & (dfi.pathway_fdr_cutoff == 0.05) ]\n",
    "    \n",
    "        name = f'{fdr:.2e}'\n",
    "        fig.add_trace(go.Scatter(x=dfi2.abs_lfc_cutoff, y=dfi2.n_pathways, name=name))  # marker_color=color,\n",
    "    \n",
    "    fig.update_layout(\n",
    "                autosize=True,\n",
    "                title=title,\n",
    "                width=width,\n",
    "                height=height,\n",
    "                xaxis_title=xaxis_title,\n",
    "                yaxis_title=yaxis_title,\n",
    "                legend_title='FDR_LFC cutoff',\n",
    "                showlegend=True,\n",
    "                font=dict(\n",
    "                    family=\"Arial\",\n",
    "                    size=14,\n",
    "                    color=\"Black\"\n",
    "                )\n",
    "    )\n",
    "    \n",
    "    fig.show()"
   ]
  },
  {
   "cell_type": "code",
   "execution_count": null,
   "id": "e82e24fd-f2ff-497d-b4f6-42321c25239e",
   "metadata": {},
   "outputs": [],
   "source": []
  },
  {
   "cell_type": "code",
   "execution_count": null,
   "id": "1d2124c7-20a9-49bd-b740-f0ff3d0ee08a",
   "metadata": {},
   "outputs": [],
   "source": [
    "width = 1100\n",
    "height = 700\n",
    "yaxis_title = \"num of pathways\"\n",
    "xaxis_title = \"FDR_LFC cutoff\"\n",
    "\n",
    "for case in case_list:\n",
    "    print(\">>>\", case)\n",
    "    \n",
    "    title = f'num of Pathways cutoff curve per FDR_LFC for {case}'\n",
    "    \n",
    "    fig = go.Figure()\n",
    "    \n",
    "    dfi = enr.calc_enrichment_cutoff_params_and_ndxs_per_case_and_geneset_lib(case, force=False, verbose=False)\n",
    "    \n",
    "    lfcs = [1, 0.9, 0.8, 0.7, 0.6, 0.5]\n",
    "    \n",
    "    dfi = dfi.sort_values(['fdr_lfc_cutoff', 'abs_lfc_cutoff'], ascending=[True, False])\n",
    "    \n",
    "    for lfc in lfcs:\n",
    "        dfi2 = dfi[ (dfi.abs_lfc_cutoff == lfc) & (dfi.pathway_fdr_cutoff == 0.05) ]\n",
    "    \n",
    "        name = f'{lfc:.2e}'\n",
    "        fig.add_trace(go.Scatter(x=dfi2.fdr_lfc_cutoff, y=dfi2.n_pathways, name=name))  # marker_color=color,\n",
    "    \n",
    "    fig.update_layout(\n",
    "                autosize=True,\n",
    "                title=title,\n",
    "                width=width,\n",
    "                height=height,\n",
    "                xaxis_title=xaxis_title,\n",
    "                yaxis_title=yaxis_title,\n",
    "                showlegend=True,\n",
    "                legend_title='LFC cutoff',\n",
    "                font=dict(\n",
    "                    family=\"Arial\",\n",
    "                    size=14,\n",
    "                    color=\"Black\"\n",
    "                )\n",
    "    )\n",
    "    \n",
    "    fig.show()"
   ]
  },
  {
   "cell_type": "code",
   "execution_count": null,
   "id": "ac392074-c7d4-4a93-ad48-77bc93a43c9a",
   "metadata": {
    "scrolled": true
   },
   "outputs": [],
   "source": [
    "width = 1100\n",
    "height = 700\n",
    "xaxis_title = \"num of DEGs in pathws\"\n",
    "yaxis_title = \"n pathways\"\n",
    "\n",
    "colors = ['red', 'orange', 'brown', 'green',  'blue', 'darkgreen', 'darkcyan']\n",
    "fdrs = [0.05, 0.10, 0.20, 0.30, 0.50]\n",
    "\n",
    "\n",
    "for case in case_list:\n",
    "    print(\">>>\", case)\n",
    "    \n",
    "    title = f'Split diagram: nDegs x nPtws for {case}'\n",
    "    \n",
    "    fig = go.Figure()\n",
    "    \n",
    "    dfi = enr.calc_enrichment_cutoff_params_and_ndxs_per_case_and_geneset_lib(case, force=False, verbose=False)\n",
    "    dfi = dfi.sort_values(['fdr_lfc_cutoff', 'abs_lfc_cutoff'], ascending=[True, False])\n",
    "    \n",
    "    for i in range(len(fdrs)):\n",
    "        fdr = fdrs[i]\n",
    "        color = colors[i]\n",
    "        name = f\"{fdr:.2e}\"\n",
    "    \n",
    "        dfi2 = dfi[dfi.fdr_lfc_cutoff == fdr]\n",
    "        \n",
    "        fig.add_trace(go.Scatter(x=dfi2.n_degs_in_pathways, y=dfi2.n_pathways , mode='markers', marker={'color':color}, name=name)) \n",
    "    \n",
    "    fig.update_layout(\n",
    "                autosize=True,\n",
    "                title=title,\n",
    "                width=width,\n",
    "                height=height,\n",
    "                xaxis_title=xaxis_title,\n",
    "                yaxis_title=yaxis_title,\n",
    "                showlegend=True,\n",
    "                legend_title='FDR_LFC cutoff',\n",
    "                font=dict(\n",
    "                    family=\"Arial\",\n",
    "                    size=14,\n",
    "                    color=\"Black\"\n",
    "                )\n",
    "    )\n",
    "    \n",
    "    fig.show()"
   ]
  },
  {
   "cell_type": "code",
   "execution_count": null,
   "id": "258a6f40-3e18-49ba-9c50-f0c75481568b",
   "metadata": {},
   "outputs": [],
   "source": []
  },
  {
   "cell_type": "markdown",
   "id": "bb013c2a-01f9-4e84-a4f1-8100ce492acf",
   "metadata": {
    "jp-MarkdownHeadingCollapsed": true
   },
   "source": [
    "### G4"
   ]
  },
  {
   "cell_type": "code",
   "execution_count": null,
   "id": "3cad9631-d78a-4224-b5c7-4f0ac233dd9c",
   "metadata": {},
   "outputs": [],
   "source": [
    "case = case_list[1]"
   ]
  },
  {
   "cell_type": "code",
   "execution_count": null,
   "id": "1cf9b88e-7cea-4213-9dd8-5c2bb18cf998",
   "metadata": {},
   "outputs": [],
   "source": [
    "width = 1100\n",
    "height = 700\n",
    "yaxis_title = \"num of pathways\"\n",
    "xaxis_title = \"abs_LFC cutoff\"\n",
    "\n",
    "title = f'num of Pathways cutoff curve per LFC cutoff for {case}'\n",
    "\n",
    "fig = go.Figure()\n",
    "\n",
    "dfi = enr.calc_enrichment_cutoff_params_and_ndxs_per_case_and_geneset_lib(case, force=False, verbose=False)\n",
    "\n",
    "fdrs = dfi.fdr_lfc_cutoff.unique()\n",
    "fdrs = fdrs[:8]\n",
    "\n",
    "dfi = dfi.sort_values(['fdr_lfc_cutoff', 'abs_lfc_cutoff'], ascending=[True, False])\n",
    "\n",
    "for fdr in fdrs:\n",
    "    dfi2 = dfi[ (dfi.fdr_lfc_cutoff == fdr) & (dfi.pathway_fdr_cutoff == 0.05) ]\n",
    "\n",
    "    name = f'{fdr:.2e}'\n",
    "    fig.add_trace(go.Scatter(x=dfi2.abs_lfc_cutoff, y=dfi2.n_pathways, name=name))  # marker_color=color,\n",
    "\n",
    "fig.update_layout(\n",
    "            autosize=True,\n",
    "            title=title,\n",
    "            width=width,\n",
    "            height=height,\n",
    "            xaxis_title=xaxis_title,\n",
    "            yaxis_title=yaxis_title,\n",
    "            legend_title='FDR_LFC cutoff',\n",
    "            showlegend=True,\n",
    "            font=dict(\n",
    "                family=\"Arial\",\n",
    "                size=14,\n",
    "                color=\"Black\"\n",
    "            )\n",
    ")\n",
    "\n",
    "fig.show()"
   ]
  },
  {
   "cell_type": "code",
   "execution_count": null,
   "id": "45371663-7d1b-4d76-84af-6316e3430b7e",
   "metadata": {},
   "outputs": [],
   "source": []
  },
  {
   "cell_type": "code",
   "execution_count": null,
   "id": "7980b0fd-096d-4fa9-8433-7d9ef792a9ef",
   "metadata": {},
   "outputs": [],
   "source": [
    "width = 1100\n",
    "height = 700\n",
    "yaxis_title = \"num of pathways\"\n",
    "xaxis_title = \"FDR_LFC cutoff\"\n",
    "\n",
    "title = f'num of Pathways cutoff curve per FDR_LFC for {case}'\n",
    "\n",
    "fig = go.Figure()\n",
    "\n",
    "dfi = enr.calc_enrichment_cutoff_params_and_ndxs_per_case_and_geneset_lib(case, force=False, verbose=False)\n",
    "\n",
    "lfcs = [1, 0.9, 0.8, 0.7, 0.6, 0.5]\n",
    "\n",
    "dfi = dfi.sort_values(['fdr_lfc_cutoff', 'abs_lfc_cutoff'], ascending=[True, False])\n",
    "\n",
    "for lfc in lfcs:\n",
    "    dfi2 = dfi[ (dfi.abs_lfc_cutoff == lfc) & (dfi.pathway_fdr_cutoff == 0.05) ]\n",
    "\n",
    "    name = f'{lfc:.2e}'\n",
    "    fig.add_trace(go.Scatter(x=dfi2.fdr_lfc_cutoff, y=dfi2.n_pathways, name=name))  # marker_color=color,\n",
    "\n",
    "fig.update_layout(\n",
    "            autosize=True,\n",
    "            title=title,\n",
    "            width=width,\n",
    "            height=height,\n",
    "            xaxis_title=xaxis_title,\n",
    "            yaxis_title=yaxis_title,\n",
    "            showlegend=True,\n",
    "            legend_title='LFC cutoff',\n",
    "            font=dict(\n",
    "                family=\"Arial\",\n",
    "                size=14,\n",
    "                color=\"Black\"\n",
    "            )\n",
    ")\n",
    "\n",
    "fig.show()"
   ]
  },
  {
   "cell_type": "code",
   "execution_count": null,
   "id": "494671d9-96cc-4007-a2bf-1eb59d2e1445",
   "metadata": {},
   "outputs": [],
   "source": [
    "width = 1100\n",
    "height = 700\n",
    "yaxis_title = \"num of DEGs in pathws\"\n",
    "xaxis_title = \"FDR_LFC cutoff\"\n",
    "\n",
    "case = case_list[1]\n",
    "title = f'num of DEGs cutoff curve per FDR_LFC for {case}'\n",
    "\n",
    "fig = go.Figure()\n",
    "\n",
    "dfi = enr.calc_enrichment_cutoff_params_and_ndxs_per_case_and_geneset_lib(case, force=False, verbose=False)\n",
    "\n",
    "lfcs = [1, 0.9, 0.8, 0.7, 0.6, 0.5]\n",
    "\n",
    "dfi = dfi.sort_values(['fdr_lfc_cutoff', 'abs_lfc_cutoff'], ascending=[True, False])\n",
    "\n",
    "for lfc in lfcs:\n",
    "    dfi2 = dfi[ (dfi.abs_lfc_cutoff == lfc) & (dfi.pathway_fdr_cutoff == 0.05) ]\n",
    "\n",
    "    name = f'{lfc:.2e}'\n",
    "    fig.add_trace(go.Scatter(x=dfi2.fdr_lfc_cutoff, y=dfi2.n_degs_in_pathways, name=name))  # marker_color=color,\n",
    "\n",
    "fig.update_layout(\n",
    "            autosize=True,\n",
    "            title=title,\n",
    "            width=width,\n",
    "            height=height,\n",
    "            xaxis_title=xaxis_title,\n",
    "            yaxis_title=yaxis_title,\n",
    "            showlegend=True,\n",
    "            legend_title='LFC cutoff',\n",
    "            font=dict(\n",
    "                family=\"Arial\",\n",
    "                size=14,\n",
    "                color=\"Black\"\n",
    "            )\n",
    ")\n",
    "\n",
    "fig.show()"
   ]
  },
  {
   "cell_type": "code",
   "execution_count": null,
   "id": "a339eab5-29b0-4df1-9e63-edbfe3eedf64",
   "metadata": {},
   "outputs": [],
   "source": [
    "width = 1100\n",
    "height = 700\n",
    "xaxis_title = \"num of DEGs in pathws\"\n",
    "yaxis_title = \"n pathways\"\n",
    "\n",
    "title = f'Split diagram: nDegs x nPtws for {case}'\n",
    "\n",
    "fig = go.Figure()\n",
    "\n",
    "dfi = enr.calc_enrichment_cutoff_params_and_ndxs_per_case_and_geneset_lib(case, force=False, verbose=False)\n",
    "dfi = dfi.sort_values(['fdr_lfc_cutoff', 'abs_lfc_cutoff'], ascending=[True, False])\n",
    "\n",
    "colors = ['red', 'orange', 'brown', 'green',  'blue']\n",
    "fdrs = [0.05, 0.10, 0.20, 0.30, 0.50]\n",
    "\n",
    "for i in range(len(fdrs)):\n",
    "    fdr = fdrs[i]\n",
    "    color = colors[i]\n",
    "    name = f\"{fdr:.2e}\"\n",
    "\n",
    "    dfi2 = dfi[dfi.fdr_lfc_cutoff == fdr]\n",
    "    \n",
    "    fig.add_trace(go.Scatter(x=dfi2.n_degs_in_pathways, y=dfi2.n_pathways , mode='markers', marker={'color':color}, name=name)) \n",
    "\n",
    "fig.update_layout(\n",
    "            autosize=True,\n",
    "            title=title,\n",
    "            width=width,\n",
    "            height=height,\n",
    "            xaxis_title=xaxis_title,\n",
    "            yaxis_title=yaxis_title,\n",
    "            showlegend=True,\n",
    "            legend_title='FDR_LFC cutoff',\n",
    "            font=dict(\n",
    "                family=\"Arial\",\n",
    "                size=14,\n",
    "                color=\"Black\"\n",
    "            )\n",
    ")\n",
    "\n",
    "fig.show()"
   ]
  },
  {
   "cell_type": "code",
   "execution_count": null,
   "id": "24b0d552-7aa6-443e-aced-58a6f42c9e0c",
   "metadata": {},
   "outputs": [],
   "source": []
  },
  {
   "cell_type": "markdown",
   "id": "085ef022-3bc2-4cdb-9fb2-44deb2c019c3",
   "metadata": {},
   "source": [
    "### Searching for the best cutoffs - looking inside quantiles"
   ]
  },
  {
   "cell_type": "code",
   "execution_count": null,
   "id": "3a53f800-5564-4785-9b2f-dfcfd8b6a703",
   "metadata": {},
   "outputs": [],
   "source": [
    "fig_list = enr.plot_genes_and_pathways_frequecies_per_cases('n_pathways',  width=1100, height=700)\n",
    "\n",
    "fig_list[0].show()\n",
    "print(\"\")\n",
    "fig_list[1].show()"
   ]
  },
  {
   "cell_type": "code",
   "execution_count": null,
   "id": "6102b210-e0cf-4f09-acac-1765810157e6",
   "metadata": {},
   "outputs": [],
   "source": [
    "fig_list = enr.plot_genes_and_pathways_frequecies_per_cases('toi4_median',  width=1100, height=700)\n",
    "\n",
    "fig_list[0].show()\n",
    "print(\"\")\n",
    "fig_list[1].show()"
   ]
  },
  {
   "cell_type": "code",
   "execution_count": null,
   "id": "e40476c4-4483-460a-b8a4-5c7db364234c",
   "metadata": {},
   "outputs": [],
   "source": []
  },
  {
   "cell_type": "markdown",
   "id": "3a4311b3-865c-4a81-a795-1d97a60c9f11",
   "metadata": {},
   "source": [
    "### Having defined the best cutoffs"
   ]
  },
  {
   "cell_type": "code",
   "execution_count": null,
   "id": "f417abce-7448-4cb7-b77b-cf15ad2a31d6",
   "metadata": {},
   "outputs": [],
   "source": [
    "per_biotype = False\n",
    "ensembl = False\n",
    "before_best_cutoff = False\n",
    "fig, dfa = enr.barplot_up_down_genes_per_case(per_biotype=per_biotype, ensembl=ensembl, before_best_cutoff=before_best_cutoff, width=1100, height=700, verbose=False)\n",
    "fig.show()"
   ]
  },
  {
   "cell_type": "code",
   "execution_count": null,
   "id": "9f335d74-b292-4da2-8f80-7c9a0a46786e",
   "metadata": {},
   "outputs": [],
   "source": []
  },
  {
   "cell_type": "code",
   "execution_count": null,
   "id": "7fcdedca-1e5c-4856-8bd8-d214376e6892",
   "metadata": {},
   "outputs": [],
   "source": [
    "per_biotype = True\n",
    "ensembl = False\n",
    "fig, dfa = enr.barplot_up_down_genes_per_case(per_biotype=per_biotype, ensembl=ensembl, before_best_cutoff=before_best_cutoff, width=1100, height=700, verbose=False)\n",
    "fig.show()"
   ]
  },
  {
   "cell_type": "code",
   "execution_count": null,
   "id": "6660ae6b-0809-4b4a-8d3f-451becdb99eb",
   "metadata": {},
   "outputs": [],
   "source": []
  },
  {
   "cell_type": "code",
   "execution_count": null,
   "id": "c4e5f0f6-a112-413d-9bfe-5eedcb0ba78e",
   "metadata": {},
   "outputs": [],
   "source": [
    "per_biotype = True\n",
    "ensembl = True\n",
    "fig, dfa = enr.barplot_up_down_genes_per_case(per_biotype=per_biotype, ensembl=ensembl, before_best_cutoff=before_best_cutoff, width=1100, height=700, verbose=False)\n",
    "fig.show()"
   ]
  },
  {
   "cell_type": "code",
   "execution_count": null,
   "id": "05c1b78d-27a6-4ee5-856e-3e50421dcbb0",
   "metadata": {},
   "outputs": [],
   "source": []
  }
 ],
 "metadata": {
  "kernelspec": {
   "display_name": "Python 3 (ipykernel)",
   "language": "python",
   "name": "python3"
  },
  "language_info": {
   "codemirror_mode": {
    "name": "ipython",
    "version": 3
   },
   "file_extension": ".py",
   "mimetype": "text/x-python",
   "name": "python",
   "nbconvert_exporter": "python",
   "pygments_lexer": "ipython3",
   "version": "3.11.11"
  }
 },
 "nbformat": 4,
 "nbformat_minor": 5
}
