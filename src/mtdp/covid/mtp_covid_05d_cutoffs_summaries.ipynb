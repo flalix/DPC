{
 "cells": [
  {
   "cell_type": "code",
   "execution_count": null,
   "id": "8507fa29-279b-4485-965b-77219389672d",
   "metadata": {},
   "outputs": [],
   "source": [
    "from platform import python_version\n",
    "print(python_version())"
   ]
  },
  {
   "cell_type": "markdown",
   "id": "fc44d7fe-24b7-4e6c-96f7-fbb2f3a7ca49",
   "metadata": {},
   "source": [
    "## Final Summary Results"
   ]
  },
  {
   "cell_type": "markdown",
   "id": "ac376a66-739a-4a98-828d-e502a7b36ce7",
   "metadata": {},
   "source": [
    "### Definitions:\n",
    "  - LFC table has:\n",
    "    - abs_LFC (the absolute LFC cutoff value)\n",
    "    - FDR_LFC, its FDR or p-value adjusted\n",
    "  - The enriched pathway table has:\n",
    "    - FDR_pathway cutoff value\n",
    "   \n",
    "### Default values for LFC table:\n",
    "  - abs_LFC = 1\n",
    "  - FDR_LFC = 0.05\n",
    "  - therefore, a DEG/DEP is abs(LFC) >= 1 and FDR < 0.05\n",
    "\n",
    "### Default values for Enriched Pathways:\n",
    "  - FDR_pathway = 0.05\n",
    "  - therefore, an enriched pathways has FDR < 0.05 and at least 3 DEGs/DEPs\n",
    "\n",
    "### Calculating the best cutoffs:\n",
    "  - We proposed and calculated many toies to define a new statistics to flebilize the LFC and Enriched Pathway cutoffs.\n",
    "    - toies are calculated for each case, each cutoff, and each resulting enriched pathway.\n",
    "  - To find the possible best LFC/FDR expression and FDR pathway cutoffs:\n",
    "     - We look for a high number in n_pathway and n_DEGs_in_pathway, having a low FDR_LFC and a high absLFC.\n",
    "       - The default FDR_LFC (0.05):\n",
    "          - It may have fewer DEGs, resulting in fewer enriched pathways.\n",
    "          - It may have fewer enriched pathways, even having many DEGs/DEPs.\n",
    "       - Therefore, a trade-off exists between optimizing (abs_LFC and FDR_LFC cutoffs) and (FDR_pathway cutoffs, n_pathways, and n_DEGs_in_pathways.)\n",
    "\n",
    "### An toi measures the trade-off between \"LFC\" and \"Enriched Pathways\" cufoff -> LFC - Enriched Pathway Trade-Off Statistics (LEATOS)\n",
    "\n",
    "  - We proposed and calculated the following possible toies:\n",
    "\n",
    "<p style=\"font-size: 20px; color: yellow;\">\n",
    "$toi1 = \\sqrt{-log{_{10}}{FDR_{pathway}} * \\frac{n}{N} }$ </p>\n",
    "\n",
    "<p style=\"font-size: 20px; color: cyan;\">\n",
    "$toi2 = \\sqrt{-log{_{10}}{FDR_{LFC}} * -log{_{10}}{FDR_{pathway}} }$ </p>\n",
    "\n",
    "<p style=\"font-size: 20px; color: orange;\">\n",
    "$toi3 = (-log{_{10}}{FDR_{LFC}} * -log{_{10}}{FDR_{pathway}} * \\frac{n}{N})^{1/3}$ </p>\n",
    "\n",
    "<p style=\"font-size: 20px; color: pink;\">\n",
    "$toi4 = (abs\\_LFC * -log{_{10}}{FDR_{LFC}} * -log{_{10}}{FDR_{pathway}} * \\frac{n}{N})^{1/4}$ </p>\n",
    "\n",
    "where,\n",
    "  - n is the number of DEGs/DEPs found in the pathway\n",
    "  - N is the total number of annotated DEGs/DEPs in the pathway (depend in the database, our default database is Reactome 2022)\n",
    "\n",
    "### Then we searched for the best cutoffs\n",
    "  - In each 5 percentile of the toi histogram, we look for the best abs_LFC, FDR_LFC, FDR_pathway:\n",
    "  -  We expected that the best cutoff should be in the right tail of the histogram (high toi value.)\n",
    "  -  High toi values must have a high number of n_pathways and n DEGs in pathways.\n",
    "\n",
    "### Testing the best cutoffs (for each case)\n",
    "\n",
    "  - Is the new set of cutoffs correct? good enough?\n",
    "  - How to establish that the calculated cutoff is correct?\n",
    "  - To answer these questions we calculated the chi-square test between the \"best cutoff\" and the \"default\"\n",
    "    - Best cutoff has:\n",
    "      - n DEGs/DEPs in pathways\n",
    "      - n DEGs/DEPs not in pathways\n",
    "    - The Default cutoff may have:\n",
    "      - n DEGs/DEPs in pathways\n",
    "      - n DEGs/DEPs not in pathways\n",
    "      - The DEGs/DEPs can be:\n",
    "        - greater or equal number of the best cutoff DEGs/DEPs\n",
    "        - fewer number of the best cutoff DEGs/DEPs:\n",
    "           - in this case, one complements the number of DEGs/DEPs with random genes not DEGs/DEPs (found in the experiment)\n",
    "\n",
    "#### Chi-square test:\n",
    "\n",
    "DEGs/DEPs | # in pathway | no in pathway\n",
    "--- | --- | --- \n",
    " Best cutoff |     A      |   B  \n",
    " Default cutoff |   C | D \n",
    "\n",
    "Chi-square p-value:\n",
    "  - p-value < 0.05 denotes that both distributions are not similar; therefore, random genes could not reach the best cutoff DEGs/DEPs; in conclusion, the best cutoff was not found randomly.\n",
    "  - p-value \\>= 0.05 denotes that both distributions are similar, and the best cutoff can be achieved randomly.\n",
    "\n",
    "### Chi-square results:\n",
    "  - Chi-square tests showed that the present results cannot be found randomly (data not presented here)\n",
    "  - The team is performing the final curation of Pahtways and DEGs in pathways\n"
   ]
  },
  {
   "cell_type": "code",
   "execution_count": null,
   "id": "f5a3b22e",
   "metadata": {},
   "outputs": [],
   "source": [
    "import json, requests\n",
    "import os, sys\n",
    "import pandas as pd\n",
    "\n",
    "sys.path.insert(1, '../src/')\n",
    "\n",
    "from Basic import *\n",
    "from enricher_lib import *\n",
    "from biopax_lib import *\n",
    "from config_lib import *\n",
    "from stat_lib import *\n",
    "\n",
    "pd.set_option(\"display.precision\", 3)\n",
    "from IPython.display import display, HTML\n",
    "display(HTML(\"<style>.container { width:100% !important; }</style>\"))"
   ]
  },
  {
   "cell_type": "code",
   "execution_count": null,
   "id": "2bdaf5e7",
   "metadata": {},
   "outputs": [],
   "source": [
    "root_chibe = \"../../chibe/\"\n",
    "root_colab = '../../colaboracoes/'\n",
    "root0       = '../../colaboracoes/covid/sonia_andrade/taubate/proteomics_202205/'\n",
    "\n",
    "project = 'Taubate COVID-19'\n",
    "s_project = 'taubate_covid19'\n",
    "\n",
    "gene_protein = 'protein'\n",
    "s_omics = 'proteomics'\n",
    "\n",
    "has_age = True\n",
    "has_gender = True\n",
    "\n",
    "want_normalized = False\n",
    "exp_normalization='quantile_norm' if want_normalized else None\n",
    "normalization = 'not_normalized' if exp_normalization is None else exp_normalization\n",
    "\n",
    "abs_lfc_cutoff_inf = 0.40\n",
    "s_pathw_enrichm_method = 'enricher'\n",
    "num_min_degs_for_ptw_enr=3\n",
    "\n",
    "#------------ pathway pseudo-modulation toi ------------\n",
    "tolerance_pathway_toi = 0.15\n",
    "type_sat_ptw_toi = 'linear_sat'\n",
    "saturation_lfc_toi = 5\n",
    "\n",
    "case_list = ['g2a_male', 'g2a_female', \n",
    "             'g2b_male', 'g2b_female', \n",
    "             'g3_male_adult',   'g3_male_elder',\n",
    "             'g3_female_adult', 'g3_female_elder']\n",
    "\n",
    "cfg = Config(project, s_project, case_list, root0)\n",
    "\n",
    "case = case_list[0]\n",
    "\n",
    "n_genes_annot_ptw, n_degs, n_degs_in_ptw, n_degs_not_in_ptw, degs_in_all_ratio = -1,-1,-1,-1,-1\n",
    "abs_lfc_cutoff, fdr_lfc_cutoff, n_degs, n_degs_up, n_degs_dw = cfg.get_best_lfc_cutoff(case, 'not_normalized')\n",
    "\n",
    "pval_pathway_cutoff = 0.05\n",
    "fdr_pathway_cutoff = .05\n",
    "num_of_genes_cutoff = 3\n",
    "\n",
    "print(f\"G/P LFC cutoffs: lfc={abs_lfc_cutoff:.3f}; fdr={fdr_lfc_cutoff:.3f}\")\n",
    "print(f\"Pathway cutoffs: pval={pval_pathway_cutoff:.3f}; fdr={fdr_pathway_cutoff:.3f}; num of genes={num_of_genes_cutoff}\")"
   ]
  },
  {
   "cell_type": "code",
   "execution_count": null,
   "id": "2d76e2fd",
   "metadata": {},
   "outputs": [],
   "source": [
    "pathway_name_id = 'Hemostasis - R-HSA-109582'\n",
    "pathway_name_id = 'Regulation Of IGF Transport And Uptake By IGFBPs - R-HSA-381426'\n",
    "pathway_name_id = 'Platelet degranulate - R-HSA-114608'\n",
    "pathway_name_id = 'Platelet Activation, Signaling And Aggregation - R-HSA-76002'\n",
    "pathway_name_id = 'Integrin Cell Surface Interactions - R-HSA-216083'\n",
    "pathway_name_id = 'Neutrophil Degranulation - R-HSA-6798695'\n",
    "pathway_name_id = 'Regulation of Complement cascade - R-HSA-977606'\n",
    "pathway_name_id = 'Response To Elevated Platelet Cytosolic Ca2+ - R-HSA-76005'\n",
    "\n",
    "enr = enricheR(gene_protein, s_omics, project, s_project, root0,\n",
    "               case_list, has_age, has_gender, clone_objects=False,\n",
    "               exp_normalization=exp_normalization, geneset_num=0, \n",
    "               num_min_degs_for_ptw_enr=num_min_degs_for_ptw_enr, \n",
    "               tolerance_pathway_toi=tolerance_pathway_toi, \n",
    "               s_pathw_enrichm_method = s_pathw_enrichm_method,\n",
    "               abs_lfc_cutoff_inf = abs_lfc_cutoff_inf, \n",
    "               type_sat_ptw_toi=type_sat_ptw_toi, saturation_lfc_toi=saturation_lfc_toi)\n",
    "\n",
    "case = case_list[0]\n",
    "\n",
    "enr.cfg.set_default_best_lfc_cutoff(normalization, abs_lfc_cutoff=1, fdr_lfc_cutoff=0.05)\n",
    "ret, degs, degs_ensembl, dfdegs = enr.open_case(case, verbose=False)\n",
    "print(\"\\nEcho Parameters:\")\n",
    "enr.echo_parameters()\n",
    "\n",
    "geneset_num = enr.geneset_num"
   ]
  },
  {
   "cell_type": "markdown",
   "id": "d13cddae-7678-44f0-8d5d-7f497729d9b1",
   "metadata": {},
   "source": [
    "### Find another case = g2a_female"
   ]
  },
  {
   "cell_type": "code",
   "execution_count": null,
   "id": "5e22bb81-53e7-4cf9-927b-3a39b7c72f79",
   "metadata": {},
   "outputs": [],
   "source": [
    "case = case_list[1]\n",
    "ret, degs, degs_ensembl, dfdegs = enr.open_case(case, verbose=False)\n",
    "enr.echo_parameters()"
   ]
  },
  {
   "cell_type": "code",
   "execution_count": null,
   "id": "47329478-0846-45a9-9c13-287cdc7e1550",
   "metadata": {},
   "outputs": [],
   "source": [
    "enr.case, enr.group, enr.gender, enr.age"
   ]
  },
  {
   "cell_type": "markdown",
   "id": "3ca75b2c-bc70-4e58-8166-f15fb8f398c4",
   "metadata": {},
   "source": [
    "### Reference database"
   ]
  },
  {
   "cell_type": "code",
   "execution_count": null,
   "id": "bf242ead-b254-4f2e-bd29-d5da927da8f7",
   "metadata": {},
   "outputs": [],
   "source": [
    "enr.geneset_num, enr.geneset_lib, enr.dbs_list"
   ]
  },
  {
   "cell_type": "code",
   "execution_count": null,
   "id": "8b4c0d8d-390a-439f-8e62-b76ab89e6186",
   "metadata": {},
   "outputs": [],
   "source": [
    "enr.set_db(0, verbose=True)"
   ]
  },
  {
   "cell_type": "code",
   "execution_count": null,
   "id": "385b529d-3d13-4455-8c4b-d9668525ddbf",
   "metadata": {},
   "outputs": [],
   "source": []
  },
  {
   "cell_type": "code",
   "execution_count": null,
   "id": "286aefbc-25ff-4bea-81ff-960f2f82c077",
   "metadata": {},
   "outputs": [],
   "source": [
    "cols = ['toi1_median',  'toi2_median','toi3_median',  'toi4_median',\n",
    "        'n_pathways', 'n_degs_in_pathways', 'n_degs_in_pathways_mean', 'n_degs_in_pathways_median']\n",
    "\n",
    "for col in cols:\n",
    "    fig = enr.plot_cutoff_simulation_histograms(col, width=1100, height=270)\n",
    "    print(col)\n",
    "    fig.show()"
   ]
  },
  {
   "cell_type": "code",
   "execution_count": null,
   "id": "657bc6ed-eeb7-46db-ad44-8e76a12b0fc8",
   "metadata": {},
   "outputs": [],
   "source": [
    "dfsim = enr.open_simulation_table()\n",
    "dfsim = dfsim.sort_values(['case', 'fdr_lfc_cutoff', 'abs_lfc_cutoff'], ascending=[True, False, False])\n",
    "\n",
    "dfsim.head(2)"
   ]
  },
  {
   "cell_type": "code",
   "execution_count": null,
   "id": "5f5f9d74-0eae-44e2-90e0-a329c395149f",
   "metadata": {},
   "outputs": [],
   "source": [
    "enr.fdr_list, enr.lfc_list"
   ]
  },
  {
   "cell_type": "code",
   "execution_count": null,
   "id": "06682de7-70c7-410c-9061-51af416f8380",
   "metadata": {},
   "outputs": [],
   "source": [
    "colors=['navy', 'red', 'darkcyan', 'darkgreen', 'orange', 'brown', 'darksalmon',\n",
    "        'magenta', 'darkturquoise', 'orange', 'darkred', 'indigo', 'magenta', 'maroon', 'black',\n",
    "        'darkblue', 'darkcyan', 'darkgoldenrod', 'darkgray', 'darkgrey', 'olivedrab', 'navy'] + plotly_colors_proteins\n"
   ]
  },
  {
   "cell_type": "code",
   "execution_count": null,
   "id": "45feb2c8-9e5d-4e0d-a9af-82d9a1718a20",
   "metadata": {},
   "outputs": [],
   "source": [
    "enr.abs_lfc_cutoff_inf"
   ]
  },
  {
   "cell_type": "markdown",
   "id": "311b5c0d-9e26-4098-953b-47bc844f5520",
   "metadata": {},
   "source": [
    "### All DEPs x LFC"
   ]
  },
  {
   "cell_type": "code",
   "execution_count": null,
   "id": "130e3422-5d0f-486b-aa53-b01bb2ea3f8f",
   "metadata": {},
   "outputs": [],
   "source": [
    "enr.abs_lfc_cutoff_inf = 0.0\n",
    "\n",
    "fig = enr.plot_degs_vs_lfc_per_fdr_per_case(selected_toi_col='toi4_median', title=None,\n",
    "                                 width=1100, height=600, plot_all_dfi=False, sel_colors=None,\n",
    "                                 plot_bgcolor='lightgray', verbose=False)\n",
    "\n",
    "fig.show()\n",
    "enr.abs_lfc_cutoff_inf = 0.4"
   ]
  },
  {
   "cell_type": "markdown",
   "id": "d6c8bc77-8edc-43be-a439-7f73f3d57d36",
   "metadata": {},
   "source": [
    "### Plot abs_LFC x num of DEP/DEGs"
   ]
  },
  {
   "cell_type": "code",
   "execution_count": null,
   "id": "8880e038-254d-4972-a700-375eb513346f",
   "metadata": {},
   "outputs": [],
   "source": [
    "verbose=False\n",
    "\n",
    "df_all_fdr= enr.calc_all_LFC_FDR_cutoffs(corr_cutoff=-.75, force=False, verbose=verbose)\n",
    "print(len(df_all_fdr))\n",
    "df_all_fdr.head(3)"
   ]
  },
  {
   "cell_type": "code",
   "execution_count": null,
   "id": "b4f8d90c-99ce-42a3-8fa4-fbc7ca4011c0",
   "metadata": {},
   "outputs": [],
   "source": [
    "dic_fig = enr.plot_all_LFC_FDR_cutoffs(width=1100, height=450, title=None, verbose=verbose)\n",
    "\n",
    "for key, dic_fig_return in dic_fig.items():\n",
    "    for key2, fig in dic_fig_return.items():\n",
    "        print(key, key2)\n",
    "        fig.show()"
   ]
  },
  {
   "cell_type": "code",
   "execution_count": null,
   "id": "a3c98f65-f21d-4eac-8246-589348f67441",
   "metadata": {},
   "outputs": [],
   "source": []
  },
  {
   "cell_type": "markdown",
   "id": "2240790f-1322-409a-8cc6-e9dafee9b7eb",
   "metadata": {},
   "source": [
    "### DEGs in pahtways x toi4 median"
   ]
  },
  {
   "cell_type": "code",
   "execution_count": null,
   "id": "fab7ef5c-112c-493f-8a3f-9562e2de40cf",
   "metadata": {},
   "outputs": [],
   "source": [
    "fig = enr.plot_degs_in_pathways_vs_toi_per_case(selected_toi_col='toi4_median', title=None,\n",
    "                                 width=1100, height=600, plot_all_dfi=False, sel_colors=None,\n",
    "                                 plot_bgcolor='lightgray', verbose=False)\n",
    "\n",
    "fig.show()"
   ]
  },
  {
   "cell_type": "code",
   "execution_count": null,
   "id": "464bb120-73ce-4ebb-9aa2-bbd7b0f59caa",
   "metadata": {},
   "outputs": [],
   "source": []
  },
  {
   "cell_type": "markdown",
   "id": "cffc15dc-4837-42a5-a1b7-e27669e49178",
   "metadata": {},
   "source": [
    "### Comparing: toi4 (or 1,2,3), n_pathways, n_degs_in_pathways"
   ]
  },
  {
   "cell_type": "code",
   "execution_count": null,
   "id": "41dd35cc-5d0a-441f-a6ac-fd8ab51d5860",
   "metadata": {},
   "outputs": [],
   "source": [
    "cols = ['case', 'parameter', 'quantile', 'med_max_ptw', 'toi4_median', 'abs_lfc_cutoff', 'fdr_lfc_cutoff',\n",
    "        'pathway_fdr_cutoff', 'n_pathways', 'n_degs_in_pathways', \n",
    "        'toi1_median',  'toi2_median', 'toi3_median']"
   ]
  },
  {
   "cell_type": "code",
   "execution_count": null,
   "id": "c0b7fe88-d36c-4cf5-a96d-bda23c93ca06",
   "metadata": {},
   "outputs": [],
   "source": [
    "col = 'n_pathways'\n",
    "\n",
    "dfcut = enr.build_all_cutoffs_table(col, force=False, verbose=False)\n",
    "print(len(dfcut))\n",
    "\n",
    "case = case_list[0]\n",
    "dfa = dfcut[ (dfcut.case == case) & (dfcut.med_max_ptw == 'median') ][cols].head(3)\n",
    "dfa = dfa.sort_values(['n_pathways', 'n_degs_in_pathways'], ascending=[False, False])\n",
    "dfa"
   ]
  },
  {
   "cell_type": "code",
   "execution_count": null,
   "id": "8adeeadf-8c23-4b55-aa44-20f665ea7536",
   "metadata": {},
   "outputs": [],
   "source": [
    "col = 'toi4_median'\n",
    "\n",
    "dfcut = enr.build_all_cutoffs_table(col, force=False, verbose=False)\n",
    "print(len(dfcut))\n",
    "\n",
    "case = case_list[0]\n",
    "dfa = dfcut[ (dfcut.case == case) & (dfcut.med_max_ptw == 'median') ][cols].head(3)\n",
    "dfa = dfa.sort_values(col, ascending=False)\n",
    "dfa"
   ]
  },
  {
   "cell_type": "markdown",
   "id": "75dd646b-6bfa-4036-9826-a7fb61c6a6e3",
   "metadata": {},
   "source": [
    "### toi4"
   ]
  },
  {
   "cell_type": "code",
   "execution_count": null,
   "id": "22021715-98e6-486d-9d90-22763208f9be",
   "metadata": {},
   "outputs": [],
   "source": [
    "# selected_toi_col  ['toi1_median', 'toi2_median', 'toi3_median', 'toi4_median' ]\n",
    "\n",
    "selected_toi_col = 'toi4_median'\n",
    "\n",
    "fig_list = enr.plot_genes_and_pathways_frequecies_per_cases(selected_toi_col,  width=1100, height=700)\n",
    "\n",
    "fig0 = fig_list[0]\n",
    "fig1 = fig_list[1]\n",
    "print(\">>>\", selected_toi_col)\n",
    "print(f\"# {enr.s_deg_dap}s\")\n",
    "fig0.show()\n",
    "print(\"# n pathways\")\n",
    "fig1.show()"
   ]
  },
  {
   "cell_type": "code",
   "execution_count": null,
   "id": "9d64534d-ee29-46ae-b841-710de9467e60",
   "metadata": {},
   "outputs": [],
   "source": []
  },
  {
   "cell_type": "markdown",
   "id": "6f0b2487-2002-4279-ab09-567ed8501fa9",
   "metadata": {},
   "source": [
    "### Selected best cutoffs per case"
   ]
  },
  {
   "cell_type": "code",
   "execution_count": null,
   "id": "ab6a0248-3637-4c78-b4f4-2ef3af2090c2",
   "metadata": {},
   "outputs": [],
   "source": [
    "dfbest = enr.cfg.open_best_ptw_cutoff(verbose=False)\n",
    "dfbest = dfbest[dfbest.med_max_ptw == 'median']\n",
    "print(len(dfbest))\n",
    "dfbest[cols]"
   ]
  },
  {
   "cell_type": "markdown",
   "id": "c10f19e1-d6af-47fe-b619-01513e948d68",
   "metadata": {},
   "source": [
    "### n_degs_in_pathways_median"
   ]
  },
  {
   "cell_type": "code",
   "execution_count": null,
   "id": "5daafa3c-b263-424c-85be-72198ccc1373",
   "metadata": {},
   "outputs": [],
   "source": [
    "fig_list = enr.plot_genes_and_pathways_frequecies_per_cases('n_degs_in_pathways_median',  width=1100, height=700)\n",
    "\n",
    "fig0 = fig_list[0]\n",
    "fig1 = fig_list[1]\n",
    "fig0.show()\n",
    "print(\"\")\n",
    "fig1.show()"
   ]
  },
  {
   "cell_type": "code",
   "execution_count": null,
   "id": "5a74a80c-33d3-4290-bf3c-ce1318d914f3",
   "metadata": {},
   "outputs": [],
   "source": []
  },
  {
   "cell_type": "markdown",
   "id": "a369fda1-9573-49b5-853b-1370cc350dfe",
   "metadata": {},
   "source": [
    "### n_pathways"
   ]
  },
  {
   "cell_type": "code",
   "execution_count": null,
   "id": "0170ff75-f1cb-420d-88aa-32ab3843cf65",
   "metadata": {},
   "outputs": [],
   "source": [
    "fig_list = enr.plot_genes_and_pathways_frequecies_per_cases('n_pathways',  width=1100, height=700)\n",
    "\n",
    "fig0 = fig_list[0]\n",
    "fig1 = fig_list[1]\n",
    "fig0.show()\n",
    "print(\"\")\n",
    "fig1.show()"
   ]
  },
  {
   "cell_type": "markdown",
   "id": "8b27862b-f759-4fd8-b662-9ba335106bf3",
   "metadata": {},
   "source": [
    "## Why toi4_median is the best approach?\n",
    "\n",
    "#### balance between best LFC cutoffs and Pathway cutoffs"
   ]
  },
  {
   "cell_type": "code",
   "execution_count": null,
   "id": "c1497d1a-68a6-42e7-af3e-e86fdab401c0",
   "metadata": {},
   "outputs": [],
   "source": [
    "n_best_samples_chosen = 4\n",
    "\n",
    "dfconfig = enr.calc_best_cutoffs_params(selected_toi_col='n_pathways', n_best_samples=n_best_samples_chosen, force=False, verbose=False)\n",
    "dfconfig = dfconfig[dfconfig.med_max_ptw == 'median']\n",
    "dfconfig[cols]"
   ]
  },
  {
   "cell_type": "code",
   "execution_count": null,
   "id": "4d048dcf-569a-4815-a7fc-438d31ca6dd1",
   "metadata": {},
   "outputs": [],
   "source": [
    "dfconfig = enr.calc_best_cutoffs_params(selected_toi_col='toi4_median', n_best_samples=n_best_samples_chosen, force=False, verbose=False)\n",
    "dfconfig = dfconfig[dfconfig.med_max_ptw == 'median']\n",
    "dfconfig[cols]"
   ]
  },
  {
   "cell_type": "markdown",
   "id": "118b4285-8e74-47ed-92a2-f9ed9a9220d3",
   "metadata": {},
   "source": [
    "## It minimizes fdr and maximizes abs_lfc!!!"
   ]
  },
  {
   "cell_type": "code",
   "execution_count": null,
   "id": "b07c548c-2423-4545-bbd2-1fb4b2135432",
   "metadata": {},
   "outputs": [],
   "source": []
  },
  {
   "cell_type": "code",
   "execution_count": null,
   "id": "67dcbf1e-9a77-4514-957c-c48e0972f019",
   "metadata": {},
   "outputs": [],
   "source": []
  },
  {
   "cell_type": "markdown",
   "id": "5f8bbec3-c1ff-4804-b463-6bc68156fd21",
   "metadata": {},
   "source": [
    "### Summary DEPs + Up and Down"
   ]
  },
  {
   "cell_type": "code",
   "execution_count": null,
   "id": "046cc640-b17e-4a42-bed3-a8f6516a65c2",
   "metadata": {},
   "outputs": [],
   "source": [
    "force=False; save_file=False; prompt_verbose=False\n",
    "dfa = enr.summary_degs_up_down(geneset_num=enr.geneset_num, force=force, save_file=save_file, prompt_verbose=prompt_verbose, verbose=False)\n",
    "print(len(dfa))\n",
    "dfa"
   ]
  },
  {
   "cell_type": "code",
   "execution_count": null,
   "id": "4967576f-fca3-441e-aa42-e4bf0b1ef146",
   "metadata": {},
   "outputs": [],
   "source": [
    "title = f'Up and Down {enr.s_deg_dep}s with the best cutoff'\n",
    "fig, dfa = enr.barplot_up_down_genes_per_case(title=title, width=1100, height=700, verbose=False)\n",
    "fig.show()"
   ]
  },
  {
   "cell_type": "code",
   "execution_count": null,
   "id": "2dabd90b-7564-44ab-b1e9-b12b4f6df033",
   "metadata": {},
   "outputs": [],
   "source": []
  },
  {
   "cell_type": "code",
   "execution_count": null,
   "id": "21c7763e-13c9-44cc-bfb2-d51d638a6406",
   "metadata": {},
   "outputs": [],
   "source": [
    "force=False; verbose=False\n",
    "\n",
    "dfi = enr.calc_enrichment_cutoff_params_and_ndxs_per_case_and_geneset_lib(case, force=force, verbose=verbose)\n",
    "print(len(dfi))\n",
    "dfi.head(3)"
   ]
  },
  {
   "cell_type": "code",
   "execution_count": null,
   "id": "33e2831f-efab-4784-8786-f8b556833cbf",
   "metadata": {},
   "outputs": [],
   "source": []
  },
  {
   "cell_type": "markdown",
   "id": "ee43ceb7-65dd-4a74-afe6-b4cbf3d5ee82",
   "metadata": {},
   "source": [
    "### Running all cases"
   ]
  },
  {
   "cell_type": "code",
   "execution_count": null,
   "id": "af7c76c3",
   "metadata": {},
   "outputs": [],
   "source": [
    "enr.cfg.open_best_ptw_cutoff()\n",
    "\n",
    "enr.echo_default()\n",
    "print(\"\")\n",
    "\n",
    "all_degs = []\n",
    "for case in case_list:\n",
    "    print(\">>>\", case)\n",
    "    ret, degs, dfdegs = enr.open_case(case, verbose=False)\n",
    "    \n",
    "    if not ret:\n",
    "        print(f\"\\nError?? case {case}\")\n",
    "        enr.echo_degs()\n",
    "        print(\"\")\n",
    "        continue\n",
    "\n",
    "    enr.echo_parameters(want_echo_default=False, jump_line=True)\n",
    "    print(\"\")\n",
    "    all_degs += enr.degs_in_pathways + enr.degs_not_in_pathways\n",
    "    enr.echo_parameters()\n",
    "    print(\"\")\n",
    "    \n",
    "all_degs = np.unique(all_degs)\n",
    "print(f\"There are {len(all_degs)} {enr.s_gene_protein}s in all cases \")\n",
    "print(\"\\nall degs:\", \"; \".join(all_degs))\n",
    "print(\"\\n\\n\")"
   ]
  },
  {
   "cell_type": "code",
   "execution_count": null,
   "id": "a51dff34",
   "metadata": {},
   "outputs": [],
   "source": []
  },
  {
   "cell_type": "markdown",
   "id": "7926e020-2a7d-4453-bcbd-04c3fdb7a144",
   "metadata": {},
   "source": [
    "### Development & tests"
   ]
  },
  {
   "cell_type": "code",
   "execution_count": null,
   "id": "ebe14076-04bd-4c02-b3f3-ade9b0f32866",
   "metadata": {},
   "outputs": [],
   "source": [
    "width = 1000; height = 700\n",
    "verbose = False\n",
    "plot_bgcolor='lightgray'\n",
    "\n",
    "xaxis_title = f\"abs LFC\"\n",
    "yaxis_title = f\"# {enr.s_deg_dep}s\"\n",
    "   \n",
    "fig = go.Figure()\n",
    "\n",
    "colors =['navy', 'red', 'darkcyan', 'darkgreen', 'orange', 'brown', 'darksalmon',\n",
    "        'magenta', 'darkturquoise', 'orange',  'indigo', 'magenta', 'maroon', 'black',\n",
    "        'darkred', 'darkblue', 'darkcyan', 'darkgoldenrod', 'darkgray', 'darkgrey', 'olivedrab', 'navy']\n",
    "\n",
    "title = f'scatter plot - {enr.s_deg_dep}s versus abs_LFC per FDR'\n",
    "\n",
    "dic_visible = {}\n",
    "for icase in range(len(enr.case_list)):\n",
    "    case = enr.case_list[icase]\n",
    "\n",
    "    dic_visible[case] = 0\n",
    "    is_visible = True if icase == 0 else False\n",
    "    i = -1;\n",
    "    for i in range(len(enr.fdr_list)):\n",
    "        fdr_lfc_cutoff = enr.fdr_list[i]\n",
    "        color = colors[i]\n",
    "        name = f\"{fdr_lfc_cutoff:.3f}\"\n",
    "\n",
    "        dfsim2 = dfsim[ (dfsim.case == case) & (dfsim.fdr_lfc_cutoff == fdr_lfc_cutoff)]\n",
    "        if dfsim2.empty:\n",
    "            # print(\"No data for fdr\", fdr)\n",
    "            continue\n",
    "\n",
    "        dic_visible[case] += 1\n",
    "\n",
    "        text_ini = f'case {case}<br>FDR_LFC cutoff={fdr_lfc_cutoff:.3f}'\n",
    "\n",
    "        hovertext_list = []\n",
    "        for j in range(len(dfsim2)):\n",
    "            row = dfsim2.iloc[j]\n",
    "            text =  f'LFC_cutoff={row.abs_lfc_cutoff:.3f}'\n",
    "            text += f'# {enr.s_deg_dep}s {row.n_degs}<br># Up={row.n_degs_up} Down={row.n_degs_dw}'\n",
    "            hovertext_list.append(text_ini + '<br>' + text)\n",
    "            \n",
    "        fig.add_trace(go.Scatter(x=dfsim2.abs_lfc_cutoff, y=dfsim2.n_degs, hovertext=hovertext_list, hoverinfo=\"text\", \n",
    "                                 mode='markers', marker={'color':color}, visible=is_visible, name=name)) \n",
    "\n",
    "    fig.update_layout(\n",
    "                autosize=True,\n",
    "                title=title,\n",
    "                width=width,\n",
    "                height=height,\n",
    "                xaxis_title=xaxis_title,\n",
    "                yaxis_title=yaxis_title,\n",
    "                showlegend=True,\n",
    "                legend_title='FDR_LFC cutoff',\n",
    "                plot_bgcolor=plot_bgcolor,\n",
    "                font=dict(\n",
    "                    family=\"Arial\",\n",
    "                    size=14,\n",
    "                    color=\"Black\"\n",
    "                )\n",
    "    )\n",
    "\n",
    "# add dropdown menus to the figure\n",
    "buttons=[]\n",
    "for case in enr.case_list:\n",
    "    buttons.append(dict(method='update',\n",
    "                        label=case,\n",
    "                        visible=True,\n",
    "                        args=[ {'visible': list(sum( [tuple([True]  * dic_visible[case2]) if case == case2 else \\\n",
    "                                                      tuple([False] * dic_visible[case2]) for case2 in enr.case_list], () ))} ]\n",
    "                        )\n",
    "                  )\n",
    "\n",
    "# some adjustments to the updatemenus\n",
    "updatemenu = []\n",
    "your_menu = dict()\n",
    "updatemenu.append(your_menu)\n",
    "\n",
    "updatemenu[0]['buttons'] = buttons\n",
    "updatemenu[0]['direction'] = 'down'\n",
    "updatemenu[0]['showactive'] = True\n",
    "updatemenu[0]['showactive'] = True\n",
    "updatemenu[0]['x'] = 1\n",
    "updatemenu[0]['y'] = 1.2\n",
    "\n",
    "fig.update_layout(\n",
    "    autosize=True,\n",
    "    title=title,\n",
    "    width=width,\n",
    "    height=height,\n",
    "    xaxis_title=xaxis_title,\n",
    "    yaxis_title=yaxis_title,\n",
    "    showlegend=True,\n",
    "    legend_title='FDR_LFC cutoff',\n",
    "    font=dict(\n",
    "        family=\"Arial\",\n",
    "        size=14,\n",
    "        color=\"Black\"\n",
    "    ),\n",
    "    plot_bgcolor=plot_bgcolor,\n",
    "    updatemenus=updatemenu\n",
    ")\n",
    "\n",
    "figname = title_replace(title)\n",
    "figname = os.path.join(enr.root_figure, figname+'.html')\n",
    "\n",
    "fig.write_html(figname)\n",
    "if verbose: print(\">>> HTML and png saved:\", figname)\n",
    "fig.write_image(figname.replace('.html', '.png'))    \n",
    "\n",
    "\n",
    "fig.show()"
   ]
  }
 ],
 "metadata": {
  "kernelspec": {
   "display_name": "Python 3 (ipykernel)",
   "language": "python",
   "name": "python3"
  },
  "language_info": {
   "codemirror_mode": {
    "name": "ipython",
    "version": 3
   },
   "file_extension": ".py",
   "mimetype": "text/x-python",
   "name": "python",
   "nbconvert_exporter": "python",
   "pygments_lexer": "ipython3",
   "version": "3.11.11"
  }
 },
 "nbformat": 4,
 "nbformat_minor": 5
}
