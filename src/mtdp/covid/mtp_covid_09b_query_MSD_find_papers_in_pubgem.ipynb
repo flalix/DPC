{
 "cells": [
  {
   "cell_type": "code",
   "execution_count": null,
   "metadata": {},
   "outputs": [],
   "source": [
    "from platform import python_version\n",
    "print(python_version())"
   ]
  },
  {
   "cell_type": "markdown",
   "metadata": {},
   "source": [
    "### Pubmed search\n",
    "\n",
    "#### scipy corpus data\n",
    "\n",
    "https://allenai.github.io/scispacy/"
   ]
  },
  {
   "cell_type": "code",
   "execution_count": null,
   "metadata": {},
   "outputs": [],
   "source": [
    "import os, sys, pickle\n",
    "\n",
    "import numpy as np\n",
    "import pandas as pd\n",
    "pd.set_option('display.width', 100)\n",
    "pd.set_option('max_colwidth', 80)\n",
    "pd.set_option(\"display.precision\", 3)\n",
    "\n",
    "import yaml\n",
    "\n",
    "import seaborn as sns\n",
    "sns.set_context(\"notebook\", font_scale=1.4)\n",
    "\n",
    "import matplotlib.pyplot as plt\n",
    "import matplotlib.gridspec as gridspec\n",
    "%matplotlib inline\n",
    "\n",
    "sys.path.insert(1, '../src/')\n",
    "\n",
    "from Basic import *\n",
    "from biopax_lib import *\n",
    "from gemini_lib import *\n",
    "from pubmed_lib import *\n",
    "\n",
    "import warnings\n",
    "warnings.filterwarnings(\"ignore\")\n",
    "\n",
    "from IPython.display import display, HTML\n",
    "display(HTML(\"<style>:root { --jp-notebook-max-width: 100% !important; }</style>\"))\n",
    "\n",
    "with open('params.yml', 'r') as file:\n",
    "    dic_yml=yaml.safe_load(file)"
   ]
  },
  {
   "cell_type": "code",
   "execution_count": null,
   "metadata": {},
   "outputs": [],
   "source": [
    "root0=dic_yml['root0']\n",
    "root_data_aux=dic_yml['root_data_aux']\n",
    "email=dic_yml['email']\n",
    "\n",
    "project=dic_yml['project']\n",
    "s_project=dic_yml['s_project']\n",
    "\n",
    "gene_protein=dic_yml['gene_protein']\n",
    "s_omics=dic_yml['s_omics']\n",
    "\n",
    "has_age=dic_yml['has_age']\n",
    "has_gender=dic_yml['has_gender']\n",
    "\n",
    "want_normalized=dic_yml['want_normalized']\n",
    "\n",
    "abs_lfc_cutoff_inf=dic_yml['abs_lfc_cutoff_inf']\n",
    "s_pathw_enrichm_method=dic_yml['s_pathw_enrichm_method']\n",
    "num_min_degs_for_ptw_enr=dic_yml['num_min_degs_for_ptw_enr']\n",
    "\n",
    "tolerance_pathway_index=dic_yml['tolerance_pathway_index']\n",
    "type_sat_ptw_index=dic_yml['type_sat_ptw_index']\n",
    "saturation_lfc_index=dic_yml['saturation_lfc_index']\n",
    "chosen_model_sampling=dic_yml['chosen_model_sampling']\n",
    "\n",
    "case_list=dic_yml['case_list']\n",
    "case_sel_list=dic_yml['case_sel_list']\n",
    "\n",
    "pval_pathway_cutoff=dic_yml['pval_pathway_cutoff']\n",
    "fdr_pathway_cutoff=dic_yml['fdr_pathway_cutoff']\n",
    "num_of_genes_cutoff=dic_yml['num_of_genes_cutoff']\n",
    "\n",
    "run_list=dic_yml['run_list']\n",
    "chosen_model_list=dic_yml['chosen_model_list']\n",
    "i_dfp_list=dic_yml['i_dfp_list']\n",
    "\n",
    "exp_normalization='quantile_norm' if want_normalized else None\n",
    "normalization='not_normalized' if exp_normalization is None else exp_normalization\n",
    "\n",
    "cfg=Config(project, s_project, case_list, root0)\n",
    "\n",
    "case=case_list[0]\n",
    "\n",
    "n_genes_annot_ptw, n_degs, n_degs_in_ptw, n_degs_not_in_ptw, degs_in_all_ratio=-1,-1,-1,-1,-1\n",
    "abs_lfc_cutoff, fdr_lfc_cutoff, n_degs, n_degs_up, n_degs_dw=cfg.get_best_lfc_cutoff(case, 'not_normalized')\n",
    "\n",
    "\n",
    "print(f\"G/P LFC cutoffs: lfc={abs_lfc_cutoff:.3f}; fdr={fdr_lfc_cutoff:.3f}\")\n",
    "print(f\"Pathway cutoffs: pval={pval_pathway_cutoff:.3f}; fdr={fdr_pathway_cutoff:.3f}; num of genes={num_of_genes_cutoff}\")"
   ]
  },
  {
   "cell_type": "code",
   "execution_count": null,
   "metadata": {},
   "outputs": [],
   "source": []
  },
  {
   "cell_type": "code",
   "execution_count": null,
   "metadata": {},
   "outputs": [],
   "source": [
    "bpx=Biopax(gene_protein, s_omics, project, s_project, root0,\n",
    "           case_list, has_age, has_gender, clone_objects=False,\n",
    "           exp_normalization=exp_normalization, geneset_num=0, \n",
    "           num_min_degs_for_ptw_enr=num_min_degs_for_ptw_enr, \n",
    "           tolerance_pathway_index=tolerance_pathway_index, \n",
    "           s_pathw_enrichm_method=s_pathw_enrichm_method,\n",
    "           abs_lfc_cutoff_inf=abs_lfc_cutoff_inf, \n",
    "           type_sat_ptw_index=type_sat_ptw_index, saturation_lfc_index=saturation_lfc_index)\n",
    "\n",
    "case=case_list[0]\n",
    "\n",
    "bpx.cfg.set_default_best_lfc_cutoff(normalization, abs_lfc_cutoff=1, fdr_lfc_cutoff=0.05)\n",
    "ret, degs, degs_ensembl, dfdegs=bpx.open_case(case, verbose=False)\n",
    "print(\"\\nEcho Parameters:\")\n",
    "bpx.echo_parameters()\n",
    "\n",
    "geneset_num=bpx.geneset_num"
   ]
  },
  {
   "cell_type": "code",
   "execution_count": null,
   "metadata": {},
   "outputs": [],
   "source": []
  },
  {
   "cell_type": "markdown",
   "metadata": {},
   "source": [
    "### MSD (multiple sources dataset): is_seldata=True"
   ]
  },
  {
   "cell_type": "code",
   "execution_count": null,
   "metadata": {},
   "outputs": [],
   "source": [
    "####################\n",
    "is_seldata=True\n",
    "####################\n",
    "i_dfp_list = [0]\n",
    "####################\n",
    "case_sel_list"
   ]
  },
  {
   "cell_type": "code",
   "execution_count": null,
   "metadata": {},
   "outputs": [],
   "source": [
    "API_KEY=dic_yml['API_KEY']\n",
    "\n",
    "disease=dic_yml['disease']\n",
    "context_disease=dic_yml['context_disease']\n",
    "n_sentences=dic_yml['n_sentences']\n",
    "chosen_model_sampling=dic_yml['chosen_model_sampling']\n",
    "\n",
    "gem=Gemini(bpx=bpx, is_seldata=is_seldata, disease=disease, context_disease=context_disease, \n",
    "           API_KEY=API_KEY, n_sentences=n_sentences, root0=root0, \n",
    "           chosen_model_list=chosen_model_list, i_dfp_list=i_dfp_list, chosen_model_sampling=chosen_model_sampling)\n",
    "print(\"\\n\")\n",
    "print(gem.disease, gem.is_seldata, gem.i_dfp_list, gem.chosen_model_list)\n",
    "print(\"Context:\", context_disease)"
   ]
  },
  {
   "cell_type": "code",
   "execution_count": null,
   "metadata": {},
   "outputs": [],
   "source": [
    "gem.set_case(bpx.case, bpx.df_enr, bpx.df_enr0)\n",
    "gem.bpx.case_list"
   ]
  },
  {
   "cell_type": "code",
   "execution_count": null,
   "metadata": {},
   "outputs": [],
   "source": []
  },
  {
   "cell_type": "code",
   "execution_count": null,
   "metadata": {},
   "outputs": [],
   "source": [
    "prefix = s_project\n",
    "\n",
    "terms1_param=dic_yml['terms1_param']\n",
    "terms2_param=dic_yml['terms2_param']\n",
    "terms_not_param=dic_yml['terms_not_param']\n",
    "connective_param=dic_yml['connective_param']\n",
    "\n",
    "remove_synonym_list=dic_yml['remove_synonym_list']\n",
    "inidate=dic_yml['inidate']\n",
    "enddate=dic_yml['enddate']\n",
    "\n",
    "verbose_query=dic_yml['verbose_query']\n",
    "force_query=dic_yml['force_query']\n",
    "\n",
    "sleep_entrez=dic_yml['sleep_entrez']\n",
    "retmax=dic_yml['retmax']\n",
    "\n",
    "try_all_text=dic_yml['try_all_text']\n",
    "text_quote=dic_yml['text_quote']\n",
    "dec_ncpus=dic_yml['dec_ncpus']\n",
    "\n",
    "sleep_TIKA=dic_yml['sleep_TIKA']\n",
    "min_words_text=dic_yml['min_words_text']\n",
    "\n",
    "print(f\"prefix={prefix}, dates: {inidate} to {enddate}\")\n",
    "print(f\"terms1: {terms1_param}\")\n",
    "print(f\"terms_not: {terms_not_param}\\n\")\n",
    "\n",
    "pub = Pubmed(bpx, gem, email, prefix, root0, \n",
    "             inidate=inidate, enddate=enddate, \n",
    "\t\t\t terms1_param=terms1_param, terms2_param=terms2_param, \n",
    "\t\t\t terms_not_param=terms_not_param, connective_param=connective_param,\n",
    "             remove_synonym_list=remove_synonym_list, sleep_entrez=sleep_entrez, \n",
    "             retmax=retmax, try_all_text=True, text_quote='',\n",
    "             root_data_aux=root_data_aux, dec_ncpus=dec_ncpus,\n",
    "             sleep_TIKA=sleep_TIKA, min_words_text=min_words_text)"
   ]
  },
  {
   "cell_type": "code",
   "execution_count": null,
   "metadata": {},
   "outputs": [],
   "source": []
  },
  {
   "cell_type": "markdown",
   "metadata": {},
   "source": [
    "### PubMed Search in MSD selected pathways"
   ]
  },
  {
   "cell_type": "code",
   "execution_count": null,
   "metadata": {},
   "outputs": [],
   "source": [
    "pub.is_seldata"
   ]
  },
  {
   "cell_type": "code",
   "execution_count": null,
   "metadata": {},
   "outputs": [],
   "source": [
    "force=False\n",
    "verbose=False\n",
    "show_warning=True\n",
    "test=False\n",
    "\n",
    "for case in case_sel_list:\n",
    "    for i_dfp in [0]:\n",
    "        for with_gender in [True, False]:\n",
    "            print(\">>>\",  case, with_gender)\n",
    "           \n",
    "            _ = pub.run_case_pathway_pubmed_search(case=case, i_dfp=i_dfp, with_gender=with_gender,\n",
    "                                                   test=test, show_warning=show_warning, \n",
    "                                                   N=30, query_type='strong',\n",
    "                                                   force=force, verbose=verbose)\n",
    "    \n",
    "        print(\"\")\n",
    "print(\"-------------- end --------------\")"
   ]
  },
  {
   "cell_type": "code",
   "execution_count": null,
   "metadata": {},
   "outputs": [],
   "source": []
  }
 ],
 "metadata": {
  "kernelspec": {
   "display_name": "Python 3 (ipykernel)",
   "language": "python",
   "name": "python3"
  },
  "language_info": {
   "codemirror_mode": {
    "name": "ipython",
    "version": 3
   },
   "file_extension": ".py",
   "mimetype": "text/x-python",
   "name": "python",
   "nbconvert_exporter": "python",
   "pygments_lexer": "ipython3",
   "version": "3.11.11"
  }
 },
 "nbformat": 4,
 "nbformat_minor": 4
}
