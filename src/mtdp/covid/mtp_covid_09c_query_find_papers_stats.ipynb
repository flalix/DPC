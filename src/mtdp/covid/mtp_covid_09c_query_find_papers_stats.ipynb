{
 "cells": [
  {
   "cell_type": "code",
   "execution_count": 1,
   "metadata": {},
   "outputs": [
    {
     "name": "stdout",
     "output_type": "stream",
     "text": [
      "3.11.9\n"
     ]
    }
   ],
   "source": [
    "from platform import python_version\n",
    "print(python_version())"
   ]
  },
  {
   "cell_type": "code",
   "execution_count": 2,
   "metadata": {},
   "outputs": [
    {
     "data": {
      "text/html": [
       "<style>.container { width:100% !important; }</style>"
      ],
      "text/plain": [
       "<IPython.core.display.HTML object>"
      ]
     },
     "metadata": {},
     "output_type": "display_data"
    }
   ],
   "source": [
    "import os, sys, pickle\n",
    "\n",
    "import numpy as np\n",
    "import pandas as pd\n",
    "pd.set_option('display.width', 100)\n",
    "pd.set_option('max_colwidth', 80)\n",
    "\n",
    "import seaborn as sns\n",
    "sns.set_context(\"notebook\", font_scale=1.4)\n",
    "\n",
    "import matplotlib.pyplot as plt\n",
    "import matplotlib.gridspec as gridspec\n",
    "%matplotlib inline\n",
    "\n",
    "sys.path.insert(1, '../src/')\n",
    "\n",
    "from Basic import *\n",
    "from entrez_conversion import *\n",
    "from pubmed_lib import *\n",
    "from biopax_lib import *\n",
    "\n",
    "import warnings\n",
    "warnings.filterwarnings(\"ignore\")\n",
    "\n",
    "from IPython.display import display, HTML\n",
    "display(HTML(\"<style>.container { width:100% !important; }</style>\"))\n",
    "\n",
    "email = \"flalix@gmail.com\""
   ]
  },
  {
   "cell_type": "markdown",
   "metadata": {},
   "source": [
    "### Pubmed search\n",
    "\n",
    "#### scipy corpus data\n",
    "\n",
    "https://allenai.github.io/scispacy/"
   ]
  },
  {
   "cell_type": "code",
   "execution_count": 3,
   "metadata": {},
   "outputs": [
    {
     "name": "stdout",
     "output_type": "stream",
     "text": [
      "G/P LFC cutoffs: lfc=1.000; fdr=0.050\n",
      "Pathway cutoffs: pval=0.050; fdr=0.050; num of genes=3\n"
     ]
    }
   ],
   "source": [
    "root_chibe = \"../../chibe/\"\n",
    "root_colab = '../../colaboracoes/'\n",
    "root0      = '../../colaboracoes/aparecida/'\n",
    "\n",
    "project = 'Medulloblastoma microarray study'\n",
    "s_project = 'medulloblastoma'\n",
    "\n",
    "gene_protein = 'dna'\n",
    "s_omics = 'microarray'\n",
    "\n",
    "has_age = False\n",
    "has_gender = False\n",
    "\n",
    "want_normalized = False\n",
    "exp_normalization='quantile_norm' if want_normalized else None\n",
    "normalization = 'not_normalized' if exp_normalization is None else exp_normalization\n",
    "\n",
    "abs_lfc_cutoff_inf = 0.80\n",
    "s_pathw_enrichm_method = 'enricher'\n",
    "num_min_degs_for_ptw_enr=3\n",
    "\n",
    "#------------ pathway pseudo-modulation index ------------\n",
    "tolerance_pathway_index = 0.15\n",
    "type_sat_ptw_index = 'linear_sat'\n",
    "saturation_lfc_index = 5\n",
    "\n",
    "case_list = ['WNT', 'G4']\n",
    "case = case_list[0]\n",
    "\n",
    "cfg = Config(project, s_project, case_list, root0)\n",
    "\n",
    "n_genes_annot_ptw, n_degs, n_degs_in_ptw, n_degs_not_in_ptw, degs_in_all_ratio = -1,-1,-1,-1,-1\n",
    "abs_lfc_cutoff, fdr_lfc_cutoff, n_degs, n_degs_up, n_degs_dw = cfg.get_best_lfc_cutoff(case, 'not_normalized')\n",
    "\n",
    "pval_pathway_cutoff = 0.05\n",
    "fdr_pathway_cutoff = .05\n",
    "num_of_genes_cutoff = 3\n",
    "\n",
    "print(f\"G/P LFC cutoffs: lfc={abs_lfc_cutoff:.3f}; fdr={fdr_lfc_cutoff:.3f}\")\n",
    "print(f\"Pathway cutoffs: pval={pval_pathway_cutoff:.3f}; fdr={fdr_pathway_cutoff:.3f}; num of genes={num_of_genes_cutoff}\")"
   ]
  },
  {
   "cell_type": "code",
   "execution_count": 4,
   "metadata": {},
   "outputs": [
    {
     "name": "stdout",
     "output_type": "stream",
     "text": [
      "Start opening tables ....\n",
      "Building synonym dictionary ...\n",
      "\n",
      "\n",
      "Echo Parameters:\n",
      "For case 'WNT', there are 1043/766 DEGs/DEGs with ensembl_id\n",
      "DEG's cutoffs: abs(LFC)=1.000; FDR=0.130\n",
      "\t1043/766 DEGs/ensembl.\n",
      "\t\tUp 340/218 DEGs/ensembl.\n",
      "\t\tDw 703/548 DEGs/ensembl.\n",
      "\n",
      "Found 68 (best=68) pathways for geneset num=0 'Reactome_2022'\n",
      "Pathway cutoffs p-value=0.050 fdr=0.150 min genes=3\n",
      "DEGs found in enriched pathways:\n",
      "\tThere are 766 DEGs found in pathways\n",
      "\t279 (best=279) DEGs in pathways and 764/487 DEGs/ensembl not in pathways\n",
      "\n",
      "\t74 DEGs ensembl Up in pathways\n",
      "\t144 DEGs Up ensembl not in pathways\n",
      "\n",
      "\t205 DEGs ensembl Dw in pathways\n",
      "\t343 DEGs Dw ensembl not in pathways\n"
     ]
    }
   ],
   "source": [
    "pathway_name_id = 'Sensory Processing Of Sound By Inner Hair Cells Of Cochlea - R-HSA-9662360'\n",
    "pathway_name_id = 'Cardiac Conduction - R-HSA-5576891'\n",
    "pathway_name_id = 'RHOB GTPase Cycle - R-HSA-9013026'\n",
    "pathway_name_id = 'Gap Junction Assembly - R-HSA-190861'\n",
    "pathway_name_id = 'Opioid Signaling - R-HSA-111885'\n",
    "pathway_name_id = 'Neuronal System - R-HSA-112316'\n",
    "\n",
    "bpx = Biopax(gene_protein, s_omics, project, s_project, root0,\n",
    "             case_list, has_age, has_gender, clone_objects=False,\n",
    "             exp_normalization=exp_normalization, geneset_num=0, \n",
    "             num_min_degs_for_ptw_enr=num_min_degs_for_ptw_enr, \n",
    "             tolerance_pathway_index=tolerance_pathway_index, \n",
    "             s_pathw_enrichm_method = s_pathw_enrichm_method)\n",
    "\n",
    "case = case_list[0]\n",
    "\n",
    "bpx.cfg.set_default_best_lfc_cutoff(normalization, abs_lfc_cutoff=1, fdr_lfc_cutoff=0.05)\n",
    "ret, degs, degs_ensembl, dfdegs = bpx.open_case(case, verbose=False)\n",
    "print(\"\\nEcho Parameters:\")\n",
    "bpx.echo_parameters()\n",
    "\n",
    "geneset_num = bpx.geneset_num"
   ]
  },
  {
   "cell_type": "code",
   "execution_count": null,
   "metadata": {},
   "outputs": [],
   "source": []
  },
  {
   "cell_type": "code",
   "execution_count": 5,
   "metadata": {},
   "outputs": [
    {
     "name": "stdout",
     "output_type": "stream",
     "text": [
      "Start opening tables ....\n",
      "Building synonym dictionary ...\n",
      "\n",
      "File ../src/down_pdf_pmid.sh exists True\n"
     ]
    }
   ],
   "source": [
    "prefix = s_project\n",
    "inidate=\"2019/10/01\"\n",
    "enddate=\"2030/12/31\"\n",
    "\n",
    "force_query = False\n",
    "verbose_query=False\n",
    "\n",
    "sleep_entrez = [30, 90, 300]; retmax=100000,\n",
    "\n",
    "''' CAP: community-acquired pneumonia\n",
    "    MV: mechanical ventilator\n",
    "'''\n",
    "remove_synonym_list =  ['CAP', 'MV', 'MDB']\n",
    "\n",
    "gem=None\n",
    "\n",
    "pub = Pubmed(bpx, gem, email, prefix, inidate, enddate, \n",
    "             root0, remove_synonym_list=remove_synonym_list, \n",
    "             sleep_entrez = [5, 7, 10], retmax=100000,  \n",
    "             try_all_text=True, text_quote='',\n",
    "             root_colab=root_colab, dec_ncpus=2)"
   ]
  },
  {
   "cell_type": "markdown",
   "metadata": {},
   "source": [
    "### PubMed Search"
   ]
  },
  {
   "cell_type": "code",
   "execution_count": 10,
   "metadata": {},
   "outputs": [
    {
     "name": "stdout",
     "output_type": "stream",
     "text": [
      ">>> WNT\n",
      ">>> Total pmid's: 59\n",
      ">>> G4\n",
      ">>> Total pmid's: 4\n",
      "12\n"
     ]
    },
    {
     "data": {
      "text/html": [
       "<div>\n",
       "<style scoped>\n",
       "    .dataframe tbody tr th:only-of-type {\n",
       "        vertical-align: middle;\n",
       "    }\n",
       "\n",
       "    .dataframe tbody tr th {\n",
       "        vertical-align: top;\n",
       "    }\n",
       "\n",
       "    .dataframe thead th {\n",
       "        text-align: right;\n",
       "    }\n",
       "</style>\n",
       "<table border=\"1\" class=\"dataframe\">\n",
       "  <thead>\n",
       "    <tr style=\"text-align: right;\">\n",
       "      <th></th>\n",
       "      <th>case</th>\n",
       "      <th>pathway_id</th>\n",
       "      <th>pathway</th>\n",
       "      <th>n</th>\n",
       "    </tr>\n",
       "  </thead>\n",
       "  <tbody>\n",
       "    <tr>\n",
       "      <th>0</th>\n",
       "      <td>WNT</td>\n",
       "      <td>R-HSA-195721</td>\n",
       "      <td>Signaling By WNT</td>\n",
       "      <td>49</td>\n",
       "    </tr>\n",
       "    <tr>\n",
       "      <th>1</th>\n",
       "      <td>WNT</td>\n",
       "      <td>R-HSA-162582</td>\n",
       "      <td>Signal Transduction</td>\n",
       "      <td>2</td>\n",
       "    </tr>\n",
       "    <tr>\n",
       "      <th>2</th>\n",
       "      <td>WNT</td>\n",
       "      <td>R-HSA-888590</td>\n",
       "      <td>GABA Synthesis, Release, Reuptake And Degradation</td>\n",
       "      <td>2</td>\n",
       "    </tr>\n",
       "  </tbody>\n",
       "</table>\n",
       "</div>"
      ],
      "text/plain": [
       "  case    pathway_id                                            pathway   n\n",
       "0  WNT  R-HSA-195721                                   Signaling By WNT  49\n",
       "1  WNT  R-HSA-162582                                Signal Transduction   2\n",
       "2  WNT  R-HSA-888590  GABA Synthesis, Release, Reuptake And Degradation   2"
      ]
     },
     "execution_count": 10,
     "metadata": {},
     "output_type": "execute_result"
    }
   ],
   "source": [
    "verbose=False\n",
    "\n",
    "terms_not_param = ['NOT', 'COVID', 'SARS-CoV']\n",
    "terms1_param = ['medulloblastoma']\n",
    "connective_param = 'AND'\n",
    "\n",
    "dfg = pub.run_all_cases_summarize_pubmed_search(with_gender=False, terms1=terms1_param, \n",
    "                                                terms_not=terms_not_param, connective=connective_param, \n",
    "                                                test=False, save_file=False, force=False, verbose=verbose)\n",
    "\n",
    "print(len(dfg))\n",
    "dfg.head(3)"
   ]
  },
  {
   "cell_type": "code",
   "execution_count": 8,
   "metadata": {},
   "outputs": [
    {
     "data": {
      "text/html": [
       "<div>\n",
       "<style scoped>\n",
       "    .dataframe tbody tr th:only-of-type {\n",
       "        vertical-align: middle;\n",
       "    }\n",
       "\n",
       "    .dataframe tbody tr th {\n",
       "        vertical-align: top;\n",
       "    }\n",
       "\n",
       "    .dataframe thead th {\n",
       "        text-align: right;\n",
       "    }\n",
       "</style>\n",
       "<table border=\"1\" class=\"dataframe\">\n",
       "  <thead>\n",
       "    <tr style=\"text-align: right;\">\n",
       "      <th></th>\n",
       "      <th>case</th>\n",
       "      <th>pathway_id</th>\n",
       "      <th>pathway</th>\n",
       "      <th>n</th>\n",
       "    </tr>\n",
       "  </thead>\n",
       "  <tbody>\n",
       "    <tr>\n",
       "      <th>0</th>\n",
       "      <td>WNT</td>\n",
       "      <td>R-HSA-195721</td>\n",
       "      <td>Signaling By WNT</td>\n",
       "      <td>49</td>\n",
       "    </tr>\n",
       "    <tr>\n",
       "      <th>1</th>\n",
       "      <td>WNT</td>\n",
       "      <td>R-HSA-162582</td>\n",
       "      <td>Signal Transduction</td>\n",
       "      <td>2</td>\n",
       "    </tr>\n",
       "    <tr>\n",
       "      <th>2</th>\n",
       "      <td>WNT</td>\n",
       "      <td>R-HSA-888590</td>\n",
       "      <td>GABA Synthesis, Release, Reuptake And Degradation</td>\n",
       "      <td>2</td>\n",
       "    </tr>\n",
       "    <tr>\n",
       "      <th>3</th>\n",
       "      <td>WNT</td>\n",
       "      <td>R-HSA-112316</td>\n",
       "      <td>Neuronal System</td>\n",
       "      <td>1</td>\n",
       "    </tr>\n",
       "    <tr>\n",
       "      <th>4</th>\n",
       "      <td>WNT</td>\n",
       "      <td>R-HSA-1296071</td>\n",
       "      <td>Potassium Channels</td>\n",
       "      <td>1</td>\n",
       "    </tr>\n",
       "    <tr>\n",
       "      <th>5</th>\n",
       "      <td>WNT</td>\n",
       "      <td>R-HSA-1630316</td>\n",
       "      <td>Glycosaminoglycan Metabolism</td>\n",
       "      <td>1</td>\n",
       "    </tr>\n",
       "    <tr>\n",
       "      <th>6</th>\n",
       "      <td>WNT</td>\n",
       "      <td>R-HSA-3000157</td>\n",
       "      <td>Laminin Interactions</td>\n",
       "      <td>1</td>\n",
       "    </tr>\n",
       "    <tr>\n",
       "      <th>7</th>\n",
       "      <td>WNT</td>\n",
       "      <td>R-HSA-419037</td>\n",
       "      <td>NCAM1 Interactions</td>\n",
       "      <td>1</td>\n",
       "    </tr>\n",
       "    <tr>\n",
       "      <th>8</th>\n",
       "      <td>WNT</td>\n",
       "      <td>R-HSA-4641265</td>\n",
       "      <td>Repression Of WNT Target Genes</td>\n",
       "      <td>1</td>\n",
       "    </tr>\n",
       "  </tbody>\n",
       "</table>\n",
       "</div>"
      ],
      "text/plain": [
       "  case     pathway_id                                            pathway   n\n",
       "0  WNT   R-HSA-195721                                   Signaling By WNT  49\n",
       "1  WNT   R-HSA-162582                                Signal Transduction   2\n",
       "2  WNT   R-HSA-888590  GABA Synthesis, Release, Reuptake And Degradation   2\n",
       "3  WNT   R-HSA-112316                                    Neuronal System   1\n",
       "4  WNT  R-HSA-1296071                                 Potassium Channels   1\n",
       "5  WNT  R-HSA-1630316                       Glycosaminoglycan Metabolism   1\n",
       "6  WNT  R-HSA-3000157                               Laminin Interactions   1\n",
       "7  WNT   R-HSA-419037                                 NCAM1 Interactions   1\n",
       "8  WNT  R-HSA-4641265                     Repression Of WNT Target Genes   1"
      ]
     },
     "execution_count": 8,
     "metadata": {},
     "output_type": "execute_result"
    }
   ],
   "source": [
    "i=0\n",
    "case=case_list[i]\n",
    "dfg[dfg.case == case]"
   ]
  },
  {
   "cell_type": "code",
   "execution_count": 9,
   "metadata": {},
   "outputs": [
    {
     "data": {
      "text/html": [
       "<div>\n",
       "<style scoped>\n",
       "    .dataframe tbody tr th:only-of-type {\n",
       "        vertical-align: middle;\n",
       "    }\n",
       "\n",
       "    .dataframe tbody tr th {\n",
       "        vertical-align: top;\n",
       "    }\n",
       "\n",
       "    .dataframe thead th {\n",
       "        text-align: right;\n",
       "    }\n",
       "</style>\n",
       "<table border=\"1\" class=\"dataframe\">\n",
       "  <thead>\n",
       "    <tr style=\"text-align: right;\">\n",
       "      <th></th>\n",
       "      <th>case</th>\n",
       "      <th>pathway_id</th>\n",
       "      <th>pathway</th>\n",
       "      <th>n</th>\n",
       "    </tr>\n",
       "  </thead>\n",
       "  <tbody>\n",
       "    <tr>\n",
       "      <th>9</th>\n",
       "      <td>G4</td>\n",
       "      <td>R-HSA-112316</td>\n",
       "      <td>Neuronal System</td>\n",
       "      <td>2</td>\n",
       "    </tr>\n",
       "    <tr>\n",
       "      <th>10</th>\n",
       "      <td>G4</td>\n",
       "      <td>R-HSA-109582</td>\n",
       "      <td>Hemostasis</td>\n",
       "      <td>1</td>\n",
       "    </tr>\n",
       "    <tr>\n",
       "      <th>11</th>\n",
       "      <td>G4</td>\n",
       "      <td>R-HSA-162582</td>\n",
       "      <td>Signal Transduction</td>\n",
       "      <td>1</td>\n",
       "    </tr>\n",
       "  </tbody>\n",
       "</table>\n",
       "</div>"
      ],
      "text/plain": [
       "   case    pathway_id              pathway  n\n",
       "9    G4  R-HSA-112316      Neuronal System  2\n",
       "10   G4  R-HSA-109582           Hemostasis  1\n",
       "11   G4  R-HSA-162582  Signal Transduction  1"
      ]
     },
     "execution_count": 9,
     "metadata": {},
     "output_type": "execute_result"
    }
   ],
   "source": [
    "i=1\n",
    "case=case_list[i]\n",
    "dfg[dfg.case == case]"
   ]
  },
  {
   "cell_type": "code",
   "execution_count": null,
   "metadata": {},
   "outputs": [],
   "source": []
  },
  {
   "cell_type": "markdown",
   "metadata": {},
   "source": [
    "### Development & tests"
   ]
  },
  {
   "cell_type": "code",
   "execution_count": null,
   "metadata": {},
   "outputs": [],
   "source": [
    "dfg = dfs.groupby(['pathway_id', 'pathway']).pmid.count().reset_index().iloc[:,:3]\n",
    "dfg['case'] = case\n",
    "cols = ['pathway_id', 'pathway', 'n', 'case']\n",
    "dfg.columns = cols\n",
    "cols = ['case', 'pathway_id', 'pathway', 'n']\n",
    "dfg = dfg[cols]\n",
    "dfg = dfg.sort_values('n', ascending=False)\n",
    "dfg.index = np.arange(0, len(dfg))\n",
    "dfg"
   ]
  },
  {
   "cell_type": "code",
   "execution_count": null,
   "metadata": {},
   "outputs": [],
   "source": [
    "for case in case_list:\n",
    "    fname_case = pub.fname_no_symb_case%(pub.prefix, case, pub.s_all_text_or_abstract)\n",
    "    fname_case = title_replace(fname_case)\n",
    "    fullname = os.path.join(pub.root_pubmed, fname_case)\n",
    "    \n",
    "    if not os.path.exists(fullname):\n",
    "        print(f\"Could not find {case}: {fullname}\")\n",
    "        continue\n",
    "\n",
    "    dfs = pdreadcsv(fname_case, pub.root_pubmed)\n",
    "    print(f\"Found {case}: {len(dfs)} regs\")\n",
    "\n",
    "    dfg = summarize_pubmed_search(dfs)\n",
    "\n",
    "    # fname = 'summary_per_pathway_%s_case_%s.tsv'%(pub.prefix, case)\n",
    "    # ret = pdwritecsv(dfg, fname, pub.root_pubmed, verbose=True)\n"
   ]
  },
  {
   "cell_type": "code",
   "execution_count": null,
   "metadata": {},
   "outputs": [],
   "source": [
    "i = 0\n",
    "case = case_list[i]\n",
    "\n",
    "fname = 'summary_per_pathway_%s_case_%s.tsv'%(pub.prefix, case)\n",
    "\n",
    "dfg = pdreadcsv(fname, pub.root_pubmed, verbose=False)\n",
    "print(len(dfg))\n",
    "dfg"
   ]
  },
  {
   "cell_type": "code",
   "execution_count": null,
   "metadata": {},
   "outputs": [],
   "source": [
    "ret, _, _, _ = bpx.open_case(case, prompt_verbose=False, verbose=False)\n",
    "df_enr = bpx.df_enr\n",
    "print(len(df_enr))"
   ]
  },
  {
   "cell_type": "code",
   "execution_count": null,
   "metadata": {},
   "outputs": [],
   "source": [
    "dfg_not = df_enr[ ~df_enr.pathway_id.isin(dfg.pathway_id) ].copy()\n",
    "dfg_not.index = np.arange(0, len(dfg_not))\n",
    "print(len(dfg_not))\n",
    "\n",
    "cols = ['pathway', 'pathway_id', 'pval', 'fdr', 'odds_ratio', 'combined_score', 'genes', 'num_of_genes']\n",
    "cols = ['pathway', 'pathway_id', 'fdr', 'genes', 'num_of_genes']\n",
    "\n",
    "dfg_not[cols]"
   ]
  },
  {
   "cell_type": "code",
   "execution_count": null,
   "metadata": {},
   "outputs": [],
   "source": [
    "dfg_not.columns"
   ]
  },
  {
   "cell_type": "code",
   "execution_count": null,
   "metadata": {},
   "outputs": [],
   "source": [
    "i = 1\n",
    "case = case_list[i]\n",
    "\n",
    "fname = 'summary_per_pathway_%s_case_%s.tsv'%(pub.prefix, case)\n",
    "\n",
    "dfg = pdreadcsv(fname, pub.root_pubmed, verbose=False)\n",
    "print(len(dfg))\n",
    "dfg"
   ]
  },
  {
   "cell_type": "code",
   "execution_count": null,
   "metadata": {},
   "outputs": [],
   "source": []
  },
  {
   "cell_type": "code",
   "execution_count": null,
   "metadata": {},
   "outputs": [],
   "source": [
    "verbose=False\n",
    "test = False\n",
    "\n",
    "terms_not_param = ['NOT', 'MERS', 'SARS-CoV-1']\n",
    "terms1_param = [\"OR\", 'COVID', 'SARS-CoV-2']\n",
    "connective_param = 'AND'\n",
    "\n",
    "i = 0\n",
    "case = case_list[i]\n",
    "print(\">>>\", case)\n",
    "\n",
    "df_case = pub.run_case_pathway_pubmed_search(case=case, with_gender=False, terms1=terms1_param, \n",
    "                                             terms_not=terms_not_param, connective=connective_param, \n",
    "                                             test=test, save_file=False, force=False, verbose=verbose)\n",
    "if df_case is None:\n",
    "    df_case = pd.DataFrame()\n",
    "print(len(df_case))\n",
    "df_case.head(3)"
   ]
  },
  {
   "cell_type": "code",
   "execution_count": null,
   "metadata": {},
   "outputs": [],
   "source": [
    "def summarize_pubmed_search(dfs):\n",
    "    dfg = dfs.groupby(['pathway_id', 'pathway']).pmid.count().reset_index().iloc[:,:3]\n",
    "    dfg['case'] = case\n",
    "    cols = ['pathway_id', 'pathway', 'n', 'case']\n",
    "    dfg.columns = cols\n",
    "    cols = ['case', 'pathway_id', 'pathway', 'n']\n",
    "    dfg = dfg[cols]\n",
    "    dfg = dfg.sort_values('n', ascending=False)\n",
    "    dfg.index = np.arange(0, len(dfg))\n",
    "    return dfg\n",
    "\n",
    "\n",
    "dfg = summarize_pubmed_search(df_case)\n",
    "print(len(dfg))\n",
    "dfg"
   ]
  },
  {
   "cell_type": "markdown",
   "metadata": {},
   "source": [
    "### With Gender"
   ]
  },
  {
   "cell_type": "code",
   "execution_count": null,
   "metadata": {},
   "outputs": [],
   "source": [
    "case"
   ]
  },
  {
   "cell_type": "code",
   "execution_count": null,
   "metadata": {},
   "outputs": [],
   "source": [
    "dfgen = pub.df_summ_pathway \n",
    "dfgen"
   ]
  },
  {
   "cell_type": "markdown",
   "metadata": {},
   "source": [
    "### Without Gender"
   ]
  },
  {
   "cell_type": "code",
   "execution_count": null,
   "metadata": {},
   "outputs": [],
   "source": [
    "i = 0\n",
    "case = case_list[i]\n",
    "\n",
    "df_case = pub.run_case_pathway_pubmed_search(case=case, with_gender=False, terms1=terms1_param, \n",
    "                                             terms_not=terms_not_param, connective=connective_param, \n",
    "                                             test=test, save_file=False, force=False, verbose=verbose)\n",
    "\n",
    "dfwog = pub.df_summ_pathway\n",
    "dfwog"
   ]
  }
 ],
 "metadata": {
  "kernelspec": {
   "display_name": "Python 3 (ipykernel)",
   "language": "python",
   "name": "python3"
  },
  "language_info": {
   "codemirror_mode": {
    "name": "ipython",
    "version": 3
   },
   "file_extension": ".py",
   "mimetype": "text/x-python",
   "name": "python",
   "nbconvert_exporter": "python",
   "pygments_lexer": "ipython3",
   "version": "3.12.0"
  }
 },
 "nbformat": 4,
 "nbformat_minor": 4
}
