{
 "cells": [
  {
   "cell_type": "code",
   "execution_count": null,
   "id": "8507fa29-279b-4485-965b-77219389672d",
   "metadata": {},
   "outputs": [],
   "source": [
    "from platform import python_version\n",
    "print(python_version())"
   ]
  },
  {
   "cell_type": "markdown",
   "id": "a24b4c6e-b58e-4a2a-875f-ee1599cbf9d8",
   "metadata": {},
   "source": [
    "## Super-summary: chosen cutoffs"
   ]
  },
  {
   "cell_type": "markdown",
   "id": "870c2e32-917f-4dc4-a55f-9542f428d0a7",
   "metadata": {},
   "source": [
    "### Definitions:\n",
    "  - LFC table has:\n",
    "    - abs_LFC (the absolute LFC cutoff value)\n",
    "    - FDR_LFC, its FDR or p-value adjusted\n",
    "  - The enriched pathway table has:\n",
    "    - FDR_pathway cutoff value\n",
    "   \n",
    "### Default values for LFC table:\n",
    "  - abs_LFC = 1\n",
    "  - FDR_LFC = 0.05\n",
    "  - therefore, a DEG/DEP is abs(LFC) >= 1 and FDR < 0.05\n",
    "\n",
    "### Default values for Enriched Pathways:\n",
    "  - FDR_pathway = 0.05\n",
    "  - therefore, an enriched pathways has FDR < 0.05 and at least 3 DEGs/DEPs\n",
    "\n",
    "### Calculating the best cutoffs:\n",
    "  - We proposed and calculated many indexes to define a new statistics to flebilize the LFC and Enriched Pathway cutoffs.\n",
    "    - Indexes are calculated for each case, each cutoff, and each resulting enriched pathway.\n",
    "  - To find the possible best LFC/FDR expression and FDR pathway cutoffs:\n",
    "     - We look for a high number in n_pathway and n_DEGs_in_pathway, having a low FDR_LFC and a high absLFC.\n",
    "       - The default FDR_LFC (0.05):\n",
    "          - It may have fewer DEGs, resulting in fewer enriched pathways.\n",
    "          - It may have fewer enriched pathways, even having many DEGs/DEPs.\n",
    "       - Therefore, a trade-off exists between optimizing (abs_LFC and FDR_LFC cutoffs) and (FDR_pathway cutoffs, n_pathways, and n_DEGs_in_pathways.)\n",
    "\n",
    "### An index measures the trade-off between \"LFC\" and \"Enriched Pathways\" cufoff -> LFC - Enriched Pathway Trade-Off Statistics (LEATOS)\n",
    "\n",
    "  - We proposed and calculated the following possible indexes:\n",
    "\n",
    "<p style=\"font-size: 20px; color: lightgreen;\">\n",
    "$index1 = \\sqrt{-log{_{10}}{FDR_{pathway}} * \\frac{n}{N} }$ </p>\n",
    "\n",
    "<p style=\"font-size: 20px; color: cyan;\">\n",
    "$index2 = \\sqrt{-log{_{10}}{FDR_{LFC}} * -log{_{10}}{FDR_{pathway}} }$ </p>\n",
    "\n",
    "<p style=\"font-size: 20px; color: orange;\">\n",
    "$index3 = (-log{_{10}}{FDR_{LFC}} * -log{_{10}}{FDR_{pathway}} * \\frac{n}{N})^{1/3}$ </p>\n",
    "\n",
    "<p style=\"font-size: 20px; color: pink;\">\n",
    "$index4 = (abs\\_LFC * -log{_{10}}{FDR_{LFC}} * -log{_{10}}{FDR_{pathway}} * \\frac{n}{N})^{1/4}$ </p>\n",
    "\n",
    "where,\n",
    "  - n is the number of DEGs/DEPs found in the pathway\n",
    "  - N is the total number of annotated DEGs/DEPs in the pathway (depend in the database, our default database is Reactome 2022)\n",
    "\n",
    "### Then we searched for the best cutoffs\n",
    "  - In each 5 percentile of the index histogram, we look for the best abs_LFC, FDR_LFC, FDR_pathway:\n",
    "  -  We expected that the best cutoff should be in the right tail of the histogram (high index value.)\n",
    "  -  High index values must have a high number of n_pathways and n DEGs in pathways.\n",
    "\n",
    "### Testing the best cutoffs (for each case)\n",
    "\n",
    "  - Is the new set of cutoffs correct? good enough?\n",
    "  - How to establish that the calculated cutoff is correct?\n",
    "  - To answer these questions we calculated the chi-square test between the \"best cutoff\" and the \"default\"\n",
    "    - Best cutoff has:\n",
    "      - n DEGs/DEPs in pathways\n",
    "      - n DEGs/DEPs not in pathways\n",
    "    - The Default cutoff may have:\n",
    "      - n DEGs/DEPs in pathways\n",
    "      - n DEGs/DEPs not in pathways\n",
    "      - The DEGs/DEPs can be:\n",
    "        - greater or equal number of the best cutoff DEGs/DEPs\n",
    "        - fewer number of the best cutoff DEGs/DEPs:\n",
    "           - in this case, one complements the number of DEGs/DEPs with random genes not DEGs/DEPs (found in the experiment)\n",
    "\n",
    "#### Chi-square test:\n",
    "\n",
    "DEGs/DEPs | # in pathway | no in pathway\n",
    "--- | --- | --- \n",
    " Best cutoff |     A      |   B  \n",
    " Default cutoff |   C | D \n",
    "\n",
    "Chi-square p-value:\n",
    "  - p-value < 0.05 denotes that both distributions are not similar; therefore, random genes could not reach the best cutoff DEGs/DEPs; in conclusion, the best cutoff was not found randomly.\n",
    "  - p-value \\>= 0.05 denotes that both distributions are similar, and the best cutoff can be achieved randomly."
   ]
  },
  {
   "cell_type": "code",
   "execution_count": null,
   "id": "f5a3b22e",
   "metadata": {},
   "outputs": [],
   "source": [
    "import json, requests\n",
    "import os, sys\n",
    "import pandas as pd\n",
    "\n",
    "sys.path.insert(1, '../src/')\n",
    "\n",
    "from Basic import *\n",
    "from enricher_lib import *\n",
    "from biopax_lib import *\n",
    "from config_lib import *\n",
    "from stat_lib import *\n",
    "\n",
    "pd.set_option(\"display.precision\", 3)\n",
    "from IPython.display import display, HTML\n",
    "display(HTML(\"<style>.container { width:100% !important; }</style>\"))"
   ]
  },
  {
   "cell_type": "code",
   "execution_count": null,
   "id": "2bdaf5e7",
   "metadata": {},
   "outputs": [],
   "source": [
    "root_chibe = \"../../chibe/\"\n",
    "root_colab = '../../colaboracoes/'\n",
    "root0       = '../../colaboracoes/covid/sonia_andrade/taubate/proteomics_202205/'\n",
    "\n",
    "project = 'Taubate COVID-19'\n",
    "s_project = 'taubate_covid19'\n",
    "\n",
    "gene_protein = 'protein'\n",
    "s_omics = 'proteomics'\n",
    "\n",
    "has_age = True\n",
    "has_gender = True\n",
    "\n",
    "want_normalized = False\n",
    "exp_normalization='quantile_norm' if want_normalized else None\n",
    "normalization = 'not_normalized' if exp_normalization is None else exp_normalization\n",
    "\n",
    "s_pathw_enrichm_method = 'enricher'\n",
    "num_min_degs_for_ptw_enr=3\n",
    "tolerance_gene_reg_index = 0.15\n",
    "\n",
    "#----------------- old --------------------------------------------\n",
    "# abs_lfc_cutoff=np.log2(1.5); fdr_lfc_cutoff=.58\n",
    "# abs_lfc_modulated=np.log2(1.4); fdr_lfc_modulated=.7\n",
    "# pval_pathway_cutoff=0.05; fdr_pathway_cutoff=0.05; num_of_genes_cutoff=3\n",
    "#----------------- new -------------------------------------------\n",
    "abs_lfc_cutoff=0.20; fdr_lfc_cutoff=.3\n",
    "abs_lfc_modulated=0.15; fdr_lfc_modulated=.4\n",
    "pval_pathway_cutoff=0.05; fdr_pathway_cutoff=0.1; num_of_genes_cutoff=2\n",
    "\n",
    "case_list = ['g2a_male', 'g2a_female', \n",
    "             'g2b_male', 'g2b_female', \n",
    "             'g3_male_adult',   'g3_male_elder',\n",
    "             'g3_female_adult', 'g3_female_elder']\n",
    "\n",
    "cfg = Config(project, s_project, case_list, root0)\n",
    "\n",
    "case = case_list[0]\n",
    "\n",
    "n_genes_annot_ptw, n_degs, n_degs_in_ptw, n_degs_not_in_ptw, degs_in_all_ratio = -1,-1,-1,-1,-1\n",
    "abs_lfc_cutoff, fdr_lfc_cutoff, n_degs, n_degs_up, n_degs_dw = cfg.get_best_lfc_cutoff(case, 'not_normalized')\n",
    "\n",
    "pval_pathway_cutoff = 0.05\n",
    "fdr_pathway_cutoff = .05\n",
    "num_of_genes_cutoff = 3\n",
    "\n",
    "print(f\"G/P LFC cutoffs: lfc={abs_lfc_cutoff:.3f}; fdr={fdr_lfc_cutoff:.3f}\")\n",
    "print(f\"Pathway cutoffs: pval={pval_pathway_cutoff:.3f}; fdr={fdr_pathway_cutoff:.3f}; num of genes={num_of_genes_cutoff}\")"
   ]
  },
  {
   "cell_type": "code",
   "execution_count": null,
   "id": "2d76e2fd",
   "metadata": {},
   "outputs": [],
   "source": [
    "pathway_name_id = 'Hemostasis - R-HSA-109582'\n",
    "pathway_name_id = 'Regulation Of IGF Transport And Uptake By IGFBPs - R-HSA-381426'\n",
    "pathway_name_id = 'Platelet degranulate - R-HSA-114608'\n",
    "pathway_name_id = 'Platelet Activation, Signaling And Aggregation - R-HSA-76002'\n",
    "pathway_name_id = 'Integrin Cell Surface Interactions - R-HSA-216083'\n",
    "pathway_name_id = 'Neutrophil Degranulation - R-HSA-6798695'\n",
    "pathway_name_id = 'Regulation of Complement cascade - R-HSA-977606'\n",
    "pathway_name_id = 'Response To Elevated Platelet Cytosolic Ca2+ - R-HSA-76005'\n",
    "\n",
    "enr = enricheR(gene_protein, s_omics, project, s_project, root0,\n",
    "               case_list, has_age, has_gender, clone_objects=False,\n",
    "               exp_normalization=exp_normalization, geneset_num=0, \n",
    "               num_min_degs_for_ptw_enr=num_min_degs_for_ptw_enr, \n",
    "               tolerance_gene_reg_index=tolerance_gene_reg_index, \n",
    "               s_pathw_enrichm_method = s_pathw_enrichm_method)\n",
    "\n",
    "case = case_list[0]\n",
    "\n",
    "enr.cfg.set_default_best_lfc_cutoff(normalization, abs_lfc_cutoff=1, fdr_lfc_cutoff=0.05)\n",
    "ret, degs, dfdegs = enr.open_case(case, verbose=False)\n",
    "\n",
    "# print(\"\\nEcho Parameters:\")\n",
    "# enr.echo_parameters()\n",
    "\n",
    "geneset_num = enr.geneset_num"
   ]
  },
  {
   "cell_type": "code",
   "execution_count": null,
   "id": "a3a623a2-0e15-4a45-9842-0843a67118e2",
   "metadata": {},
   "outputs": [],
   "source": []
  },
  {
   "cell_type": "markdown",
   "id": "a921c7cf-4529-4656-ade0-63620ef60c9d",
   "metadata": {},
   "source": [
    "### Distribution related to possible indexes"
   ]
  },
  {
   "cell_type": "code",
   "execution_count": null,
   "id": "286aefbc-25ff-4bea-81ff-960f2f82c077",
   "metadata": {},
   "outputs": [],
   "source": [
    "index_cols = ['index1_median',  'index2_median','index3_median',  'index4_median',\n",
    "              'n_pathways', 'n_degs_in_pathways', 'n_degs_in_pathways_mean', 'n_degs_in_pathways_median']\n",
    "\n",
    "for col in index_cols:\n",
    "    fig = enr.plot_cutoff_simulation_histograms(col, width=1100, height=270)\n",
    "    print(col)\n",
    "    fig.show()"
   ]
  },
  {
   "cell_type": "code",
   "execution_count": null,
   "id": "657bc6ed-eeb7-46db-ad44-8e76a12b0fc8",
   "metadata": {},
   "outputs": [],
   "source": [
    "dfsim = enr.open_simulation_table()\n",
    "dfsim = dfsim.sort_values(['case', 'fdr_lfc_cutoff', 'abs_lfc_cutoff'], ascending=[True, False, False])\n",
    "\n",
    "dfsim.head(2)"
   ]
  },
  {
   "cell_type": "code",
   "execution_count": null,
   "id": "06682de7-70c7-410c-9061-51af416f8380",
   "metadata": {},
   "outputs": [],
   "source": [
    "colors=['navy', 'red', 'darkcyan', 'darkgreen', 'orange', 'brown', 'darksalmon',\n",
    "        'magenta', 'darkturquoise', 'orange', 'darkred', 'indigo', 'magenta', 'maroon', 'black',\n",
    "        'darkblue', 'darkcyan', 'darkgoldenrod', 'darkgray', 'darkgrey', 'olivedrab', 'navy'] + plotly_colors_proteins\n"
   ]
  },
  {
   "cell_type": "code",
   "execution_count": null,
   "id": "a0aaee49-b2d7-4285-8b2d-85e8240f185b",
   "metadata": {},
   "outputs": [],
   "source": []
  },
  {
   "cell_type": "markdown",
   "id": "6c9b98af-7848-4995-973e-d67a1d1b7346",
   "metadata": {},
   "source": [
    "### First, per case plot\n",
    "#### DEPs 'in pathway' x index 4"
   ]
  },
  {
   "cell_type": "code",
   "execution_count": null,
   "id": "130e3422-5d0f-486b-aa53-b01bb2ea3f8f",
   "metadata": {},
   "outputs": [],
   "source": [
    "fig = enr.plot_degs_in_pathways_vs_index_per_case(selected_index_col='index4_median', title=None,\n",
    "                                 width=1100, height=600, plot_all_dfi=False, sel_colors=None,\n",
    "                                 plot_bgcolor='lightgray', verbose=False)\n",
    "\n",
    "fig.show()"
   ]
  },
  {
   "cell_type": "code",
   "execution_count": null,
   "id": "fce17ec7-4a59-4548-b22e-a03630b68784",
   "metadata": {},
   "outputs": [],
   "source": []
  },
  {
   "cell_type": "markdown",
   "id": "5eae7026-8b0c-4e60-9605-73baad1fd59f",
   "metadata": {},
   "source": [
    "### Next, per case plot\n",
    "#### ALL DEPs x abs_LFC\n",
    "#### Comments:\n",
    "\n",
    "  - each FDR selects a subset of DEG/DEPs\n",
    "    - abs_LFC may or may not filter them\n",
    "    - we define that only 'curves' that change DEG/DEPs varying the abs_LFC are valid\n",
    "    - we observed that most of the curves saturate at 0.4 abs_LFC\n",
    "  - we defined the range of FDR from 0.05 to 0.75 (here 0.55)\n",
    "    - if we had defined:\n",
    "      - min abs_LFC = 0 and max_FDR = 1, we got in the left-upper corner the total Proteins (or Genes) "
   ]
  },
  {
   "cell_type": "code",
   "execution_count": null,
   "id": "fab7ef5c-112c-493f-8a3f-9562e2de40cf",
   "metadata": {},
   "outputs": [],
   "source": [
    "fig = enr.plot_degs_vs_lfc_per_fdr_per_case(selected_index_col='index4_median', title=None,\n",
    "                                 width=1100, height=600, plot_all_dfi=False, sel_colors=None,\n",
    "                                 plot_bgcolor='lightgray', verbose=False)\n",
    "\n",
    "fig.show()"
   ]
  },
  {
   "cell_type": "code",
   "execution_count": null,
   "id": "464bb120-73ce-4ebb-9aa2-bbd7b0f59caa",
   "metadata": {},
   "outputs": [],
   "source": []
  },
  {
   "cell_type": "code",
   "execution_count": null,
   "id": "41dd35cc-5d0a-441f-a6ac-fd8ab51d5860",
   "metadata": {},
   "outputs": [],
   "source": [
    "cols = ['case', 'parameter', 'quantile', 'med_max_ptw', 'index4_median', 'abs_lfc_cutoff', 'fdr_lfc_cutoff',\n",
    "        'pathway_fdr_cutoff', 'n_pathways', 'n_degs_in_pathways', \n",
    "        'index1_median',  'index2_median', 'index3_median']"
   ]
  },
  {
   "cell_type": "markdown",
   "id": "75dd646b-6bfa-4036-9826-a7fb61c6a6e3",
   "metadata": {},
   "source": [
    "### index4"
   ]
  },
  {
   "cell_type": "code",
   "execution_count": null,
   "id": "22021715-98e6-486d-9d90-22763208f9be",
   "metadata": {},
   "outputs": [],
   "source": [
    "# selected_index_col  ['index1_median', 'index2_median', 'index3_median', 'index4_median' ]\n",
    "\n",
    "selected_index_col = 'index4_median'\n",
    "\n",
    "fig_list = enr.plot_genes_and_pathways_frequecies_per_cases(selected_index_col,  width=1100, height=700)\n",
    "\n",
    "fig0 = fig_list[0]\n",
    "fig1 = fig_list[1]\n",
    "print(\">>>\", selected_index_col)\n",
    "print(f\"# {enr.s_deg_dep}s\")\n",
    "fig0.show()\n",
    "print(\"# n pathways\")\n",
    "fig1.show()"
   ]
  },
  {
   "cell_type": "code",
   "execution_count": null,
   "id": "9d64534d-ee29-46ae-b841-710de9467e60",
   "metadata": {},
   "outputs": [],
   "source": [
    "# dfbest.columns"
   ]
  },
  {
   "cell_type": "markdown",
   "id": "6f0b2487-2002-4279-ab09-567ed8501fa9",
   "metadata": {},
   "source": [
    "### Selected best cutoffs per case"
   ]
  },
  {
   "cell_type": "code",
   "execution_count": null,
   "id": "ab6a0248-3637-4c78-b4f4-2ef3af2090c2",
   "metadata": {},
   "outputs": [],
   "source": [
    "dfbest = enr.cfg.open_best_ptw_cutoff(verbose=False)\n",
    "dfbest = dfbest[dfbest.med_max_ptw == 'median']\n",
    "print(len(dfbest))\n",
    "\n",
    "dfbest[cols]"
   ]
  },
  {
   "cell_type": "code",
   "execution_count": null,
   "id": "13c08a88-e1df-4fea-a3c3-300b3a0b66d0",
   "metadata": {},
   "outputs": [],
   "source": []
  },
  {
   "cell_type": "markdown",
   "id": "8b27862b-f759-4fd8-b662-9ba335106bf3",
   "metadata": {},
   "source": [
    "## Why index4_median is the best approach?\n",
    "\n",
    "#### balance between best LFC cutoffs and Pathway cutoffs"
   ]
  },
  {
   "cell_type": "markdown",
   "id": "c43161df-31f4-4ca4-b08e-65aa10b8abed",
   "metadata": {},
   "source": [
    "### First using 'n_pathways' as index\n",
    "### Next using 'index4_median' as index\n",
    "#### Any index can be used to compare to index4_median"
   ]
  },
  {
   "cell_type": "code",
   "execution_count": null,
   "id": "c1497d1a-68a6-42e7-af3e-e86fdab401c0",
   "metadata": {},
   "outputs": [],
   "source": [
    "n_best_samples_chosen = 4\n",
    "\n",
    "dfconfig = enr.calc_best_cutoffs_params(selected_index_col='n_pathways', n_best_samples=n_best_samples_chosen, force=False, verbose=False)\n",
    "dfconfig = dfconfig[dfconfig.med_max_ptw == 'median']\n",
    "dfconfig[cols]"
   ]
  },
  {
   "cell_type": "code",
   "execution_count": null,
   "id": "4d048dcf-569a-4815-a7fc-438d31ca6dd1",
   "metadata": {},
   "outputs": [],
   "source": [
    "dfconfig = enr.calc_best_cutoffs_params(selected_index_col='index4_median', n_best_samples=n_best_samples_chosen, force=False, verbose=False)\n",
    "dfconfig = dfconfig[dfconfig.med_max_ptw == 'median']\n",
    "dfconfig[cols]"
   ]
  },
  {
   "cell_type": "markdown",
   "id": "118b4285-8e74-47ed-92a2-f9ed9a9220d3",
   "metadata": {},
   "source": [
    "## It minimizes fdr and maximizes abs_lfc!!!"
   ]
  },
  {
   "cell_type": "code",
   "execution_count": null,
   "id": "b07c548c-2423-4545-bbd2-1fb4b2135432",
   "metadata": {},
   "outputs": [],
   "source": []
  },
  {
   "cell_type": "markdown",
   "id": "5f8bbec3-c1ff-4804-b463-6bc68156fd21",
   "metadata": {},
   "source": [
    "### Summary DEPs + Up and Down"
   ]
  },
  {
   "cell_type": "code",
   "execution_count": null,
   "id": "046cc640-b17e-4a42-bed3-a8f6516a65c2",
   "metadata": {},
   "outputs": [],
   "source": [
    "force=False; save_file=False; prompt_verbose=False\n",
    "dfa = enr.summary_degs_up_down(geneset_num=enr.geneset_num, force=force, save_file=save_file, prompt_verbose=prompt_verbose, verbose=False)\n",
    "print(len(dfa))\n",
    "dfa"
   ]
  },
  {
   "cell_type": "code",
   "execution_count": null,
   "id": "4967576f-fca3-441e-aa42-e4bf0b1ef146",
   "metadata": {},
   "outputs": [],
   "source": [
    "title = f'Up and Down {enr.s_deg_dep}s with the best cutoff'\n",
    "fig, dfa = enr.barplot_up_down_genes_per_case(title=title, width=1100, height=700, verbose=False)\n",
    "fig.show()"
   ]
  },
  {
   "cell_type": "code",
   "execution_count": null,
   "id": "2dabd90b-7564-44ab-b1e9-b12b4f6df033",
   "metadata": {},
   "outputs": [],
   "source": []
  }
 ],
 "metadata": {
  "kernelspec": {
   "display_name": "Python 3 (ipykernel)",
   "language": "python",
   "name": "python3"
  },
  "language_info": {
   "codemirror_mode": {
    "name": "ipython",
    "version": 3
   },
   "file_extension": ".py",
   "mimetype": "text/x-python",
   "name": "python",
   "nbconvert_exporter": "python",
   "pygments_lexer": "ipython3",
   "version": "3.11.11"
  }
 },
 "nbformat": 4,
 "nbformat_minor": 5
}
