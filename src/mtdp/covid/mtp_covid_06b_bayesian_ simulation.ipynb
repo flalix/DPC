{
 "cells": [
  {
   "cell_type": "code",
   "execution_count": null,
   "metadata": {},
   "outputs": [],
   "source": [
    "from platform import python_version\n",
    "print(python_version())"
   ]
  },
  {
   "cell_type": "markdown",
   "metadata": {},
   "source": [
    "### Bayesian approach\n",
    "\n",
    "Gene Expression or Protein Abundance is calculated in Transcriptomics and Proteomics experiments, usually calculating a case's log fold change (LFC) compared to control samples. Since there are multiple comparisons, the p-value of LFC is usually corrected using the False Discovery Rate (FDR) method. According to statistical practice, to calculate Differentially Expressed Genes (DEG) or Differentially Abundance Protein (DAP), there is a hard cutoff: absolute LFC (aLFC) >= 1 and FDRL < 0.05. However, many experiments did not find DEGs, and others found DEGs but could not find Enriched Pathways (EP), where again, a hard cutoff exists: FDRP < 0.05. If one applies Bayesian techniques, hard cutoffs will turn into posterior distribution with confidential intervals. Therefore, the cutoffs may be displaced and have an interval, not a hard cutoff. In this first study, we apply the Best Cutoff Algorithm to find ...\n",
    "\n",
    "#### Applying Bayes Theorem  \n",
    "\n",
    "$p(cutoffs | DEG) ∝ p(DEG | cutoffs) * p(cutoffs)$\n",
    "\n",
    "then,  \n",
    "\n",
    "$p( LFC_{abs}, FDR_{LFC} | DEG) ∝ p(DEG | LFC_{abs}, FDR_{LFC}) * p(LFC_{abs}, FDR_{LFC})$\n",
    "\n",
    "#### fixing FDR  \n",
    "\n",
    "$p( LFC_{abs} | DEG) ∝p(DEG | LFC_{abs}) * p(LFC_{abs}) ; for each  FDR_{LFC}$\n",
    "\n",
    "where,  \n",
    "\n",
    "$p(DEG | LFC_{abs}) = n_{DEGS} / n_{Genes}$\n",
    "\n",
    "defining,  \n",
    "\n",
    "$p(LFC_{abs}) = N(LFC_{default cutoff}, STD_{default cutoff})$"
   ]
  },
  {
   "cell_type": "code",
   "execution_count": null,
   "metadata": {},
   "outputs": [],
   "source": [
    "import os, sys, pickle\n",
    "\n",
    "import numpy as np\n",
    "import pandas as pd\n",
    "pd.set_option('display.width', 100)\n",
    "pd.set_option('max_colwidth', 80)\n",
    "\n",
    "from sklearn.feature_extraction.text import TfidfVectorizer\n",
    "from sklearn.decomposition import NMF\n",
    "\n",
    "import seaborn as sns\n",
    "sns.set_context(\"notebook\", font_scale=1.4)\n",
    "\n",
    "import matplotlib.pyplot as plt\n",
    "import matplotlib.gridspec as gridspec\n",
    "%matplotlib inline\n",
    "\n",
    "sys.path.insert(1, '../src/')\n",
    "\n",
    "from Basic import *\n",
    "from biopax_lib import *\n",
    "from config_lib import *\n",
    "from stat_lib import *\n",
    "\n",
    "from IPython.display import display, HTML\n",
    "display(HTML(\"<style>:root { --jp-notebook-max-width: 100% !important; }</style>\"))\n",
    "\n",
    "email = \"flalix@gmail.com\""
   ]
  },
  {
   "cell_type": "markdown",
   "metadata": {},
   "source": [
    "### Up and Down DEGs simulation"
   ]
  },
  {
   "cell_type": "code",
   "execution_count": null,
   "metadata": {},
   "outputs": [],
   "source": [
    "root_chibe = \"../../chibe/\"\n",
    "root_colab = '../../colaboracoes/'\n",
    "root0      = '../../colaboracoes/aparecida/'\n",
    "\n",
    "project = 'Medulloblastoma microarray study'\n",
    "s_project = 'medulloblastoma'\n",
    "\n",
    "gene_protein = 'dna'\n",
    "s_omics = 'microarray'\n",
    "\n",
    "has_age = False\n",
    "has_gender = False\n",
    "\n",
    "want_normalized = False\n",
    "exp_normalization='quantile_norm' if want_normalized else None\n",
    "normalization = 'not_normalized' if exp_normalization is None else exp_normalization\n",
    "\n",
    "abs_lfc_cutoff_inf = 0.80\n",
    "s_pathw_enrichm_method = 'enricher'\n",
    "num_min_degs_for_ptw_enr=3\n",
    "\n",
    "#------------ pathway pseudo-modulation index ------------\n",
    "tolerance_pathway_index = 0.15\n",
    "type_sat_ptw_index = 'linear_sat'\n",
    "saturation_lfc_index = 5\n",
    "\n",
    "case_list = ['WNT', 'G4']\n",
    "case = case_list[0]\n",
    "\n",
    "cfg = Config(project, s_project, case_list, root0)\n",
    "\n",
    "n_genes_annot_ptw, n_degs, n_degs_in_ptw, n_degs_not_in_ptw, degs_in_all_ratio = -1,-1,-1,-1,-1\n",
    "abs_lfc_cutoff, fdr_lfc_cutoff, n_degs, n_degs_up, n_degs_dw = cfg.get_best_lfc_cutoff(case, 'not_normalized')\n",
    "\n",
    "pval_pathway_cutoff = 0.05\n",
    "fdr_pathway_cutoff = .05\n",
    "num_of_genes_cutoff = 3\n",
    "\n",
    "print(f\"G/P LFC cutoffs: lfc={abs_lfc_cutoff:.3f}; fdr={fdr_lfc_cutoff:.3f}\")\n",
    "print(f\"Pathway cutoffs: pval={pval_pathway_cutoff:.3f}; fdr={fdr_pathway_cutoff:.3f}; num of genes={num_of_genes_cutoff}\")"
   ]
  },
  {
   "cell_type": "code",
   "execution_count": null,
   "metadata": {},
   "outputs": [],
   "source": [
    "pathway_name_id = 'Sensory Processing Of Sound By Inner Hair Cells Of Cochlea - R-HSA-9662360'\n",
    "pathway_name_id = 'Cardiac Conduction - R-HSA-5576891'\n",
    "pathway_name_id = 'RHOB GTPase Cycle - R-HSA-9013026'\n",
    "pathway_name_id = 'Gap Junction Assembly - R-HSA-190861'\n",
    "pathway_name_id = 'Opioid Signaling - R-HSA-111885'\n",
    "pathway_name_id = 'Neuronal System - R-HSA-112316'\n",
    "\n",
    "bpx = Biopax(gene_protein, s_omics, project, s_project, root0,\n",
    "             case_list, has_age, has_gender, clone_objects=False,\n",
    "             exp_normalization=exp_normalization, geneset_num=0, \n",
    "             num_min_degs_for_ptw_enr=num_min_degs_for_ptw_enr, \n",
    "             tolerance_pathway_index=tolerance_pathway_index, \n",
    "             s_pathw_enrichm_method = s_pathw_enrichm_method,\n",
    "             abs_lfc_cutoff_inf = abs_lfc_cutoff_inf, \n",
    "             type_sat_ptw_index=type_sat_ptw_index, saturation_lfc_index=saturation_lfc_index)\n",
    "\n",
    "case = case_list[0]\n",
    "\n",
    "bpx.cfg.set_default_best_lfc_cutoff(normalization, abs_lfc_cutoff=1, fdr_lfc_cutoff=0.05)\n",
    "ret, degs, degs_ensembl, dfdegs = bpx.open_case(case, prompt_verbose=True, verbose=False)\n",
    "print(\"\\nEcho Parameters:\")\n",
    "bpx.echo_parameters()\n",
    "geneset_num = bpx.geneset_num"
   ]
  },
  {
   "cell_type": "code",
   "execution_count": null,
   "metadata": {},
   "outputs": [],
   "source": [
    "bpx.case, bpx.group, bpx.gender, bpx.age, bpx.geneset_num, bpx.geneset_lib"
   ]
  },
  {
   "cell_type": "code",
   "execution_count": null,
   "metadata": {},
   "outputs": [],
   "source": []
  },
  {
   "cell_type": "code",
   "execution_count": null,
   "metadata": {},
   "outputs": [],
   "source": [
    "fdr_lista = np.round(np.arange(0.05, 0.80, 0.05), 2)\n",
    "\n",
    "width=1100\n",
    "height=600\n",
    "verbose=False\n",
    "\n",
    "dic_case = {}\n",
    "for case in case_list:\n",
    "    dic = bpx.calc_bayesian_cutoffs(case, ndraws=1000, xaxis_title='lfc', yaxis_title='p',\n",
    "            \t \t\t\t\t    fdr_lista=fdr_lista, perc_delta=0.01,\n",
    "            \t\t\t\t\t    width=width, height=height, plot_bgcolor='lightgray', verbose=verbose)\n",
    "\n",
    "    dic_case[case] = dic"
   ]
  },
  {
   "cell_type": "code",
   "execution_count": null,
   "metadata": {},
   "outputs": [],
   "source": [
    "list(dic.keys())"
   ]
  },
  {
   "cell_type": "code",
   "execution_count": null,
   "metadata": {
    "scrolled": true
   },
   "outputs": [],
   "source": [
    "for case in case_list:\n",
    "    print(\">>>\", case)\n",
    "    dic = dic_case[case]\n",
    "\n",
    "    for key, dic2 in dic.items():\n",
    "        case2= dic2['case']\n",
    "        fdr= dic2['fdr']\n",
    "        ci= dic2['CI_0.9']\n",
    "        lfc_max= dic2['lfc_max']\n",
    "        print(f\"case {case2}, fdr={fdr:.2e}, lfc_max={lfc_max:.3f}, ci={ci}\")\n",
    "        fig= dic2['fig']\n",
    "        fig.show()\n",
    "        print(\"\")"
   ]
  },
  {
   "cell_type": "code",
   "execution_count": null,
   "metadata": {},
   "outputs": [],
   "source": []
  },
  {
   "cell_type": "code",
   "execution_count": null,
   "metadata": {},
   "outputs": [],
   "source": []
  },
  {
   "cell_type": "code",
   "execution_count": null,
   "metadata": {},
   "outputs": [],
   "source": [
    "width=900\n",
    "height=600\n",
    "verbose=False\n",
    "\n",
    "for case in case_list:\n",
    "    print(\">>>\", case)\n",
    "    dic = dic_case[case]\n",
    "    dfc = pd.DataFrame(dic).T\n",
    "\n",
    "    fig= bpx.plot_bayesian_cutoff_series(case, dfc, width=width, height=height, plot_bgcolor='lightgray', verbose=verbose)\n",
    "    fig.show()\n",
    "    print(\"\")"
   ]
  },
  {
   "cell_type": "code",
   "execution_count": null,
   "metadata": {},
   "outputs": [],
   "source": [
    "cols2 = ['case', 'med_max_ptw', 'quantile', 'toi4_median', 'toi4_mean', 'abs_lfc_cutoff', 'fdr_lfc_cutoff', 'pathway_fdr_cutoff', \n",
    "        'n_pathways', 'n_degs_in_pathways', 'n_degs_in_pathways_mean',\n",
    "        'n_degs_in_pathways_median', 'n_degs_in_pathways_std',\n",
    "        'toi1_median', 'toi2_median', 'toi3_median']"
   ]
  },
  {
   "cell_type": "code",
   "execution_count": null,
   "metadata": {},
   "outputs": [],
   "source": [
    "dfbest = bpx.cfg.open_best_ptw_cutoff(verbose=False)\n",
    "dfbest = dfbest[dfbest.med_max_ptw == 'median']\n",
    "dfbest[cols2]"
   ]
  },
  {
   "cell_type": "code",
   "execution_count": null,
   "metadata": {},
   "outputs": [],
   "source": []
  }
 ],
 "metadata": {
  "kernelspec": {
   "display_name": "Python 3 (ipykernel)",
   "language": "python",
   "name": "python3"
  },
  "language_info": {
   "codemirror_mode": {
    "name": "ipython",
    "version": 3
   },
   "file_extension": ".py",
   "mimetype": "text/x-python",
   "name": "python",
   "nbconvert_exporter": "python",
   "pygments_lexer": "ipython3",
   "version": "3.12.0"
  }
 },
 "nbformat": 4,
 "nbformat_minor": 4
}
