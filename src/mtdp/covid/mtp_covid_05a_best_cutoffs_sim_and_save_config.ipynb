{
 "cells": [
  {
   "cell_type": "code",
   "execution_count": null,
   "id": "8507fa29-279b-4485-965b-77219389672d",
   "metadata": {},
   "outputs": [],
   "source": [
    "from platform import python_version\n",
    "print(python_version())"
   ]
  },
  {
   "cell_type": "markdown",
   "id": "63e76e01-0350-46f6-af69-5ef80e69bd04",
   "metadata": {},
   "source": [
    "### Definitions:\n",
    "  - LFC table has the following cutoffs:\n",
    "    - abs_LFC the absolute LFC cutoff value\n",
    "    - FDR_LFC, the FDR or p-value adjusted cutoff\n",
    "  - The enriched pathway table has:\n",
    "    - FDR_pathway cutoff value\n",
    "    - pval_cutoff - p-value cutoff, necessary when flexibilizing FDR_pathway_cutoff\n",
    "    - num_of_genes_cutoff - the minimum number of genes necessary to pick-up an enriched pathway\n",
    "   \n",
    "### Default cutoffs for LFC table:\n",
    "  - abs_LFC=1\n",
    "  - FDR_LFC=0.05\n",
    "  - therefore, the default DEG/DAP is defined as having the abs(LFC) >= 1 and FDR < 0.05\n",
    "\n",
    "### Default cutoffs for Enriched Pathways:\n",
    "  - fdr_pathway_cutoff=0.05\n",
    "  - pval_pathway_cutoff=0.05\n",
    "  - num_of_genes_cutoff=3\n",
    "  - therefore, an enriched pathways has FDR < 0.05 and at least 3 DEGs/DAPs\n",
    "\n",
    "### Calculating the best cutoffs:\n",
    "  - We proposed and calculated many indexes to define a new statistics to flebilize the LFC and Enriched Pathway cutoffs.\n",
    "    - Indexes are calculated for each case, each cutoff, and each resulting enriched pathway.\n",
    "  - To find the possible best LFC/FDR expression and FDR pathway cutoffs:\n",
    "     - We look for a high number in n_pathway and n_DEGs_in_pathway, having a low FDR_LFC and a high absLFC.\n",
    "       - The default FDR_LFC (0.05):\n",
    "          - It may have fewer DEGs, resulting in fewer enriched pathways.\n",
    "          - It may have fewer enriched pathways, even having many DEGs/DAPs.\n",
    "       - Therefore, a trade-off exists between optimizing (abs_LFC and FDR_LFC cutoffs) and (FDR_pathway cutoffs, n_pathways, and n_DEGs_in_pathways.)\n",
    "\n",
    "### An index measures the trade-off between \"LFC\" and \"Enriched Pathways\" cufoff -> LFC - Enriched Pathway Trade-Off Statistics (LEATOS)\n",
    "\n",
    "  - We proposed and calculated the following possible indexes:\n",
    "\n",
    "<p style=\"font-size: 20px; color: darkcyan;\">\n",
    "$index1=\\sqrt{-log{_{10}}{FDR_{pathway}} * \\frac{n}{N} }$ </p>\n",
    "\n",
    "<p style=\"font-size: 20px; color: darkcyan;\">\n",
    "$index2=\\sqrt{-log{_{10}}{FDR_{LFC}} * -log{_{10}}{FDR_{pathway}} }$ </p>\n",
    "\n",
    "<p style=\"font-size: 20px; color: darkcyan;\">\n",
    "$index3=(-log{_{10}}{FDR_{LFC}} * -log{_{10}}{FDR_{pathway}} * \\frac{n}{N})^{1/3}$ </p>\n",
    "\n",
    "<p style=\"font-size: 20px; color: darkred;\">\n",
    "$toi4=(abs\\_LFC * -log{_{10}}{FDR_{LFC}} * -log{_{10}}{FDR_{pathway}} * \\frac{n}{N})^{1/4}$ </p>\n",
    "\n",
    "where,\n",
    "  - n is the number of DEGs/DAPs found in the pathway\n",
    "  - N is the total number of annotated DEGs/DAPs in the pathway (depend in the database, our default database is Reactome 2022)\n",
    "\n",
    "### Then we searched for the best cutoffs\n",
    "  - In each 5 percentile of the index histogram, we look for the best abs_LFC, FDR_LFC, FDR_pathway:\n",
    "  -  We expected that the best cutoff should be in the right tail of the histogram (high index value.)\n",
    "  -  High index values must have a high number of n_pathways and n DEGs in pathways.\n",
    "\n",
    "### Testing the best cutoffs (for each case)\n",
    "\n",
    "  - Is the new set of cutoffs correct? good enough?\n",
    "  - How to establish that the calculated cutoff is correct?\n",
    "  - To answer these questions we calculated the chi-square test between the \"best cutoff\" and the \"default\"\n",
    "    - Best cutoff has:\n",
    "      - n DEGs/DAPs in pathways\n",
    "      - n DEGs/DAPs not in pathways\n",
    "    - The Default cutoff may have:\n",
    "      - n DEGs/DAPs in pathways\n",
    "      - n DEGs/DAPs not in pathways\n",
    "      - The DEGs/DAPs can be:\n",
    "        - greater or equal number of the best cutoff DEGs/DAPs\n",
    "        - fewer number of the best cutoff DEGs/DAPs:\n",
    "           - in this case, one complements the number of DEGs/DAPs with random genes not DEGs/DAPs (found in the experiment)\n",
    "\n",
    "#### Chi-square test:\n",
    "\n",
    "DEGs/DAPs | # in pathway | no in pathway\n",
    "--- | --- | --- \n",
    " Best cutoff |     A      |   B  \n",
    " Default cutoff |   C | D \n",
    "\n",
    "Chi-square p-value:\n",
    "  - p-value < 0.05 denotes that both distributions are not similar; therefore, random genes could not reach the best cutoff DEGs/DAPs; in conclusion, the best cutoff was not found randomly.\n",
    "  - p-value \\>= 0.05 denotes that both distributions are similar, and the best cutoff can be achieved randomly."
   ]
  },
  {
   "cell_type": "markdown",
   "id": "f77d0482-6e03-4a6a-9698-038bc4255893",
   "metadata": {},
   "source": [
    "### For excel"
   ]
  },
  {
   "cell_type": "code",
   "execution_count": null,
   "id": "f5a3b22e",
   "metadata": {},
   "outputs": [],
   "source": [
    "import os, sys, pickle\n",
    "\n",
    "import numpy as np\n",
    "import pandas as pd\n",
    "pd.set_option('display.width', 100)\n",
    "pd.set_option('max_colwidth', 80)\n",
    "pd.set_option(\"display.precision\", 3)\n",
    "\n",
    "import yaml\n",
    "\n",
    "import seaborn as sns\n",
    "sns.set_context(\"notebook\", font_scale=1.4)\n",
    "\n",
    "import matplotlib.pyplot as plt\n",
    "import matplotlib.gridspec as gridspec\n",
    "%matplotlib inline\n",
    "\n",
    "sys.path.insert(1, '../src/')\n",
    "\n",
    "from Basic import *\n",
    "from enricher_lib import *\n",
    "from config_lib import *\n",
    "\n",
    "import warnings\n",
    "warnings.filterwarnings(\"ignore\")\n",
    "\n",
    "from IPython.display import display, HTML\n",
    "display(HTML(\"<style>:root { --jp-notebook-max-width: 100% !important; }</style>\"))\n",
    "\n",
    "# !pip3 install pyyaml\n",
    "with open('params.yml', 'r') as file:\n",
    "    dic_yml=yaml.safe_load(file)"
   ]
  },
  {
   "cell_type": "code",
   "execution_count": null,
   "id": "2bdaf5e7",
   "metadata": {},
   "outputs": [],
   "source": [
    "root0=dic_yml['root0']\n",
    "email=dic_yml['email']\n",
    "\n",
    "project=dic_yml['project']\n",
    "s_project=dic_yml['s_project']\n",
    "\n",
    "gene_protein=dic_yml['gene_protein']\n",
    "s_omics=dic_yml['s_omics']\n",
    "\n",
    "has_age=dic_yml['has_age']\n",
    "has_gender=dic_yml['has_gender']\n",
    "\n",
    "want_normalized=dic_yml['want_normalized']\n",
    "\n",
    "abs_lfc_cutoff_inf=dic_yml['abs_lfc_cutoff_inf']\n",
    "s_pathw_enrichm_method=dic_yml['s_pathw_enrichm_method']\n",
    "num_min_degs_for_ptw_enr=dic_yml['num_min_degs_for_ptw_enr']\n",
    "\n",
    "tolerance_pathway_index=dic_yml['tolerance_pathway_index']\n",
    "type_sat_ptw_index=dic_yml['type_sat_ptw_index']\n",
    "saturation_lfc_index=dic_yml['saturation_lfc_index']\n",
    "chosen_model_sampling=dic_yml['chosen_model_sampling']\n",
    "\n",
    "case_list=dic_yml['case_list']\n",
    "\n",
    "pval_pathway_cutoff=dic_yml['pval_pathway_cutoff']\n",
    "fdr_pathway_cutoff=dic_yml['fdr_pathway_cutoff']\n",
    "num_of_genes_cutoff=dic_yml['num_of_genes_cutoff']\n",
    "\n",
    "run_list=dic_yml['run_list']\n",
    "chosen_model_list=dic_yml['chosen_model_list']\n",
    "i_dfp_list=dic_yml['i_dfp_list']\n",
    "\n",
    "exp_normalization='quantile_norm' if want_normalized else None\n",
    "normalization='not_normalized' if exp_normalization is None else exp_normalization\n",
    "\n",
    "cfg=Config(project, s_project, case_list, root0)\n",
    "\n",
    "case=case_list[0]\n",
    "\n",
    "n_genes_annot_ptw, n_degs, n_degs_in_ptw, n_degs_not_in_ptw, degs_in_all_ratio=-1,-1,-1,-1,-1\n",
    "abs_lfc_cutoff, fdr_lfc_cutoff, n_degs, n_degs_up, n_degs_dw=cfg.get_best_lfc_cutoff(case, 'not_normalized')\n",
    "\n",
    "\n",
    "print(f\"G/P LFC cutoffs: lfc={abs_lfc_cutoff:.3f}; fdr={fdr_lfc_cutoff:.3f}\")\n",
    "print(f\"Pathway cutoffs: pval={pval_pathway_cutoff:.3f}; fdr={fdr_pathway_cutoff:.3f}; num of genes={num_of_genes_cutoff}\")"
   ]
  },
  {
   "cell_type": "code",
   "execution_count": null,
   "id": "2d76e2fd",
   "metadata": {},
   "outputs": [],
   "source": [
    "enr=enricheR(gene_protein, s_omics, project, s_project, root0,\n",
    "             case_list, has_age, has_gender, clone_objects=False,\n",
    "             exp_normalization=exp_normalization, geneset_num=0, \n",
    "             num_min_degs_for_ptw_enr=num_min_degs_for_ptw_enr, \n",
    "             tolerance_pathway_index=tolerance_pathway_index, \n",
    "             s_pathw_enrichm_method=s_pathw_enrichm_method,\n",
    "             abs_lfc_cutoff_inf=abs_lfc_cutoff_inf, \n",
    "             type_sat_ptw_index=type_sat_ptw_index, saturation_lfc_index=saturation_lfc_index)\n",
    "\n",
    "case=case_list[0]\n",
    "\n",
    "enr.cfg.set_default_best_lfc_cutoff(normalization, abs_lfc_cutoff=1, fdr_lfc_cutoff=0.05)\n",
    "ret, degs, degs_ensembl, dfdegs=enr.open_case(case, verbose=False)\n",
    "print(\"\\nEcho Parameters:\")\n",
    "enr.echo_parameters()\n",
    "geneset_num=enr.geneset_num"
   ]
  },
  {
   "cell_type": "code",
   "execution_count": null,
   "id": "071a372e-33fe-4a2d-a733-7551bb3b34dd",
   "metadata": {},
   "outputs": [],
   "source": [
    "enr.case, enr.group, enr.gender, enr.age, enr.geneset_num, enr.abs_lfc_cutoff_inf"
   ]
  },
  {
   "cell_type": "code",
   "execution_count": null,
   "id": "c8bb9577-9450-4ff5-85a3-3ff884f4454f",
   "metadata": {},
   "outputs": [],
   "source": [
    "enr.abs_lfc_cutoff_inf, abs_lfc_cutoff_inf"
   ]
  },
  {
   "cell_type": "code",
   "execution_count": null,
   "id": "638c214b-6c12-4180-815e-1a5f40b04d5e",
   "metadata": {
    "scrolled": true
   },
   "outputs": [],
   "source": [
    "for case in case_list:\n",
    "    ret, degs, degs_ensembl, dfdegs=enr.open_case(case, save_file=True, verbose=False)\n",
    "    enr.echo_parameters()\n",
    "    print(\"\\n\\n\\n\")"
   ]
  },
  {
   "cell_type": "code",
   "execution_count": null,
   "id": "f480931d-a4bd-4831-94f8-37943b324a3f",
   "metadata": {},
   "outputs": [],
   "source": []
  },
  {
   "cell_type": "markdown",
   "id": "d13cddae-7678-44f0-8d5d-7f497729d9b1",
   "metadata": {},
   "source": [
    "### Find another case=g2a_female"
   ]
  },
  {
   "cell_type": "code",
   "execution_count": null,
   "id": "5e22bb81-53e7-4cf9-927b-3a39b7c72f79",
   "metadata": {},
   "outputs": [],
   "source": [
    "case=case_list[1]\n",
    "ret, degs, degs_ensembl, dfdegs=enr.open_case(case, verbose=False)\n",
    "enr.echo_parameters()"
   ]
  },
  {
   "cell_type": "markdown",
   "id": "3ca75b2c-bc70-4e58-8166-f15fb8f398c4",
   "metadata": {},
   "source": [
    "### Reference database"
   ]
  },
  {
   "cell_type": "code",
   "execution_count": null,
   "id": "bf242ead-b254-4f2e-bd29-d5da927da8f7",
   "metadata": {},
   "outputs": [],
   "source": [
    "enr.geneset_num, enr.geneset_lib, enr.dbs_list"
   ]
  },
  {
   "cell_type": "code",
   "execution_count": null,
   "id": "8b4c0d8d-390a-439f-8e62-b76ab89e6186",
   "metadata": {},
   "outputs": [],
   "source": [
    "enr.set_db(0, verbose=True)"
   ]
  },
  {
   "cell_type": "code",
   "execution_count": null,
   "id": "385b529d-3d13-4455-8c4b-d9668525ddbf",
   "metadata": {},
   "outputs": [],
   "source": [
    "# dfsum=enr.summary_degs_and_pathways(force=False, verbose=False)\n",
    "# dfsum"
   ]
  },
  {
   "cell_type": "code",
   "execution_count": null,
   "id": "0407dd4d-cf3a-4d6c-9776-67504c42aa51",
   "metadata": {},
   "outputs": [],
   "source": [
    "fname_final_ori, fname_ori, title=enr.set_lfc_names()\n",
    "fname_final_ori, title"
   ]
  },
  {
   "cell_type": "markdown",
   "id": "1101e0e3-2265-4ad8-b7a5-60dafbcae922",
   "metadata": {},
   "source": [
    "### Sampling cutoffs"
   ]
  },
  {
   "cell_type": "code",
   "execution_count": null,
   "id": "3930bd5e",
   "metadata": {
    "scrolled": true
   },
   "outputs": [],
   "source": [
    "geneset_num_list=[0, 1, 2, 4, 5, 7]\n",
    "want=False\n",
    "\n",
    "if want:\n",
    "    for geneset_num in geneset_num_list:\n",
    "        enr.set_db(geneset_num, verbose=True)\n",
    "    \n",
    "        s_start=f\"enricher_{enr.geneset_lib}\"\n",
    "    \n",
    "        for case in case_list:\n",
    "            files=[x for x in os.listdir(enr.root_enrichment) if x.startswith(s_start) and case in x]\n",
    "            print(\"\\tcase\", case, len(files))\n",
    "    \n",
    "        print('')"
   ]
  },
  {
   "cell_type": "code",
   "execution_count": null,
   "id": "776aab65-07c2-46b1-b5b1-e8d3384ef2eb",
   "metadata": {},
   "outputs": [],
   "source": []
  },
  {
   "cell_type": "markdown",
   "id": "40d36527",
   "metadata": {},
   "source": [
    "### Define case"
   ]
  },
  {
   "cell_type": "code",
   "execution_count": null,
   "id": "42822773-5ea7-404b-9e8d-f76dd543aa9e",
   "metadata": {},
   "outputs": [],
   "source": [
    "geneset_num=0\n",
    "enr.set_db(geneset_num, verbose=True)\n",
    "enr.geneset_num, enr.geneset_lib"
   ]
  },
  {
   "cell_type": "code",
   "execution_count": null,
   "id": "0217b466",
   "metadata": {
    "scrolled": true
   },
   "outputs": [],
   "source": [
    "i=3\n",
    "case=case_list[i]\n",
    "\n",
    "ret, degs, degs_ensembl, dfdegs=enr.open_case(case, verbose=False)\n",
    "print(f\"G/P cutoff: lfc={enr.abs_lfc_cutoff:.3f}; lfc_fdr={enr.fdr_lfc_cutoff:.3f}\")\n",
    "len(degs)"
   ]
  },
  {
   "cell_type": "code",
   "execution_count": null,
   "id": "60c02526",
   "metadata": {},
   "outputs": [],
   "source": []
  },
  {
   "cell_type": "markdown",
   "id": "b1671c0c-e0b5-4af5-a60f-6c1b8afe9977",
   "metadata": {},
   "source": [
    "### best_cutoff_quantiles() - for Reactome - return dfcut"
   ]
  },
  {
   "cell_type": "code",
   "execution_count": null,
   "id": "cc360204-86cc-437f-a1e2-0c2e7852064d",
   "metadata": {},
   "outputs": [],
   "source": [
    "fname=enr.fname_enr_gene_stat%(enr.case, enr.geneset_lib, enr.normalization)\n",
    "filefull=os.path.join(enr.root_ressum, fname)\n",
    "\n",
    "os.path.exists(filefull), fname"
   ]
  },
  {
   "cell_type": "code",
   "execution_count": null,
   "id": "33e65c6f-7115-481e-aa14-74093ca7019a",
   "metadata": {},
   "outputs": [],
   "source": [
    "enr.set_enrichment_name()"
   ]
  },
  {
   "cell_type": "code",
   "execution_count": null,
   "id": "49170be1-b56b-4045-bc09-e4560d2b03ed",
   "metadata": {},
   "outputs": [],
   "source": [
    "force=False; verbose=False\n",
    "print(\">>>\", case)\n",
    "dfi=enr.calc_enrichment_cutoff_params_and_ndxs_per_case_and_geneset_lib(case, force=force, verbose=verbose)\n",
    "print(len(dfi))\n",
    "dfi.head(3)"
   ]
  },
  {
   "cell_type": "code",
   "execution_count": null,
   "id": "ba02e190-eeed-4f65-97e4-63b5299448e9",
   "metadata": {},
   "outputs": [],
   "source": []
  },
  {
   "cell_type": "markdown",
   "id": "7b560bcb-1f9c-46fa-9de0-3cd117b2eab8",
   "metadata": {},
   "source": [
    "## build_all_cutoffs_table(col)\n",
    "  - loop case_list\n",
    "    - best_cutoff_quantiles()\n",
    "      - calc_enrichment_cutoff_params_and_ndxs_per_case_and_geneset_lib\n",
    "\n",
    "## Next, calc_best_cutoffs_params()"
   ]
  },
  {
   "cell_type": "code",
   "execution_count": null,
   "id": "05effad2-7fe6-440b-aadb-ba5914e2a8b1",
   "metadata": {},
   "outputs": [],
   "source": [
    "enr.open_enriched_pathways_summary()"
   ]
  },
  {
   "cell_type": "code",
   "execution_count": null,
   "id": "88eb2ba6-c96c-42d4-a5fe-deed5364d64b",
   "metadata": {},
   "outputs": [],
   "source": [
    "enr.abs_lfc_cutoff_inf"
   ]
  },
  {
   "cell_type": "markdown",
   "id": "56804f37-1bd6-4fc8-a23d-96818f557950",
   "metadata": {},
   "source": [
    "#### build_all_cutoffs_table\n",
    "\n",
    "  - for cols=['toi1_median', 'toi2_median', 'toi3_median', 'toi4_median']\n",
    "    - build_all_cutoffs_table()\n",
    "      - for each case\n",
    "        - for  med_max_ptw in ['median', 'maximum', 'pathway']:\n",
    "          - best_cutoff_quantiles\n",
    "            - dfi=self.calc_enrichment_cutoff_params_and_ndxs_per_case_and_geneset_lib(case, force=force, verbose=verbose)\n"
   ]
  },
  {
   "cell_type": "code",
   "execution_count": null,
   "id": "da419aff-d052-467a-bb4d-41cdadcb8b7b",
   "metadata": {},
   "outputs": [],
   "source": [
    "cols=['toi1_median', 'toi2_median', 'toi3_median', 'toi4_median']\n",
    "geneset_num=0\n",
    "enr.set_db(geneset_num)\n",
    "print(enr.geneset_num, enr.geneset_lib, '\\n')\n",
    "\n",
    "for col in cols:\n",
    "    print(\">>>\", col)\n",
    "    dfcut=enr.build_all_cutoffs_table(selected_toi_col=col, force=force, verbose=False)"
   ]
  },
  {
   "cell_type": "code",
   "execution_count": null,
   "id": "7b7429ba-8bfc-4102-985b-1163e38a6b2a",
   "metadata": {},
   "outputs": [],
   "source": [
    "cols=['toi1_median', 'toi2_median', 'toi3_median', 'toi4_median']\n",
    "force=False\n",
    "\n",
    "geneset_num=0\n",
    "enr.set_db(geneset_num)\n",
    "print(enr.geneset_num, enr.geneset_lib, '\\n')\n",
    "\n",
    "for col in cols:\n",
    "    print(\">>>\", col)\n",
    "    dfcut=enr.build_all_cutoffs_table(selected_toi_col=col, force=force, verbose=False)\n"
   ]
  },
  {
   "cell_type": "code",
   "execution_count": null,
   "id": "44937a66-ecab-4070-b9cf-3701e88f3543",
   "metadata": {},
   "outputs": [],
   "source": [
    "dfcut.columns"
   ]
  },
  {
   "cell_type": "code",
   "execution_count": null,
   "id": "10d5b6c2-7e59-4a2e-a946-817eae4c8f4d",
   "metadata": {},
   "outputs": [],
   "source": [
    "enr.case_list"
   ]
  },
  {
   "cell_type": "code",
   "execution_count": null,
   "id": "6464ec35-f643-4ad5-a7c8-a31f86f5599a",
   "metadata": {},
   "outputs": [],
   "source": [
    "case=enr.case_list[3]\n",
    "print(\">>\", case)\n",
    "dfi=enr.calc_enrichment_cutoff_params_and_ndxs_per_case_and_geneset_lib(case, force=False, verbose=False)\n",
    "df2=dfi[ (dfi.case == case)]\n",
    "maxi=df2.toi4_median.max()\n",
    "median=df2.toi4_median.median()\n",
    "maxi, median"
   ]
  },
  {
   "cell_type": "code",
   "execution_count": null,
   "id": "6b022c87-8568-4251-83f1-fe2539cf8fae",
   "metadata": {},
   "outputs": [],
   "source": [
    "case=enr.case_list[2]\n",
    "print(\">>\", case)\n",
    "dfi=enr.calc_enrichment_cutoff_params_and_ndxs_per_case_and_geneset_lib(case, force=False, verbose=False)\n",
    "df2=dfi[ (dfi.case == case)]\n",
    "maxi=df2.toi4_median.max()\n",
    "median=df2.toi4_median.median()\n",
    "maxi, median"
   ]
  },
  {
   "cell_type": "code",
   "execution_count": null,
   "id": "6f8353cb-7b7d-4a99-8f6a-5545847b9b70",
   "metadata": {},
   "outputs": [],
   "source": [
    "df3=df2[ (df2.toi4_median == maxi)]\n",
    "df3"
   ]
  },
  {
   "cell_type": "code",
   "execution_count": null,
   "id": "df59a53d-3fb6-42d4-9524-e1196419e837",
   "metadata": {},
   "outputs": [],
   "source": []
  },
  {
   "cell_type": "code",
   "execution_count": null,
   "id": "906140da-06d1-470d-a5ff-8a4a92c528d5",
   "metadata": {},
   "outputs": [],
   "source": [
    "cols=['case', 'geneset_num', 'normalization', 'med_max_ptw', 'parameter', 'quantile',\n",
    "      'quantile_val', 'quantile_val_inf', 'quantile_val_sup', \n",
    "      'abs_lfc_cutoff', 'fdr_lfc_cutoff', \n",
    "      'pathway_pval_cutoff', 'pathway_fdr_cutoff', 'num_of_genes_cutoff',\n",
    "      'n_pathways', 'n_degs_in_pathways', \n",
    "      'n_degs_in_pathways_mean', 'n_degs_in_pathways_median', 'n_degs_in_pathways_std', \n",
    "      'toi1_mean', 'toi1_median', 'toi1_std',\n",
    "      'toi2_mean', 'toi2_median', 'toi2_std',\n",
    "      'toi3_mean', 'toi3_median', 'toi3_std',\n",
    "      'toi4_mean', 'toi4_median', 'toi4_std',]\n",
    "\n",
    "cols=['case', 'med_max_ptw', 'quantile', 'toi4_median', 'abs_lfc_cutoff', 'fdr_lfc_cutoff',\n",
    "        'pathway_pval_cutoff', 'pathway_fdr_cutoff', 'n_pathways', 'n_degs_in_pathways',\n",
    "        'toi1_median', 'toi2_median', 'toi3_median']"
   ]
  },
  {
   "cell_type": "markdown",
   "id": "e6dfad34-6b5f-475f-8e8a-9810dbb8ec6e",
   "metadata": {},
   "source": [
    "### Look for different approaches (sorting)"
   ]
  },
  {
   "cell_type": "code",
   "execution_count": null,
   "id": "078901b6-9324-46bd-b905-3e9494935717",
   "metadata": {},
   "outputs": [],
   "source": [
    "dfcut.case.unique()"
   ]
  },
  {
   "cell_type": "code",
   "execution_count": null,
   "id": "d3886eab-0c3f-4263-bafe-0325049a9a04",
   "metadata": {},
   "outputs": [],
   "source": [
    "i=3\n",
    "case=enr.case_list[i]\n",
    "print(\">>\", case)"
   ]
  },
  {
   "cell_type": "code",
   "execution_count": null,
   "id": "9cfec3e1-3498-4281-89a3-9d791f7a167f",
   "metadata": {},
   "outputs": [],
   "source": [
    "col='toi1_median'\n",
    "dfcut=enr.build_all_cutoffs_table(selected_toi_col=col, force=False, verbose=False)\n",
    "df2=dfcut[(dfcut.case == case) & (dfcut.n_degs_in_pathways > 3) & (dfcut.med_max_ptw == 'median')]\n",
    "df2=df2.sort_values(col, ascending=False)\n",
    "df2[cols].head(6)"
   ]
  },
  {
   "cell_type": "code",
   "execution_count": null,
   "id": "5191995c-ad76-4cde-ad92-ae3869f1e987",
   "metadata": {},
   "outputs": [],
   "source": [
    "col='toi2_median'\n",
    "dfcut=enr.build_all_cutoffs_table(selected_toi_col=col, force=False, verbose=False)\n",
    "df2=dfcut[(dfcut.case == case) & (dfcut.n_degs_in_pathways > 3) & (dfcut.med_max_ptw == 'median')]\n",
    "df2=df2.sort_values(col, ascending=False)\n",
    "df2[cols].head(6)"
   ]
  },
  {
   "cell_type": "code",
   "execution_count": null,
   "id": "91613ac1-7fa3-4613-b639-4c26ddddcc7c",
   "metadata": {},
   "outputs": [],
   "source": [
    "col='toi3_median'\n",
    "dfcut=enr.build_all_cutoffs_table(selected_toi_col=col, force=False, verbose=False)\n",
    "df2=dfcut[(dfcut.case == case) & (dfcut.n_degs_in_pathways > 3) & (dfcut.med_max_ptw == 'median')]\n",
    "df2=df2.sort_values(col, ascending=False)\n",
    "df2[cols].head(6)"
   ]
  },
  {
   "cell_type": "code",
   "execution_count": null,
   "id": "dab27351-d44a-4c72-a481-150e8c02b6db",
   "metadata": {},
   "outputs": [],
   "source": [
    "col='toi4_median'\n",
    "dfcut=enr.build_all_cutoffs_table(selected_toi_col=col, force=False, verbose=False)\n",
    "df2=dfcut[(dfcut.case == case) & (dfcut.n_degs_in_pathways > 3) & (dfcut.med_max_ptw == 'median')]\n",
    "df2=df2.sort_values(col, ascending=False)\n",
    "df2[cols].head(6)"
   ]
  },
  {
   "cell_type": "markdown",
   "id": "68f56455-f3ab-4ae0-bcc4-9582ea098ac4",
   "metadata": {},
   "source": [
    "### Bad way to cut - by n_pathways"
   ]
  },
  {
   "cell_type": "code",
   "execution_count": null,
   "id": "1d4af0fd-b9f4-451f-aed0-a9cf0ca9769d",
   "metadata": {},
   "outputs": [],
   "source": [
    "dfa=dfcut[dfcut.case == case].sort_values(['n_pathways', 'n_degs_in_pathways', 'pathway_fdr_cutoff'], ascending=[False, False, True])\n",
    "dfa[cols].head(9)"
   ]
  },
  {
   "cell_type": "code",
   "execution_count": null,
   "id": "b3d7030b-220a-4074-96c3-9215b960e40e",
   "metadata": {},
   "outputs": [],
   "source": [
    "dfa=dfcut[dfcut.case == case].sort_values(['n_degs_in_pathways', 'n_pathways', 'pathway_fdr_cutoff'], ascending=[False, False, True])\n",
    "dfa[cols].head(9)"
   ]
  },
  {
   "cell_type": "code",
   "execution_count": null,
   "id": "e61b1dcf-ef29-49d7-8660-2936117d54f4",
   "metadata": {},
   "outputs": [],
   "source": [
    "dfa=dfcut[dfcut.case == case].sort_values(['pathway_fdr_cutoff', 'n_pathways', 'n_degs_in_pathways'], ascending=[True, False, False])\n",
    "dfa[cols].head(9)"
   ]
  },
  {
   "cell_type": "code",
   "execution_count": null,
   "id": "2a73194a-9de6-4aa6-8342-a972d4e3c98c",
   "metadata": {},
   "outputs": [],
   "source": [
    "dfa=dfcut[dfcut.case == case].sort_values(['pathway_fdr_cutoff', 'n_pathways', 'n_degs_in_pathways'], ascending=[True, False, False])\n",
    "dfa[cols].head(9)"
   ]
  },
  {
   "cell_type": "markdown",
   "id": "95b0af3d-123a-424d-91a0-0338d9c76577",
   "metadata": {},
   "source": [
    "### Revisting DEGs and n_Pathwys x abs_LFC cutoff correlation\n",
    "\n",
    "#### return dic_fig\n",
    "  - which in ['deg', 'up', 'down']"
   ]
  },
  {
   "cell_type": "code",
   "execution_count": null,
   "id": "3b135e53-f875-441f-b939-0244af9f55cf",
   "metadata": {},
   "outputs": [],
   "source": [
    "plot_up_down=False\n",
    "\n",
    "corr_cutoff=-0.90\n",
    "nregs_fdr=5\n",
    "\n",
    "for case in case_list:\n",
    "    print(\">>\", case)\n",
    "    ret, dic_fig, df_fdr=enr.plot_nDEG_curve_per_LFC_FDR(case, width=1100, height=700, title=None, \n",
    "                                                           corr_cutoff=corr_cutoff, nregs_fdr=nregs_fdr, verbose=verbose)\n",
    "    \n",
    "    print(\"deg\")\n",
    "    dic_fig['deg'].show()\n",
    "\n",
    "    if plot_up_down:\n",
    "        print(\"up\")\n",
    "        dic_fig['up'].show()\n",
    "        print(\"down\")\n",
    "        dic_fig['down'].show()\n",
    "        \n",
    "    print()"
   ]
  },
  {
   "cell_type": "markdown",
   "id": "fa96293d-7521-4af5-b348-0f6c82fd423f",
   "metadata": {},
   "source": [
    "### Revisting DEGs and n_Pathways x toi4 median"
   ]
  },
  {
   "cell_type": "code",
   "execution_count": null,
   "id": "d17b07b8-ca61-4f93-858f-21bf34cb7abe",
   "metadata": {},
   "outputs": [],
   "source": [
    "colors=['navy', 'red', 'darkcyan', 'darkgreen', 'orange', 'brown', 'darksalmon',\n",
    "        'magenta', 'darkturquoise', 'orange', 'darkred', 'indigo', 'magenta', 'maroon', 'black',\n",
    "        'darkblue', 'darkcyan', 'darkgoldenrod', 'darkgray', 'darkgrey', 'olivedrab', 'navy'] + plotly_colors_proteins"
   ]
  },
  {
   "cell_type": "markdown",
   "id": "a5c9fb3a-d9b5-4d82-9fa8-43ede2116530",
   "metadata": {},
   "source": [
    "### New plot - dash combo"
   ]
  },
  {
   "cell_type": "code",
   "execution_count": null,
   "id": "9d5411fc-e728-4c93-8c97-d7c03f2e8a62",
   "metadata": {},
   "outputs": [],
   "source": [
    "selected_toi_col='toi4_median'\n",
    "force=False\n",
    "\n",
    "dfcut=enr.build_all_cutoffs_table(selected_toi_col=selected_toi_col, force=force, verbose=verbose)\n",
    "dfcut.columns\n",
    "\n",
    "maxi_x=np.round(dfcut[selected_toi_col].max(), 3) + 0.001\n",
    "maxi_x"
   ]
  },
  {
   "cell_type": "code",
   "execution_count": null,
   "id": "348e16c2-3482-40b9-afcd-8c31690ef1a6",
   "metadata": {},
   "outputs": [],
   "source": [
    "case=enr.case\n",
    "\n",
    "df_fdr=enr.open_fdr_lfc_correlation(case=case)\n",
    "print(len(df_fdr))\n",
    "df_fdr.head(3)"
   ]
  },
  {
   "cell_type": "code",
   "execution_count": null,
   "id": "dfe83a9d-7cb6-4b07-9de5-7b176d051a31",
   "metadata": {},
   "outputs": [],
   "source": [
    "fdr=0.2\n",
    "\n",
    "dfcut=enr.build_all_cutoffs_table(selected_toi_col, force=False, verbose=False)\n",
    "df2=dfcut[ (dfcut.case == case) & (dfcut.fdr_lfc_cutoff == fdr)  & (dfcut.med_max_ptw == 'median')]\n",
    "df2"
   ]
  },
  {
   "cell_type": "code",
   "execution_count": null,
   "id": "3eeef5c1-fd73-4246-b7dc-e9b4b12a12ce",
   "metadata": {},
   "outputs": [],
   "source": [
    "enr.abs_lfc_cutoff_inf, case"
   ]
  },
  {
   "cell_type": "code",
   "execution_count": null,
   "id": "be638936-ed69-4f4b-b0da-69c43ac99fbb",
   "metadata": {},
   "outputs": [],
   "source": [
    "dfcut=enr.build_all_cutoffs_table(selected_toi_col, force=False, verbose=False)\n",
    "# print(dfcut.columns)\n",
    "cols=['case', 'geneset_num', 'normalization', 'med_max_ptw', \n",
    "        'quantile', 'quantile_val_inf', 'quantile_val_sup',\n",
    "        'abs_lfc_cutoff', 'fdr_lfc_cutoff', 'pathway_fdr_cutoff',  'n_pathways',\n",
    "        'n_degs_in_pathways', 'toi4_median']  #  'toi1_median', 'toi2_median',  'toi3_median',\n",
    "case=case_list[4]\n",
    "\n",
    "fdr=0.40\n",
    "df2=dfcut[ (dfcut.case == case) & (dfcut.normalization == enr.normalization) & (dfcut.geneset_num == enr.geneset_num) &\n",
    "             (dfcut.med_max_ptw == 'median')]  # (dfcut.fdr_lfc_cutoff == fdr)\n",
    "df2[cols].head(3)"
   ]
  },
  {
   "cell_type": "markdown",
   "id": "547cde21-4a30-442a-8b49-f34f0c6192dd",
   "metadata": {},
   "source": [
    "### The TOI landdscape"
   ]
  },
  {
   "cell_type": "code",
   "execution_count": null,
   "id": "094a9032-37af-4571-b4a1-1c038e9ada78",
   "metadata": {},
   "outputs": [],
   "source": [
    "height=1200\n",
    "\n",
    "fig=enr.plot_degs_in_pathways_vs_toi_per_case(selected_toi_col=selected_toi_col, title=None, plot_all_dfi=True,\n",
    "                                                width=1100, height=height, sel_colors=None, plot_bgcolor='lightgray', verbose=False)\n",
    "\n",
    "if fig: fig.show()"
   ]
  },
  {
   "cell_type": "code",
   "execution_count": null,
   "id": "31026ff6-c2a3-44b3-aca8-7518a8b88eb8",
   "metadata": {},
   "outputs": [],
   "source": []
  },
  {
   "cell_type": "code",
   "execution_count": null,
   "id": "06482d06-04eb-4020-a511-23e615774d9e",
   "metadata": {},
   "outputs": [],
   "source": [
    "fig=enr.plot_degs_in_pathways_vs_toi_per_case(selected_toi_col=selected_toi_col, title=None, plot_all_dfi=False,\n",
    "                                              width=1100, height=1000, sel_colors=None, plot_bgcolor='lightgray', verbose=False)\n",
    "\n",
    "if fig: fig.show()"
   ]
  },
  {
   "cell_type": "code",
   "execution_count": null,
   "id": "0430616d-b52c-40ec-b053-9c49a29e68ed",
   "metadata": {},
   "outputs": [],
   "source": []
  },
  {
   "cell_type": "markdown",
   "id": "95205366-8c9d-499f-8ca7-98db474ca06c",
   "metadata": {},
   "source": [
    "### best_cutoff_quantiles() - for Reactome - return dfcut"
   ]
  },
  {
   "cell_type": "code",
   "execution_count": null,
   "id": "9cca6e36-84c4-4d3f-932b-dd95a99a46b4",
   "metadata": {},
   "outputs": [],
   "source": [
    "fname, fname_cut=enr.set_enrichment_name()\n",
    "\n",
    "# name='enricher_Reactome_2022_medulloblastoma_microarray_for_WNT_x_ctrl_not_normalized_cutoff_lfc_0.950_fdr_0.200_pathway_pval_0.050_fdr_0.450_num_genes_3.tsv'\n",
    "\"; \".join(fname_cut.split('_'))"
   ]
  },
  {
   "cell_type": "code",
   "execution_count": null,
   "id": "e8aca20a-dd88-470d-b788-c624c2fe806f",
   "metadata": {},
   "outputs": [],
   "source": [
    "cols=['case', 'med_max_ptw', 'quantile', 'toi4_median', 'abs_lfc_cutoff', 'fdr_lfc_cutoff',\n",
    "      'pathway_pval_cutoff', 'pathway_fdr_cutoff', 'n_pathways', 'n_degs_in_pathways',\n",
    "      'toi1_median', 'toi2_median', 'toi3_median']"
   ]
  },
  {
   "cell_type": "code",
   "execution_count": null,
   "id": "25d7c8b4-74cb-4638-abac-1883acdf1155",
   "metadata": {},
   "outputs": [],
   "source": [
    "case=case_list[0]\n",
    "selected_toi_col='toi4_median'\n",
    "\n",
    "df2=dfcut[(dfcut.case == case) & (dfcut.med_max_ptw == 'median')]\n",
    "df2=df2.sort_values(selected_toi_col, ascending=False)\n",
    "df2[cols].head(6)"
   ]
  },
  {
   "cell_type": "markdown",
   "id": "93619c01-9bd6-46c0-9402-1cab2791e241",
   "metadata": {},
   "source": [
    "### Comparing: toi4 (or 1,2,3), n_pathways, n_degs_in_pathways\n",
    "### which is them best?\n",
    "  - n_best_samples=4 ... the lowest FDRs and highest abs_LFC"
   ]
  },
  {
   "cell_type": "code",
   "execution_count": null,
   "id": "fb6e5843-1901-4c8c-9868-d7bdc34b1bc1",
   "metadata": {},
   "outputs": [],
   "source": [
    "enr.geneset_num, enr.geneset_lib, enr.normalization"
   ]
  },
  {
   "cell_type": "markdown",
   "id": "7abdda6b-9b2c-442c-a8c9-8fe6e1648c02",
   "metadata": {},
   "source": [
    "## Calc best cutoffs and save in config\n",
    "\n",
    "### Comparing: toi4 (or 1,2,3), n_pathways, n_degs_in_pathways\n",
    "### which is the best?\n",
    "  - n_best_samples=4 ... the lowest FDRs and highest abs_LFC"
   ]
  },
  {
   "cell_type": "code",
   "execution_count": null,
   "id": "2039c69e-31c1-447a-a26c-fa4f31fed3f8",
   "metadata": {},
   "outputs": [],
   "source": [
    "enr.geneset_num, enr.geneset_lib, enr.normalization"
   ]
  },
  {
   "cell_type": "code",
   "execution_count": null,
   "id": "dee6310e-472e-4a31-b09f-8651a1354217",
   "metadata": {},
   "outputs": [],
   "source": [
    "cols2=['case', 'med_max_ptw', 'quantile', 'toi4_median', 'toi4_mean', 'abs_lfc_cutoff', 'fdr_lfc_cutoff', 'pathway_fdr_cutoff', \n",
    "       'n_pathways', 'n_degs_in_pathways', 'n_degs_in_pathways_mean',\n",
    "       'n_degs_in_pathways_median', 'n_degs_in_pathways_std',\n",
    "       'toi1_median', 'toi2_median', 'toi3_median']\n",
    "\n",
    "save_config=False\n",
    "dfconfig=enr.calc_best_cutoffs_params(selected_toi_col='toi4_median', n_best_sample=1, save_config=False, verbose=True)\n",
    "dfconfig=dfconfig[dfconfig.med_max_ptw == 'median']\n",
    "dfconfig[cols2]"
   ]
  },
  {
   "cell_type": "code",
   "execution_count": null,
   "id": "63281305-5ce1-4a10-b44d-8cbb533eb73d",
   "metadata": {},
   "outputs": [],
   "source": [
    "dfconfig=enr.calc_best_cutoffs_params(selected_toi_col='toi4_median', n_best_sample=2, save_config=False, verbose=save_config)\n",
    "dfconfig=dfconfig[dfconfig.med_max_ptw == 'median']\n",
    "dfconfig[cols2]"
   ]
  },
  {
   "cell_type": "code",
   "execution_count": null,
   "id": "5fae9ac7-fd5a-41a3-8eca-11c75d935ca8",
   "metadata": {},
   "outputs": [],
   "source": [
    "dfconfig=enr.calc_best_cutoffs_params(selected_toi_col='toi4_median', n_best_sample=3, save_config=False, verbose=save_config)\n",
    "dfconfig=dfconfig[dfconfig.med_max_ptw == 'median']\n",
    "dfconfig[cols2]"
   ]
  },
  {
   "cell_type": "code",
   "execution_count": null,
   "id": "b24926f2-91dd-443e-9be8-9b138f5a695d",
   "metadata": {},
   "outputs": [],
   "source": [
    "dfconfig=enr.calc_best_cutoffs_params(selected_toi_col='toi4_median', n_best_sample=4, save_config=False, verbose=save_config)\n",
    "dfconfig=dfconfig[dfconfig.med_max_ptw == 'median']\n",
    "dfconfig[cols2]"
   ]
  },
  {
   "cell_type": "code",
   "execution_count": null,
   "id": "840df677-a492-4430-b139-61c11fb75e4a",
   "metadata": {},
   "outputs": [],
   "source": [
    "dfconfig=enr.calc_best_cutoffs_params(selected_toi_col='toi4_median', n_best_sample=5, save_config=False, verbose=save_config)\n",
    "dfconfig=dfconfig[dfconfig.med_max_ptw == 'median']\n",
    "dfconfig[cols2]"
   ]
  },
  {
   "cell_type": "code",
   "execution_count": null,
   "id": "66269ef5-2dd3-4a3d-b09d-90522565c577",
   "metadata": {},
   "outputs": [],
   "source": [
    "dfconfig=enr.calc_best_cutoffs_params(selected_toi_col='toi4_median', n_best_sample=6, save_config=False, verbose=save_config)\n",
    "dfconfig=dfconfig[dfconfig.med_max_ptw == 'median']\n",
    "dfconfig[cols2]"
   ]
  },
  {
   "cell_type": "code",
   "execution_count": null,
   "id": "63f8dc0d-c0ca-4ab8-92b4-8cb785074692",
   "metadata": {},
   "outputs": [],
   "source": [
    "dfconfig=enr.calc_best_cutoffs_params(selected_toi_col='toi4_median', n_best_sample=7, save_config=False, verbose=save_config)\n",
    "dfconfig=dfconfig[dfconfig.med_max_ptw == 'median']\n",
    "dfconfig[cols2]"
   ]
  },
  {
   "cell_type": "code",
   "execution_count": null,
   "id": "11619c1d-ec4c-4188-a032-e945dc87c527",
   "metadata": {},
   "outputs": [],
   "source": [
    "dfconfig=enr.calc_best_cutoffs_params(selected_toi_col='toi4_median', n_best_sample=8, save_config=False, verbose=save_config)\n",
    "dfconfig=dfconfig[dfconfig.med_max_ptw == 'median']\n",
    "dfconfig[cols2]"
   ]
  },
  {
   "cell_type": "code",
   "execution_count": null,
   "id": "718b8ceb-0996-4c6e-870a-15664b3cb1b4",
   "metadata": {},
   "outputs": [],
   "source": []
  },
  {
   "cell_type": "markdown",
   "id": "5603e718-8ba9-411e-af56-d437cc39c411",
   "metadata": {},
   "source": [
    "### Multiple best points"
   ]
  },
  {
   "cell_type": "code",
   "execution_count": null,
   "id": "28bbaf67-d055-47d7-a07f-7d3c191b2f2a",
   "metadata": {},
   "outputs": [],
   "source": [
    "save_config=False\n",
    "\n",
    "with_params=False\n",
    "\n",
    "dic={}\n",
    "for ipoints in range(1,9):\n",
    "    dfconfig=enr.calc_best_cutoffs_params(selected_toi_col='toi4_median', n_best_sample=ipoints, save_config=save_config, verbose=False)\n",
    "    dfconfig=dfconfig[dfconfig.med_max_ptw == 'median']\n",
    "\n",
    "    for j in range(len(dfconfig)):\n",
    "        row=dfconfig.iloc[j]\n",
    "        \n",
    "        if ipoints == 1:\n",
    "            dic[j]={}\n",
    "            dic2=dic[j]\n",
    "            dic2['case']=row.case\n",
    "        else:\n",
    "            dic2=dic[j]\n",
    "            \n",
    "\n",
    "        dic2[f'nptw_{ipoints}']=row.n_pathways\n",
    "        dic2[f'ndegs_{ipoints}']=row.n_degs_in_pathways\n",
    "\n",
    "        if with_params:\n",
    "            dic2[f'fdrc_{ipoints}']=row.fdr_lfc_cutoff\n",
    "            dic2[f'lfcc_{ipoints}']=row.abs_lfc_cutoff\n",
    "            dic2[f'fdrp_{ipoints}']=row.pathway_fdr_cutoff\n",
    "        \n",
    "dfpoints=pd.DataFrame(dic).T\n",
    "dfpoints"
   ]
  },
  {
   "cell_type": "code",
   "execution_count": null,
   "id": "143842b4-1cf5-4408-902a-aab4c0ee3d88",
   "metadata": {},
   "outputs": [],
   "source": [
    "ncols=[0] + list(np.arange(1,16))\n",
    "df2=dfpoints.iloc[:,ncols]\n",
    "\n",
    "df2"
   ]
  },
  {
   "cell_type": "code",
   "execution_count": null,
   "id": "77369d97-03c0-4a0d-b175-547955c6a95f",
   "metadata": {},
   "outputs": [],
   "source": [
    "len(dfpoints.columns)"
   ]
  },
  {
   "cell_type": "code",
   "execution_count": null,
   "id": "e2b0be5a-146e-49e0-aa15-beb7692367b5",
   "metadata": {},
   "outputs": [],
   "source": []
  },
  {
   "cell_type": "markdown",
   "id": "c686edf1-a4e7-454d-803f-e2a8a3b47e89",
   "metadata": {},
   "source": [
    "### Multiple best points"
   ]
  },
  {
   "cell_type": "code",
   "execution_count": null,
   "id": "f87f006c-d7c0-4bb8-ae61-a4a677f74f92",
   "metadata": {},
   "outputs": [],
   "source": [
    "dfpoints=enr.display_best_cutoff_params(npoints=10, selected_toi_col='toi4_median', med_max_ptw='median')\n",
    "dfpoints"
   ]
  },
  {
   "cell_type": "code",
   "execution_count": null,
   "id": "77e0c5c8-67e4-4be0-827b-b9c1eb62b18e",
   "metadata": {},
   "outputs": [],
   "source": []
  },
  {
   "cell_type": "markdown",
   "id": "72d57a63-6da0-4d71-af92-fa72f63a4d9e",
   "metadata": {},
   "source": [
    "### Turn to True to save config"
   ]
  },
  {
   "cell_type": "code",
   "execution_count": null,
   "id": "87978482-e823-442b-a135-46250179b1d8",
   "metadata": {},
   "outputs": [],
   "source": [
    "save_config=False\n",
    "\n",
    "n_best_sample_list=[1, 8, 2, 2, 4, 2, 2, 3]\n",
    "# n_pathways: 45, 29, 42 44, 24, 60, 39, 39 for COVID-19 Taubate\n",
    "\n",
    "dfconfig=enr.calc_multiple_best_cutoffs_params(selected_toi_col='toi4_median', n_best_sample_list=n_best_sample_list, save_config=save_config, verbose=save_config)\n",
    "dfconfig=dfconfig[dfconfig.med_max_ptw == 'median']\n",
    "dfconfig[cols2]"
   ]
  },
  {
   "cell_type": "code",
   "execution_count": null,
   "id": "eb964572-13df-4b22-bb70-452fc17112be",
   "metadata": {},
   "outputs": [],
   "source": []
  },
  {
   "cell_type": "code",
   "execution_count": null,
   "id": "f491a65e-0533-44e3-b3f0-ffc517c07c3a",
   "metadata": {},
   "outputs": [],
   "source": [
    "dfbest=enr.cfg.dfbest_cutoffs[cols2]\n",
    "dfbest[dfbest.med_max_ptw == 'median']"
   ]
  },
  {
   "cell_type": "markdown",
   "id": "46d35130-4447-42e8-b4b0-81b65518dea9",
   "metadata": {},
   "source": [
    "### Chosen columns"
   ]
  },
  {
   "cell_type": "code",
   "execution_count": null,
   "id": "48165a8a-eeac-458d-9f68-1bfa6fc023c9",
   "metadata": {},
   "outputs": [],
   "source": [
    "dfcut.columns"
   ]
  },
  {
   "cell_type": "code",
   "execution_count": null,
   "id": "b9c15c27-c22c-4324-ba1d-b99b7ff7ae05",
   "metadata": {},
   "outputs": [],
   "source": [
    "cols1=['case', 'med_max_ptw', 'quantile', 'toi4_median']\n",
    "cols2=['abs_lfc_cutoff', 'fdr_lfc_cutoff', 'pathway_fdr_cutoff',\n",
    "        'n_pathways', 'n_degs_in_pathways']"
   ]
  },
  {
   "cell_type": "markdown",
   "id": "30ba0a19-4d77-45dd-b326-af8abf1b7ddc",
   "metadata": {},
   "source": [
    "### Comparing: toi4 (or 1,2,3), n_pathways, n_degs_in_pathways"
   ]
  },
  {
   "cell_type": "code",
   "execution_count": null,
   "id": "2658e332-4057-4a8f-87a0-1ff0d6309fd7",
   "metadata": {},
   "outputs": [],
   "source": [
    "case='g2b_female'"
   ]
  },
  {
   "cell_type": "code",
   "execution_count": null,
   "id": "e5e6cf15-a0bf-4da1-b76d-7f6258d9fd88",
   "metadata": {
    "scrolled": true
   },
   "outputs": [],
   "source": [
    "col='n_pathways'\n",
    "nrows=6\n",
    "dfcut=enr.build_all_cutoffs_table(col, force=False, verbose=False)\n",
    "case=case_list[0]\n",
    "dfa=dfcut[ (dfcut.case == case) & (dfcut.med_max_ptw == 'median') ][cols]\n",
    "dfa=dfa.sort_values(['n_pathways', 'n_degs_in_pathways'], ascending=[False, False])\n",
    "dfa[cols1+cols2].head(nrows)"
   ]
  },
  {
   "cell_type": "code",
   "execution_count": null,
   "id": "334cbcef-d0bd-404f-b6ce-1dc34fd6a8c6",
   "metadata": {},
   "outputs": [],
   "source": [
    "col='toi1_median'\n",
    "n_rows=6\n",
    "dfcut=enr.build_all_cutoffs_table(col, force=False, verbose=False)\n",
    "dfa=dfcut[ (dfcut.case == case) & (dfcut.med_max_ptw == 'median') ][cols]\n",
    "dfa=dfa.sort_values(col, ascending=False)\n",
    "dfa[cols1+[col]+cols2].head(nrows)"
   ]
  },
  {
   "cell_type": "code",
   "execution_count": null,
   "id": "d24d7460-3872-4bcf-8845-9fba8ece1a38",
   "metadata": {},
   "outputs": [],
   "source": [
    "col='toi2_median'\n",
    "dfcut=enr.build_all_cutoffs_table(col, force=False, verbose=False)\n",
    "dfa=dfcut[ (dfcut.case == case) & (dfcut.med_max_ptw == 'median') ][cols]\n",
    "dfa=dfa.sort_values(col, ascending=False)\n",
    "dfa[cols1+[col]+cols2].head(nrows)"
   ]
  },
  {
   "cell_type": "code",
   "execution_count": null,
   "id": "3989f677-7f89-456d-8658-266b571ccc3d",
   "metadata": {},
   "outputs": [],
   "source": [
    "col='toi3_median'\n",
    "dfcut=enr.build_all_cutoffs_table(col, force=False, verbose=False)\n",
    "dfa=dfcut[ (dfcut.case == case) & (dfcut.med_max_ptw == 'median') ][cols]\n",
    "dfa=dfa.sort_values(col, ascending=False)\n",
    "dfa[cols1+[col]+cols2].head(nrows)"
   ]
  },
  {
   "cell_type": "code",
   "execution_count": null,
   "id": "985d9c15-25c1-4a51-bf07-43e18c9dd0eb",
   "metadata": {},
   "outputs": [],
   "source": [
    "col='toi4_median'\n",
    "dfcut=enr.build_all_cutoffs_table(col, force=False, verbose=False)\n",
    "dfa=dfcut[ (dfcut.case == case) & (dfcut.med_max_ptw == 'median') ][cols]\n",
    "dfa=dfa.sort_values(col, ascending=False)\n",
    "dfa[cols1+cols2].head(nrows)"
   ]
  },
  {
   "cell_type": "code",
   "execution_count": null,
   "id": "1fa3cac7-9b60-4b2c-9d02-b18a11849a62",
   "metadata": {},
   "outputs": [],
   "source": []
  },
  {
   "cell_type": "markdown",
   "id": "75dd646b-6bfa-4036-9826-a7fb61c6a6e3",
   "metadata": {},
   "source": [
    "### TOI4"
   ]
  },
  {
   "cell_type": "code",
   "execution_count": null,
   "id": "22021715-98e6-486d-9d90-22763208f9be",
   "metadata": {},
   "outputs": [],
   "source": [
    "selected_toi_col='toi4_median'\n",
    "\n",
    "fig_list=enr.plot_genes_and_pathways_frequecies_per_cases(selected_toi_col,  width=1100, height=700)\n",
    "\n",
    "print(\">>>\", selected_toi_col)\n",
    "print(f\"# {enr.s_deg_dap}s\")\n",
    "fig_list[0].show()\n",
    "print(\"# n pathways\")\n",
    "fig_list[1].show()"
   ]
  },
  {
   "cell_type": "code",
   "execution_count": null,
   "id": "9d64534d-ee29-46ae-b841-710de9467e60",
   "metadata": {},
   "outputs": [],
   "source": [
    "cols"
   ]
  },
  {
   "cell_type": "markdown",
   "id": "6f0b2487-2002-4279-ab09-567ed8501fa9",
   "metadata": {},
   "source": [
    "### Selected best cutoffs per case"
   ]
  },
  {
   "cell_type": "code",
   "execution_count": null,
   "id": "08550044-8fbf-4c13-9d3e-ce826ea1e9a8",
   "metadata": {},
   "outputs": [],
   "source": [
    "dfconfig=enr.calc_multiple_best_cutoffs_params(selected_toi_col='toi4_median', n_best_sample_list=n_best_sample_list, save_config=False, verbose=False)\n",
    "dfconfig=dfconfig[dfconfig.med_max_ptw == 'median']\n",
    "dfconfig[cols2]"
   ]
  },
  {
   "cell_type": "code",
   "execution_count": null,
   "id": "ab6a0248-3637-4c78-b4f4-2ef3af2090c2",
   "metadata": {},
   "outputs": [],
   "source": [
    "dfbest=enr.cfg.open_best_ptw_cutoff(verbose=False)\n",
    "dfbest=dfbest[dfbest.med_max_ptw == 'median']\n",
    "print(len(dfbest))\n",
    "dfbest[cols]"
   ]
  },
  {
   "cell_type": "markdown",
   "id": "c10f19e1-d6af-47fe-b619-01513e948d68",
   "metadata": {},
   "source": [
    "### n_pathways: to confirm, is it working?"
   ]
  },
  {
   "cell_type": "code",
   "execution_count": null,
   "id": "5daafa3c-b263-424c-85be-72198ccc1373",
   "metadata": {},
   "outputs": [],
   "source": [
    "fig_list=enr.plot_genes_and_pathways_frequecies_per_cases('n_pathways',  width=1100, height=700)\n",
    "\n",
    "fig_list[0].show()\n",
    "print(\"\")\n",
    "fig_list[1].show()"
   ]
  },
  {
   "cell_type": "code",
   "execution_count": null,
   "id": "5a74a80c-33d3-4290-bf3c-ce1318d914f3",
   "metadata": {},
   "outputs": [],
   "source": []
  },
  {
   "cell_type": "markdown",
   "id": "8b27862b-f759-4fd8-b662-9ba335106bf3",
   "metadata": {},
   "source": [
    "## Why toi4_median is the best approach?\n",
    "\n",
    "#### balance between best LFC cutoffs and Pathway cutoffs"
   ]
  },
  {
   "cell_type": "code",
   "execution_count": null,
   "id": "b0b7bc92-9398-4730-83e3-3ad52be4a92a",
   "metadata": {},
   "outputs": [],
   "source": [
    "n_best_sample_list"
   ]
  },
  {
   "cell_type": "code",
   "execution_count": null,
   "id": "c1497d1a-68a6-42e7-af3e-e86fdab401c0",
   "metadata": {},
   "outputs": [],
   "source": [
    "dfconfig=enr.calc_multiple_best_cutoffs_params(selected_toi_col='n_pathways', n_best_sample_list=n_best_sample_list, save_config=False, verbose=save_config)\n",
    "dfconfig=dfconfig[dfconfig.med_max_ptw == 'median']\n",
    "dfconfig[cols2]"
   ]
  },
  {
   "cell_type": "code",
   "execution_count": null,
   "id": "4d048dcf-569a-4815-a7fc-438d31ca6dd1",
   "metadata": {},
   "outputs": [],
   "source": [
    "dfconfig=enr.calc_multiple_best_cutoffs_params(selected_toi_col='toi4_median', n_best_sample_list=n_best_sample_list, save_config=False, verbose=save_config)\n",
    "dfconfig=dfconfig[dfconfig.med_max_ptw == 'median']\n",
    "dfconfig[cols2]"
   ]
  },
  {
   "cell_type": "markdown",
   "id": "118b4285-8e74-47ed-92a2-f9ed9a9220d3",
   "metadata": {},
   "source": [
    "## It tries to minimize fdr and maximize abs_lfc cutoffs!!!\n",
    "### look for toi4_median in both tables"
   ]
  },
  {
   "cell_type": "code",
   "execution_count": null,
   "id": "b07c548c-2423-4545-bbd2-1fb4b2135432",
   "metadata": {},
   "outputs": [],
   "source": []
  },
  {
   "cell_type": "markdown",
   "id": "5f8bbec3-c1ff-4804-b463-6bc68156fd21",
   "metadata": {},
   "source": [
    "### Summary DAPs + Up and Down"
   ]
  },
  {
   "cell_type": "code",
   "execution_count": null,
   "id": "046cc640-b17e-4a42-bed3-a8f6516a65c2",
   "metadata": {},
   "outputs": [],
   "source": [
    "verbose=False\n",
    "per_biotype= False\n",
    "ensembl=False\n",
    "\n",
    "dfa=enr.summary_degs_up_down(per_biotype=per_biotype, ensembl=ensembl, verbose=verbose)\n",
    "print(len(dfa))\n",
    "dfa"
   ]
  },
  {
   "cell_type": "markdown",
   "id": "dc48e76b-d2a9-4631-b46e-c57239cd55f5",
   "metadata": {},
   "source": [
    "### At least 10 DAPs for each case"
   ]
  },
  {
   "cell_type": "code",
   "execution_count": null,
   "id": "7035312f-2a85-4fe3-b45f-1a8b951a3b08",
   "metadata": {},
   "outputs": [],
   "source": [
    "verbose=False\n",
    "per_biotype= True\n",
    "ensembl=False\n",
    "\n",
    "dfa=enr.summary_degs_up_down(per_biotype=per_biotype, ensembl=ensembl, verbose=verbose)\n",
    "print(len(dfa))\n",
    "cols=list(dfa.columns)[1:]\n",
    "dfa[cols]=dfa[cols].astype(int)\n",
    "dfa"
   ]
  },
  {
   "cell_type": "code",
   "execution_count": null,
   "id": "94451386-7e82-4ca4-a9a1-e21284da4590",
   "metadata": {},
   "outputs": [],
   "source": [
    "title=f'Up and Down {enr.s_deg_dap}s with the best cutoff'\n",
    "fig, dfa=enr.barplot_up_down_genes_per_case(title=title, width=1100, height=700, verbose=False)\n",
    "fig.show()"
   ]
  },
  {
   "cell_type": "markdown",
   "id": "fb5b04ee-18cc-4dde-849b-dc270178cc3b",
   "metadata": {},
   "source": [
    "### Summary DEG-Pathway table"
   ]
  },
  {
   "cell_type": "code",
   "execution_count": null,
   "id": "7414beb8-3c93-4d4e-9c3d-ad6467625556",
   "metadata": {},
   "outputs": [],
   "source": [
    "dfsum=enr.summary_degs_and_pathways(force=False, verbose=False)\n",
    "cols5=list(dfsum.columns)\n",
    "np.array(cols5)"
   ]
  },
  {
   "cell_type": "code",
   "execution_count": null,
   "id": "c25738b5-4950-4862-b93f-3f7cdf1c33c0",
   "metadata": {},
   "outputs": [],
   "source": [
    "lista_ndx=list(dfsum.index)\n",
    "lista_ndx=[x for x in lista_ndx if '_ensembl' not in x]\n",
    "lista_ndx"
   ]
  },
  {
   "cell_type": "code",
   "execution_count": null,
   "id": "7cad42fe-3df5-4f43-a162-3752c61cc553",
   "metadata": {},
   "outputs": [],
   "source": []
  },
  {
   "cell_type": "code",
   "execution_count": null,
   "id": "fcdc4c94-9f8e-48a4-9a1b-de4f9e0cbd88",
   "metadata": {},
   "outputs": [],
   "source": [
    "dfsum.loc[lista_ndx, cols5[:8]]"
   ]
  },
  {
   "cell_type": "code",
   "execution_count": null,
   "id": "bf14ff5b-9030-4d44-b6f8-4ed7ada60b29",
   "metadata": {},
   "outputs": [],
   "source": [
    "dfsum.loc[lista_ndx, cols5[8:]]"
   ]
  },
  {
   "cell_type": "markdown",
   "id": "51d47b11-5753-4199-b503-7cda36d4380e",
   "metadata": {},
   "source": [
    "### Testing data & saving df_enr excel table in results"
   ]
  },
  {
   "cell_type": "code",
   "execution_count": null,
   "id": "073bf88c-947b-4b6f-88ca-bbf2f3cc8dc4",
   "metadata": {},
   "outputs": [],
   "source": [
    "# !pip3 install openpyxl"
   ]
  },
  {
   "cell_type": "code",
   "execution_count": null,
   "id": "4cda48bc-af28-4843-aaee-cedc102e3eb4",
   "metadata": {},
   "outputs": [],
   "source": [
    "from openpyxl import Workbook"
   ]
  },
  {
   "cell_type": "code",
   "execution_count": null,
   "id": "dc7089b9-3e8c-4eee-896c-7501b03dee5e",
   "metadata": {},
   "outputs": [],
   "source": [
    "dic={}\n",
    "\n",
    "# if you want ot save excel files\n",
    "save_enriched_ptws_excel_odt=True\n",
    "\n",
    "for case in case_list:\n",
    "    print(\">>>\", case)\n",
    "    ret, degs, degs_ensembl, dfdegs=enr.open_case(case, save_enriched_ptws_excel_odt=save_enriched_ptws_excel_odt, verbose=False)\n",
    "    enr.echo_parameters()\n",
    "    dic[case]=enr.df_enr\n",
    "    print(\"\\n\")"
   ]
  },
  {
   "cell_type": "code",
   "execution_count": null,
   "id": "3ea764ab-9bed-4187-9498-1fd4ada1eb70",
   "metadata": {},
   "outputs": [],
   "source": []
  },
  {
   "cell_type": "markdown",
   "id": "6a0ce6db-4233-4ec2-bff6-a1f92f76e9eb",
   "metadata": {},
   "source": [
    "### Open best cutoffs (config)"
   ]
  },
  {
   "cell_type": "code",
   "execution_count": null,
   "id": "3ca7add2-346e-4e12-83bc-785b823aaba6",
   "metadata": {},
   "outputs": [],
   "source": [
    "cols=['case', 'med_max_ptw', 'quantile', 'toi4_median', 'abs_lfc_cutoff', 'fdr_lfc_cutoff',\n",
    "        'pathway_pval_cutoff', 'pathway_fdr_cutoff', 'n_pathways', 'n_degs_in_pathways',\n",
    "        'toi1_median', 'toi2_median', 'toi3_median']\n",
    "\n",
    "dfbest=enr.cfg.open_best_ptw_cutoff(verbose=False)\n",
    "dfbest=dfbest[dfbest.med_max_ptw == 'median']\n",
    "dfbest[cols]"
   ]
  },
  {
   "cell_type": "code",
   "execution_count": null,
   "id": "8781bba4-1124-4dac-8c9f-f9fe153f266a",
   "metadata": {},
   "outputs": [],
   "source": [
    "dfbest2=enr.cfg.open_best_ptw_cutoff(verbose=False)\n",
    "dfbest2=dfbest2[dfbest2.case == 'g2a_female']\n",
    "dfbest2[cols]"
   ]
  },
  {
   "cell_type": "code",
   "execution_count": null,
   "id": "cee0c94f-1104-4b9f-b019-d704fa4c6c9f",
   "metadata": {},
   "outputs": [],
   "source": [
    "i=1\n",
    "case=case_list[i]\n",
    "print(\">>>\", case)\n",
    "ret, degs, degs_ensembl, dfdegs=enr.open_case(case, save_enriched_ptws_excel_odt=False, verbose=False)\n",
    "enr.echo_parameters()\n",
    "print(len(enr.df_enr))\n",
    "enr.df_enr"
   ]
  },
  {
   "cell_type": "markdown",
   "id": "ba7dcbc2-5ec4-46ed-81c0-740e4b9cb791",
   "metadata": {},
   "source": [
    "### Reviewing quantile cutoffs"
   ]
  },
  {
   "cell_type": "code",
   "execution_count": null,
   "id": "ca7136b8-eb72-4bf8-b738-fafea32f9172",
   "metadata": {},
   "outputs": [],
   "source": [
    "col='toi4_median'\n",
    "force=False\n",
    "verbose=False\n",
    "\n",
    "print(\">>>\", case)\n",
    "\n",
    "dfi=enr.calc_enrichment_cutoff_params_and_ndxs_per_case_and_geneset_lib(case, force=False, verbose=False)\n",
    "\n",
    "dic_quant=enr.best_cutoff_quantiles(case, col, med_max_ptw='median', force=force, verbose=False)\n",
    "df=pd.DataFrame(dic_quant).T\n",
    "cols=['lim_inf', 'lim_sup', 'abs_lfc_cutoff', 'fdr_lfc_cutoff', 'pathway_pval_cutoff',\n",
    "        'pathway_fdr_cutoff', 'num_of_genes_cutoff', 'n_pathways', 'n_degs_in_pathways',\n",
    "        'n_degs_in_pathways_mean', 'n_degs_in_pathways_median ', 'n_degs_in_pathways_std',\n",
    "        'index1_mean', 'index1_median', 'index1_std',\n",
    "        'index2_mean', 'index2_median', 'index2_std',\n",
    "        'index3_mean', 'index3_median', 'index3_std',\n",
    "        'toi4_mean', 'toi4_median', 'toi4_std'  ]\n",
    "\n",
    "df.columns=cols\n",
    "df=df.reset_index()\n",
    "cols=list(df.columns)\n",
    "cols[0]='quantile'\n",
    "df.columns=cols\n",
    "\n",
    "print(len(df))\n",
    "df.head(3)"
   ]
  },
  {
   "cell_type": "code",
   "execution_count": null,
   "id": "c1c7ab11-1b6b-44cd-9a14-c0439e438ce8",
   "metadata": {},
   "outputs": [],
   "source": []
  },
  {
   "cell_type": "code",
   "execution_count": null,
   "id": "e507e9dc-3fa9-4fd8-b51d-4fbe9c8fd6d3",
   "metadata": {},
   "outputs": [],
   "source": [
    "dfi=enr.dfi\n",
    "print(len(dfi))\n",
    "dfi.head(3)"
   ]
  },
  {
   "cell_type": "markdown",
   "id": "048de770-492e-45a1-9419-bcd6252f45df",
   "metadata": {},
   "source": [
    "### Is this cut statistically correct?\n",
    "  - Chi-square test - confusion matrix:\n",
    "    - the best defined cutoff\n",
    "    - against the default cutoff (LFC=1, FDR=0.05) + random Genes (all othere genes from the microarray experiment)\n",
    "   \n",
    "### Test retrieve best param"
   ]
  },
  {
   "cell_type": "code",
   "execution_count": null,
   "id": "edaa1ec6-e27b-4b2b-a65d-f343d0325ef9",
   "metadata": {},
   "outputs": [],
   "source": [
    "case=case_list[0]\n",
    "enr.open_case(case, verbose=True)\n",
    "enr.case"
   ]
  },
  {
   "cell_type": "code",
   "execution_count": null,
   "id": "62b49a6a-5632-4d31-b729-07d10048bf9b",
   "metadata": {},
   "outputs": [],
   "source": [
    "enr.get_best_ptw_cutoff_biopax()\n",
    "enr.case, enr.quantile, enr.abs_lfc_cutoff, enr.fdr_lfc_cutoff, enr.pathway_pval_cutoff, enr.pathway_fdr_cutoff"
   ]
  },
  {
   "cell_type": "markdown",
   "id": "77e0242a-72fc-473b-b05c-8da40d087086",
   "metadata": {},
   "source": []
  },
  {
   "cell_type": "markdown",
   "id": "4571dd3d-1ff0-4815-90d2-da280a747424",
   "metadata": {},
   "source": [
    "### Prepare for chi-square test\n",
    "  - best cufoff\n",
    "  - default cutoffs (fdr=0.05,  abs_lfc=1)\n",
    "  - case[0]=g2a_male, as example\n",
    "\n",
    "### Default cutoff values"
   ]
  },
  {
   "cell_type": "code",
   "execution_count": null,
   "id": "9b285cff-4a31-45e1-b905-845ecec5abdd",
   "metadata": {},
   "outputs": [],
   "source": [
    "print(\"Defaults\\n\")\n",
    "ret, degs_default, degs_ensembl_default, dflfc_default=enr.open_case_params(case, abs_lfc_cutoff=1, fdr_lfc_cutoff=0.05)\n",
    "# enr.echo_parameters(want_echo_default=False, jump_line=True)\n",
    "degs_default_in_pathways=enr.degs_in_pathways\n",
    "\n",
    "len(degs_default_in_pathways), ','.join(degs_default_in_pathways)"
   ]
  },
  {
   "cell_type": "code",
   "execution_count": null,
   "id": "71638484-9c16-49c5-8718-e85633d20aa4",
   "metadata": {},
   "outputs": [],
   "source": [
    "ret, degs_best, degs_ensembl_best, dflfc_best=enr.open_case(case)\n",
    "print(\"Best params\\n\")\n",
    "# enr.echo_parameters(want_echo_default=False, jump_line=True)\n",
    "\n",
    "degs_in_pathways_best=enr.degs_in_pathways\n",
    "degs_not_in_pathways_best=enr.degs_not_in_pathways\n",
    "\n",
    "len(degs_in_pathways_best), len(degs_not_in_pathways_best)"
   ]
  },
  {
   "cell_type": "markdown",
   "id": "93db9c53-13a5-4b41-be88-610e336ac993",
   "metadata": {},
   "source": [
    "### One fulfills with other PROTEINS, complementing DEFAULT CUTOFFS and selected them randomly"
   ]
  },
  {
   "cell_type": "code",
   "execution_count": null,
   "id": "5e8b0a8f-ca0b-4c4c-8a53-1a6daaf71b15",
   "metadata": {},
   "outputs": [],
   "source": [
    "len(degs_in_pathways_best)"
   ]
  },
  {
   "cell_type": "markdown",
   "id": "c49f1e35-a035-48a9-b2d4-17655fe1c96b",
   "metadata": {},
   "source": [
    "### Getting random proteins=#(FOUND_BEST DAPs - FOUND_IN_DEFAULT DAPs)"
   ]
  },
  {
   "cell_type": "code",
   "execution_count": null,
   "id": "f1f6472c-b94a-411a-907b-8aa3820bf1a6",
   "metadata": {},
   "outputs": [],
   "source": [
    "dfa=enr.dflfc_ori[ ~enr.dflfc_ori.symbol.isin(degs_default_in_pathways) ].copy()\n",
    "dfa.index=np.arange(0, len(dfa))\n",
    "len(dfa)"
   ]
  },
  {
   "cell_type": "code",
   "execution_count": null,
   "id": "8085b65a-0ab5-4ef2-a7f2-db3ec35ac142",
   "metadata": {},
   "outputs": [],
   "source": [
    "enr.abs_lfc_cutoff, enr.fdr_lfc_cutoff, enr.pathway_fdr_cutoff"
   ]
  },
  {
   "cell_type": "code",
   "execution_count": null,
   "id": "3f829b4e-cfeb-4255-ab42-cc244142b43e",
   "metadata": {},
   "outputs": [],
   "source": [
    "len(degs_in_pathways_best), len(degs_not_in_pathways_best), len(degs_default)"
   ]
  },
  {
   "cell_type": "code",
   "execution_count": null,
   "id": "72b60b0d-3d18-47a9-a11b-5b09ead4174f",
   "metadata": {},
   "outputs": [],
   "source": [
    "enr.get_best_ptw_cutoff_biopax()\n",
    "enr.case, enr.quantile, enr.abs_lfc_cutoff, enr.fdr_lfc_cutoff, enr.pathway_pval_cutoff, enr.pathway_fdr_cutoff"
   ]
  },
  {
   "cell_type": "code",
   "execution_count": null,
   "id": "be066429-b5d5-4987-814d-f7fcf9f7d3ab",
   "metadata": {},
   "outputs": [],
   "source": [
    "abs_lfc_cutoff_default=1\n",
    "fdr_lfc_cutoff_default=0.05\n",
    "pathway_fdr_cutoff_default=0.05\n",
    "\n",
    "i=0\n",
    "df_enr=enr.calc_enriched_pathways_random_genes(i, case,abs_lfc_cutoff_default,\n",
    "                                                 fdr_lfc_cutoff_default, pathway_fdr_cutoff_default)\n",
    "print(len(df_enr))\n",
    "df_enr.head(3)"
   ]
  },
  {
   "cell_type": "code",
   "execution_count": null,
   "id": "58e2fdb6-d8d4-492d-9609-e3fc8f71f43a",
   "metadata": {},
   "outputs": [],
   "source": [
    "enr.degs_in_pathways_random, enr.degs_not_in_pathways_random"
   ]
  },
  {
   "cell_type": "code",
   "execution_count": null,
   "id": "950f4e5c-3a62-41a8-a82d-a54b93c79681",
   "metadata": {},
   "outputs": [],
   "source": [
    "enr.n_degs_in_pathways_random, enr.n_degs_not_in_pathways_random"
   ]
  },
  {
   "cell_type": "code",
   "execution_count": null,
   "id": "caa97ca9-8d54-477e-82f1-de94b3192d84",
   "metadata": {},
   "outputs": [],
   "source": [
    "enr.degs_in_pathways_best, enr.degs_not_in_pathways_best"
   ]
  },
  {
   "cell_type": "code",
   "execution_count": null,
   "id": "d78549ff-f52d-4831-af3c-4ce845f24c9a",
   "metadata": {},
   "outputs": [],
   "source": [
    "enr.n_degs_in_pathways_best, enr.n_degs_not_in_pathways_best"
   ]
  },
  {
   "cell_type": "markdown",
   "id": "cf440b3d-f6f9-48bd-a7d0-095a6c18b90e",
   "metadata": {},
   "source": [
    "### Prepare for chi-square test\n",
    "  - best cufoff\n",
    "  - default cutoffs (fdr=0.05,  abs_lfc=1)\n",
    "  - case[0]=g2a_male, as example"
   ]
  },
  {
   "cell_type": "code",
   "execution_count": null,
   "id": "9814e838-f069-4272-af0c-18b72d2b959e",
   "metadata": {},
   "outputs": [],
   "source": [
    "i=0\n",
    "df_enr=enr.calc_enriched_pathways_random_genes(i, case,abs_lfc_cutoff_default,\n",
    "                                                 fdr_lfc_cutoff_default, pathway_fdr_cutoff_default)\n",
    "\n",
    "dfmat, ret_chi, dof, stat, pvalue, stri_stat=enr.build_matrix_calc_chi_square(enr.n_degs_in_pathways_best, \n",
    "                                                                                enr.n_degs_not_in_pathways_best,\n",
    "                                                                                enr.n_degs_in_pathways_random, \n",
    "                                                                                enr.n_degs_not_in_pathways_random)\n",
    "\n",
    "print(f\">>> chi-square statistics: {ret_chi} {stri_stat}, dof={dof}\")\n",
    "dfmat"
   ]
  },
  {
   "cell_type": "markdown",
   "id": "44977697-d900-42cd-b8bb-1eee2a456ac5",
   "metadata": {},
   "source": [
    "### 100 simulations"
   ]
  },
  {
   "cell_type": "code",
   "execution_count": null,
   "id": "06941fe8-88c6-483f-9379-9c2bdb936253",
   "metadata": {},
   "outputs": [],
   "source": [
    "case_list"
   ]
  },
  {
   "cell_type": "code",
   "execution_count": null,
   "id": "b74b168c-063a-4dda-93eb-c985bc1c0215",
   "metadata": {},
   "outputs": [],
   "source": [
    "j=5\n",
    "case=case_list[j]\n",
    "case"
   ]
  },
  {
   "cell_type": "code",
   "execution_count": null,
   "id": "5c28edd0-bed4-4bad-9cf6-391cf7296b6a",
   "metadata": {},
   "outputs": [],
   "source": [
    "print(\">>>\", case)\n",
    "n_sim=100\n",
    "abs_lfc_cutoff_default=1.\n",
    "fdr_lfc_cutoff_default=0.05\n",
    "pathway_fdr_cutoff_default=0.05\n",
    "\n",
    "force=False\n",
    "\n",
    "dff=enr.run_n_simulations(n_sim, case, abs_lfc_cutoff_default, fdr_lfc_cutoff_default, pathway_fdr_cutoff_default, force=force, verbose=False)\n",
    "dff.pvalue=dff.pvalue.astype(float)\n",
    "print(len(dff))\n",
    "dff.head(10)"
   ]
  },
  {
   "cell_type": "code",
   "execution_count": null,
   "id": "03ffa7b0-c4d2-41c1-9885-4d7ea128833e",
   "metadata": {},
   "outputs": [],
   "source": [
    "dff[dff.pvalue < 0.1]"
   ]
  },
  {
   "cell_type": "code",
   "execution_count": null,
   "id": "7de866dc-812e-45e7-b757-a2a5125ceff4",
   "metadata": {},
   "outputs": [],
   "source": [
    "pvalue_cutoff=0.1\n",
    "len(dff[dff.pvalue < pvalue_cutoff]), len(dff[dff.pvalue >= pvalue_cutoff])"
   ]
  },
  {
   "cell_type": "code",
   "execution_count": null,
   "id": "03b445b0-0ba3-4c37-8e63-66aca95f6cbf",
   "metadata": {},
   "outputs": [],
   "source": [
    "mu=dff.stat_sig.mean()\n",
    "mu"
   ]
  },
  {
   "cell_type": "code",
   "execution_count": null,
   "id": "2a6b2079-75e5-4d8e-b5a8-c52164d443dc",
   "metadata": {},
   "outputs": [],
   "source": [
    "mini, maxi=dff.pvalue.min(), dff.pvalue.max()\n",
    "mini,maxi"
   ]
  },
  {
   "cell_type": "code",
   "execution_count": null,
   "id": "64b2652a-0a4a-4077-80b0-e2ff33ae14ff",
   "metadata": {},
   "outputs": [],
   "source": []
  },
  {
   "cell_type": "markdown",
   "id": "beb8ceab-571f-47ff-b78f-99ae7b934fb6",
   "metadata": {},
   "source": [
    "### All 100 random tests are statisticall different from the best cutoffs for g2a_male"
   ]
  },
  {
   "cell_type": "code",
   "execution_count": null,
   "id": "b39775e7-1d9d-4787-8366-092e1996df7b",
   "metadata": {},
   "outputs": [],
   "source": [
    "enr.case"
   ]
  },
  {
   "cell_type": "code",
   "execution_count": null,
   "id": "a56f859a-9c44-40cb-ae43-4549ee7ea178",
   "metadata": {},
   "outputs": [],
   "source": [
    "cutoff_pvalue=0.25"
   ]
  },
  {
   "cell_type": "code",
   "execution_count": null,
   "id": "8f93d6c3-daf9-4c9e-9005-2898df704d53",
   "metadata": {},
   "outputs": [],
   "source": [
    "n_sim=100\n",
    "abs_lfc_cutoff_default=1.\n",
    "fdr_lfc_cutoff_default=0.05\n",
    "pathway_fdr_cutoff_default=0.05\n",
    "\n",
    "force=False\n",
    "\n",
    "for case in case_list:\n",
    "    ret, _, _, _=enr.open_case(case, verbose=False)\n",
    "\n",
    "    dff=enr.run_n_simulations(n_sim, case, abs_lfc_cutoff_default, fdr_lfc_cutoff_default, pathway_fdr_cutoff_default, force=force, verbose=False)\n",
    "    dff.pvalue=dff.pvalue.astype(float)\n",
    "\n",
    "    n=len(dff)\n",
    "    n_below=np.sum(dff.pvalue < cutoff_pvalue)\n",
    "    n_above=np.sum(dff.pvalue >= cutoff_pvalue)\n",
    "    # len(dff[dff.stat_sig == False])\n",
    "    \n",
    "    print(f\">>> {case} - tested {n} simulations, cutoff pvalue={cutoff_pvalue}\")\n",
    "    print(f\"{n} comparisons {n_below}/{n_above}\")\n",
    "    print(\"\")"
   ]
  },
  {
   "cell_type": "code",
   "execution_count": null,
   "id": "ffb65b80-7389-4668-81e8-01c333c7027b",
   "metadata": {},
   "outputs": [],
   "source": []
  },
  {
   "cell_type": "markdown",
   "id": "ee43ceb7-65dd-4a74-afe6-b4cbf3d5ee82",
   "metadata": {},
   "source": [
    "### Runingn all cases"
   ]
  },
  {
   "cell_type": "code",
   "execution_count": null,
   "id": "6eb5a844-2c7d-4213-bf87-e8fbd71fdc19",
   "metadata": {
    "scrolled": true
   },
   "outputs": [],
   "source": [
    "enr.set_db(0, verbose=False)\n",
    "text=enr.degs_to_text_all_cases_summary(verbose=False)\n",
    "print(text)"
   ]
  },
  {
   "cell_type": "code",
   "execution_count": null,
   "id": "af7c76c3",
   "metadata": {},
   "outputs": [],
   "source": [
    "want_to_run=False\n",
    "\n",
    "if want_to_run:\n",
    "    enr.cfg.open_best_ptw_cutoff()\n",
    "    \n",
    "    enr.echo_default()\n",
    "    print(\"\")\n",
    "    \n",
    "    all_degs=[]\n",
    "    for case in case_list:\n",
    "        print(\">>>\", case)\n",
    "        ret, degs, degs_ensembl, dfdegs=enr.open_case(case, verbose=False)\n",
    "        \n",
    "        if not ret:\n",
    "            print(f\"\\nError?? case {case}\")\n",
    "            enr.echo_degs()\n",
    "            print(\"\")\n",
    "            continue\n",
    "    \n",
    "        enr.echo_parameters(want_echo_default=False, jump_line=True)\n",
    "        print(\"\")\n",
    "        all_degs += enr.degs_in_pathways + enr.degs_not_in_pathways\n",
    "        enr.echo_parameters()\n",
    "        print(\"\")\n",
    "        \n",
    "    all_degs=np.unique(all_degs)\n",
    "    print(f\"There are {len(all_degs)} {enr.s_gene_protein}s in all cases \")\n",
    "    print(\"\\nall degs:\", \"; \".join(all_degs))\n",
    "    print(\"\\n\\n\")"
   ]
  },
  {
   "cell_type": "code",
   "execution_count": null,
   "id": "a51dff34",
   "metadata": {},
   "outputs": [],
   "source": []
  },
  {
   "cell_type": "code",
   "execution_count": null,
   "id": "4042d352-9509-4760-88c6-bbfe819ad09f",
   "metadata": {},
   "outputs": [],
   "source": [
    "cols2=['case', 'toi4_median', 'abs_lfc_cutoff', 'fdr_lfc_cutoff', 'pathway_fdr_cutoff',  'n_pathways', 'n_degs_in_pathways']\n",
    "\n",
    "dfbest=enr.cfg.open_best_ptw_cutoff(verbose=False)\n",
    "dfbest2=dfbest[dfbest.med_max_ptw == 'median']\n",
    "# print([True if x in dfbest.columns else False for x in cols2])\n",
    "dfbest2[cols2]"
   ]
  },
  {
   "cell_type": "code",
   "execution_count": null,
   "id": "3aa5d5a0-268e-4ba3-b7f8-e4939829776a",
   "metadata": {},
   "outputs": [],
   "source": [
    "for case in case_list:\n",
    "    print(\">>>\", case)\n",
    "    _plot='genes'\n",
    "    print(_plot)\n",
    "    fig=enr.plot_index_versus_genes_and_pathways(case=case, selected_toi_col='toi4_median', _plot=_plot, width=1100, height=450, plot_all_dfi=False)\n",
    "    fig.show()\n",
    "    \n",
    "    _plot='pathways'\n",
    "    print(_plot)\n",
    "    fig=enr.plot_index_versus_genes_and_pathways(case=case, selected_toi_col='toi4_median', _plot=_plot, width=1100, height=450, plot_all_dfi=False)\n",
    "    fig.show()"
   ]
  },
  {
   "cell_type": "code",
   "execution_count": null,
   "id": "03feaa59-190c-4a83-9992-93759ff05b6a",
   "metadata": {},
   "outputs": [],
   "source": []
  }
 ],
 "metadata": {
  "kernelspec": {
   "display_name": "Python 3 (ipykernel)",
   "language": "python",
   "name": "python3"
  },
  "language_info": {
   "codemirror_mode": {
    "name": "ipython",
    "version": 3
   },
   "file_extension": ".py",
   "mimetype": "text/x-python",
   "name": "python",
   "nbconvert_exporter": "python",
   "pygments_lexer": "ipython3",
   "version": "3.11.11"
  }
 },
 "nbformat": 4,
 "nbformat_minor": 5
}
