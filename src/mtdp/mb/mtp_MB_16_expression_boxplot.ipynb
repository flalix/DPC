{
 "cells": [
  {
   "cell_type": "code",
   "execution_count": null,
   "id": "76077d81-59ed-493e-be34-e217bd78bdb9",
   "metadata": {},
   "outputs": [],
   "source": [
    "from platform import python_version\n",
    "print(python_version())"
   ]
  },
  {
   "cell_type": "code",
   "execution_count": null,
   "id": "97b601d7-65ba-450e-96bc-640ebe11e947",
   "metadata": {},
   "outputs": [],
   "source": [
    "import os, sys, pickle\n",
    "\n",
    "import numpy as np\n",
    "import pandas as pd\n",
    "pd.set_option('display.width', 100)\n",
    "pd.set_option('max_colwidth', 80)\n",
    "import yaml\n",
    "\n",
    "import seaborn as sns\n",
    "sns.set_context(\"notebook\", font_scale=1.4)\n",
    "\n",
    "import plotly.graph_objects as go\n",
    "\n",
    "import matplotlib.pyplot as plt\n",
    "import matplotlib.gridspec as gridspec\n",
    "%matplotlib inline\n",
    "\n",
    "sys.path.insert(1, '../src/')\n",
    "\n",
    "from Basic import *\n",
    "from nlp_cluster_lib import *\n",
    "from biopax_lib import *\n",
    "from gemini_lib import *\n",
    "\n",
    "import warnings\n",
    "warnings.filterwarnings(\"ignore\")\n",
    "\n",
    "from IPython.display import display, HTML\n",
    "display(HTML(\"<style>:root { --jp-notebook-max-width: 100% !important; }</style>\"))\n",
    "\n",
    "email = \"flalix@gmail.com\"\n",
    "\n",
    "# !pip3 install pyyaml\n",
    "with open('config_medulloblastoma.yml', 'r') as file:\n",
    "    dic_yml = yaml.safe_load(file)\n",
    "\n",
    "print(dic_yml)"
   ]
  },
  {
   "cell_type": "code",
   "execution_count": null,
   "id": "153b5e53-0dac-4491-b5be-d7f9f63a3bf8",
   "metadata": {},
   "outputs": [],
   "source": [
    "root_chibe = dic_yml['root_chibe']\n",
    "root_colab = dic_yml['root_colab']\n",
    "root0 = dic_yml['root0']\n",
    "\n",
    "project = dic_yml['project']\n",
    "s_project = dic_yml['s_project']\n",
    "\n",
    "gene_protein = dic_yml['gene_protein']\n",
    "s_omics = dic_yml['s_omics']\n",
    "\n",
    "has_age = dic_yml['has_age']\n",
    "has_gender = dic_yml['has_gender']\n",
    "\n",
    "want_normalized = dic_yml['want_normalized']\n",
    "\n",
    "abs_lfc_cutoff_inf = dic_yml['abs_lfc_cutoff_inf']\n",
    "s_pathw_enrichm_method = dic_yml['s_pathw_enrichm_method']\n",
    "num_min_degs_for_ptw_enr = dic_yml['num_min_degs_for_ptw_enr']\n",
    "\n",
    "tolerance_pathway_index = dic_yml['tolerance_pathway_index']\n",
    "type_sat_ptw_index = dic_yml['type_sat_ptw_index']\n",
    "saturation_lfc_index = dic_yml['saturation_lfc_index']\n",
    "chosen_model_sampling = dic_yml['chosen_model_sampling']\n",
    "\n",
    "case_list = dic_yml['case_list']\n",
    "\n",
    "pval_pathway_cutoff = dic_yml['pval_pathway_cutoff']\n",
    "fdr_pathway_cutoff = dic_yml['fdr_pathway_cutoff']\n",
    "num_of_genes_cutoff = dic_yml['num_of_genes_cutoff']\n",
    "\n",
    "run_list = dic_yml['run_list']\n",
    "chosen_model_list = dic_yml['chosen_model_list']\n",
    "i_dfp_list = dic_yml['i_dfp_list']\n",
    "\n",
    "exp_normalization='quantile_norm' if want_normalized else None\n",
    "normalization='not_normalized' if exp_normalization is None else exp_normalization\n",
    "\n",
    "cfg = Config(project, s_project, case_list, root0)\n",
    "\n",
    "case = case_list[0]\n",
    "\n",
    "n_genes_annot_ptw, n_degs, n_degs_in_ptw, n_degs_not_in_ptw, degs_in_all_ratio = -1,-1,-1,-1,-1\n",
    "abs_lfc_cutoff, fdr_lfc_cutoff, n_degs, n_degs_up, n_degs_dw = cfg.get_best_lfc_cutoff(case, 'not_normalized')\n",
    "\n",
    "\n",
    "print(f\"G/P LFC cutoffs: lfc={abs_lfc_cutoff:.3f}; fdr={fdr_lfc_cutoff:.3f}\")\n",
    "print(f\"Pathway cutoffs: pval={pval_pathway_cutoff:.3f}; fdr={fdr_pathway_cutoff:.3f}; num of genes={num_of_genes_cutoff}\")"
   ]
  },
  {
   "cell_type": "code",
   "execution_count": null,
   "id": "51a21c82-f4e7-495c-a3f8-7254e911b712",
   "metadata": {},
   "outputs": [],
   "source": [
    "bpx = Biopax(gene_protein, s_omics, project, s_project, root0,\n",
    "             case_list, has_age, has_gender, clone_objects=False,\n",
    "             exp_normalization=exp_normalization, geneset_num=0, \n",
    "             num_min_degs_for_ptw_enr=num_min_degs_for_ptw_enr, \n",
    "             tolerance_pathway_index=tolerance_pathway_index, \n",
    "             s_pathw_enrichm_method = s_pathw_enrichm_method)\n",
    "\n",
    "case = case_list[0]\n",
    "\n",
    "bpx.cfg.set_default_best_lfc_cutoff(normalization, abs_lfc_cutoff=1, fdr_lfc_cutoff=0.05)\n",
    "ret, degs, degs_ensembl, dfdegs = bpx.open_case(case, verbose=False)\n",
    "print(\"\\nEcho Parameters:\")\n",
    "bpx.echo_parameters()"
   ]
  },
  {
   "cell_type": "code",
   "execution_count": null,
   "id": "c4212844-3396-4b34-9cc7-d442f573c8d9",
   "metadata": {},
   "outputs": [],
   "source": [
    "##########################\n",
    "is_seldata=False\n",
    "##########################"
   ]
  },
  {
   "cell_type": "code",
   "execution_count": null,
   "id": "89053d32-95e5-44ed-9009-5405fe53b6f8",
   "metadata": {},
   "outputs": [],
   "source": [
    "API_KEY = dic_yml['API_KEY']\n",
    "\n",
    "disease = dic_yml['disease']\n",
    "context_disease = dic_yml['context_disease']\n",
    "n_sentences = dic_yml['n_sentences']\n",
    "chosen_model_sampling = dic_yml['chosen_model_sampling']\n",
    "\n",
    "##################\n",
    "i_dfp_list = [0]\n",
    "##################\n",
    "gem = Gemini( bpx=bpx, is_seldata=is_seldata, disease=disease, context_disease=context_disease, \n",
    "             API_KEY=API_KEY, n_sentences=n_sentences, root0=root0, \n",
    "             chosen_model_list=chosen_model_list, i_dfp_list=i_dfp_list, chosen_model_sampling=chosen_model_sampling)\n",
    "print(\"\\n\")\n",
    "print(gem.disease, gem.is_seldata)\n",
    "print(\"Context:\", context_disease)"
   ]
  },
  {
   "cell_type": "code",
   "execution_count": null,
   "id": "e0e9d850-8c6b-4aaa-91f7-5079ccb5245e",
   "metadata": {},
   "outputs": [],
   "source": []
  },
  {
   "cell_type": "code",
   "execution_count": null,
   "id": "6e8774bb-d9cc-4661-a9d9-1ac888cc4e41",
   "metadata": {},
   "outputs": [],
   "source": [
    "root0 = '../../colaboracoes/aparecida/'\n",
    "root_data = os.path.join(root0, 'data')\n",
    "root_data"
   ]
  },
  {
   "cell_type": "code",
   "execution_count": null,
   "id": "ec83619e-2886-4d92-95ae-0f97f18768a5",
   "metadata": {},
   "outputs": [],
   "source": [
    "fname_pheno = \"pheno_meduloblastoma.tsv\"\n",
    "\n",
    "dfp = pdreadcsv(fname_pheno, root_data)\n",
    "dfp.head(3)"
   ]
  },
  {
   "cell_type": "code",
   "execution_count": null,
   "id": "241b6a7b-001f-40df-9bfa-f033e57848cf",
   "metadata": {},
   "outputs": [],
   "source": [
    "dfp.group.unique()"
   ]
  },
  {
   "cell_type": "code",
   "execution_count": null,
   "id": "0dc19445-e161-4182-9134-65a88713a1ab",
   "metadata": {},
   "outputs": [],
   "source": [
    "fname = 'medulloblastoma_expression_all_cols_log2_not_normalization.tsv'\n",
    "filefull = os.path.join(root_data, fname)\n",
    "print(filefull)\n",
    "df_exp = pdreadcsv(fname, root_data)\n",
    "df_exp = df_exp[~pd.isnull(df_exp.symbol)]\n",
    "df_exp.index = np.arange(len(df_exp))\n",
    "\n",
    "print(len(df_exp))\n",
    "df_exp.head(4).T"
   ]
  },
  {
   "cell_type": "code",
   "execution_count": null,
   "id": "6fe6681c-a4be-4b81-a5f3-cd4bb4b141e4",
   "metadata": {},
   "outputs": [],
   "source": [
    "all_cols0 = df_exp.columns\n",
    "all_cols0"
   ]
  },
  {
   "cell_type": "code",
   "execution_count": null,
   "id": "0bee2ac2-e83b-435f-a5a6-70c922696cc7",
   "metadata": {},
   "outputs": [],
   "source": [
    "all_cols = all_cols0[3:]\n",
    "all_cols"
   ]
  },
  {
   "cell_type": "code",
   "execution_count": null,
   "id": "1ef20f39-5b75-4a27-b988-d8abe2b368b1",
   "metadata": {},
   "outputs": [],
   "source": [
    "groups = list(dfp.group.unique())\n",
    "groups.sort()\n",
    "groups"
   ]
  },
  {
   "cell_type": "code",
   "execution_count": null,
   "id": "f351c1c6-0938-4f53-a4d4-374e175f357d",
   "metadata": {},
   "outputs": [],
   "source": [
    "groups = ['C4', 'WNT']"
   ]
  },
  {
   "cell_type": "code",
   "execution_count": null,
   "id": "4ff5497f-afd3-4ce2-9ee4-906474d04429",
   "metadata": {},
   "outputs": [],
   "source": [
    "cols_g4 = dfp[dfp.group == groups[0]].accession.to_list()\n",
    "cols_g4"
   ]
  },
  {
   "cell_type": "code",
   "execution_count": null,
   "id": "d2dd5279-aa88-419a-96f6-80db22341792",
   "metadata": {},
   "outputs": [],
   "source": [
    "cols_wnt = dfp[dfp.group == groups[1]].accession.to_list()\n",
    "cols_wnt"
   ]
  },
  {
   "cell_type": "code",
   "execution_count": null,
   "id": "00d1cba2-b449-4f95-920e-f78550b91799",
   "metadata": {},
   "outputs": [],
   "source": [
    "cols_ctr = dfp[dfp.group == 'CTRL'].accession.to_list()\n",
    "cols_ctr"
   ]
  },
  {
   "cell_type": "code",
   "execution_count": null,
   "id": "0b9263ef-97cf-4464-a502-9ac7c1d9b4e0",
   "metadata": {},
   "outputs": [],
   "source": [
    "groups=['ctrl', 'G4', 'WNT']\n",
    "    \n",
    "for group in groups:\n",
    "    if group == 'ctrl':\n",
    "        dfctrl = df_exp[ ['symbol'] + cols_ctr]\n",
    "\n",
    "    elif group == 'G4':\n",
    "        dfg4 = df_exp[ ['symbol'] + cols_g4 ]\n",
    "\n",
    "    elif group == 'WNT':\n",
    "        dfwnt = df_exp[ ['symbol'] + cols_wnt ]\n",
    "\n",
    "len(dfctrl), len(dfg4), len(dfwnt)"
   ]
  },
  {
   "cell_type": "code",
   "execution_count": null,
   "id": "ac337e58-9a28-4549-8576-4d4f0baa0d64",
   "metadata": {},
   "outputs": [],
   "source": [
    "dfctrl.head(3)"
   ]
  },
  {
   "cell_type": "code",
   "execution_count": null,
   "id": "199d0d48-5924-4b43-a669-b15c18fccc30",
   "metadata": {},
   "outputs": [],
   "source": [
    "dfg4.head(3)"
   ]
  },
  {
   "cell_type": "code",
   "execution_count": null,
   "id": "818b00de-30b1-4bbf-9fe3-b81d54584869",
   "metadata": {},
   "outputs": [],
   "source": [
    "dfwnt.head(3)"
   ]
  },
  {
   "cell_type": "code",
   "execution_count": null,
   "id": "98c190c4-697f-48a1-a173-b2713068bbfe",
   "metadata": {},
   "outputs": [],
   "source": [
    "groups"
   ]
  },
  {
   "cell_type": "code",
   "execution_count": null,
   "id": "a7b1018b-a299-4769-b033-3458f83f9f56",
   "metadata": {},
   "outputs": [],
   "source": [
    "title=symbol\n",
    "width=1100\n",
    "height=800\n",
    "z_title='gene'\n",
    "\n",
    "symbol='CACNB2'\n",
    "\n",
    "fig = go.Figure()\n",
    "\n",
    "for group in groups:\n",
    "\n",
    "        if group == 'ctrl':\n",
    "            dfa = dfctrl[dfctrl.symbol==symbol].iloc[:,1:]\n",
    "            name = 'control'\n",
    "\n",
    "        elif group == 'G4':\n",
    "            dfa = dfg4[dfg4.symbol==symbol].iloc[:,1:]\n",
    "            name = 'G4'\n",
    "   \n",
    "        elif group == 'WNT':\n",
    "            dfa = dfwnt[dfwnt.symbol==symbol].iloc[:,1:]\n",
    "            name = 'WNT'\n",
    "            \n",
    "        df3 = dfa.T\n",
    "        df3 = df3.mean(axis=1)\n",
    "        df3.columns = ['expression']\n",
    "        # df3 = np.round(df3.expression, 3)\n",
    "        fig.add_trace(go.Box(y=df3, name=name))\n",
    "\n",
    "\n",
    "fig.update_layout(\n",
    "    width=width, \n",
    "    height=height,\n",
    "    title=title, \n",
    "    title_x=0.5,\n",
    "    coloraxis=dict(\n",
    "        colorscale=colorscale,\n",
    "        colorbar=dict(\n",
    "            title=dict(\n",
    "                text=z_title,\n",
    "                side='right'),\n",
    "            xanchor='right', x=1.0,\n",
    "            xpad=0,\n",
    "            ticks='inside')),\n",
    "    legend=dict(\n",
    "        yanchor='top',\n",
    "        xanchor='right',\n",
    "        bgcolor='rgba(0, 0, 0, 0)',\n",
    "        itemclick=False,\n",
    "        itemdoubleclick=False),\n",
    "    showlegend=True)\n",
    "        \n",
    "fig.show()"
   ]
  },
  {
   "cell_type": "code",
   "execution_count": null,
   "id": "3f9e3d0d-325f-47cc-86be-38dca6bd1f83",
   "metadata": {},
   "outputs": [],
   "source": []
  },
  {
   "cell_type": "code",
   "execution_count": null,
   "id": "d42174c7-c213-4427-9206-1ec015dde9cc",
   "metadata": {},
   "outputs": [],
   "source": []
  },
  {
   "cell_type": "code",
   "execution_count": null,
   "id": "719f05e3-6296-4a05-8506-5308e6a6af03",
   "metadata": {},
   "outputs": [],
   "source": [
    "verbose=False\n",
    "\n",
    "run='run01'\n",
    "\n",
    "case = case_list[0]\n",
    "\n",
    "dfg = gem.group_discovery_fp_fn(run=run, case=case, chosen_model_list=chosen_model_list, \n",
    "                                force=False, verbose=True)\n",
    "print(len(dfg))\n",
    "df_fn = dfg[dfg.group == 'FN']\n",
    "df_fn"
   ]
  },
  {
   "cell_type": "code",
   "execution_count": null,
   "id": "5dd566bc-c339-4cc4-a4a6-11a8c4f5af60",
   "metadata": {},
   "outputs": [],
   "source": [
    "ret, _, _, _ = gem.bpx.open_case(case)\n",
    "dflfc = gem.bpx.dflfc\n",
    "\n",
    "dflfc.head(3)"
   ]
  },
  {
   "cell_type": "code",
   "execution_count": null,
   "id": "5cd9a1d0-4dda-4c22-8dd7-9a9581dc43bc",
   "metadata": {},
   "outputs": [],
   "source": [
    "df_enr = gem.bpx.df_enr\n",
    "df_enr.head(3)"
   ]
  },
  {
   "cell_type": "code",
   "execution_count": null,
   "id": "4a0f858c-a5bd-4d91-bf61-171fe37c91af",
   "metadata": {},
   "outputs": [],
   "source": []
  },
  {
   "cell_type": "code",
   "execution_count": null,
   "id": "1d7c2b9f-a503-4a70-8a6d-70053ebcaf87",
   "metadata": {},
   "outputs": [],
   "source": [
    "i=0\n",
    "pathway_id = df_fn.iloc[i].pathway_id\n",
    "pathway = df_fn.iloc[i].pathway\n",
    "\n",
    "pathway_id, pathway"
   ]
  },
  {
   "cell_type": "code",
   "execution_count": null,
   "id": "eb353818-b080-4b0c-b7f6-db912d0efda4",
   "metadata": {},
   "outputs": [],
   "source": [
    "dfe = df_enr[df_enr.pathway_id == pathway_id]\n",
    "dfe"
   ]
  },
  {
   "cell_type": "code",
   "execution_count": null,
   "id": "469783e2-6e7b-49f6-a463-c8471794fad6",
   "metadata": {},
   "outputs": [],
   "source": [
    "lista = dfe.iloc[0].genes\n",
    "if isinstance(lista, str):\n",
    "    lista = eval(lista)\n",
    "\n",
    "print(len(lista))\n",
    "lista"
   ]
  },
  {
   "cell_type": "code",
   "execution_count": null,
   "id": "fc092492-6da2-4a03-b7c9-bf4d252fa134",
   "metadata": {},
   "outputs": [],
   "source": [
    "def boxplot_symbols_per_case(case, pathway_id, pathway, symbol, width=1100, height=800, z_title='gene expression'):\n",
    "    title=f\"{pathway} ({pathway_id})<br>case {case} - {gem.bpx.s_gene_protein}: {symbol}\"\n",
    "\n",
    "    fig = go.Figure()\n",
    "    found_data = False\n",
    "    for group in groups:\n",
    "    \n",
    "            if group == 'ctrl':\n",
    "                dfa = dfctrl[dfctrl.symbol==symbol].iloc[:,1:]\n",
    "                name = 'control'\n",
    "    \n",
    "            elif group == 'G4':\n",
    "                dfa = dfg4[dfg4.symbol==symbol].iloc[:,1:]\n",
    "                name = 'G4'\n",
    "       \n",
    "            elif group == 'WNT':\n",
    "                dfa = dfwnt[dfwnt.symbol==symbol].iloc[:,1:]\n",
    "                name = 'WNT'\n",
    "\n",
    "            if dfa.empty:\n",
    "                print(f\"Could nto find {symbol} in {group}\")\n",
    "                continue\n",
    "                \n",
    "            found_data = True\n",
    "            \n",
    "            df3 = dfa.T\n",
    "            # repeated probes\n",
    "            mean_exp = df3.mean(axis=1)\n",
    "            fig.add_trace(go.Box(y=mean_exp, jitter=0.3, pointpos=0, boxpoints='all',  name=name))  #  marker_color='black'\n",
    "    \n",
    "    if not found_data: return None\n",
    "    \n",
    "    fig.update_layout(\n",
    "        width=width, \n",
    "        height=height,\n",
    "        title=title, \n",
    "        title_x=0.5,\n",
    "        coloraxis=dict(\n",
    "            colorscale=colorscale,\n",
    "            colorbar=dict(\n",
    "                title=dict(\n",
    "                    text=z_title,\n",
    "                    side='right'),\n",
    "                xanchor='right', x=1.0,\n",
    "                xpad=0,\n",
    "                ticks='inside')),\n",
    "        legend=dict(\n",
    "            yanchor='top',\n",
    "            xanchor='right',\n",
    "            bgcolor='rgba(0, 0, 0, 0)',\n",
    "            itemclick=False,\n",
    "            itemdoubleclick=False),\n",
    "        showlegend=True)\n",
    "            \n",
    "    return fig"
   ]
  },
  {
   "cell_type": "code",
   "execution_count": null,
   "id": "e2f65934-6500-49ab-8e5e-37f77150637a",
   "metadata": {},
   "outputs": [],
   "source": [
    "lista"
   ]
  },
  {
   "cell_type": "code",
   "execution_count": null,
   "id": "ed160a7e-2358-4ca0-ac48-328837c1d74d",
   "metadata": {},
   "outputs": [],
   "source": [
    "i=0\n",
    "for symbol in lista:\n",
    "    i+=1\n",
    "    #if i==3: break\n",
    "    fig = boxplot_symbols_per_case(case, pathway_id, pathway, symbol, width=1300, height=800, z_title='gene expression')\n",
    "    if fig: fig.show()"
   ]
  },
  {
   "cell_type": "code",
   "execution_count": null,
   "id": "06477229-a8b1-4233-8785-bb2bb79ce9eb",
   "metadata": {},
   "outputs": [],
   "source": [
    "symbol"
   ]
  },
  {
   "cell_type": "code",
   "execution_count": null,
   "id": "1adc38a6-69df-4dfb-8701-6e725fd2690f",
   "metadata": {},
   "outputs": [],
   "source": [
    "df_exp[df_exp.symbol==symbol]"
   ]
  },
  {
   "cell_type": "code",
   "execution_count": null,
   "id": "0cfc5d92-5ea0-4b4f-abb2-0fc462cd6c56",
   "metadata": {},
   "outputs": [],
   "source": [
    "i=0\n",
    "for symbol in lista:\n",
    "    ret = symbol in df_exp.symbol\n",
    "    print(symbol, ret)"
   ]
  }
 ],
 "metadata": {
  "kernelspec": {
   "display_name": "Python 3 (ipykernel)",
   "language": "python",
   "name": "python3"
  },
  "language_info": {
   "codemirror_mode": {
    "name": "ipython",
    "version": 3
   },
   "file_extension": ".py",
   "mimetype": "text/x-python",
   "name": "python",
   "nbconvert_exporter": "python",
   "pygments_lexer": "ipython3",
   "version": "3.11.11"
  }
 },
 "nbformat": 4,
 "nbformat_minor": 5
}
