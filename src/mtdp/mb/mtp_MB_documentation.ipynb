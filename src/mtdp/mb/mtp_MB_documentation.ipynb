{
 "cells": [
  {
   "cell_type": "markdown",
   "id": "6aff28bc-706c-445f-bb40-8418f4b19ce0",
   "metadata": {},
   "source": [
    "# Molecular Targets Discovery Pipeline (MTP)"
   ]
  },
  {
   "cell_type": "markdown",
   "id": "8cde3f2e-7c2c-42a6-bcaf-5013b37cebc4",
   "metadata": {},
   "source": [
    "## Gemini API\n",
    "\n",
    "https://ai.google.dev/gemini-api/docs\n",
    "\n",
    "#### API key - Free of charge\n",
    "\n",
    "https://aistudio.google.com/app/apikey\n",
    "\n",
    "### Google Enable API\n",
    "\n",
    "  - You are about to enable 'Generative Language API'.\n",
    "\n",
    "https://ai.google.dev/gemini-api/docs/oauth"
   ]
  },
  {
   "cell_type": "markdown",
   "id": "740cf80d-82c9-4f91-ae10-ce9cbcb03e61",
   "metadata": {},
   "source": [
    "### Google Python projects\n",
    "\n",
    "#### Gemini API Text Implementation\n",
    "\n",
    "https://github.com/RepellentSpy/Gemini-API-Text-Implementation/tree/main\n",
    "\n",
    "#### gemini-api 0.1.6\n",
    "\n",
    "https://pypi.org/project/gemini-api/\n",
    "\n",
    "\n",
    "#### Gemini-API\n",
    "\n",
    "https://github.com/dsdanielpark/Gemini-API"
   ]
  },
  {
   "cell_type": "markdown",
   "id": "7e8140f1-4fb7-4667-a407-9262c724014e",
   "metadata": {},
   "source": [
    "## LLM - Large Language Model\n",
    "\n",
    "### Gemini flash\n",
    "\n",
    "gemini-1.5-flash-latest"
   ]
  },
  {
   "cell_type": "code",
   "execution_count": null,
   "id": "df8739c1-8345-46b0-8517-6cf9f10f1a2f",
   "metadata": {},
   "outputs": [],
   "source": []
  },
  {
   "cell_type": "code",
   "execution_count": null,
   "id": "9bf18605-fa3d-4722-a6f5-848294139fc9",
   "metadata": {},
   "outputs": [],
   "source": []
  },
  {
   "cell_type": "markdown",
   "id": "dfc1e135-3e2c-4129-9358-957b18aecd33",
   "metadata": {},
   "source": [
    "### Gemini"
   ]
  },
  {
   "cell_type": "markdown",
   "id": "e00bdcce-0d82-4f2d-8b68-45ef75bdc480",
   "metadata": {},
   "source": [
    "#### Gemini consensus  (mtp 12)"
   ]
  },
  {
   "cell_type": "markdown",
   "id": "d676f5ab-10cc-46a4-9eaa-364d4543aad7",
   "metadata": {},
   "source": [
    "#### Run all (mtp 08a)\n",
    "\n",
    "   - mtp_covid_08a_digital_curation_run_all()"
   ]
  },
  {
   "cell_type": "code",
   "execution_count": null,
   "id": "70ff98ed-dba0-4b3d-837e-5fadfb643182",
   "metadata": {},
   "outputs": [],
   "source": []
  },
  {
   "cell_type": "markdown",
   "id": "177f262c-a33f-4d58-80b7-099889ad726c",
   "metadata": {},
   "source": [
    "### i_dfp\n",
    "  - i_dfp == 0: N DEGs/DAPs\n",
    "  - i_dfp == 1: N genes at the middle of the table\n",
    "  - i_dfp == 2: N genes at the end of the table\n",
    "  - i_dfp == 3: N genes not in the table (fixed)"
   ]
  },
  {
   "cell_type": "markdown",
   "id": "090e9636-f49e-4378-9c0a-16c0f7f986c7",
   "metadata": {},
   "source": [
    "### Expectation\n",
    "  - i_dfp == 0: n_Yes >> n_No\n",
    "  - i_dfp == 1: n_No > n_Yes\n",
    "  - i_dfp == 2: n_No >> n_Yes\n",
    "  - i_dfp == 3: n_Yes ~ 0"
   ]
  },
  {
   "cell_type": "code",
   "execution_count": null,
   "id": "c1a4d359-4474-434b-9e8f-ae1f28c093f7",
   "metadata": {},
   "outputs": [],
   "source": []
  },
  {
   "cell_type": "markdown",
   "id": "0377b455-7ca7-4bd4-8288-32f84919ef05",
   "metadata": {},
   "source": [
    "<h2 style=\"color:violet;\">Read_gemini()</h2>\n",
    "\n",
    "  - Read Gemini's answers\n",
    "    - set a model: gem.set_gemini_num_model(chosen_model)\n",
    "    - df = gem.read_gemini(question_name, run=run, verbose=True)\n",
    "    - columns:\n",
    "      - pathway_id\n",
    "      - pathway\n",
    "      - fdr\n",
    "      - curation\n",
    "      - response_explain\n",
    "      - score_explain\n",
    "      - question\n",
    "      - disease\n",
    "      - case\n",
    "      - s_case\n",
    "      - pathway_found\n"
   ]
  },
  {
   "cell_type": "markdown",
   "id": "6af9d84d-bb86-43d0-9f2f-4a43efb6e1c7",
   "metadata": {},
   "source": [
    "![](figures/read_gemini.png)"
   ]
  },
  {
   "cell_type": "code",
   "execution_count": null,
   "id": "0bd0d3d5-a5c1-414a-bd50-be7a9d5e964a",
   "metadata": {},
   "outputs": [],
   "source": []
  },
  {
   "cell_type": "markdown",
   "id": "ddd51fce-2395-4407-8bbe-735244d2fa3d",
   "metadata": {},
   "source": [
    "<h2 style=\"color:violet;\">Semantic reproducibility definition</h2>\n",
    "\n",
    "  - reproducibility: all answers must be the same for all semantic variation questions\n",
    "  - given a run and a model\n",
    "    - all 4 semantic questions must result in the same answer Yes or No to be reproducible\n",
    "    - run_gemini_calc_all_semantic_reproducibility(run_list)\n",
    "      - for each chosen_model: run_gemini_calc_model_semantic_reproducibility()\n",
    "        - given a model\n",
    "        - loop over all cases\n",
    "          - for each question and i_dfp --> concatenates question_{idfp) columns\n",
    "          - self.calc_llm_model_reproducibility(dfn)\n",
    "    - open_gemini_reproducibility_run_model()"
   ]
  },
  {
   "cell_type": "code",
   "execution_count": null,
   "id": "24bbbed4-df67-4d5a-95ef-75d9a7ad5fd7",
   "metadata": {},
   "outputs": [],
   "source": []
  },
  {
   "cell_type": "markdown",
   "id": "2efc1fde-ba69-4d28-9922-ab6a74aec59f",
   "metadata": {},
   "source": [
    "### Semantic reproducibility for all runs, all models"
   ]
  },
  {
   "cell_type": "markdown",
   "id": "f6254381-a76b-486c-aefd-1fd102db97bc",
   "metadata": {},
   "source": [
    "![](figures/semantic_reproducibility.png)"
   ]
  },
  {
   "cell_type": "code",
   "execution_count": null,
   "id": "d8aec8a9-77a4-44f9-b97b-1c8317e50ade",
   "metadata": {},
   "outputs": [],
   "source": []
  },
  {
   "cell_type": "markdown",
   "id": "e79d3b56-2dd1-4d0f-bef5-0519c0b9017d",
   "metadata": {},
   "source": [
    "### Semantic reproducibility for a given run and model\n",
    "\n",
    "  - defined a run and a model"
   ]
  },
  {
   "cell_type": "markdown",
   "id": "6da174de-9b93-4a6e-8472-305611ff4f33",
   "metadata": {},
   "source": [
    "![](./figures/semantic_reproducibility_example.png)"
   ]
  },
  {
   "cell_type": "code",
   "execution_count": null,
   "id": "8edfe61a-3241-42c8-bebb-4ab31f5cc762",
   "metadata": {},
   "outputs": [],
   "source": []
  },
  {
   "cell_type": "markdown",
   "id": "18023a5f-4bf7-49b4-91f3-42d163caed60",
   "metadata": {},
   "source": [
    "<h2 style=\"color:cyan;\">Consensus definition</h2>\n",
    "\n",
    "  - vote majority\n",
    "  - if tie: Doubt\n",
    "\n",
    "#### Pseudocode\n",
    "  - n(Yes) > n(No): Yes\n",
    "  - n(No) > n(Yes): No\n",
    "  - n(Yes) == n(No): Doubt"
   ]
  },
  {
   "cell_type": "markdown",
   "id": "a1d3b823-036c-46ca-bfb5-afd6a6b999fa",
   "metadata": {},
   "source": []
  },
  {
   "cell_type": "markdown",
   "id": "dd4dd7cb-f309-45c1-920f-52f826e84d70",
   "metadata": {},
   "source": [
    "<h3 style=\"color:violet;\">Semantic Consensus definition</h3>\n",
    "\n",
    "  - given a run and a case\n",
    "  - calc the consensus between aswers for all Gemini models"
   ]
  },
  {
   "cell_type": "markdown",
   "id": "075f1cb9-52e3-46c7-8171-ca55819daffd",
   "metadata": {},
   "source": [
    "<h2 style=\"color:cyan;\">Gemini Reproducibility</h2>\n",
    "\n",
    "  - given a run\n",
    "  - comparing 2 models\n",
    "    - all 4 semantic questions must result in the same answer Yes or No\n",
    "    - run_gemini_calc_all_reproducibility()\n",
    "    - open_gemini_reproducibility_run_model()"
   ]
  },
  {
   "cell_type": "code",
   "execution_count": null,
   "id": "3f940187-79a1-4f0a-b31c-fcd95dc61364",
   "metadata": {},
   "outputs": [],
   "source": []
  },
  {
   "cell_type": "markdown",
   "id": "ec56ba04-f4a5-49cb-a518-295dd75e3536",
   "metadata": {},
   "source": [
    "### PubMed Search (mtp 11)\n",
    "\n",
    "  - mtp_covid_11a_query_find_papers_in_pubmed\n",
    "    - pubmed_lib\n",
    "      - pub.run_case_pathway_pubmed_search(case=case, with_gender=with_gender, ..)\n",
    "         - self.set_dates(inidate, enddate)\n",
    "         - terms_and_or, terms_not2 = self.case_to_terms()\n",
    "         - ret = self.build_df_enr_pubmed_search_table(verbose=verbose)\n",
    "         - df_pmid = self.run_terms_loop_pathways()\n",
    "         - save summaries:\n",
    "           - self.calc_summary_by_pmid(df_pmid)\n",
    "           - self.calc_summary_by_pathway(df_pmid)"
   ]
  },
  {
   "cell_type": "code",
   "execution_count": null,
   "id": "5ef75b4f-1e79-48a8-a78d-11254cf1e5a0",
   "metadata": {},
   "outputs": [],
   "source": []
  },
  {
   "cell_type": "markdown",
   "id": "c2c8f24f-05ba-43c4-9fd8-bd151817bc4f",
   "metadata": {},
   "source": [
    "<h2 style=\"color:cyan;\">Methods</h2>"
   ]
  },
  {
   "cell_type": "markdown",
   "id": "043e5e39-424b-4bac-a027-7b7d4719bce6",
   "metadata": {},
   "source": [
    "<h4 style=\"color:yellow;\">run_gemini_consensus_statitics_all_models()</h4>\n",
    "<h4 style=\"color:yellow;\">open_gemini_consensus_statitics_run_all_models()</h4>\n",
    "\n",
    "  - dfpiv = run_gemini_consensus_statitics_all_models(run=run, force=force, verbose=verbose)\n",
    "    - calc the pivot table with 4 semantic questions times n models\n",
    "  - dfpiv = gem.open_gemini_consensus_statitics_run_all_models(run=run)\n",
    "    - return the pivot table with 4 semantic questions times n models\n",
    "\n",
    "<h4 style=\"color:yellow;\">summary_stat_dpiv()</h4>\n",
    "\n",
    "  - dfsumm = gem.summary_stat_dpiv(dfpiv, verbose=verbose)\n",
    "    - return summary pivot table\n",
    "    - by case, model, i_dfp, semantic question\n",
    "       - totalize: Yes, Possible, Low, and No"
   ]
  },
  {
   "cell_type": "markdown",
   "id": "a48417e4-d327-405b-8534-be7207d5e3a6",
   "metadata": {},
   "source": [
    "  - report_gemini\n",
    "\n",
    "  - \n",
    "\n",
    "  - run_gemini_calc_all_semantic_reproducibility\n",
    "\n",
    "  - run_gemini_consensus_statitics\n",
    "\n",
    "  - summary_stat_dpiv\n",
    "\n",
    "  - stat_between_dfp_using_dpiv\n",
    "\n",
    "  - gemini_summary_consensus_statitics\n",
    "\n",
    "  - get_2_models\n",
    "\n",
    "  - compare_2_runs_unanimous_mean\n",
    "\n",
    "  - bar_plot_change_opinion\n",
    "\n",
    "  - bar_plot_yes_no_opinion\n",
    "\n",
    "  - run_all_comparing_geminis_by_runs\n",
    "\n",
    "  - compare_2_runs_total_answers\n",
    "    - given 2 runs: run01 and run02\n",
    "    - the method sums all yes, possible, low evidence, and no\n",
    "    - for all cases\n",
    "    - it returns:\n",
    "       - dftot: total table\n",
    "       - dfstat: statistics table comparing the 2 runs\n",
    "\n",
    "  - compare_2_models_venn_diagram\n"
   ]
  },
  {
   "cell_type": "code",
   "execution_count": null,
   "id": "6afa3265-80f1-4d42-8ee6-963ea29e29b7",
   "metadata": {},
   "outputs": [],
   "source": []
  },
  {
   "cell_type": "markdown",
   "id": "bd6f255e-6dcc-4073-940e-4b6c85c41859",
   "metadata": {},
   "source": [
    "#### for COVID"
   ]
  },
  {
   "cell_type": "markdown",
   "id": "c93c185f-698a-419e-accc-c0383ecbb54c",
   "metadata": {},
   "source": [
    "```\n",
    "test=False\n",
    "save_file=True\n",
    "force=False\n",
    "verbose=False\n",
    "\n",
    "for case in case_list:\n",
    "    for with_gender in [True, False]:\n",
    "        print(\">>>\",  case, with_gender)\n",
    "\n",
    "        terms_not_param = ['NOT', 'MERS', 'SARS-CoV-1']\n",
    "        terms1_param = [\"OR\", 'COVID', 'SARS-CoV-2']\n",
    "        connective_param = 'AND'\n",
    "\n",
    "    \n",
    "        _ = pub.run_case_pathway_pubmed_search(case=case, with_gender=with_gender...)\n",
    "\n",
    "    print(\"\")\n",
    "print(\"-------------- end --------------\")\n",
    "```"
   ]
  },
  {
   "cell_type": "markdown",
   "id": "9a4aae29-cc1c-4228-b58a-2d969270c47c",
   "metadata": {},
   "source": [
    "#### case_to_terms_covid"
   ]
  },
  {
   "cell_type": "markdown",
   "id": "c3027ea1-467e-402a-bf98-f958dc60905e",
   "metadata": {},
   "source": [
    "```\n",
    "\n",
    "\n",
    "\tdef case_to_terms_covid(self, verbose:bool=False) -> (List, List):\n",
    "\n",
    "\t\tif self.case == 'g1_female':\n",
    "\t\t\tterm_list = ['female', 'asymptomatic'] if self.with_gender else ['asymptomatic']\n",
    "\t\t\tnot_list = ['severe', 'intensive', 'outpatient']\n",
    "\n",
    "\t\telif self.case == 'g1_male':\n",
    "\t\t\tterm_list = ['male', 'asymptomatic'] if self.with_gender else ['asymptomatic']\n",
    "\t\t\tnot_list = ['severe', 'intensive', 'outpatient']\n",
    "\n",
    "\t\telif self.case == 'g2a_female':\n",
    "\t\t\tterm_list = ['female', 'mild'] if self.with_gender else ['mild']\n",
    "\t\t\tnot_list = ['severe', 'intensive']\n",
    "\n",
    "\t\telif self.case == 'g2a_male':\n",
    "\t\t\tterm_list = ['male', 'mild']  if self.with_gender else ['mild']\n",
    "\t\t\tnot_list = ['severe', 'intensive']\n",
    "\n",
    "\t\telif self.case == 'g2b_female':\n",
    "\t\t\tterm_list = ['female', 'moderate', 'outpatient'] if self.with_gender else ['moderate', 'outpatient']\n",
    "\t\t\tnot_list = ['mild', 'asymptomatic', 'severe', 'intensive']\n",
    "\n",
    "\t\telif self.case == 'g2b_male':\n",
    "\t\t\tterm_list = ['male', 'moderate', 'outpatient'] if self.with_gender else ['moderate', 'outpatient']\n",
    "\t\t\tnot_list = ['mild', 'asymptomatic', 'severe', 'intensive']\n",
    "\n",
    "\t\telif self.case == 'g3_female_adult':\n",
    "\t\t\tterm_list = ['female', 'severe'] if self.with_gender else ['severe']\n",
    "\t\t\tnot_list = ['elder', 'outpatient', 'mild', 'moderate', 'asymptomatic']\n",
    "\n",
    "\t\telif self.case == 'g3_male_adult':\n",
    "\t\t\tterm_list = ['male', 'severe'] if self.with_gender else ['severe']\n",
    "\t\t\tnot_list = ['elder', 'outpatient', 'mild', 'moderate', 'asymptomatic']\n",
    "\n",
    "\t\telif self.case == 'g3_female_elder':\n",
    "\t\t\tterm_list = ['female', 'elder', 'severe'] if self.with_gender else ['elder', 'severe']\n",
    "\t\t\tnot_list = ['outpatient', 'mild', 'moderate', 'asymptomatic']\n",
    "\n",
    "\t\telif self.case == 'g3_male_elder':\n",
    "\t\t\tterm_list = ['male', 'elder', 'severe'] if self.with_gender else ['elder', 'severe']\n",
    "\t\t\tnot_list = ['outpatient', 'mild', 'moderate', 'asymptomatic']\n",
    "\n",
    "\t\telse:\n",
    "\t\t\tprint(f\"Error: could not define the case {self.case} for {self.prefix}\")\n",
    "\t\t\tterm_list = []\n",
    "\t\t\tnot_list = []\n",
    "\n",
    "\t\t'''\treturn term_list + term_not '''\n",
    "\t\treturn term_list, not_list + ['child', 'neonat', 'newborn']\n",
    "```"
   ]
  },
  {
   "cell_type": "markdown",
   "id": "b042ea64-4265-4a8c-a498-2748426fe162",
   "metadata": {},
   "source": [
    "#### for Medulloblastoma"
   ]
  },
  {
   "cell_type": "markdown",
   "id": "663f3309-a430-4b4f-ae41-8600f227ded2",
   "metadata": {},
   "source": [
    "```\n",
    "test=False\n",
    "save_file=False\n",
    "force=False\n",
    "verbose=False\n",
    "\n",
    "for case in case_list:\n",
    "    print(\">>>\",  case,)\n",
    "\n",
    "    terms_not_param = ['NOT', 'COVID', 'SARS-CoV']\n",
    "    terms1_param = ['medulloblastoma']\n",
    "    connective_param = 'AND'\n",
    "    \n",
    "    _ = pub.run_case_pathway_pubmed_search(case=case, with_gender=False, terms1=terms1_param, \n",
    "                                           terms_not=terms_not_param, connective=connective_param, \n",
    "                                           test=test, save_file=save_file, force=force, verbose=verbose)\n",
    "    print(\"\")\n",
    "print(\"-------------- end --------------\")\n",
    "```"
   ]
  },
  {
   "cell_type": "markdown",
   "id": "68221530-ea4c-48c2-86f3-86347717a3dc",
   "metadata": {},
   "source": [
    "#### case_to_terms_medulloblastoma"
   ]
  },
  {
   "cell_type": "markdown",
   "id": "79dee2fe-4f07-4c4d-8343-7fb19ee74ca6",
   "metadata": {},
   "source": [
    "```\n",
    "\tdef case_to_terms_medulloblastoma(self, verbose:bool=False) -> (List, List):\n",
    "\n",
    "\t\tif self.case == 'WNT':\n",
    "\t\t\tterm_list = ['WNT']\n",
    "\t\telif self.case == 'SHH':\n",
    "\t\t\tterm_list = ['OR', 'SHH', 'Hedgehog']\n",
    "\t\telif self.case == 'G3':\n",
    "\t\t\tterm_list = ['OR', 'Group 3', 'G3']\n",
    "\t\telif self.case == 'G4':\n",
    "\t\t\tterm_list = ['OR', 'Group 4', 'G4']\n",
    "\t\telse:\n",
    "\t\t\tprint(f\"Error: could not define the case {self.case} for {self.prefix}\")\n",
    "\t\t\tterm_list = []\n",
    "\n",
    "\t\t'''\treturn term_list + term_not '''\n",
    "\t\treturn term_list, []\n",
    "```        "
   ]
  },
  {
   "cell_type": "markdown",
   "id": "8dd37419-4b49-4b9d-a003-77f80ccea326",
   "metadata": {},
   "source": [
    "#### All PubMed\n",
    "\n",
    "  - dfpub = pub.merge_all_pubmeds()"
   ]
  },
  {
   "cell_type": "code",
   "execution_count": null,
   "id": "3076dfe0-1078-4217-9b60-aa9aad2b4096",
   "metadata": {},
   "outputs": [],
   "source": []
  },
  {
   "cell_type": "markdown",
   "id": "751abf1b-23e2-4a00-a9fd-3fdf3eb880cb",
   "metadata": {},
   "source": [
    "### Gemini x Pubmed: save both and only one\n",
    "\n",
    "  - save_pubmed_x_gemini_both_and_only_one()\n",
    "    - compare_pubmed_x_gemini()\n",
    "      - pub.fname_pubmed_x_gemini%(case, i_dfp, run, pub.gem.gemini_model)\n",
    "      - instead of\n",
    "        - run_gemini_consensus_statitics_all_models(sel_ptw_pubmed)\n",
    "        - dfpiv2 = open_gemini_consensus_statitics_run_filter_idfp_consensus(sel_ptw_pubmed=sel_ptw_pubmed)\n",
    "        - dfpiva = open_gemini_consensus_statitics_run_all_models(run=run, sel_ptw_pubmed=sel_ptw_pubmed, verbose=verbose)\n",
    "        - gemini_summary_consensus_statitics(sel_ptw_pubmed)\n",
    "        - compare_2_models_venn_diagram(sel_ptw_pubmed)\n",
    "        - get_2_models(sel_ptw_pubmed)\n",
    "        - compare_2_runs_unanimous_mean(sel_ptw_pubmed)\n",
    "        - compare_2_runs_total_answers(sel_ptw_pubmed)\n",
    "        - report_gemini(sel_ptw_pubmed)\n",
    "        - sel_ptw_pubmed:bool=False)\n"
   ]
  },
  {
   "cell_type": "markdown",
   "id": "25a39f2b-5d78-40a9-9a3d-7168072472c6",
   "metadata": {},
   "source": [
    "### Gemini counts\n",
    "  - Count Yes and No per model, run versus iq and i_dfp:\n",
    "    - 2 iq have PubMed inside the search (pubmed=True) and 2 have not\n",
    "    - i_dfp: 0 to 3, 0=enriched, 1=middle, 2=end of the table, and 3=out of enriched table"
   ]
  },
  {
   "cell_type": "markdown",
   "id": "1ac6e28a-59ac-4920-bb2f-d2ec56bedab6",
   "metadata": {},
   "source": [
    "## Gemini Reproducibility\n",
    "\n",
    "  - 2 types:\n",
    "    - Hard reproducibility: comparing all question-answers\n",
    "    - Soft reproducibility: comparing consensus"
   ]
  },
  {
   "cell_type": "markdown",
   "id": "4bb51c4a-6def-461c-a892-9794cb2d3041",
   "metadata": {},
   "source": [
    "### Hard reproducibility (comparing each question answers)\n",
    "\n",
    "  - Comparing two runs - run-run reproducibility (RRR)\n",
    "  - Comparing two models - inter-model reproducibility (IMR)\n",
    "  - both, without i_dfp=3 (random out of table selected pathways)"
   ]
  },
  {
   "cell_type": "markdown",
   "id": "5189d0bc-bc87-4c0b-9f2a-205dde6c5822",
   "metadata": {},
   "source": [
    "### Soft reproducibility (comparing consensuses)\n",
    "\n",
    "  - One Model Consensus Reproducibility (OMCR)\n",
    "    - comparing all 4 DSSP - given one run, one model\n",
    "  - comparing 2 runs - run-run consensus reproducibility (RRCR)\n",
    "    - 2 runs, all models, all cases, all i_dfp - compare question's answer \n",
    "  - comparing 2 models - inter-model consensus reproducibility” (IMCR)\n",
    "    - given one run, comparing 2 models, all cases, all i_dfp\n",
    "  - all models, comparing 2 runs - all-models consensus reproducibility” (AMCR)\n",
    "    - 2 runs, comparing all models consensus, all cases, all i_dfp\n",
    "  - Run-run all-models answers reproducibility (RRAMAR)\n",
    "    - 2 runs, all-models, count Yes, Possible, Low, No answers.\n",
    "  - comparing unanimous between runs  (compare_2_runs_unanimous_mean)\n",
    "    - given one run, comparing unanimous and not consensuses, all cases, all i_dfp\n",
    "\n",
    "### Soft reproducibility Statistics\n",
    "  - counfounding table"
   ]
  },
  {
   "cell_type": "markdown",
   "id": "d1c70452-fd64-4b37-98af-5b5d87a0ea3c",
   "metadata": {},
   "source": [
    "### Soft reproducibility methods\n",
    "\n",
    "  - Methods:\n",
    "    - Calculate 4DSSP and consensus:\n",
    "      - calc_dfpiv_semantic_consensus_run_per_model()\n",
    "\n",
    "  - Inter-model consensus reproducibility\n",
    "  - method: run_all_inter_model_soft_consensus_repro()\n",
    "    - flexible ~consensus, not flexible ~equal consensus, n_yes, n_no\n",
    "    - for each run, case, i_dfp\n",
    "      - run_inter_model_soft_consensus_repro()\n",
    "        - dfpiv0 = self.open_dfpiv_semantic_consensus_run_per_model(run=run, chosen_model=chosen_model0, verbose=verbose)\n",
    "        - dfpiv1 = self.open_dfpiv_semantic_consensus_run_per_model(run=run, chosen_model=chosen_model1, verbose=verbose)\n",
    "          - filter case and i_dfp\n",
    "          - flexible: equal consensus\n",
    "          - not flexible: equal consensus, n_yes, n_no\n",
    "\n",
    "     - Summary:\n",
    "       - summary_stat_dfpiv_all_models()\n",
    "\n",
    "    - One Model Consensus Reproducibility (OMCR)\n",
    "      - rever todo xxxx\n",
    "\n",
    "     - All models consensus reproducibility (AMCR)\n",
    "       - calc_gemini_dfpiva_all_models_one_run()\n",
    "         - many models x 4 DSSP, n_yes, n_no, (all model) consensus, unanimous\n",
    "       - open_gemini_dfpiva_all_models_one_run()\n",
    "       - Comparing:\n",
    "         - run_inter_model_soft_consensus_venn()\n",
    "         - calc_stat_gemini_compare_2_models\n",
    "\n",
    "     - Unanimous Reproducibility:\n",
    "       - calc_all_semantic_unanimous_repro()\n",
    "           - for each run\n",
    "           - for each model\n",
    "           - calc_run_model_4DSSQ()\n",
    "             - for all cases and i_dfp (all pathways)\n",
    "                - read gemini table\n",
    "                  - build the 4 DSSQuestions\n",
    "                  - calc unaninous\n",
    "               - Unaninomous: all 4 questions are Yes or No\n",
    "       - For each run/model:\n",
    "         - calc: mu_unanimous, std_unanimous, n (number of pathways)\n",
    "         - save in file:\n",
    "            - analytics: gemini_unanimous_consistency_for_<disease>_model_<name>_run_<run>_<suffix>.tsv\n",
    "            - summary:   gemini_unanimous_consistency_stats_for_<disease>_<suffix>.tsv\n",
    "    - open_run_model_4DSSQ()"
   ]
  },
  {
   "cell_type": "markdown",
   "id": "a3e1df85-b4c2-4433-a83c-b6fd4546887e",
   "metadata": {},
   "source": [
    "#### Soft reproducibility other methods\n",
    "  - Venn diagrams:\n",
    "     - venn_diagram_between_2models\n"
   ]
  },
  {
   "cell_type": "code",
   "execution_count": null,
   "id": "055dd406-2831-402e-aa63-f2e1730b0bb3",
   "metadata": {},
   "outputs": [],
   "source": []
  },
  {
   "cell_type": "markdown",
   "id": "43fc165f-95ad-47f0-94a8-034664027f3f",
   "metadata": {},
   "source": [
    "### Comparing Gemini x Pubmed x Reviewers \n",
    "  - only selected cases and pathways\n",
    "  - run01, model 1.5-flash\n",
    "  - root data: colaboracoes/project/pubgem"
   ]
  },
  {
   "cell_type": "code",
   "execution_count": null,
   "id": "04539004-326a-46c8-9c29-ebe113d668bd",
   "metadata": {},
   "outputs": [],
   "source": []
  },
  {
   "cell_type": "markdown",
   "id": "00b107f7-f35a-43fc-8fd7-c7eb104842c5",
   "metadata": {},
   "source": [
    "## Rever"
   ]
  },
  {
   "cell_type": "markdown",
   "id": "3cacfa7a-6afb-49eb-979b-c5c94e890c9e",
   "metadata": {},
   "source": [
    "### Gemini Reproducibility\n",
    "  - Compare two models in one run (compare_2_models_one_run)\n",
    "     - venn_diagram_between_2models\n",
    "     - new pathways found: FN discovery\n",
    "  - semantic reproducibility per model:\n",
    "     - run_gemini_calc_all_semantic_reproducibility()\n",
    "     - open_gemini_semantic_reproducibility_run_model()\n",
    "  - comparing runs\n",
    "  - comparing models\n",
    "  - comparing unanimous between runs  (compare_2_runs_unanimous_mean)\n",
    "\n",
    "### Consensus\n",
    "  - calc_gemini_summary_consensus_statitics\n",
    "  - compare_2_runs_total_answers"
   ]
  },
  {
   "cell_type": "code",
   "execution_count": null,
   "id": "4c5c11e1-525c-4c56-954d-9e73b4fa7d2b",
   "metadata": {},
   "outputs": [],
   "source": []
  },
  {
   "cell_type": "markdown",
   "id": "047b412e-cf85-40da-8d23-3b0e3576d5bc",
   "metadata": {},
   "source": [
    "### Statistics - counfounding table\n",
    "  - Positive: i_dfp==0\n",
    "  - Negative: i_dfp==1\n",
    "  - pseudo negative1: i_dfp==2\n",
    "  - pseudo negative2: i_dfp==3\n",
    "  - calc:\n",
    "    - TP, FP, TN, FN, Sensibily, Specificity, Accuracy, and F1-score\n",
    "    - TN1, FN1\n",
    "    - TN2, FN2"
   ]
  },
  {
   "cell_type": "code",
   "execution_count": null,
   "id": "d38c2c83-e238-4025-83da-663755eb6c68",
   "metadata": {},
   "outputs": [],
   "source": []
  },
  {
   "cell_type": "markdown",
   "id": "9578249b-161f-484f-85f2-e92b2b21f0f5",
   "metadata": {},
   "source": [
    "### Merge all PubMed with/without gender filter\n",
    "  - COVID-19 is dependent on gender, MB is not.\n",
    "  - with gender: True or False for COVID-19 and False for MB\n",
    "  - PubMed search with ou without gender are different\n",
    "  - i_dfps = [0] for selected data and [0,1,2,3] for all data\n",
    "\n",
    "#### Method - pub.merge_all_pubmeds:  \n",
    "  - for all cases\n",
    "    - get the pathways\n",
    "    - get the reactome term table\n",
    "    - for each pathway - term:\n",
    "      - search for pmids in PubMed\n",
    "  - one run (dummy)\n",
    "  - one chosen_model (3 dummy)\n",
    "  - for gender True and False\n",
    "  - for all cases, iqs', i_dfps'\n",
    "    - get the pathways\n",
    "    - get the reactome term table\n",
    "    - for each pathway - term:\n",
    "      - search for pmids in PubMed\n",
    "  - PubMed search on 2025/01/02\n"
   ]
  },
  {
   "cell_type": "code",
   "execution_count": null,
   "id": "f3bdb1a9-e64d-408f-82d8-4a575ba896e6",
   "metadata": {},
   "outputs": [],
   "source": []
  }
 ],
 "metadata": {
  "kernelspec": {
   "display_name": "Python 3 (ipykernel)",
   "language": "python",
   "name": "python3"
  },
  "language_info": {
   "codemirror_mode": {
    "name": "ipython",
    "version": 3
   },
   "file_extension": ".py",
   "mimetype": "text/x-python",
   "name": "python",
   "nbconvert_exporter": "python",
   "pygments_lexer": "ipython3",
   "version": "3.12.0"
  }
 },
 "nbformat": 4,
 "nbformat_minor": 5
}
