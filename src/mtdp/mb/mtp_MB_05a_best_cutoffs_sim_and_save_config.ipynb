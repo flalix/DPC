{
 "cells": [
  {
   "cell_type": "code",
   "execution_count": null,
   "id": "8507fa29-279b-4485-965b-77219389672d",
   "metadata": {},
   "outputs": [],
   "source": [
    "from platform import python_version\n",
    "print(python_version())"
   ]
  },
  {
   "cell_type": "markdown",
   "id": "bd5a749a-e8af-47a6-b830-146427535d00",
   "metadata": {},
   "source": [
    "### Calc best cutoffs\n",
    "### Simulate many indexs\n",
    "### Calc if random genes can be equal or better than best cutoffs"
   ]
  },
  {
   "cell_type": "markdown",
   "id": "7adfb8c5-2d54-4ba8-854f-4c6170997dd9",
   "metadata": {},
   "source": [
    "## Definitions:\n",
    "  - LFC table has:\n",
    "    - abs_LFC (the absolute LFC cutoff value)\n",
    "    - FDR_LFC, its FDR or p-value adjusted\n",
    "  - The enriched pathway table has:\n",
    "    - FDR_pathway cutoff value\n",
    "   \n",
    "### Default values for LFC table:\n",
    "  - abs_LFC=1\n",
    "  - FDR_LFC=0.05\n",
    "  - therefore, a DEG/DAP is abs(LFC) >= 1 and FDR < 0.05\n",
    "\n",
    "### Default values for Enriched Pathways:\n",
    "  - FDR_pathway=0.05\n",
    "  - therefore, an enriched pathways has FDR < 0.05 and at least 3 DEGs/DAPs\n",
    "\n",
    "### Calculating the best cutoffs:\n",
    "  - We proposed and calculated many indexes to define a new statistics to flebilize the LFC and Enriched Pathway cutoffs.\n",
    "    - Indexes are calculated for each case, each cutoff, and each resulting enriched pathway.\n",
    "  - To find the possible best LFC/FDR expression and FDR pathway cutoffs:\n",
    "     - We look for a high number in n_pathway and n_DEGs_in_pathway, having a low FDR_LFC and a high absLFC.\n",
    "       - The default FDR_LFC (0.05):\n",
    "          - It may have fewer DEGs, resulting in fewer enriched pathways.\n",
    "          - It may have fewer enriched pathways, even having many DEGs/DAPs.\n",
    "       - Therefore, a trade-off exists between optimizing (abs_LFC and FDR_LFC cutoffs) and (FDR_pathway cutoffs, n_pathways, and n_DEGs_in_pathways.)\n",
    "\n",
    "### TOI calculates the trade-off between \"LFC\" and \"Enriched Pathways\" cufoffs\n",
    "\n",
    "  - We proposed and calculated four Trade-Off Indexes (toi):\n",
    "\n",
    "<p style=\"font-size: 20px; color: yellow;\">\n",
    "$toi1=\\sqrt{-log{_{10}}{FDR_{pathway}} * \\frac{n}{N} }$ </p>\n",
    "\n",
    "<p style=\"font-size: 20px; color: cyan;\">\n",
    "$toi2=\\sqrt{-log{_{10}}{FDR_{LFC}} * -log{_{10}}{FDR_{pathway}} }$ </p>\n",
    "\n",
    "<p style=\"font-size: 20px; color: orange;\">\n",
    "$toi3=(-log{_{10}}{FDR_{LFC}} * -log{_{10}}{FDR_{pathway}} * \\frac{n}{N})^{1/3}$ </p>\n",
    "\n",
    "<p style=\"font-size: 20px; color: pink;\">\n",
    "$toi4=(abs\\_LFC * -log{_{10}}{FDR_{LFC}} * -log{_{10}}{FDR_{pathway}} * \\frac{n}{N})^{1/4}$ </p>\n",
    "\n",
    "where,\n",
    "  - n is the number of DEGs/DAPs found in the pathway\n",
    "  - N is the total number of annotated DEGs/DAPs in the pathway (depend in the database, our default database is Reactome 2022)\n",
    "\n",
    "### Then we searched for the best cutoffs\n",
    "  - In each 5 percentile of the index histogram, we look for the best abs_LFC, FDR_LFC, FDR_pathway:\n",
    "  -  We expected that the best cutoff should be in the right tail of the histogram (high index value.)\n",
    "  -  High index values must have a high number of n_pathways and n DEGs in pathways.\n",
    "\n",
    "### Testing the best cutoffs (for each case)\n",
    "\n",
    "  - Is the new set of cutoffs correct? good enough?\n",
    "  - How to establish that the calculated cutoff is correct?\n",
    "  - To answer these questions we calculated the chi-square test between the \"best cutoff\" and the \"default\"\n",
    "    - Best cutoff has:\n",
    "      - n DEGs/DAPs in pathways\n",
    "      - n DEGs/DAPs not in pathways\n",
    "    - The Default cutoff may have:\n",
    "      - n DEGs/DAPs in pathways\n",
    "      - n DEGs/DAPs not in pathways\n",
    "      - The DEGs/DAPs can be:\n",
    "        - greater or equal number of the best cutoff DEGs/DAPs\n",
    "        - fewer number of the best cutoff DEGs/DAPs:\n",
    "           - in this case, one complements the number of DEGs/DAPs with random genes not DEGs/DAPs (found in the experiment)\n",
    "\n",
    "#### Chi-square test:\n",
    "\n",
    "DEGs/DAPs | # in pathway | no in pathway\n",
    "--- | --- | --- \n",
    " Best cutoff |     A      |   B  \n",
    " Default cutoff |   C | D \n",
    "\n",
    "Chi-square p-value:\n",
    "  - p-value < 0.05 denotes that both distributions are not similar; therefore, random genes could not reach the best cutoff DEGs/DAPs; in conclusion, the best cutoff was not found randomly.\n",
    "  - p-value \\>= 0.05 denotes that both distributions are similar, and the best cutoff can be achieved randomly."
   ]
  },
  {
   "cell_type": "code",
   "execution_count": null,
   "id": "f5a3b22e",
   "metadata": {},
   "outputs": [],
   "source": [
    "import os, sys, pickle\n",
    "\n",
    "import numpy as np\n",
    "import pandas as pd\n",
    "pd.set_option('display.width', 100)\n",
    "pd.set_option('max_colwidth', 80)\n",
    "pd.set_option(\"display.precision\", 3)\n",
    "\n",
    "import yaml\n",
    "\n",
    "import seaborn as sns\n",
    "sns.set_context(\"notebook\", font_scale=1.4)\n",
    "\n",
    "import matplotlib.pyplot as plt\n",
    "import matplotlib.gridspec as gridspec\n",
    "%matplotlib inline\n",
    "\n",
    "sys.path.insert(1, '../src/')\n",
    "\n",
    "from Basic import *\n",
    "from enricher_lib import *\n",
    "from config_lib import *\n",
    "\n",
    "import warnings\n",
    "warnings.filterwarnings(\"ignore\")\n",
    "\n",
    "from IPython.display import display, HTML\n",
    "display(HTML(\"<style>:root { --jp-notebook-max-width: 100% !important; }</style>\"))\n",
    "\n",
    "# !pip3 install pyyaml\n",
    "with open('params.yml', 'r') as file:\n",
    "    dic_yml=yaml.safe_load(file)"
   ]
  },
  {
   "cell_type": "code",
   "execution_count": null,
   "id": "2bdaf5e7",
   "metadata": {},
   "outputs": [],
   "source": [
    "root0=dic_yml['root0']\n",
    "email=dic_yml['email']\n",
    "\n",
    "project=dic_yml['project']\n",
    "s_project=dic_yml['s_project']\n",
    "\n",
    "gene_protein=dic_yml['gene_protein']\n",
    "s_omics=dic_yml['s_omics']\n",
    "\n",
    "has_age=dic_yml['has_age']\n",
    "has_gender=dic_yml['has_gender']\n",
    "\n",
    "want_normalized=dic_yml['want_normalized']\n",
    "\n",
    "abs_lfc_cutoff_inf=dic_yml['abs_lfc_cutoff_inf']\n",
    "s_pathw_enrichm_method=dic_yml['s_pathw_enrichm_method']\n",
    "num_min_degs_for_ptw_enr=dic_yml['num_min_degs_for_ptw_enr']\n",
    "\n",
    "tolerance_pathway_index=dic_yml['tolerance_pathway_index']\n",
    "type_sat_ptw_index=dic_yml['type_sat_ptw_index']\n",
    "saturation_lfc_index=dic_yml['saturation_lfc_index']\n",
    "chosen_model_sampling=dic_yml['chosen_model_sampling']\n",
    "\n",
    "case_list=dic_yml['case_list']\n",
    "\n",
    "pval_pathway_cutoff=dic_yml['pval_pathway_cutoff']\n",
    "fdr_pathway_cutoff=dic_yml['fdr_pathway_cutoff']\n",
    "num_of_genes_cutoff=dic_yml['num_of_genes_cutoff']\n",
    "\n",
    "run_list=dic_yml['run_list']\n",
    "chosen_model_list=dic_yml['chosen_model_list']\n",
    "i_dfp_list=dic_yml['i_dfp_list']\n",
    "\n",
    "exp_normalization='quantile_norm' if want_normalized else None\n",
    "normalization='not_normalized' if exp_normalization is None else exp_normalization\n",
    "\n",
    "cfg=Config(project, s_project, case_list, root0)\n",
    "\n",
    "case=case_list[0]\n",
    "\n",
    "n_genes_annot_ptw, n_degs, n_degs_in_ptw, n_degs_not_in_ptw, degs_in_all_ratio=-1,-1,-1,-1,-1\n",
    "abs_lfc_cutoff, fdr_lfc_cutoff, n_degs, n_degs_up, n_degs_dw=cfg.get_best_lfc_cutoff(case, 'not_normalized')\n",
    "\n",
    "\n",
    "print(f\"G/P LFC cutoffs: lfc={abs_lfc_cutoff:.3f}; fdr={fdr_lfc_cutoff:.3f}\")\n",
    "print(f\"Pathway cutoffs: pval={pval_pathway_cutoff:.3f}; fdr={fdr_pathway_cutoff:.3f}; num of genes={num_of_genes_cutoff}\")"
   ]
  },
  {
   "cell_type": "code",
   "execution_count": null,
   "id": "2d76e2fd",
   "metadata": {
    "scrolled": true
   },
   "outputs": [],
   "source": [
    "enr=enricheR(gene_protein, s_omics, project, s_project, root0,\n",
    "             case_list, has_age, has_gender, clone_objects=False,\n",
    "             exp_normalization=exp_normalization, geneset_num=0, \n",
    "             num_min_degs_for_ptw_enr=num_min_degs_for_ptw_enr, \n",
    "             tolerance_pathway_index=tolerance_pathway_index, \n",
    "             s_pathw_enrichm_method=s_pathw_enrichm_method,\n",
    "             abs_lfc_cutoff_inf=abs_lfc_cutoff_inf, \n",
    "             type_sat_ptw_index=type_sat_ptw_index, saturation_lfc_index=saturation_lfc_index)\n",
    "\n",
    "case=case_list[0]\n",
    "\n",
    "enr.cfg.set_default_best_lfc_cutoff(normalization, abs_lfc_cutoff=1, fdr_lfc_cutoff=0.05)\n",
    "ret, degs, degs_ensembl, dfdegs=enr.open_case(case, verbose=False)\n",
    "print(\"\\nEcho Parameters:\")\n",
    "enr.echo_parameters()\n",
    "geneset_num=enr.geneset_num"
   ]
  },
  {
   "cell_type": "code",
   "execution_count": null,
   "id": "7e75a31d-e7b8-4056-acc0-bbb64c66e3f8",
   "metadata": {},
   "outputs": [],
   "source": [
    "enr.case, enr.group, enr.gender, enr.age, enr.geneset_num, enr.abs_lfc_cutoff_inf"
   ]
  },
  {
   "cell_type": "code",
   "execution_count": null,
   "id": "e5091952-bac5-44d7-871b-18512dc6d726",
   "metadata": {},
   "outputs": [],
   "source": [
    "enr.abs_lfc_cutoff_inf, abs_lfc_cutoff_inf"
   ]
  },
  {
   "cell_type": "code",
   "execution_count": null,
   "id": "dabd5ec2-9013-4082-a231-ed17de86f900",
   "metadata": {
    "scrolled": true
   },
   "outputs": [],
   "source": [
    "for case in case_list:\n",
    "    ret, degs, degs_ensembl, dfdegs=enr.open_case(case, save_file=True, verbose=False)\n",
    "    enr.echo_parameters()\n",
    "    print(\"\\n\\n\\n\")"
   ]
  },
  {
   "cell_type": "code",
   "execution_count": null,
   "id": "4b269340-fad1-41da-af4e-61e2c9a5ffb2",
   "metadata": {},
   "outputs": [],
   "source": []
  },
  {
   "cell_type": "code",
   "execution_count": null,
   "id": "208aeeec-2b45-47a8-9848-ae166ce007ea",
   "metadata": {},
   "outputs": [],
   "source": [
    "print(\">>>\", case)\n",
    "\n",
    "ret, _, _, _ = enr.open_case(case, verbose=False)\n",
    "enr.pathway_pval_cutoff, enr.pathway_fdr_cutoff"
   ]
  },
  {
   "cell_type": "code",
   "execution_count": null,
   "id": "c7796a8f-a66c-48f4-8de6-c0f9ce62494b",
   "metadata": {},
   "outputs": [],
   "source": [
    "verbose=True\n",
    "ret_lfc = enr.open_dflfc_ori(verbose=verbose)\n",
    "ret_lfc"
   ]
  },
  {
   "cell_type": "code",
   "execution_count": null,
   "id": "440d22cc-a55f-47d3-8730-d99180c5b993",
   "metadata": {},
   "outputs": [],
   "source": [
    "save_enriched_ptws_excel_odt=False\n",
    "verbose=True\n",
    "force=False\n",
    "\n",
    "ret_enr = enr.open_enrichment_analysis(force=force, save_enriched_ptws_excel_odt=save_enriched_ptws_excel_odt, verbose=verbose)\n",
    "ret_enr"
   ]
  },
  {
   "cell_type": "code",
   "execution_count": null,
   "id": "caba4b71-9afb-4218-b7dd-5a2a038ef2d5",
   "metadata": {},
   "outputs": [],
   "source": []
  },
  {
   "cell_type": "markdown",
   "id": "573b7e75-0220-4742-b40e-70a0d0339230",
   "metadata": {},
   "source": [
    "### Find another case=WNT"
   ]
  },
  {
   "cell_type": "code",
   "execution_count": null,
   "id": "5e22bb81-53e7-4cf9-927b-3a39b7c72f79",
   "metadata": {
    "scrolled": true
   },
   "outputs": [],
   "source": [
    "case=case_list[1]\n",
    "ret, degs, degs_ensembl, dfdegs=enr.open_case(case, verbose=False)\n",
    "enr.echo_parameters()"
   ]
  },
  {
   "cell_type": "code",
   "execution_count": null,
   "id": "db606d5a-81c8-4164-83fc-825611184b1f",
   "metadata": {},
   "outputs": [],
   "source": [
    "enr.case, enr.group, enr.gender, enr.age, enr.geneset_num, enr.abs_lfc_cutoff_inf"
   ]
  },
  {
   "cell_type": "markdown",
   "id": "0b492450-67f5-4bfd-bc7d-8d69fee20e4e",
   "metadata": {},
   "source": [
    "### Reference database"
   ]
  },
  {
   "cell_type": "code",
   "execution_count": null,
   "id": "2ee08543-154c-41a0-a30a-bafd6bfefee7",
   "metadata": {},
   "outputs": [],
   "source": [
    "enr.geneset_num, enr.geneset_lib, enr.dbs_list"
   ]
  },
  {
   "cell_type": "code",
   "execution_count": null,
   "id": "7d50224c-082f-4223-9ec8-a4d54951e8cf",
   "metadata": {},
   "outputs": [],
   "source": [
    "enr.set_db(0, verbose=True)"
   ]
  },
  {
   "cell_type": "code",
   "execution_count": null,
   "id": "d44e6f36-794b-48c4-8baa-1965d37eda04",
   "metadata": {},
   "outputs": [],
   "source": [
    "fname_final_ori, fname_ori, title=enr.set_lfc_names()\n",
    "fname_final_ori, title"
   ]
  },
  {
   "cell_type": "markdown",
   "id": "d15db433-7d2e-49dc-8a35-0373ae0b15b7",
   "metadata": {},
   "source": [
    "### Sampling cutoffs"
   ]
  },
  {
   "cell_type": "code",
   "execution_count": null,
   "id": "ac72e581-8e3f-4920-8e38-0d0ba4009f01",
   "metadata": {},
   "outputs": [],
   "source": [
    "want=False\n",
    "geneset_num_list=[0, 1, 2, 4, 5, 7]\n",
    "\n",
    "if want:\n",
    "    for geneset_num in geneset_num_list:\n",
    "        enr.set_db(geneset_num, verbose=True)\n",
    "    \n",
    "        s_start=f\"enricher_{enr.geneset_lib}\"\n",
    "    \n",
    "        for case in case_list:\n",
    "            files=[x for x in os.listdir(enr.root_enrichment) if x.startswith(s_start) and case in x]\n",
    "            print(\"\\tcase\", case, len(files))\n",
    "    \n",
    "        print('')"
   ]
  },
  {
   "cell_type": "code",
   "execution_count": null,
   "id": "2e045549-092b-47ea-834b-5fb3ef4b1f6f",
   "metadata": {},
   "outputs": [],
   "source": []
  },
  {
   "cell_type": "markdown",
   "id": "40d36527",
   "metadata": {},
   "source": [
    "### Define case"
   ]
  },
  {
   "cell_type": "code",
   "execution_count": null,
   "id": "42822773-5ea7-404b-9e8d-f76dd543aa9e",
   "metadata": {},
   "outputs": [],
   "source": [
    "geneset_num=0\n",
    "enr.set_db(geneset_num, verbose=True)\n",
    "enr.geneset_num, enr.geneset_lib"
   ]
  },
  {
   "cell_type": "code",
   "execution_count": null,
   "id": "0217b466",
   "metadata": {
    "scrolled": true
   },
   "outputs": [],
   "source": [
    "i=0\n",
    "case=case_list[i]\n",
    "\n",
    "ret, degs, degs_ensembl, dfdegs=enr.open_case(case, verbose=False)\n",
    "print(f\"G/P cutoff: lfc={enr.abs_lfc_cutoff:.3f}; lfc_fdr={enr.fdr_lfc_cutoff:.3f}\")\n",
    "len(degs), len(degs_ensembl)"
   ]
  },
  {
   "cell_type": "code",
   "execution_count": null,
   "id": "84c4b339-af25-4922-95fa-35549ccd5d9a",
   "metadata": {},
   "outputs": [],
   "source": [
    "i=1\n",
    "case=case_list[i]\n",
    "\n",
    "ret, degs, degs_ensembl, dfdegs=enr.open_case(case, verbose=False)\n",
    "print(f\"G/P cutoff: lfc={enr.abs_lfc_cutoff:.3f}; lfc_fdr={enr.fdr_lfc_cutoff:.3f}\")\n",
    "len(degs), len(degs_ensembl)"
   ]
  },
  {
   "cell_type": "markdown",
   "id": "cb369a58-c408-4b1b-875c-14bfabc0a2be",
   "metadata": {},
   "source": [
    "### best_cutoff_quantiles() - for Reactome - return dfcut"
   ]
  },
  {
   "cell_type": "code",
   "execution_count": null,
   "id": "ebfe6e0d-52f5-47ce-9d51-37d15043ddfa",
   "metadata": {},
   "outputs": [],
   "source": [
    "fname=enr.fname_enr_gene_stat%(enr.case, enr.geneset_lib, enr.normalization)\n",
    "filefull=os.path.join(enr.root_ressum, fname)\n",
    "\n",
    "os.path.exists(filefull), fname"
   ]
  },
  {
   "cell_type": "code",
   "execution_count": null,
   "id": "e06afe8c-3bd6-4017-bfc7-15cb192f430d",
   "metadata": {},
   "outputs": [],
   "source": [
    "enr.set_enrichment_name()"
   ]
  },
  {
   "cell_type": "code",
   "execution_count": null,
   "id": "5d0dc701-6a95-4cb6-9bce-e432a1780e7c",
   "metadata": {},
   "outputs": [],
   "source": [
    "force=False\n",
    "verbose=False\n",
    "\n",
    "for case in case_list:\n",
    "    print(\">>>\", case)\n",
    "    _=enr.calc_enrichment_cutoff_params_and_ndxs_per_case_and_geneset_lib(case, force=force, verbose=verbose)\n"
   ]
  },
  {
   "cell_type": "code",
   "execution_count": null,
   "id": "1a30a730-51cf-4236-8362-9c0f8aba5b06",
   "metadata": {},
   "outputs": [],
   "source": [
    "verbose=True\n",
    "case=case_list[0]\n",
    "\n",
    "dfi=enr.calc_enrichment_cutoff_params_and_ndxs_per_case_and_geneset_lib(case, force=False, verbose=verbose)\n",
    "print(len(dfi))\n",
    "dfi.head(3)"
   ]
  },
  {
   "cell_type": "code",
   "execution_count": null,
   "id": "079edcef-785c-48f2-a2b4-4fa6459046bc",
   "metadata": {},
   "outputs": [],
   "source": []
  },
  {
   "cell_type": "markdown",
   "id": "cc0c24d3-3fc0-43b7-974f-e595e51d2dfe",
   "metadata": {},
   "source": [
    "### best_cutoff_quantiles() - return dfcut"
   ]
  },
  {
   "cell_type": "code",
   "execution_count": null,
   "id": "c11ec0a6-bb3d-4802-a0de-d0e9f269e57f",
   "metadata": {},
   "outputs": [],
   "source": [
    "fname=enr.fname_enr_gene_stat%(enr.case, enr.geneset_lib, enr.normalization)\n",
    "filefull=os.path.join(enr.root_ressum, fname)\n",
    "\n",
    "os.path.exists(filefull), fname"
   ]
  },
  {
   "cell_type": "code",
   "execution_count": null,
   "id": "6d274222-4f4f-4545-b5a1-99413fae90a1",
   "metadata": {},
   "outputs": [],
   "source": [
    "enr.set_enrichment_name()"
   ]
  },
  {
   "cell_type": "code",
   "execution_count": null,
   "id": "04b45e8f-74fe-4dde-b750-04561d879846",
   "metadata": {},
   "outputs": [],
   "source": [
    "verbose=True\n",
    "\n",
    "case=case_list[1]\n",
    "print(\">>>\", case)\n",
    "dfi=enr.calc_enrichment_cutoff_params_and_ndxs_per_case_and_geneset_lib(case, force=False, verbose=verbose)\n",
    "print(len(dfi))\n",
    "dfi.head(3)"
   ]
  },
  {
   "cell_type": "code",
   "execution_count": null,
   "id": "e93d319b-8f91-4045-b9ec-60171a9023c1",
   "metadata": {},
   "outputs": [],
   "source": []
  },
  {
   "cell_type": "markdown",
   "id": "02b63ff0-c60f-42c8-ad2d-37c591b8b326",
   "metadata": {},
   "source": [
    "## build_all_cutoffs_table(col)\n",
    "  - loop case_list\n",
    "    - best_cutoff_quantiles()\n",
    "      - calc_enrichment_cutoff_params_and_ndxs_per_case_and_geneset_lib\n",
    "\n",
    "## Next, calc_best_cutoffs_params()"
   ]
  },
  {
   "cell_type": "code",
   "execution_count": null,
   "id": "9338b22f-fa4a-4f06-939f-0ecb8ce27ae9",
   "metadata": {},
   "outputs": [],
   "source": [
    "enr.open_enriched_pathways_summary()"
   ]
  },
  {
   "cell_type": "code",
   "execution_count": null,
   "id": "c8938220-a320-459d-8fed-9c7774ddeaa0",
   "metadata": {},
   "outputs": [],
   "source": [
    "enr.abs_lfc_cutoff_inf"
   ]
  },
  {
   "cell_type": "markdown",
   "id": "e7815b7d-9b57-49e1-8d89-fe9c91a9f2ed",
   "metadata": {},
   "source": [
    "#### build_all_cutoffs_table\n",
    "\n",
    "  - for cols=['toi1_median', 'toi2_median', 'toi3_median', 'toi4_median']\n",
    "    - build_all_cutoffs_table()\n",
    "      - for each case\n",
    "        - for  med_max_ptw in ['median', 'maximum', 'pathway']:\n",
    "          - best_cutoff_quantiles\n",
    "            - dfi=enr.calc_enrichment_cutoff_params_and_ndxs_per_case_and_geneset_lib(case, force=...)\n"
   ]
  },
  {
   "cell_type": "code",
   "execution_count": null,
   "id": "6936fd9d-10fa-438d-9fa6-ba15c4a54b27",
   "metadata": {},
   "outputs": [],
   "source": [
    "cols=['toi1_median', 'toi2_median', 'toi3_median', 'toi4_median']\n",
    "geneset_num=0\n",
    "enr.set_db(geneset_num)\n",
    "print(enr.geneset_num, enr.geneset_lib, '\\n')\n",
    "\n",
    "force=False\n",
    "verbose=False\n",
    "\n",
    "for col in cols:\n",
    "    print(\">>>\", col)\n",
    "    dfcut=enr.build_all_cutoffs_table(selected_toi_col=col, force=force, verbose=False)"
   ]
  },
  {
   "cell_type": "code",
   "execution_count": null,
   "id": "ccd1573e-d7e6-44ae-a99e-38a0423b2780",
   "metadata": {},
   "outputs": [],
   "source": [
    "dfcut.columns"
   ]
  },
  {
   "cell_type": "code",
   "execution_count": null,
   "id": "085d6279-fb0f-4706-b346-3946d3dd20c5",
   "metadata": {},
   "outputs": [],
   "source": [
    "verbose=True\n",
    "\n",
    "case=case_list[0]\n",
    "print(\">>>\", case)\n",
    "dfi=enr.calc_enrichment_cutoff_params_and_ndxs_per_case_and_geneset_lib(case, force=False, verbose=verbose)\n",
    "\n",
    "maxi  =dfi.toi4_median.max()\n",
    "median=dfi.toi4_median.median()\n",
    "maxi, median"
   ]
  },
  {
   "cell_type": "code",
   "execution_count": null,
   "id": "1cac9d91-7b78-4cfd-bd8e-604f8530a1a1",
   "metadata": {},
   "outputs": [],
   "source": [
    "dfi.case.unique()"
   ]
  },
  {
   "cell_type": "code",
   "execution_count": null,
   "id": "08ca7791-f298-4a8e-a8ea-539e000e4b41",
   "metadata": {},
   "outputs": [],
   "source": [
    "verbose=True\n",
    "\n",
    "case=case_list[1]\n",
    "print(\">>>\", case)\n",
    "\n",
    "dfi=enr.calc_enrichment_cutoff_params_and_ndxs_per_case_and_geneset_lib(case, force=False, verbose=False)\n",
    "\n",
    "maxi  =dfi.toi4_median.max()\n",
    "median=dfi.toi4_median.median()\n",
    "maxi, median"
   ]
  },
  {
   "cell_type": "code",
   "execution_count": null,
   "id": "fc163c3a-5be7-4019-b956-fa3f6c372c57",
   "metadata": {},
   "outputs": [],
   "source": [
    "df3=dfi[ (dfi.toi4_median == maxi)]\n",
    "df3"
   ]
  },
  {
   "cell_type": "code",
   "execution_count": null,
   "id": "8aafa132-07d3-4f7e-ace8-521fedb4a415",
   "metadata": {},
   "outputs": [],
   "source": []
  },
  {
   "cell_type": "code",
   "execution_count": null,
   "id": "e3e894be-798d-4c4b-8691-7e17071d9aad",
   "metadata": {},
   "outputs": [],
   "source": [
    "cols=['case', 'geneset_num', 'normalization', 'med_max_ptw', 'parameter', 'quantile',\n",
    "      'quantile_val', 'quantile_val_inf', 'quantile_val_sup', \n",
    "      'abs_lfc_cutoff', 'fdr_lfc_cutoff', \n",
    "      'pathway_pval_cutoff', 'pathway_fdr_cutoff', 'num_of_genes_cutoff',\n",
    "      'n_pathways', 'n_degs_in_pathways', \n",
    "      'n_degs_in_pathways_mean', 'n_degs_in_pathways_median', 'n_degs_in_pathways_std', \n",
    "      'toi1_mean', 'toi1_median', 'toi1_std',\n",
    "      'toi2_mean', 'toi2_median', 'toi2_std',\n",
    "      'toi3_mean', 'toi3_median', 'toi3_std',\n",
    "      'toi4_mean', 'toi4_median', 'toi4_std',]\n",
    "\n",
    "\n",
    "cols=['case', 'med_max_ptw', 'quantile', 'toi4_median', 'abs_lfc_cutoff', 'fdr_lfc_cutoff',\n",
    "        'pathway_pval_cutoff', 'pathway_fdr_cutoff', 'n_pathways', 'n_degs_in_pathways',\n",
    "        'toi1_median', 'toi2_median', 'toi3_median']"
   ]
  },
  {
   "cell_type": "markdown",
   "id": "74d329a6-d60a-47c5-9b7f-6b7bdf6a678e",
   "metadata": {},
   "source": [
    "### Look for different approaches (sorting)"
   ]
  },
  {
   "cell_type": "code",
   "execution_count": null,
   "id": "9b99e5d9-afbd-4c58-91ba-dc683c309df3",
   "metadata": {},
   "outputs": [],
   "source": [
    "dfcut.case.unique()"
   ]
  },
  {
   "cell_type": "code",
   "execution_count": null,
   "id": "7b5073b1-f2c5-4277-9647-dc513f4329cd",
   "metadata": {},
   "outputs": [],
   "source": [
    "case=case_list[0]\n",
    "case"
   ]
  },
  {
   "cell_type": "code",
   "execution_count": null,
   "id": "c4c6840d-5326-4faf-a642-f4403a97452a",
   "metadata": {},
   "outputs": [],
   "source": [
    "col='toi1_median'\n",
    "dfcut=enr.build_all_cutoffs_table(selected_toi_col=col, force=False, verbose=False)\n",
    "df2=dfcut[(dfcut.case == case) & (dfcut.n_degs_in_pathways > 3) & (dfcut.med_max_ptw == 'median')]\n",
    "df2=df2.sort_values(col, ascending=False)\n",
    "df2[cols].head(6)"
   ]
  },
  {
   "cell_type": "code",
   "execution_count": null,
   "id": "628cd0a8-7cc2-4c79-b72e-11236f0e90ca",
   "metadata": {},
   "outputs": [],
   "source": [
    "col='toi2_median'\n",
    "dfcut=enr.build_all_cutoffs_table(selected_toi_col=col, force=False, verbose=False)\n",
    "df2=dfcut[(dfcut.case == case) & (dfcut.n_degs_in_pathways > 3) & (dfcut.med_max_ptw == 'median')]\n",
    "df2=df2.sort_values(col, ascending=False)\n",
    "df2[cols].head(6)"
   ]
  },
  {
   "cell_type": "code",
   "execution_count": null,
   "id": "62b49cb1-2d3f-4e03-b4d9-88295f0ee8e9",
   "metadata": {},
   "outputs": [],
   "source": [
    "col='toi3_median'\n",
    "dfcut=enr.build_all_cutoffs_table(selected_toi_col=col, force=False, verbose=False)\n",
    "df2=dfcut[(dfcut.case == case) & (dfcut.n_degs_in_pathways > 3) & (dfcut.med_max_ptw == 'median')]\n",
    "df2=df2.sort_values(col, ascending=False)\n",
    "df2[cols].head(6)"
   ]
  },
  {
   "cell_type": "code",
   "execution_count": null,
   "id": "a51dff34",
   "metadata": {},
   "outputs": [],
   "source": [
    "col='toi4_median'\n",
    "dfcut=enr.build_all_cutoffs_table(selected_toi_col=col, force=False, verbose=False)\n",
    "df2=dfcut[(dfcut.case == case) & (dfcut.n_degs_in_pathways > 3) & (dfcut.med_max_ptw == 'median')]\n",
    "df2=df2.sort_values(col, ascending=False)\n",
    "df2[cols].head(6)"
   ]
  },
  {
   "cell_type": "code",
   "execution_count": null,
   "id": "4a4fb431-cf21-49db-bbfa-bfbfe3af81de",
   "metadata": {},
   "outputs": [],
   "source": []
  },
  {
   "cell_type": "markdown",
   "id": "9697a57f-9aca-454d-b05d-0a82adf4622c",
   "metadata": {},
   "source": [
    "### Bad way to cut - by n_pathways"
   ]
  },
  {
   "cell_type": "code",
   "execution_count": null,
   "id": "175f8e6c-5166-44ac-ad0b-65e6e609d34e",
   "metadata": {},
   "outputs": [],
   "source": [
    "dfa=dfcut[dfcut.case == case].sort_values(['n_pathways', 'n_degs_in_pathways', 'pathway_fdr_cutoff'], ascending=[False, False, True])\n",
    "dfa[cols].head(9)"
   ]
  },
  {
   "cell_type": "code",
   "execution_count": null,
   "id": "68d7d4b0-9d85-4723-a4fc-b7ab0b2d1bbe",
   "metadata": {},
   "outputs": [],
   "source": [
    "dfa=dfcut[dfcut.case == case].sort_values(['n_degs_in_pathways', 'n_pathways', 'pathway_fdr_cutoff'], ascending=[False, False, True])\n",
    "dfa[cols].head(9)"
   ]
  },
  {
   "cell_type": "code",
   "execution_count": null,
   "id": "eee43592-0d18-4ff6-84d8-8f70f706fc82",
   "metadata": {},
   "outputs": [],
   "source": [
    "dfa=dfcut[dfcut.case == case].sort_values(['pathway_fdr_cutoff', 'n_pathways', 'n_degs_in_pathways'], ascending=[True, False, False])\n",
    "dfa[cols].head(9)"
   ]
  },
  {
   "cell_type": "code",
   "execution_count": null,
   "id": "d84016eb-5c32-4824-8b7c-ca3656c838b2",
   "metadata": {},
   "outputs": [],
   "source": [
    "dfa=dfcut[dfcut.case == case].sort_values(['pathway_fdr_cutoff', 'n_pathways', 'n_degs_in_pathways'], ascending=[True, False, False])\n",
    "dfa[cols].head(9)"
   ]
  },
  {
   "cell_type": "markdown",
   "id": "56872903-b14a-403f-a83b-2f10e6be9e0d",
   "metadata": {},
   "source": [
    "### Revisting DEGs and n_Pathwys x abs_LFC cutoff correlation\n",
    "\n",
    "#### return dic_fig\n",
    "  - which in ['deg', 'up', 'down']"
   ]
  },
  {
   "cell_type": "code",
   "execution_count": null,
   "id": "2639ae9e-eeb2-4aa1-b0bb-65b638ec48ab",
   "metadata": {},
   "outputs": [],
   "source": [
    "verbose=False\n",
    "plot_up_down=False\n",
    "\n",
    "corr_cutoff=-0.90\n",
    "nregs_fdr=5\n",
    "\n",
    "for case in case_list:\n",
    "    print(\">>\", case)\n",
    "    ret, dic_fig, df_fdr=enr.plot_nDEG_curve_per_LFC_FDR(case, width=1100, height=700, title=None, \n",
    "                                                           corr_cutoff=corr_cutoff, nregs_fdr=nregs_fdr, verbose=verbose)\n",
    "    \n",
    "    print(\"deg\")\n",
    "    dic_fig['deg'].show()\n",
    "\n",
    "    if plot_up_down:\n",
    "        print(\"up\")\n",
    "        dic_fig['up'].show()\n",
    "        print(\"down\")\n",
    "        dic_fig['down'].show()\n",
    "        \n",
    "    print()"
   ]
  },
  {
   "cell_type": "markdown",
   "id": "c21517e8-401d-4fb1-acc6-712fa51db49c",
   "metadata": {},
   "source": [
    "### Revisting DEGs and n_Pathways x toi4 median"
   ]
  },
  {
   "cell_type": "code",
   "execution_count": null,
   "id": "fed9554a-8ec8-46b1-b901-7b3121e7f934",
   "metadata": {},
   "outputs": [],
   "source": [
    "colors=['navy', 'red', 'darkcyan', 'darkgreen', 'orange', 'brown', 'darksalmon',\n",
    "        'magenta', 'darkturquoise', 'orange', 'darkred', 'indigo', 'magenta', 'maroon', 'black',\n",
    "        'darkblue', 'darkcyan', 'darkgoldenrod', 'darkgray', 'darkgrey', 'olivedrab', 'navy'] + plotly_colors_proteins"
   ]
  },
  {
   "cell_type": "code",
   "execution_count": null,
   "id": "0f2cf9cb-e168-4b22-a752-f3e16583d55e",
   "metadata": {},
   "outputs": [],
   "source": [
    "verbose=False\n",
    "selected_toi_col='toi4_median'\n",
    "\n",
    "dfcut=enr.build_all_cutoffs_table(selected_toi_col=selected_toi_col, force=False, verbose=verbose)\n",
    "dfcut.columns\n",
    "\n",
    "maxi_x=np.round(dfcut[selected_toi_col].max(), 3) + 0.001\n",
    "maxi_x"
   ]
  },
  {
   "cell_type": "code",
   "execution_count": null,
   "id": "162d4493-3521-4e53-8f28-bc14da0cb5ca",
   "metadata": {},
   "outputs": [],
   "source": [
    "case=enr.case\n",
    "print(\">>>\", case)\n",
    "\n",
    "df_fdr=enr.open_fdr_lfc_correlation(case=case)\n",
    "print(len(df_fdr))\n",
    "df_fdr.head(3)"
   ]
  },
  {
   "cell_type": "code",
   "execution_count": null,
   "id": "e7e38f11-a8ea-42bd-892b-56de935e386e",
   "metadata": {},
   "outputs": [],
   "source": []
  },
  {
   "cell_type": "code",
   "execution_count": null,
   "id": "b74f9fc3-f325-429c-8e7e-f9857db89738",
   "metadata": {},
   "outputs": [],
   "source": [
    "fdr=0.20\n",
    "\n",
    "dfcut=enr.build_all_cutoffs_table(selected_toi_col, force=False, verbose=False)\n",
    "df2=dfcut[ (dfcut.case == case) & (dfcut.fdr_lfc_cutoff == fdr)  & (dfcut.med_max_ptw == 'median')]\n",
    "df2"
   ]
  },
  {
   "cell_type": "code",
   "execution_count": null,
   "id": "0909e42a-a6a6-4adb-b18b-791e396832dc",
   "metadata": {},
   "outputs": [],
   "source": [
    "enr.abs_lfc_cutoff_inf, case"
   ]
  },
  {
   "cell_type": "code",
   "execution_count": null,
   "id": "8b7b489c-5374-4b1c-b243-f11b438f3c89",
   "metadata": {},
   "outputs": [],
   "source": [
    "dfcut=enr.build_all_cutoffs_table(selected_toi_col, force=False, verbose=False)\n",
    "# print(dfcut.columns)\n",
    "cols=['case', 'toi4_median', 'med_max_ptw', \n",
    "       'quantile', 'quantile_val_inf', 'quantile_val_sup',\n",
    "        'abs_lfc_cutoff', 'fdr_lfc_cutoff', 'pathway_fdr_cutoff',  'n_pathways',\n",
    "       'n_degs_in_pathways']  #  'toi1_median', 'toi2_median',  'toi3_median',\n",
    "case='WNT'\n",
    "\n",
    "df2=dfcut[ (dfcut.case == case) & (dfcut.normalization == enr.normalization) & (dfcut.geneset_num == enr.geneset_num) &\n",
    "             (dfcut.med_max_ptw == 'median')] \n",
    "df2[cols]"
   ]
  },
  {
   "cell_type": "code",
   "execution_count": null,
   "id": "d7c2e489-f467-4b23-b8eb-a8272f8647ba",
   "metadata": {},
   "outputs": [],
   "source": [
    "df_all_fdr=enr.open_all_fdr_lfc_correlation()"
   ]
  },
  {
   "cell_type": "markdown",
   "id": "0144c446-5a0d-4885-a103-47d3c89f3d3e",
   "metadata": {},
   "source": [
    "### The whole TOI landdscape"
   ]
  },
  {
   "cell_type": "code",
   "execution_count": null,
   "id": "3fc0d552-13cb-46d4-8abd-9ff006736ae3",
   "metadata": {},
   "outputs": [],
   "source": [
    "selected_toi_col"
   ]
  },
  {
   "cell_type": "code",
   "execution_count": null,
   "id": "9cf40fbf-bd03-4fb3-ab9b-81ab9fff1f48",
   "metadata": {},
   "outputs": [],
   "source": [
    "height=1200\n",
    "\n",
    "fig=enr.plot_degs_in_pathways_vs_toi_per_case(selected_toi_col=selected_toi_col, title=None, plot_all_dfi=True,\n",
    "                                                width=1100, height=height, sel_colors=None, plot_bgcolor='lightgray', verbose=False)\n",
    "\n",
    "if fig: fig.show()"
   ]
  },
  {
   "cell_type": "code",
   "execution_count": null,
   "id": "3be675c7-d1d9-4c53-9b31-698f75964da7",
   "metadata": {},
   "outputs": [],
   "source": []
  },
  {
   "cell_type": "code",
   "execution_count": null,
   "id": "4c215bee-6891-4421-9a36-2f09ba9fa159",
   "metadata": {},
   "outputs": [],
   "source": [
    "fig=enr.plot_degs_in_pathways_vs_toi_per_case(selected_toi_col=selected_toi_col, title=None, plot_all_dfi=False,\n",
    "                                              width=1100, height=1000, sel_colors=None, plot_bgcolor='lightgray', verbose=False)\n",
    "\n",
    "if fig: fig.show()"
   ]
  },
  {
   "cell_type": "code",
   "execution_count": null,
   "id": "8aa74bd4-146d-43e9-891c-702f484a71b5",
   "metadata": {},
   "outputs": [],
   "source": []
  },
  {
   "cell_type": "markdown",
   "id": "355e174e-3c7a-46bc-bf40-a358a970d7cb",
   "metadata": {},
   "source": [
    "### best_cutoff_quantiles() - for Reactome - return dfcut"
   ]
  },
  {
   "cell_type": "code",
   "execution_count": null,
   "id": "b4f3cd9a-f1ac-49a4-9e30-d5689236217f",
   "metadata": {},
   "outputs": [],
   "source": [
    "fname, fname_cut=enr.set_enrichment_name()\n",
    "# name='enricher_Reactome_2022_medulloblastoma_microarray_for_WNT_x_ctrl_not_normalized_cutoff_lfc_0.950_fdr_0.200_pathway_pval_0.050_fdr_0.450_num_genes_3.tsv'\n",
    "\"; \".join(fname_cut.split('_'))"
   ]
  },
  {
   "cell_type": "code",
   "execution_count": null,
   "id": "287099f6-cf44-4441-8afb-20932157a6d5",
   "metadata": {},
   "outputs": [],
   "source": [
    "cols=['case', 'med_max_ptw', 'quantile', 'toi4_median', 'abs_lfc_cutoff', 'fdr_lfc_cutoff',\n",
    "      'pathway_pval_cutoff', 'pathway_fdr_cutoff', 'n_pathways', 'n_degs_in_pathways',\n",
    "      'toi1_median', 'toi2_median', 'toi3_median']"
   ]
  },
  {
   "cell_type": "code",
   "execution_count": null,
   "id": "199ebcb3-d45a-4bea-83af-559a96b453b0",
   "metadata": {},
   "outputs": [],
   "source": [
    "case=case_list[0]\n",
    "selected_toi_col='toi4_median'\n",
    "\n",
    "df2=dfcut[(dfcut.case == case) & (dfcut.med_max_ptw == 'median')]\n",
    "df2=df2.sort_values(selected_toi_col, ascending=False)\n",
    "df2[cols].head(6)"
   ]
  },
  {
   "cell_type": "code",
   "execution_count": null,
   "id": "aca01c5e-4e7b-4eff-a635-9a22ca79d95c",
   "metadata": {},
   "outputs": [],
   "source": []
  },
  {
   "cell_type": "markdown",
   "id": "4237b538-a443-4c87-afe3-6853ac2dea66",
   "metadata": {},
   "source": [
    "## Calc best cutoffs and save in config\n",
    "\n",
    "### Comparing: toi4 (or 1,2,3), n_pathways, n_degs_in_pathways\n",
    "### which is them best?\n",
    "\n",
    "  - n_best_sample=4 ... the lowest FDRs and highest abs_LFC"
   ]
  },
  {
   "cell_type": "code",
   "execution_count": null,
   "id": "effd7468-2e68-4cac-af41-545f32084cdb",
   "metadata": {},
   "outputs": [],
   "source": [
    "enr.geneset_num, enr.geneset_lib, enr.normalization"
   ]
  },
  {
   "cell_type": "code",
   "execution_count": null,
   "id": "6d3d58da-1148-413e-a134-1871243ac81c",
   "metadata": {
    "scrolled": true
   },
   "outputs": [],
   "source": [
    "dfc=enr.build_all_cutoffs_table('toi4_median')\n",
    "dfc[dfc.case == 'G4'].head(30)"
   ]
  },
  {
   "cell_type": "code",
   "execution_count": null,
   "id": "fb6e5843-1901-4c8c-9868-d7bdc34b1bc1",
   "metadata": {},
   "outputs": [],
   "source": [
    "cols2=['case', 'med_max_ptw', 'quantile', 'toi4_median', 'toi4_mean', 'abs_lfc_cutoff', 'fdr_lfc_cutoff', 'pathway_fdr_cutoff', \n",
    "       'n_pathways', 'n_degs_in_pathways', 'n_degs_in_pathways_mean',\n",
    "       'n_degs_in_pathways_median', 'n_degs_in_pathways_std',\n",
    "       'toi1_median', 'toi2_median', 'toi3_median']\n",
    "\n",
    "save_config=False\n",
    "dfconfig=enr.calc_best_cutoffs_params(selected_toi_col='toi4_median', n_best_sample=1, save_config=False, verbose=True)\n",
    "dfconfig=dfconfig[dfconfig.med_max_ptw == 'median']\n",
    "dfconfig[cols2]"
   ]
  },
  {
   "cell_type": "code",
   "execution_count": null,
   "id": "be8a0f02-6a1f-41e4-a1a4-f5f52a0af9ca",
   "metadata": {},
   "outputs": [],
   "source": [
    "dfconfig=enr.calc_best_cutoffs_params(selected_toi_col='toi4_median', n_best_sample=2, save_config=False, verbose=save_config)\n",
    "dfconfig=dfconfig[dfconfig.med_max_ptw == 'median']\n",
    "dfconfig[cols2]"
   ]
  },
  {
   "cell_type": "code",
   "execution_count": null,
   "id": "84259527-35dd-4877-969d-2efc6396438b",
   "metadata": {},
   "outputs": [],
   "source": [
    "dfconfig=enr.calc_best_cutoffs_params(selected_toi_col='toi4_median', n_best_sample=3, save_config=False, verbose=save_config)\n",
    "dfconfig=dfconfig[dfconfig.med_max_ptw == 'median']\n",
    "dfconfig[cols2]"
   ]
  },
  {
   "cell_type": "code",
   "execution_count": null,
   "id": "5a560ec6-57b7-4940-b551-283336efa42e",
   "metadata": {},
   "outputs": [],
   "source": [
    "dfconfig=enr.calc_best_cutoffs_params(selected_toi_col='toi4_median', n_best_sample=4, save_config=False, verbose=save_config)\n",
    "dfconfig=dfconfig[dfconfig.med_max_ptw == 'median']\n",
    "dfconfig[cols2]"
   ]
  },
  {
   "cell_type": "code",
   "execution_count": null,
   "id": "a16c3965-f79f-4c52-9bef-7dccb147297d",
   "metadata": {},
   "outputs": [],
   "source": [
    "dfconfig=enr.calc_best_cutoffs_params(selected_toi_col='toi4_median', n_best_sample=5, save_config=save_config, verbose=save_config)\n",
    "dfconfig=dfconfig[dfconfig.med_max_ptw == 'median']\n",
    "dfconfig[cols2]"
   ]
  },
  {
   "cell_type": "code",
   "execution_count": null,
   "id": "16462beb-15e5-4383-b1ba-8ee57d05ec89",
   "metadata": {},
   "outputs": [],
   "source": [
    "dfconfig=enr.calc_best_cutoffs_params(selected_toi_col='toi4_median', n_best_sample=6, save_config=False, verbose=save_config)\n",
    "dfconfig=dfconfig[dfconfig.med_max_ptw == 'median']\n",
    "dfconfig[cols2]"
   ]
  },
  {
   "cell_type": "code",
   "execution_count": null,
   "id": "c04ae725-44ae-4dec-af06-ad46a04403a3",
   "metadata": {},
   "outputs": [],
   "source": []
  },
  {
   "cell_type": "markdown",
   "id": "0689b060-9558-417f-b276-d0f508388605",
   "metadata": {},
   "source": [
    "### Multiple best points"
   ]
  },
  {
   "cell_type": "code",
   "execution_count": null,
   "id": "4b04bfbc-8ec9-4623-83ad-788d38d29504",
   "metadata": {},
   "outputs": [],
   "source": [
    "dfpoints=enr.display_best_cutoff_params(npoints=10, selected_toi_col='toi4_median', med_max_ptw='median')\n",
    "dfpoints"
   ]
  },
  {
   "cell_type": "markdown",
   "id": "ab55d66a-b7f9-4a1e-99c6-397a8dfb030f",
   "metadata": {},
   "source": [
    "### Turn to True to save config\n",
    "  - G4 ipoint 7\n",
    "  -  WNT ipoint 4"
   ]
  },
  {
   "cell_type": "code",
   "execution_count": null,
   "id": "8e16c144-1c66-467d-bef5-d1311e82b70b",
   "metadata": {},
   "outputs": [],
   "source": [
    "save_config=False\n",
    "\n",
    "n_best_sample_list=[4, 7]\n",
    "dfconfig=enr.calc_multiple_best_cutoffs_params(selected_toi_col='toi4_median', n_best_sample_list=n_best_sample_list, save_config=save_config, verbose=save_config)\n",
    "dfconfig=dfconfig[dfconfig.med_max_ptw == 'median']\n",
    "dfconfig[cols2]"
   ]
  },
  {
   "cell_type": "code",
   "execution_count": null,
   "id": "251ea1a1-5a55-4b01-9e3b-00b766902777",
   "metadata": {},
   "outputs": [],
   "source": []
  },
  {
   "cell_type": "code",
   "execution_count": null,
   "id": "3faba689-75f6-4dae-b652-47edaa2dc602",
   "metadata": {},
   "outputs": [],
   "source": [
    "dfbest=enr.cfg.dfbest_cutoffs[cols2]\n",
    "dfbest[dfbest.med_max_ptw == 'median']"
   ]
  },
  {
   "cell_type": "markdown",
   "id": "1a40852a-f9c4-450f-8851-e017a0fb13a6",
   "metadata": {},
   "source": [
    "### Chosen columns"
   ]
  },
  {
   "cell_type": "code",
   "execution_count": null,
   "id": "835d829d-6998-4a3c-abb2-610d74c2653f",
   "metadata": {},
   "outputs": [],
   "source": [
    "dfcut.columns"
   ]
  },
  {
   "cell_type": "code",
   "execution_count": null,
   "id": "72389448-332a-44e9-bead-8df6090a4001",
   "metadata": {},
   "outputs": [],
   "source": [
    "cols1=['case', 'med_max_ptw', 'quantile', 'toi4_median']\n",
    "cols2=['abs_lfc_cutoff', 'fdr_lfc_cutoff', 'pathway_fdr_cutoff',\n",
    "        'n_pathways', 'n_degs_in_pathways']"
   ]
  },
  {
   "cell_type": "markdown",
   "id": "ded608f0-34fe-4dc9-98a3-47eafa1a73ff",
   "metadata": {},
   "source": [
    "### Comparing: toi4 (or 1,2,3), n_pathways, n_degs_in_pathways"
   ]
  },
  {
   "cell_type": "code",
   "execution_count": null,
   "id": "70f9fc90-68f5-4707-b76a-dab7058ceb2b",
   "metadata": {},
   "outputs": [],
   "source": [
    "case='WNT'"
   ]
  },
  {
   "cell_type": "code",
   "execution_count": null,
   "id": "31c83c10-8190-46b4-8644-2ea93f8fcdfa",
   "metadata": {},
   "outputs": [],
   "source": [
    "col='n_pathways'\n",
    "nrows=6\n",
    "dfcut=enr.build_all_cutoffs_table(col, force=False, verbose=False)\n",
    "case=case_list[0]\n",
    "dfa=dfcut[ (dfcut.case == case) & (dfcut.med_max_ptw == 'median') ][cols]\n",
    "dfa=dfa.sort_values(['n_pathways', 'n_degs_in_pathways'], ascending=[False, False])\n",
    "dfa[cols1+cols2].head(nrows)"
   ]
  },
  {
   "cell_type": "code",
   "execution_count": null,
   "id": "e4fc6af4-0da2-4b42-855c-a8ea1b91be18",
   "metadata": {},
   "outputs": [],
   "source": []
  },
  {
   "cell_type": "code",
   "execution_count": null,
   "id": "f349294f-84a1-4211-9b56-ff38da5559f8",
   "metadata": {},
   "outputs": [],
   "source": [
    "col='toi1_median'\n",
    "n_rows=6\n",
    "dfcut=enr.build_all_cutoffs_table(col, force=False, verbose=False)\n",
    "dfa=dfcut[ (dfcut.case == case) & (dfcut.med_max_ptw == 'median') ]\n",
    "dfa=dfa.sort_values(col, ascending=False)\n",
    "dfa[cols1+[col]+cols2].head(n_rows)"
   ]
  },
  {
   "cell_type": "code",
   "execution_count": null,
   "id": "176c2ff5-72c2-49b6-8a25-6a52e46756cf",
   "metadata": {},
   "outputs": [],
   "source": [
    "col='toi2_median'\n",
    "dfcut=enr.build_all_cutoffs_table(col, force=False, verbose=False)\n",
    "dfa=dfcut[ (dfcut.case == case) & (dfcut.med_max_ptw == 'median')]\n",
    "dfa=dfa.sort_values(col, ascending=False)\n",
    "dfa[cols1+[col]+cols2].head(n_rows)"
   ]
  },
  {
   "cell_type": "code",
   "execution_count": null,
   "id": "a0a957a5-e2a3-4afd-981d-7976936b4850",
   "metadata": {},
   "outputs": [],
   "source": [
    "col='toi3_median'\n",
    "dfcut=enr.build_all_cutoffs_table(col, force=False, verbose=False)\n",
    "dfa=dfcut[ (dfcut.case == case) & (dfcut.med_max_ptw == 'median') ]\n",
    "dfa=dfa.sort_values(col, ascending=False)\n",
    "dfa[cols1+[col]+cols2].head(n_rows)"
   ]
  },
  {
   "cell_type": "code",
   "execution_count": null,
   "id": "e972ff6a-3d9f-4b1a-b844-8bf4929a524d",
   "metadata": {},
   "outputs": [],
   "source": [
    "col='toi4_median'\n",
    "dfcut=enr.build_all_cutoffs_table(col, force=False, verbose=False)\n",
    "dfa=dfcut[ (dfcut.case == case) & (dfcut.med_max_ptw == 'median') ]\n",
    "dfa=dfa.sort_values(col, ascending=False)\n",
    "dfa[cols1+cols2].head(n_rows)"
   ]
  },
  {
   "cell_type": "code",
   "execution_count": null,
   "id": "6204ed16-15f8-4b53-a924-489476db1239",
   "metadata": {},
   "outputs": [],
   "source": []
  },
  {
   "cell_type": "markdown",
   "id": "3d1fc6f2-09ca-4125-bda9-4bfa999d8aaf",
   "metadata": {},
   "source": [
    "### TOI4"
   ]
  },
  {
   "cell_type": "code",
   "execution_count": null,
   "id": "c7c25dde-5c81-4e28-a518-87a124bcd4ff",
   "metadata": {},
   "outputs": [],
   "source": [
    "selected_toi_col='toi4_median'\n",
    "\n",
    "fig_list=enr.plot_genes_and_pathways_frequecies_per_cases(selected_toi_col,  width=1100, height=700)\n",
    "\n",
    "print(\">>>\", selected_toi_col)\n",
    "print(f\"# {enr.s_deg_dap}s\")\n",
    "fig_list[0].show()\n",
    "print(\"# n pathways\")\n",
    "fig_list[1].show()"
   ]
  },
  {
   "cell_type": "markdown",
   "id": "1fb001ff-8163-4c6b-b416-ea730c8ad919",
   "metadata": {},
   "source": [
    "### Selected best cutoffs per case"
   ]
  },
  {
   "cell_type": "code",
   "execution_count": null,
   "id": "542782a1-9f63-4156-9960-a8039e721e37",
   "metadata": {},
   "outputs": [],
   "source": [
    "dfconfig=enr.calc_multiple_best_cutoffs_params(selected_toi_col='toi4_median', n_best_sample_list=n_best_sample_list, save_config=False, verbose=False)\n",
    "dfconfig=dfconfig[dfconfig.med_max_ptw == 'median']\n",
    "dfconfig[cols2]"
   ]
  },
  {
   "cell_type": "code",
   "execution_count": null,
   "id": "63900b18-d2d9-4808-9401-a868847ab3ae",
   "metadata": {},
   "outputs": [],
   "source": [
    "dfbest=enr.cfg.open_best_ptw_cutoff(verbose=False)\n",
    "dfbest=dfbest[dfbest.med_max_ptw == 'median']\n",
    "print(len(dfbest))\n",
    "dfbest[cols]"
   ]
  },
  {
   "cell_type": "markdown",
   "id": "3eb8bd1f-dbff-4f78-ac7e-d9da37e55d78",
   "metadata": {},
   "source": [
    "### n_pathways: to confirm, is it working?"
   ]
  },
  {
   "cell_type": "code",
   "execution_count": null,
   "id": "21f4d0c9-7685-4c5f-b51f-84a2346a08b9",
   "metadata": {},
   "outputs": [],
   "source": [
    "fig_list=enr.plot_genes_and_pathways_frequecies_per_cases('n_pathways',  width=1100, height=700)\n",
    "\n",
    "fig_list[0].show()\n",
    "print(\"\")\n",
    "fig_list[1].show()"
   ]
  },
  {
   "cell_type": "code",
   "execution_count": null,
   "id": "9c86bdd2-cab2-47d7-ae12-82a904b44c15",
   "metadata": {},
   "outputs": [],
   "source": []
  },
  {
   "cell_type": "markdown",
   "id": "df6102e9-985f-47a7-a574-4f52337be525",
   "metadata": {},
   "source": [
    "## Why toi4_median is the best approach?\n",
    "\n",
    "#### balance between best LFC cutoffs and Pathway cutoffs"
   ]
  },
  {
   "cell_type": "code",
   "execution_count": null,
   "id": "e6b4d7c6-79cf-48ce-b5e8-5bec3b0a7eeb",
   "metadata": {},
   "outputs": [],
   "source": [
    "n_best_sample_list"
   ]
  },
  {
   "cell_type": "code",
   "execution_count": null,
   "id": "c417604f-efae-4703-9523-54eaab163e81",
   "metadata": {},
   "outputs": [],
   "source": [
    "dfconfig=enr.calc_multiple_best_cutoffs_params(selected_toi_col='n_pathways', n_best_sample_list=n_best_sample_list, save_config=False, verbose=save_config)\n",
    "dfconfig=dfconfig[dfconfig.med_max_ptw == 'median']\n",
    "dfconfig[cols2]"
   ]
  },
  {
   "cell_type": "code",
   "execution_count": null,
   "id": "7888a94e-206f-4988-95a0-75bc46334a72",
   "metadata": {},
   "outputs": [],
   "source": [
    "dfconfig=enr.calc_multiple_best_cutoffs_params(selected_toi_col='toi4_median', n_best_sample_list=n_best_sample_list, save_config=False, verbose=save_config)\n",
    "dfconfig=dfconfig[dfconfig.med_max_ptw == 'median']\n",
    "dfconfig[cols2]"
   ]
  },
  {
   "cell_type": "markdown",
   "id": "8498df59-a76d-437a-90cd-9484871056ad",
   "metadata": {},
   "source": [
    "## It tries to minimize fdr and maximize abs_lfc cutoffs!!!\n",
    "### look for toi4_median in both tables"
   ]
  },
  {
   "cell_type": "code",
   "execution_count": null,
   "id": "50c83407-c3bf-4b11-b1a2-a4788b68fbf5",
   "metadata": {},
   "outputs": [],
   "source": []
  },
  {
   "cell_type": "markdown",
   "id": "1e33bdd7-9afc-4fce-95c8-ae654457bd7c",
   "metadata": {},
   "source": [
    "### Open best cutoffs (config)"
   ]
  },
  {
   "cell_type": "code",
   "execution_count": null,
   "id": "a030ada5-78c9-47d1-9592-7483cd67f921",
   "metadata": {},
   "outputs": [],
   "source": [
    "dfbest=enr.cfg.open_best_ptw_cutoff(verbose=False)\n",
    "dfbest2=dfbest[dfbest.med_max_ptw == 'median']\n",
    "dfbest2[cols]"
   ]
  },
  {
   "cell_type": "code",
   "execution_count": null,
   "id": "0b32df15-3493-4459-84fe-872cc132648f",
   "metadata": {},
   "outputs": [],
   "source": []
  },
  {
   "cell_type": "markdown",
   "id": "47008af9-7ef8-46cb-ab6e-71cb8440a839",
   "metadata": {},
   "source": [
    "### Saving DEGs"
   ]
  },
  {
   "cell_type": "code",
   "execution_count": null,
   "id": "3406585f-50a6-460b-b2f0-b297b1da1105",
   "metadata": {},
   "outputs": [],
   "source": [
    "for case in case_list:\n",
    "    ret, degs, degs_ensembl, dfdegs=enr.open_case(case, save_file=True, verbose=False)\n",
    "    enr.echo_parameters()\n",
    "    print(\"\\n\\n\\n\")"
   ]
  },
  {
   "cell_type": "markdown",
   "id": "0bc15faf-ed76-46a4-9996-ed7fc1c9fcf0",
   "metadata": {},
   "source": [
    "### At least 10 DEGs for each case"
   ]
  },
  {
   "cell_type": "code",
   "execution_count": null,
   "id": "ef31cfc7-f3a7-41bb-8b6f-66b60b1a4c0c",
   "metadata": {},
   "outputs": [],
   "source": [
    "verbose=False\n",
    "per_biotype= True\n",
    "ensembl=False\n",
    "\n",
    "dfa=enr.summary_degs_up_down(per_biotype=per_biotype, ensembl=ensembl, verbose=verbose)\n",
    "print(len(dfa))\n",
    "cols=list(dfa.columns)[1:]\n",
    "dfa[cols]=dfa[cols].astype(int)\n",
    "dfa"
   ]
  },
  {
   "cell_type": "code",
   "execution_count": null,
   "id": "44c7f761-5aa5-4ebe-a97c-43963c918674",
   "metadata": {},
   "outputs": [],
   "source": [
    "title=f'Up and Down {enr.s_deg_dap}s with the best cutoff'\n",
    "fig, dfa=enr.barplot_up_down_genes_per_case(title=title, width=1100, height=700, verbose=False)\n",
    "fig.show()"
   ]
  },
  {
   "cell_type": "markdown",
   "id": "342790af-558d-4c3e-89fd-ea410772990b",
   "metadata": {},
   "source": [
    "### Summary DEGs + Up and Down"
   ]
  },
  {
   "cell_type": "code",
   "execution_count": null,
   "id": "493d55d4-9e0f-4712-9930-b68e8ceb4abe",
   "metadata": {},
   "outputs": [],
   "source": [
    "verbose=False\n",
    "per_biotype= False\n",
    "ensembl=False\n",
    "\n",
    "dfa=enr.summary_degs_up_down(per_biotype=per_biotype, ensembl=ensembl, verbose=verbose)\n",
    "print(len(dfa))\n",
    "dfa"
   ]
  },
  {
   "cell_type": "code",
   "execution_count": null,
   "id": "2d164c0b-4416-44fb-a315-315676ba74db",
   "metadata": {},
   "outputs": [],
   "source": []
  },
  {
   "cell_type": "code",
   "execution_count": null,
   "id": "9f5e3a55-48b1-4489-a3c1-de8471d4ec57",
   "metadata": {},
   "outputs": [],
   "source": [
    "dfbest=enr.cfg.open_best_ptw_cutoff(verbose=True)\n",
    "dfbest2=dfbest[dfbest.med_max_ptw == 'median']\n",
    "dfbest2"
   ]
  },
  {
   "cell_type": "code",
   "execution_count": null,
   "id": "868b02e5-c459-4703-a607-9764357f7fe8",
   "metadata": {},
   "outputs": [],
   "source": []
  },
  {
   "cell_type": "code",
   "execution_count": null,
   "id": "b9130f37-fadc-4545-9ea4-dfdc3a50ccc3",
   "metadata": {},
   "outputs": [],
   "source": [
    "dfsum=enr.summary_degs_and_pathways(force=False, verbose=False)\n",
    "cols5=list(dfsum.columns)\n",
    "dfsum"
   ]
  },
  {
   "cell_type": "code",
   "execution_count": null,
   "id": "4d80e3f1-5fad-494a-ad64-742d7fe70a85",
   "metadata": {},
   "outputs": [],
   "source": []
  }
 ],
 "metadata": {
  "kernelspec": {
   "display_name": "Python 3 (ipykernel)",
   "language": "python",
   "name": "python3"
  },
  "language_info": {
   "codemirror_mode": {
    "name": "ipython",
    "version": 3
   },
   "file_extension": ".py",
   "mimetype": "text/x-python",
   "name": "python",
   "nbconvert_exporter": "python",
   "pygments_lexer": "ipython3",
   "version": "3.11.11"
  }
 },
 "nbformat": 4,
 "nbformat_minor": 5
}
