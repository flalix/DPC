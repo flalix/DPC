{
 "cells": [
  {
   "cell_type": "code",
   "execution_count": null,
   "metadata": {},
   "outputs": [],
   "source": [
    "from platform import python_version\n",
    "print(python_version())"
   ]
  },
  {
   "cell_type": "markdown",
   "metadata": {},
   "source": [
    "### Two cases of the randomly selected pathways model (2CRSP)\n",
    "\n",
    "#### Goal\n",
    "  - create a small dataset\n",
    "  - these tables can be send to Human Reviewers\n",
    "#### 2CRSP\n",
    "  - chose 2 cases / subtypes\n",
    "  - randomly sorted 30 pathways\n",
    "     - using the Gemini 1.5-flash model\n",
    "     - included 15 'Yes' and 15 'No' responses\n",
    "  - root data: ../project/pubgem\n",
    "\n",
    "#### Comparing Gemini x Pubmed x Reviewers \n",
    "  - same methods as for the Ensemble dataset\n",
    "  - using the 2CRSP"
   ]
  },
  {
   "cell_type": "markdown",
   "metadata": {},
   "source": [
    "### 3 Sources ~ 2CRSP\n",
    "  - Gemini MMC\n",
    "  - PubMed answers\n",
    "  - Human consensus"
   ]
  },
  {
   "cell_type": "markdown",
   "metadata": {},
   "source": [
    "### Gemini x Pubmed: save both and only one\n",
    "\n",
    "  - save_pubmed_x_gemini_both_and_only_one()\n",
    "    - compare_pubmed_x_gemini()\n",
    "      - pub.fname_pubmed_x_gemini%(case, i_dfp, run, pub.gem.gemini_model)\n",
    "      - instead of\n",
    "        - run_gemini_consensus_counts_all_models(sel_ptw_pubmed)\n",
    "        - dfpiv2 = open_gemini_consensus_counts_run_filter_idfp_consensus(sel_ptw_pubmed=sel_ptw_pubmed)\n",
    "        - dfpiva = open_gemini_dfpiva_all_models_one_run(run=run, sel_ptw_pubmed=sel_ptw_pubmed, verbose=verbose)\n",
    "        - gemini_summary_consensus_statitics(sel_ptw_pubmed)\n",
    "        - compare_2_models_venn_diagram(sel_ptw_pubmed)\n",
    "        - get_2_models(sel_ptw_pubmed)\n",
    "        - compare_2_runs_unanimous_mean(sel_ptw_pubmed)\n",
    "        - compare_2_runs_total_answers(sel_ptw_pubmed)\n",
    "        - report_gemini(sel_ptw_pubmed)\n",
    "        - sel_ptw_pubmed:bool=False)\n"
   ]
  },
  {
   "cell_type": "code",
   "execution_count": null,
   "metadata": {},
   "outputs": [],
   "source": [
    "import os, sys, pickle\n",
    "\n",
    "import numpy as np\n",
    "import pandas as pd\n",
    "pd.set_option('display.width', 100)\n",
    "pd.set_option('max_colwidth', 80)\n",
    "import yaml\n",
    "\n",
    "import seaborn as sns\n",
    "sns.set_context(\"notebook\", font_scale=1.4)\n",
    "\n",
    "import matplotlib.pyplot as plt\n",
    "import matplotlib.gridspec as gridspec\n",
    "%matplotlib inline\n",
    "\n",
    "sys.path.insert(1, '../src/')\n",
    "\n",
    "from Basic import *\n",
    "from entrez_conversion import *\n",
    "from pubmed_lib import *\n",
    "from biopax_lib import *\n",
    "from gemini_lib import *\n",
    "\n",
    "import warnings\n",
    "warnings.filterwarnings(\"ignore\")\n",
    "\n",
    "from IPython.display import display, HTML\n",
    "# display(HTML(\"<style>.container { width:100% !important; }</style>\"))\n",
    "display(HTML(\"<style>:root { --jp-notebook-max-width: 100% !important; }</style>\"))\n",
    "\n",
    "email = \"flalix@gmail.com\"\n",
    "\n",
    "# !pip3 install pyyaml\n",
    "with open('params.yml', 'r') as file:\n",
    "    dic_yml = yaml.safe_load(file)\n",
    "\n",
    "# print(dic_yml)"
   ]
  },
  {
   "cell_type": "code",
   "execution_count": null,
   "metadata": {},
   "outputs": [],
   "source": [
    "root_chibe = dic_yml['root_chibe']\n",
    "root_colab = dic_yml['root_colab']\n",
    "root0 = dic_yml['root0']\n",
    "\n",
    "project = dic_yml['project']\n",
    "s_project = dic_yml['s_project']\n",
    "\n",
    "gene_protein = dic_yml['gene_protein']\n",
    "s_omics = dic_yml['s_omics']\n",
    "\n",
    "has_age = dic_yml['has_age']\n",
    "has_gender = dic_yml['has_gender']\n",
    "\n",
    "want_normalized = dic_yml['want_normalized']\n",
    "\n",
    "abs_lfc_cutoff_inf = dic_yml['abs_lfc_cutoff_inf']\n",
    "s_pathw_enrichm_method = dic_yml['s_pathw_enrichm_method']\n",
    "num_min_degs_for_ptw_enr = dic_yml['num_min_degs_for_ptw_enr']\n",
    "\n",
    "tolerance_pathway_index = dic_yml['tolerance_pathway_index']\n",
    "type_sat_ptw_index = dic_yml['type_sat_ptw_index']\n",
    "saturation_lfc_index = dic_yml['saturation_lfc_index']\n",
    "chosen_model_sampling = dic_yml['chosen_model_sampling']\n",
    "\n",
    "case_list = dic_yml['case_list']\n",
    "case_sel_list = dic_yml['case_sel_list']\n",
    "s_len_case = dic_yml['s_len_case']\n",
    "\n",
    "pval_pathway_cutoff = dic_yml['pval_pathway_cutoff']\n",
    "fdr_pathway_cutoff = dic_yml['fdr_pathway_cutoff']\n",
    "num_of_genes_cutoff = dic_yml['num_of_genes_cutoff']\n",
    "\n",
    "run_list = dic_yml['run_list']\n",
    "chosen_model_list = dic_yml['chosen_model_list']\n",
    "i_dfp_list = dic_yml['i_dfp_list']\n",
    "\n",
    "exp_normalization='quantile_norm' if want_normalized else None\n",
    "normalization='not_normalized' if exp_normalization is None else exp_normalization\n",
    "\n",
    "cfg = Config(project, s_project, case_list, root0)\n",
    "\n",
    "case = case_list[0]\n",
    "\n",
    "n_genes_annot_ptw, n_degs, n_degs_in_ptw, n_degs_not_in_ptw, degs_in_all_ratio = -1,-1,-1,-1,-1\n",
    "abs_lfc_cutoff, fdr_lfc_cutoff, n_degs, n_degs_up, n_degs_dw = cfg.get_best_lfc_cutoff(case, 'not_normalized')\n",
    "\n",
    "print(f\"G/P LFC cutoffs: lfc={abs_lfc_cutoff:.3f}; fdr={fdr_lfc_cutoff:.3f}\")\n",
    "print(f\"Pathway cutoffs: pval={pval_pathway_cutoff:.3f}; fdr={fdr_pathway_cutoff:.3f}; num of genes={num_of_genes_cutoff}\")"
   ]
  },
  {
   "cell_type": "code",
   "execution_count": null,
   "metadata": {},
   "outputs": [],
   "source": [
    "bpx = Biopax(gene_protein, s_omics, project, s_project, root0,\n",
    "             case_list, has_age, has_gender, clone_objects=False,\n",
    "             exp_normalization=exp_normalization, geneset_num=0, \n",
    "             num_min_degs_for_ptw_enr=num_min_degs_for_ptw_enr, \n",
    "             tolerance_pathway_index=tolerance_pathway_index, \n",
    "             s_pathw_enrichm_method = s_pathw_enrichm_method)\n",
    "\n",
    "case = case_list[0]\n",
    "\n",
    "bpx.cfg.set_default_best_lfc_cutoff(normalization, abs_lfc_cutoff=1, fdr_lfc_cutoff=0.05)\n",
    "ret, degs, degs_ensembl, dfdegs = bpx.open_case(case, verbose=False)\n",
    "print(\"\\nEcho Parameters:\")\n",
    "bpx.echo_parameters()"
   ]
  },
  {
   "cell_type": "markdown",
   "metadata": {},
   "source": [
    "### Instantiating Gemini"
   ]
  },
  {
   "cell_type": "code",
   "execution_count": null,
   "metadata": {},
   "outputs": [],
   "source": [
    "##########################\n",
    "is_seldata=True\n",
    "if is_seldata==True: i_dfp_list = [0]\n",
    "i_dfp=0\n",
    "\n",
    "case_list = case_sel_list\n",
    "case_sel0 = case_sel_list[0]\n",
    "case_sel1 = case_sel_list[1]\n",
    "\n",
    "with_gender=bpx.has_gender\n",
    "with_gender_list = [False, True] if with_gender else [False]\n",
    "\n",
    "print(f\"with_gender = {with_gender} because has_gender = {bpx.has_gender}\")\n",
    "##########################"
   ]
  },
  {
   "cell_type": "code",
   "execution_count": null,
   "metadata": {},
   "outputs": [],
   "source": [
    "is_seldata, case_list, s_len_case, run_list, chosen_model_list, i_dfp_list, chosen_model_sampling"
   ]
  },
  {
   "cell_type": "code",
   "execution_count": null,
   "metadata": {},
   "outputs": [],
   "source": [
    "API_KEY = dic_yml['API_KEY']\n",
    "\n",
    "disease = dic_yml['disease']\n",
    "context_disease = dic_yml['context_disease']\n",
    "n_sentences = dic_yml['n_sentences']\n",
    "chosen_model_sampling = dic_yml['chosen_model_sampling']\n",
    "\n",
    "gem = Gemini( bpx=bpx, is_seldata=is_seldata, disease=disease, context_disease=context_disease, \n",
    "             API_KEY=API_KEY, n_sentences=n_sentences, root0=root0, \n",
    "             chosen_model_list=chosen_model_list, i_dfp_list=i_dfp_list, chosen_model_sampling=chosen_model_sampling)\n",
    "print(\"\\n\")\n",
    "print(gem.disease, gem.is_seldata, gem.i_dfp_list, gem.chosen_model_list)\n",
    "print(\"Context:\", context_disease)"
   ]
  },
  {
   "cell_type": "code",
   "execution_count": null,
   "metadata": {},
   "outputs": [],
   "source": [
    "gem.set_case(bpx.case, bpx.df_enr, bpx.df_enr0)"
   ]
  },
  {
   "cell_type": "code",
   "execution_count": null,
   "metadata": {},
   "outputs": [],
   "source": [
    "gem.is_seldata, gem.bpx.case_list, gem.chosen_model_list, gem.i_dfp_list, gem.chosen_model_sampling"
   ]
  },
  {
   "cell_type": "code",
   "execution_count": null,
   "metadata": {},
   "outputs": [],
   "source": [
    "terms1_param = dic_yml['terms1_param']\n",
    "terms2_param = dic_yml['terms2_param']\n",
    "terms_not_param = dic_yml['terms_not_param']\n",
    "connective_param = dic_yml['connective_param']\n",
    "remove_synonym_list = dic_yml['remove_synonym_list']\n",
    "inidate = dic_yml['inidate']\n",
    "enddate = dic_yml['enddate']\n",
    "verbose_query = dic_yml['verbose_query']\n",
    "force_query = dic_yml['force_query']\n",
    "sleep_entrez = dic_yml['sleep_entrez']\n",
    "retmax = dic_yml['retmax']\n",
    "try_all_text = dic_yml['try_all_text']\n",
    "text_quote = dic_yml['text_quote']\n",
    "dec_ncpus = dic_yml['dec_ncpus']\n",
    "sleep_TIKA = dic_yml['sleep_TIKA']\n",
    "min_words_text = dic_yml['min_words_text']\n",
    "\n",
    "prefix = s_project\n",
    "\n",
    "pub = Pubmed(bpx, gem, email, prefix, root0=root0, \n",
    "             inidate=inidate, enddate=enddate, \n",
    "             terms1_param=terms1_param, terms2_param=terms2_param,\n",
    "             terms_not_param=terms_not_param, connective_param=connective_param,\n",
    "             remove_synonym_list=remove_synonym_list, \n",
    "             sleep_entrez = sleep_entrez, retmax=retmax,  \n",
    "             try_all_text=try_all_text, text_quote=text_quote,\n",
    "             root_colab=root_colab, dec_ncpus=dec_ncpus, sleep_TIKA=sleep_TIKA, min_words_text=min_words_text)"
   ]
  },
  {
   "cell_type": "markdown",
   "metadata": {},
   "source": [
    "### Settings"
   ]
  },
  {
   "cell_type": "code",
   "execution_count": null,
   "metadata": {},
   "outputs": [],
   "source": [
    "test=False\n",
    "force=False\n",
    "verbose=False\n",
    "\n",
    "print(\">>> terms1_param\", terms1_param)\n",
    "print(\">>> terms_not_param\", terms_not_param)\n",
    "print(\">>> connective_param\", connective_param)\n",
    "print(f\">>> prefix-disease: {prefix}, inidate {inidate}, enddate {enddate}\")\n",
    "\n",
    "chosen_model=3\n",
    "gemini_model=gem.gemini_models[chosen_model]\n",
    "pub.gem.set_gemini_num_model(chosen_model, verbose=verbose)\n",
    "\n",
    "# for selected data\n",
    "query_type='strong'\n",
    "N=30\n",
    "\n",
    "case=case_sel0\n",
    "print(\"\")\n",
    "dfsel = gem.open_yes_no_sampling(case=case, N=N, query_type=query_type, verbose=True)\n",
    "print(\"\")\n",
    "dfsel.head(3)"
   ]
  },
  {
   "cell_type": "code",
   "execution_count": null,
   "metadata": {},
   "outputs": [],
   "source": [
    "pub.gem.is_seldata, pub.gem.i_dfp_list, pub.gem.root_gemini0, case_list, with_gender_list"
   ]
  },
  {
   "cell_type": "code",
   "execution_count": null,
   "metadata": {},
   "outputs": [],
   "source": []
  },
  {
   "cell_type": "markdown",
   "metadata": {},
   "source": [
    "### Merge all PubMed with/without gender filter\n",
    "  - COVID-19 is dependent on gender, MB is not.\n",
    "  - with gender: True or False for COVID-19 and False for MB\n",
    "  - PubMed search with ou without gender are different\n",
    "  - i_dfps = [0] for selected data and [0,1,2,3] for all data\n",
    "\n",
    "#### Method - pub.merge_all_pubmeds:  \n",
    "  - for all cases\n",
    "    - get the pathways\n",
    "    - get the reactome term table\n",
    "    - for each pathway - term:\n",
    "      - search for pmids in PubMed\n",
    "  - one run (dummy)\n",
    "  - one chosen_model (3 dummy)\n",
    "  - for gender True and False\n",
    "  - for all cases, iqs', i_dfps'\n",
    "    - get the pathways\n",
    "    - get the reactome term table\n",
    "    - for each pathway - term:\n",
    "      - search for pmids in PubMed\n",
    "  - PubMed search on 2025/01/02\n"
   ]
  },
  {
   "cell_type": "code",
   "execution_count": null,
   "metadata": {},
   "outputs": [],
   "source": [
    "case_list, i_dfp_list, with_gender_list"
   ]
  },
  {
   "cell_type": "code",
   "execution_count": null,
   "metadata": {},
   "outputs": [],
   "source": [
    "verbose=False\n",
    "force=False\n",
    "\n",
    "dfm_pub, df_summ, dfn = pub.calc_all_pubmed_summaries(case_list=case_list, i_dfp_list=i_dfp_list,\n",
    "                                                      with_gender_list=with_gender_list, show_warning=False,\n",
    "                                                      force=force, verbose=verbose)"
   ]
  },
  {
   "cell_type": "code",
   "execution_count": null,
   "metadata": {},
   "outputs": [],
   "source": [
    "print(len(dfm_pub))\n",
    "print(len(df_summ), '\\n')"
   ]
  },
  {
   "cell_type": "code",
   "execution_count": null,
   "metadata": {},
   "outputs": [],
   "source": [
    "dfm_pub.head(3)"
   ]
  },
  {
   "cell_type": "code",
   "execution_count": null,
   "metadata": {},
   "outputs": [],
   "source": [
    "df_summ"
   ]
  },
  {
   "cell_type": "code",
   "execution_count": null,
   "metadata": {},
   "outputs": [],
   "source": [
    "dfn"
   ]
  },
  {
   "cell_type": "code",
   "execution_count": null,
   "metadata": {},
   "outputs": [],
   "source": []
  },
  {
   "cell_type": "code",
   "execution_count": null,
   "metadata": {},
   "outputs": [],
   "source": [
    "verbose=False\n",
    "force=False\n",
    "\n",
    "dfm_pub2, df_summ2 = pub.merge_all_pubmeds(case_list=case_list, i_dfp_list=i_dfp_list, with_gender=with_gender, \n",
    "                                         show_warning=False, force=force, verbose=verbose)\n",
    "\n",
    "print(len(dfm_pub2))\n",
    "dfm_pub2.head(3)"
   ]
  },
  {
   "cell_type": "markdown",
   "metadata": {},
   "source": [
    "### run_case_pathway_pubmed_search() run inside merge_all_pubmeds()"
   ]
  },
  {
   "cell_type": "markdown",
   "metadata": {},
   "source": [
    "#### without gender (MB only without gender)"
   ]
  },
  {
   "cell_type": "code",
   "execution_count": null,
   "metadata": {},
   "outputs": [],
   "source": [
    "df_pmid = pub.run_case_pathway_pubmed_search(case=case, i_dfp=i_dfp, with_gender=with_gender, \n",
    "                                             test=test, verbose=verbose)\n",
    "\n",
    "if df_pmid is None:\n",
    "    dic = {'pathway_id': [], 'pathway': [], 'pmid': [], 'pub_date': [], 'title': [], \n",
    "           'keywords': [],   'abstract': [],  'terms': [], 'dates': []}\n",
    "    df_pmid = pd.DataFrame(dic)\n",
    "    df_summ_pmid = pd.DataFrame()\n",
    "    df_summ_pathway = pd.DataFrame() \n",
    "else:\n",
    "    df_summ_pmid = pub.df_summ_pmid\n",
    "    df_summ_pathway = pub.df_summ_pathway\n",
    "    \n",
    "    print(len(df_pmid), len(df_summ_pmid), len(df_summ_pathway), '\\n')\n",
    "    \n",
    "cols = ['pathway_id', 'pathway', 'pmid', 'pub_date', 'title', 'keywords',\n",
    "       'abstract',  'terms', 'dates']\n",
    "df_pmid[cols].head(2)"
   ]
  },
  {
   "cell_type": "code",
   "execution_count": null,
   "metadata": {},
   "outputs": [],
   "source": []
  },
  {
   "cell_type": "markdown",
   "metadata": {},
   "source": [
    "### PubMed semi-summarize"
   ]
  },
  {
   "cell_type": "code",
   "execution_count": null,
   "metadata": {},
   "outputs": [],
   "source": [
    "verbose=True\n",
    "force=False\n",
    "\n",
    "dfsumm3 = pub.calc_semi_summarize_pubmed_search(run_dummy='run0', case_list=case_list, \n",
    "                                                i_dfp_list=i_dfp_list, with_gender_list=with_gender_list,\n",
    "                                                test=False, show_warning=True,\n",
    "                                                force=force, verbose=verbose)\n",
    "\n",
    "print(len(dfsumm3))\n",
    "dfsumm3.head(3)"
   ]
  },
  {
   "cell_type": "code",
   "execution_count": null,
   "metadata": {},
   "outputs": [],
   "source": [
    "dfsumm3.with_gender.unique()"
   ]
  },
  {
   "cell_type": "markdown",
   "metadata": {},
   "source": [
    "### Calc Gemini consensus counts"
   ]
  },
  {
   "cell_type": "code",
   "execution_count": null,
   "metadata": {},
   "outputs": [],
   "source": [
    "verbose=False\n",
    "\n",
    "for run in run_list:\n",
    "    print(\">>>\", run)\n",
    "    _ = pub.gem.calc_gemini_dfpiva_all_models_one_run(run=run,  case_list=case_list, \n",
    "                                                      chosen_model_list=chosen_model_list, \n",
    "                                                      force=False, verbose=verbose)\n",
    "\n",
    "print(\"---------------- end -----------------\")"
   ]
  },
  {
   "cell_type": "code",
   "execution_count": null,
   "metadata": {},
   "outputs": [],
   "source": [
    "verbose=True\n",
    "run='run01'\n",
    "\n",
    "dfpiva = gem.open_gemini_dfpiva_all_models_one_run(run=run, chosen_model_list=chosen_model_list, verbose=verbose)\n",
    "# print(dfpiva.columns)\n",
    "dfpiva.head(3)"
   ]
  },
  {
   "cell_type": "code",
   "execution_count": null,
   "metadata": {},
   "outputs": [],
   "source": [
    "dfpiva.case.unique(), dfpiva.i_dfp.unique(), dfpiva.run.unique()"
   ]
  },
  {
   "cell_type": "code",
   "execution_count": null,
   "metadata": {},
   "outputs": [],
   "source": []
  },
  {
   "cell_type": "markdown",
   "metadata": {},
   "source": [
    "#### filter Yes/No"
   ]
  },
  {
   "cell_type": "code",
   "execution_count": null,
   "metadata": {},
   "outputs": [],
   "source": [
    "verbose=False\n",
    "consensus='Yes'\n",
    "\n",
    "dfpiv2 = pub.gem.open_gemini_consensus_counts_run_filter_idfp_consensus_run_all_models(run=run, i_dfp=i_dfp,\n",
    "                                                                        chosen_model_list=chosen_model_list,\n",
    "                                                                        consensus=consensus, verbose=verbose)\n",
    "if dfpiv2 is None:\n",
    "    dfpiv2 = pd.DataFrame()\n",
    "\n",
    "print(len(dfpiv2))\n",
    "dfpiv2.head(3)"
   ]
  },
  {
   "cell_type": "code",
   "execution_count": null,
   "metadata": {},
   "outputs": [],
   "source": [
    "i=0\n",
    "case=case_list[i]\n",
    "print(\">>>\", case, \"\\n\\n\")\n",
    "\n",
    "dfpiv3 = dfpiv2[dfpiv2.case == case]\n",
    "\n",
    "print(len(dfpiv3))\n",
    "dfpiv3.head(3)"
   ]
  },
  {
   "cell_type": "code",
   "execution_count": null,
   "metadata": {},
   "outputs": [],
   "source": []
  },
  {
   "cell_type": "markdown",
   "metadata": {},
   "source": [
    "## Agreements between PubMed and Gemini\n",
    "  - with_gender: True or False for COVID and False for MB\n",
    "  - run, case, i_dfp (comparing all-model consensus)\n",
    "  - total COVID-19 = 2*4*8*n_pathways = 64*n_pathways\n",
    "  - total MB = 2*4*2*n_pathways = 16*n_pathways"
   ]
  },
  {
   "cell_type": "code",
   "execution_count": null,
   "metadata": {
    "scrolled": true
   },
   "outputs": [],
   "source": [
    "verbose=False\n",
    "force=False\n",
    "\n",
    "for run in run_list:\n",
    "    print(\">>>\", run)\n",
    "    for with_gender in with_gender_list:\n",
    "        print(\"\\n\\twith_gender\", with_gender)\n",
    "        pub.calc_compare_pubmed_x_gemini(run=run, case_list=case_list, i_dfp_list=i_dfp_list,\n",
    "                                         with_gender=with_gender, chosen_model_list=chosen_model_list,\n",
    "                                         force=force, verbose=verbose)\n",
    "    print(\"\\n\")\n",
    "\n",
    "print(\"------------- end ------------\")"
   ]
  },
  {
   "cell_type": "markdown",
   "metadata": {},
   "source": [
    "### Agreement percentage With/Without gender\n",
    "  - open_compare_pubmed_x_gemini()"
   ]
  },
  {
   "cell_type": "code",
   "execution_count": null,
   "metadata": {},
   "outputs": [],
   "source": [
    "verbose=False\n",
    "\n",
    "for run in run_list:\n",
    "\n",
    "    print(\"For run:\", run)\n",
    "    for with_gender in with_gender_list:\n",
    "        print(f'PubMed with_gender {with_gender}')\n",
    "    \n",
    "        for i_dfp in i_dfp_list:\n",
    "            print(f\"\\ti_dfp {i_dfp}\")\n",
    "            \n",
    "            for case in case_list:\n",
    "                dfn, df_both, df_only_pubmed, df_only_gemini, mu, std, n, text = \\\n",
    "                        pub.open_compare_pubmed_x_gemini(run=run, case=case,  i_dfp=i_dfp, with_gender=with_gender, \n",
    "                                                         chosen_model_list=chosen_model_list,\n",
    "                                                         verbose=verbose)\n",
    "                text = f'#{len(dfn)} pathways agree' + text.split('agree')[1]\n",
    "                \n",
    "                sem = std / np.sqrt(n)\n",
    "                print(f\"\\t\\tfor {case:15} {text}\")\n",
    "            print(\"\")\n",
    "    \n",
    "    print(\"\")"
   ]
  },
  {
   "cell_type": "code",
   "execution_count": null,
   "metadata": {},
   "outputs": [],
   "source": [
    "verbose=False\n",
    "case=case_list[1]\n",
    "\n",
    "dfn, df_both, df_only_pubmed, df_only_gemini, mu, std, n, text = \\\n",
    "        pub.open_compare_pubmed_x_gemini(run=run, case=case, i_dfp=i_dfp, with_gender=with_gender, \n",
    "                                         chosen_model_list=chosen_model_list,\n",
    "                                         verbose=verbose)\n",
    "print(len(dfn))\n",
    "dfn.head(3)"
   ]
  },
  {
   "cell_type": "code",
   "execution_count": null,
   "metadata": {},
   "outputs": [],
   "source": [
    "len(dfn[dfn.agree==True]), len(dfn[dfn.agree==False])"
   ]
  },
  {
   "cell_type": "code",
   "execution_count": null,
   "metadata": {},
   "outputs": [],
   "source": [
    "# dfn.columns"
   ]
  },
  {
   "cell_type": "code",
   "execution_count": null,
   "metadata": {},
   "outputs": [],
   "source": [
    "dfn.i_dfp.unique()"
   ]
  },
  {
   "cell_type": "code",
   "execution_count": null,
   "metadata": {},
   "outputs": [],
   "source": [
    "dfn.agree.mean(), dfn.agree.std()"
   ]
  },
  {
   "cell_type": "code",
   "execution_count": null,
   "metadata": {},
   "outputs": [],
   "source": [
    "text"
   ]
  },
  {
   "cell_type": "code",
   "execution_count": null,
   "metadata": {},
   "outputs": [],
   "source": []
  },
  {
   "cell_type": "markdown",
   "metadata": {},
   "source": [
    "### Gemini counts: previously run\n",
    "  - Count Yes and No per model, run versus iq and i_dfp:\n",
    "    - 2 iq have PubMed inside the search (pubmed=True) and 2 dont\n",
    "    - i_dfp: 0 to 3, 0=enriched, 1=middle, 2=end of the table, and 3=out of enriched table"
   ]
  },
  {
   "cell_type": "code",
   "execution_count": null,
   "metadata": {},
   "outputs": [],
   "source": [
    "verbose=False\n",
    "run='run01'\n",
    "\n",
    "for run in run_list:\n",
    "    for chosen_model in chosen_model_list:\n",
    "        dfstat = pub.gem.gemini_calc_answers_counts(run=run, case_list=case_list, chosen_model=chosen_model,\n",
    "                                                    force=False, verbose=verbose)\n",
    "\n",
    "# old open_gemini_statistical_analysis\n",
    "dfc = gem.open_gemini_answers_counts(run=run, chosen_model=chosen_model, verbose=verbose)\n",
    "print(len(dfc))\n",
    "\n",
    "case = case_list[1]\n",
    "dfc[dfc.case==case].head(3)"
   ]
  },
  {
   "cell_type": "code",
   "execution_count": null,
   "metadata": {},
   "outputs": [],
   "source": []
  },
  {
   "cell_type": "markdown",
   "metadata": {},
   "source": [
    "### All Gemini x PubMed: save both and only one"
   ]
  },
  {
   "cell_type": "code",
   "execution_count": null,
   "metadata": {},
   "outputs": [],
   "source": [
    "verbose=False\n",
    "force=False\n",
    "\n",
    "for run in run_list:\n",
    "    print(\">>>\", run)\n",
    "       \n",
    "    _, _, _, _, _ = \\\n",
    "    pub.calc_all_pubmed_x_gemini_both_and_only_one(run=run, case_list=case_list, i_dfp_list=i_dfp_list,\n",
    "                                                   chosen_model_list=chosen_model_list,\n",
    "                                                   with_gender_list=with_gender_list,\n",
    "                                                   force=force, verbose=verbose)\n",
    "\n",
    "print(\"--------------- end -----------------\")"
   ]
  },
  {
   "cell_type": "code",
   "execution_count": null,
   "metadata": {},
   "outputs": [],
   "source": [
    "verbose=False\n",
    "run='run01'\n",
    "\n",
    "df_all, df_all_both, df_only_pubmed, df_only_gemini, df_stat = \\\n",
    "    pub.calc_all_pubmed_x_gemini_both_and_only_one(run=run, case_list=case_list, i_dfp_list=i_dfp_list,\n",
    "                                                   chosen_model_list=chosen_model_list, \n",
    "                                                   with_gender_list=with_gender_list, verbose=verbose)\n",
    "df2 = df_stat[df_stat.with_gender == with_gender]\n",
    "\n",
    "print(f\"with_gender {with_gender} {df2.mu.mean():.2f} ({df2.mu.std():.2f})\")\n",
    "df2"
   ]
  },
  {
   "cell_type": "markdown",
   "metadata": {},
   "source": [
    "### Yes/No gemini & pubmed - choose your case"
   ]
  },
  {
   "cell_type": "code",
   "execution_count": null,
   "metadata": {},
   "outputs": [],
   "source": [
    "case=case_list[0]\n",
    "\n",
    "df2 = df_all_both[(df_all_both.case==case) & (df_all_both.with_gender==with_gender) & (df_all_both.gemini == 'Yes')]\n",
    "print(len(df2))\n",
    "df2.head(3)"
   ]
  },
  {
   "cell_type": "code",
   "execution_count": null,
   "metadata": {},
   "outputs": [],
   "source": [
    "df2 = df_all_both[(df_all_both.case==case) & (df_all_both.with_gender==with_gender) & (df_all_both.gemini == 'No')]\n",
    "print(len(df2))\n",
    "df2.head(3)"
   ]
  },
  {
   "cell_type": "code",
   "execution_count": null,
   "metadata": {},
   "outputs": [],
   "source": [
    "df2 = df_only_pubmed[(df_only_pubmed.case==case) & (df_only_pubmed.with_gender==with_gender) & (df_only_pubmed.pubmed == 'Yes')]\n",
    "print(len(df2))\n",
    "df2.head(3)"
   ]
  },
  {
   "cell_type": "code",
   "execution_count": null,
   "metadata": {},
   "outputs": [],
   "source": [
    "df2 = df_only_gemini[(df_only_gemini.case==case) & (df_only_gemini.with_gender==with_gender) & (df_only_gemini.gemini == 'Yes')]\n",
    "print(len(df2))\n",
    "df2.head(3)"
   ]
  },
  {
   "cell_type": "markdown",
   "metadata": {},
   "source": [
    "### Yes/No gemini & pubmed - choose your case - second case"
   ]
  },
  {
   "cell_type": "code",
   "execution_count": null,
   "metadata": {},
   "outputs": [],
   "source": [
    "i=1\n",
    "case=case_list[i]\n",
    "case, with_gender"
   ]
  },
  {
   "cell_type": "code",
   "execution_count": null,
   "metadata": {},
   "outputs": [],
   "source": [
    "df2 = df_all_both[ (df_all_both.with_gender==with_gender) & (df_all_both.case == case) & (df_all_both.gemini == 'Yes')]\n",
    "print(len(df2))\n",
    "df2.head(3)"
   ]
  },
  {
   "cell_type": "code",
   "execution_count": null,
   "metadata": {},
   "outputs": [],
   "source": [
    "print(\"\\n\".join(df2.pathway))"
   ]
  },
  {
   "cell_type": "code",
   "execution_count": null,
   "metadata": {},
   "outputs": [],
   "source": []
  },
  {
   "cell_type": "code",
   "execution_count": null,
   "metadata": {
    "scrolled": true
   },
   "outputs": [],
   "source": [
    "df2 = df_all_both[ (df_all_both.with_gender==with_gender) & (df_all_both.case == case) & (df_all_both.gemini == 'No')]\n",
    "print(len(df2))\n",
    "df2.head(3)"
   ]
  },
  {
   "cell_type": "code",
   "execution_count": null,
   "metadata": {},
   "outputs": [],
   "source": [
    "print(\"\\n\".join(df2.pathway))"
   ]
  },
  {
   "cell_type": "code",
   "execution_count": null,
   "metadata": {},
   "outputs": [],
   "source": []
  },
  {
   "cell_type": "code",
   "execution_count": null,
   "metadata": {},
   "outputs": [],
   "source": [
    "df2 = df_only_pubmed[ (df_all_both.with_gender==with_gender) & (df_only_pubmed.case == case) & (df_only_pubmed.pubmed == 'Yes')]\n",
    "print(len(df2))\n",
    "df2.head(3)"
   ]
  },
  {
   "cell_type": "code",
   "execution_count": null,
   "metadata": {},
   "outputs": [],
   "source": [
    "print(\"\\n\".join(df2.pathway))"
   ]
  },
  {
   "cell_type": "code",
   "execution_count": null,
   "metadata": {},
   "outputs": [],
   "source": [
    "df2 = df_only_pubmed[ (df_all_both.with_gender==with_gender) & (df_only_pubmed.case == case) & (df_only_pubmed.pubmed == 'No')]\n",
    "print(len(df2))\n",
    "df2.head(3)"
   ]
  },
  {
   "cell_type": "code",
   "execution_count": null,
   "metadata": {},
   "outputs": [],
   "source": [
    "print(\"\\n\".join(df2.pathway))"
   ]
  },
  {
   "cell_type": "code",
   "execution_count": null,
   "metadata": {},
   "outputs": [],
   "source": []
  },
  {
   "cell_type": "markdown",
   "metadata": {},
   "source": [
    "### Statistics Gemini x Pubmed per case"
   ]
  },
  {
   "cell_type": "code",
   "execution_count": null,
   "metadata": {},
   "outputs": [],
   "source": [
    "verbose=False\n",
    "force=False\n",
    "\n",
    "df_stat = pub.stat_compare_pubmed_x_gemini_all(run=run, case_list=case_list, i_dfp_list=i_dfp_list,\n",
    "                                               chosen_model_list=chosen_model_list,\n",
    "                                               with_gender_list=with_gender_list,\n",
    "                                               force=force, verbose=verbose)\n",
    "\n",
    "# cols=['run', 'case', 'i_dfp', 'with_gender', 'stat', 'pvalue', 'dof', 'expected', 'n', 'vals_gemini', 'vals_pubmed', 'fdr']\n",
    "cols=['case', 'i_dfp', 'with_gender', 'n', 'pvalue', 'fdr', 'vals_gemini', 'vals_pubmed', 'stat',  ]\n",
    "\n",
    "case = case_list[0]\n",
    "df_stat[cols]"
   ]
  },
  {
   "cell_type": "code",
   "execution_count": null,
   "metadata": {},
   "outputs": [],
   "source": []
  },
  {
   "cell_type": "markdown",
   "metadata": {},
   "source": [
    "### Report"
   ]
  },
  {
   "cell_type": "code",
   "execution_count": null,
   "metadata": {
    "scrolled": true
   },
   "outputs": [],
   "source": [
    "verbose=False\n",
    "force=False\n",
    "run='run01'\n",
    "\n",
    "msg = pub.report_all_pubmed_x_gemini_both_and_only_one(run=run, with_gender_list=[False],\n",
    "                                                       case_list=case_list, i_dfp_list=i_dfp_list,\n",
    "                                                       chosen_model_list=chosen_model_list, \n",
    "                                                       i_dfp=i_dfp,\n",
    "                                                       force=force, verbose=verbose)\n",
    "\n",
    "print(msg)"
   ]
  },
  {
   "cell_type": "code",
   "execution_count": null,
   "metadata": {},
   "outputs": [],
   "source": []
  },
  {
   "cell_type": "markdown",
   "metadata": {},
   "source": [
    "### Only Gemini"
   ]
  },
  {
   "cell_type": "code",
   "execution_count": null,
   "metadata": {},
   "outputs": [],
   "source": [
    "verbose=False\n",
    "run='run01'\n",
    "\n",
    "df_all, df_all_both, df_only_pubmed, df_only_gemini, df_stat = \\\n",
    "    pub.calc_all_pubmed_x_gemini_both_and_only_one(run=run, case_list=case_list, i_dfp_list=i_dfp_list,\n",
    "                                                   chosen_model_list=chosen_model_list, \n",
    "                                                   with_gender_list=with_gender_list, verbose=verbose)\n",
    "\n",
    "print(f\"------------ Only Gemini -  i_dfp {i_dfp}  with_gender {with_gender} -------------\\m\")\n",
    "\n",
    "for case in case_list:\n",
    "    df2 = df_only_gemini[ (df_only_gemini.case==case) & \n",
    "                          (df_only_gemini.with_gender==with_gender) & \n",
    "                          (df_only_gemini.gemini == 'Yes') & \n",
    "                          (df_only_gemini.i_dfp==i_dfp)]\n",
    "\n",
    "    if df2.empty:\n",
    "        print(\">>>\", case, 'nothing found')\n",
    "        continue\n",
    "\n",
    "    lista = np.unique(df2.pathway)\n",
    "    print(\">>>\", case, len(lista))\n",
    "    print(\"\\t\",end='')\n",
    "    print(\"\\n\\t\".join(lista))\n",
    "    print(\"\\n\")\n",
    "\n"
   ]
  },
  {
   "cell_type": "markdown",
   "metadata": {},
   "source": [
    "### Only Pubmed"
   ]
  },
  {
   "cell_type": "code",
   "execution_count": null,
   "metadata": {},
   "outputs": [],
   "source": [
    "print(f\"------------ Only PubMed -  i_dfp {i_dfp}  with_gender {with_gender} -------------\\m\")\n",
    "\n",
    "for case in case_list:\n",
    "    df2 = df_only_pubmed[ (df_only_pubmed.case==case) & \n",
    "                          (df_only_pubmed.with_gender==with_gender) & \n",
    "                          (df_only_pubmed.pubmed == 'Yes') & \n",
    "                          (df_only_pubmed.i_dfp==i_dfp)]\n",
    "\n",
    "    if df2.empty:\n",
    "        print(f\">>> {case}: nothing found\\n\")\n",
    "        continue\n",
    "\n",
    "    lista = np.unique(df2.pathway)\n",
    "    print(\">>>\", case, len(lista))\n",
    "    print(\"\\t\",end='')\n",
    "    print(\"\\n\\t\".join(lista))\n",
    "    print(\"\\n\")### Both Yes/No"
   ]
  },
  {
   "cell_type": "markdown",
   "metadata": {},
   "source": [
    "### Both Yes/No"
   ]
  },
  {
   "cell_type": "code",
   "execution_count": null,
   "metadata": {},
   "outputs": [],
   "source": [
    "for answer in ['Yes', 'No']:\n",
    "\n",
    "    print(f\"------------ Both {answer}, PubMed and Gemini - i_dfp {i_dfp}  with_gender {with_gender} -------------\\n\")\n",
    "    \n",
    "    for case in case_list:\n",
    "        df2 = df_all_both[ (df_all_both.case == case) & \n",
    "                           (df_all_both.with_gender == with_gender) & \n",
    "                           (df_all_both.i_dfp == i_dfp) & \n",
    "                           (df_all_both.gemini == answer)]\n",
    "    \n",
    "        if df2.empty:\n",
    "            print(f\">>> {case}: nothing found\\n\")\n",
    "            continue\n",
    "            \n",
    "        print(\">>>\", case)\n",
    "        lista = np.unique(df2.pathway)\n",
    "        print(\"\\t\",end='')\n",
    "        print(\"\\n\\t\".join(lista))\n",
    "        print(\"\")\n",
    "    print(\"\")"
   ]
  },
  {
   "cell_type": "code",
   "execution_count": null,
   "metadata": {},
   "outputs": [],
   "source": []
  },
  {
   "cell_type": "markdown",
   "metadata": {},
   "source": [
    "### Agreements between PubMed x Gemini\n",
    "\n",
    "  - Chi2-square - found in Gemini x found in Pubmed"
   ]
  },
  {
   "cell_type": "code",
   "execution_count": null,
   "metadata": {},
   "outputs": [],
   "source": [
    "verbose=False\n",
    "force=False\n",
    "\n",
    "df, dfg = pub.agreements_between_pubmed_and_gemini(run_list=run_list, case_list=case_list, i_dfp_list=i_dfp_list,\n",
    "                                                   chosen_model_list=chosen_model_list, with_gender_list=with_gender_list,\n",
    "                                                   force=force, verbose=verbose)\n",
    "pd.set_option('display.precision', 3)\n",
    "\n",
    "print(len(df))\n",
    "\n",
    "cols = ['run', 'chosen_model_list', 'case', 'i_dfp', 'is_seldata', 'with_gender', 'n',\n",
    "       'n_gemini_yes', 'n_gemini_no', 'n_pubmed_yes', 'n_pubmed_no', 'n_both_yes_no', 'agree',\n",
    "       'agree_std', 'fdr', 'pvalue', 'stat', 'dof', 'n_only_gemini_yes', 'n_only_pubmed_yes']\n",
    "\n",
    "cols = ['run', 'case', 'i_dfp', 'is_seldata', 'with_gender', 'n',\n",
    "       'n_gemini_yes', 'n_gemini_no', 'n_pubmed_yes', 'n_pubmed_no', 'n_both_yes_no', 'agree',\n",
    "       'agree_std', 'fdr', 'pvalue', 'stat', 'dof', 'n_only_gemini_yes', 'n_only_pubmed_yes']\n",
    "\n",
    "run=='run01'\n",
    "print(\">>>\", run, \"chosen_model_list\", chosen_model_list)\n",
    "df[cols]"
   ]
  },
  {
   "cell_type": "code",
   "execution_count": null,
   "metadata": {},
   "outputs": [],
   "source": [
    "i=0\n",
    "case=case_list[i]\n",
    "df2 = df[ (df.run==run) & (df.case == case)]\n",
    "print(df2.i_dfp.unique())\n",
    "df2[cols]"
   ]
  },
  {
   "cell_type": "code",
   "execution_count": null,
   "metadata": {},
   "outputs": [],
   "source": [
    "i=1\n",
    "case=case_list[i]\n",
    "df2 = df[ (df.run==run) & (df.case == case)]\n",
    "print(df2.i_dfp.unique())\n",
    "df2[cols]"
   ]
  },
  {
   "cell_type": "code",
   "execution_count": null,
   "metadata": {},
   "outputs": [],
   "source": [
    "dfg.head(6)"
   ]
  },
  {
   "cell_type": "code",
   "execution_count": null,
   "metadata": {},
   "outputs": [],
   "source": [
    "pd.options.display.float_format = \"{:,.3f}\".format\n",
    "\n",
    "run='run01'\n",
    "dfg2 = dfg[ (dfg.run == run) & (dfg.with_gender == False) ]\n",
    "cols = ['run', 'case', 'with_gender', 'agree', 'agree_std', 'n']\n",
    "dfg2[cols]"
   ]
  },
  {
   "cell_type": "code",
   "execution_count": null,
   "metadata": {},
   "outputs": [],
   "source": [
    "run='run02'\n",
    "dfg2 = dfg[ (dfg.run == run) & (dfg.with_gender == False) ]\n",
    "cols = ['run', 'case', 'with_gender', 'agree', 'agree_std', 'n']\n",
    "dfg2[cols]"
   ]
  },
  {
   "cell_type": "code",
   "execution_count": null,
   "metadata": {},
   "outputs": [],
   "source": []
  },
  {
   "cell_type": "code",
   "execution_count": null,
   "metadata": {},
   "outputs": [],
   "source": []
  },
  {
   "cell_type": "code",
   "execution_count": null,
   "metadata": {},
   "outputs": [],
   "source": [
    "run='run01'\n",
    "\n",
    "print(f\"Gemini x Pubmed agreement for {run} (min, max):\")\n",
    "print(\"\\n============================ without gender ======\")\n",
    "for case in case_list:\n",
    "    # df3 = df2[df2.chosen_model == chosen_model]\n",
    "    # df2 = df[ (df.run==run) & (df.case == case) & (df.with_gender == True)]\n",
    "    # mini1, maxi1 = df2.agree.min(), df2.agree.max()\n",
    "\n",
    "    df3 = df[ (df.run==run) & (df.case == case) & (df.with_gender == False)]\n",
    "    mini2, maxi2 = df3.agree.min(), df3.agree.max()\n",
    "    \n",
    "    # stri = f\"for {pub.gem.gemini_models[chosen_model]} [{100*mini:.1f}, {100*maxi:.1f}]%\"\n",
    "    stri = f\"for {case:15} [{100*mini2:2.1f}%, {100*maxi2:2.1f}%]\"\n",
    "    print('\\t',stri)"
   ]
  },
  {
   "cell_type": "code",
   "execution_count": null,
   "metadata": {},
   "outputs": [],
   "source": [
    "run='run02'\n",
    "\n",
    "print(f\"Gemini x Pubmed agreement for {run} (min, max):\")\n",
    "print(\"\\n============================ without gender======\")\n",
    "for case in case_sel_list:\n",
    "    # df3 = df2[df2.chosen_model == chosen_model]\n",
    "    # df2 = df[ (df.run==run) & (df.case == case) & (df.with_gender == True)]\n",
    "    # agree_gender = df2.iloc[0].agree\n",
    "    # agree_gender_std = df2.iloc[0].agree_std\n",
    "\n",
    "    \n",
    "    df3 = df[ (df.run==run) & (df.case == case) & (df.with_gender == False)]\n",
    "    agree_nogend     = df3.iloc[0].agree\n",
    "    agree_nogend_std = df3.iloc[0].agree_std\n",
    "    \n",
    "    # stri = f\"for {pub.gem.gemini_models[chosen_model]} [{100*mini:.1f} {100*maxi:.1f}]%\"\n",
    "    stri = f\"for {case:15} {100*agree_nogend:2.1f}% ({100*agree_nogend_std:2.1f}%) \"\n",
    "    print('\\t',stri)"
   ]
  },
  {
   "cell_type": "code",
   "execution_count": null,
   "metadata": {},
   "outputs": [],
   "source": []
  },
  {
   "cell_type": "markdown",
   "metadata": {},
   "source": [
    "### Runs x Gemini"
   ]
  },
  {
   "cell_type": "code",
   "execution_count": null,
   "metadata": {},
   "outputs": [],
   "source": [
    "# Gemini results independent on with_gender\n",
    "\n",
    "run1='run01'\n",
    "df1 = df[ (df.run==run1) & (df.with_gender==with_gender)].copy()\n",
    "df1.index = np.arange(0, len(df1))\n",
    "\n",
    "run2='run02'\n",
    "df2 =  df[ (df.run==run2) & (df.with_gender==with_gender)].copy()\n",
    "df2.index = np.arange(0, len(df2))\n",
    "\n",
    "equal = np.sum([df1.iloc[i].n_gemini_yes - df2.iloc[i].n_gemini_yes == 0 for i in range(len(df1)) ])\n",
    "diff  = np.sum([df1.iloc[i].n_gemini_yes - df2.iloc[i].n_gemini_yes != 0 for i in range(len(df1)) ])\n",
    "\n",
    "if diff == 0:\n",
    "    print('Gemini insensible to runs')\n",
    "else:\n",
    "    print('Gemini varies with runs')\n",
    "# must be the same as cell above\n",
    "f\"different runs with_gender {with_gender}\", with_gender, equal, diff"
   ]
  },
  {
   "cell_type": "code",
   "execution_count": null,
   "metadata": {},
   "outputs": [],
   "source": []
  },
  {
   "cell_type": "markdown",
   "metadata": {},
   "source": [
    "### Pubmed has no runs - comparing with_gender"
   ]
  },
  {
   "cell_type": "code",
   "execution_count": null,
   "metadata": {},
   "outputs": [],
   "source": [
    "# PubMed results are ependent on with_gender and independent on run\n",
    "run1='run01'\n",
    "df1 = df[ (df.run==run1) & (df.with_gender==with_gender)].copy()\n",
    "df1.index = np.arange(0, len(df1))\n",
    "\n",
    "run2='run02'\n",
    "df2 =  df[ (df.run==run2) & (df.with_gender==with_gender)].copy()\n",
    "df2.index = np.arange(0, len(df2))\n",
    "\n",
    "equal = np.sum([df1.iloc[i].n_pubmed_yes - df2.iloc[i].n_pubmed_yes == 0 for i in range(len(df1)) ])\n",
    "diff  = np.sum([df1.iloc[i].n_pubmed_yes - df2.iloc[i].n_pubmed_yes != 0 for i in range(len(df1)) ])\n",
    "\n",
    "if diff == 0:\n",
    "    print('Pubmed insensible to runs')\n",
    "else:\n",
    "    print('Pubmed varies with runs')\n",
    "# must be the same as cell above\n",
    "f\"different runs with_gender {with_gender}\", with_gender, equal, diff"
   ]
  },
  {
   "cell_type": "code",
   "execution_count": null,
   "metadata": {},
   "outputs": [],
   "source": []
  }
 ],
 "metadata": {
  "kernelspec": {
   "display_name": "Python 3 (ipykernel)",
   "language": "python",
   "name": "python3"
  },
  "language_info": {
   "codemirror_mode": {
    "name": "ipython",
    "version": 3
   },
   "file_extension": ".py",
   "mimetype": "text/x-python",
   "name": "python",
   "nbconvert_exporter": "python",
   "pygments_lexer": "ipython3",
   "version": "3.11.11"
  }
 },
 "nbformat": 4,
 "nbformat_minor": 4
}
