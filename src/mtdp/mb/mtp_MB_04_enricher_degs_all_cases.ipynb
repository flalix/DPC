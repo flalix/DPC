{
 "cells": [
  {
   "cell_type": "code",
   "execution_count": null,
   "id": "ee016cd1",
   "metadata": {},
   "outputs": [],
   "source": [
    "from platform import python_version\n",
    "print(python_version())"
   ]
  },
  {
   "cell_type": "markdown",
   "id": "f2198431-5f02-413f-91a0-0d011f533ec6",
   "metadata": {},
   "source": [
    "### Calculating all possible Enrichment Analysis\n",
    "  - for each LFC/FDR cutoff one calculates the Enrichment Analysis\n",
    "  - We used Enricher python API\n",
    "     - Reactome (2022)\n",
    "     - Bioplanet (2019)\n",
    "     - WikiPathways (2021 Human)\n",
    "     - KEGG (2021 Human)\n",
    "     - GO Biological Process (2021)\n",
    "     - MSigDB Hallmark (2020)\n",
    "   \n",
    "### For each enriched pathways one calculates:\n",
    "  - DEGs in the pathway\n",
    "  - DEGs not in the pathway\n",
    "  - TOI1, 2, 3, 4"
   ]
  },
  {
   "cell_type": "code",
   "execution_count": null,
   "id": "f5a3b22e",
   "metadata": {},
   "outputs": [],
   "source": [
    "import os, sys, pickle\n",
    "\n",
    "import numpy as np\n",
    "import pandas as pd\n",
    "pd.set_option('display.width', 100)\n",
    "pd.set_option('max_colwidth', 80)\n",
    "pd.set_option(\"display.precision\", 3)\n",
    "\n",
    "import yaml\n",
    "\n",
    "import seaborn as sns\n",
    "sns.set_context(\"notebook\", font_scale=1.4)\n",
    "\n",
    "import matplotlib.pyplot as plt\n",
    "import matplotlib.gridspec as gridspec\n",
    "%matplotlib inline\n",
    "\n",
    "sys.path.insert(1, '../src/')\n",
    "\n",
    "from Basic import *\n",
    "from enricher_lib import *\n",
    "\n",
    "import warnings\n",
    "warnings.filterwarnings(\"ignore\")\n",
    "\n",
    "from IPython.display import display, HTML\n",
    "display(HTML(\"<style>:root { --jp-notebook-max-width: 100% !important; }</style>\"))\n",
    "\n",
    "# !pip3 install pyyaml\n",
    "with open('params.yml', 'r') as file:\n",
    "    dic_yml=yaml.safe_load(file)\n"
   ]
  },
  {
   "cell_type": "code",
   "execution_count": null,
   "id": "2bdaf5e7",
   "metadata": {},
   "outputs": [],
   "source": [
    "root0=dic_yml['root0']\n",
    "email=dic_yml['email']\n",
    "\n",
    "project=dic_yml['project']\n",
    "s_project=dic_yml['s_project']\n",
    "\n",
    "gene_protein=dic_yml['gene_protein']\n",
    "s_omics=dic_yml['s_omics']\n",
    "\n",
    "has_age=dic_yml['has_age']\n",
    "has_gender=dic_yml['has_gender']\n",
    "\n",
    "want_normalized=dic_yml['want_normalized']\n",
    "\n",
    "abs_lfc_cutoff_inf=dic_yml['abs_lfc_cutoff_inf']\n",
    "s_pathw_enrichm_method=dic_yml['s_pathw_enrichm_method']\n",
    "num_min_degs_for_ptw_enr=dic_yml['num_min_degs_for_ptw_enr']\n",
    "\n",
    "tolerance_pathway_index=dic_yml['tolerance_pathway_index']\n",
    "type_sat_ptw_index=dic_yml['type_sat_ptw_index']\n",
    "saturation_lfc_index=dic_yml['saturation_lfc_index']\n",
    "chosen_model_sampling=dic_yml['chosen_model_sampling']\n",
    "\n",
    "case_list=dic_yml['case_list']\n",
    "\n",
    "pval_pathway_cutoff=dic_yml['pval_pathway_cutoff']\n",
    "fdr_pathway_cutoff=dic_yml['fdr_pathway_cutoff']\n",
    "num_of_genes_cutoff=dic_yml['num_of_genes_cutoff']\n",
    "\n",
    "run_list=dic_yml['run_list']\n",
    "chosen_model_list=dic_yml['chosen_model_list']\n",
    "i_dfp_list=dic_yml['i_dfp_list']\n",
    "\n",
    "exp_normalization='quantile_norm' if want_normalized else None\n",
    "normalization='not_normalized' if exp_normalization is None else exp_normalization\n",
    "\n",
    "cfg=Config(project, s_project, case_list, root0)\n",
    "\n",
    "case=case_list[0]\n",
    "\n",
    "n_genes_annot_ptw, n_degs, n_degs_in_ptw, n_degs_not_in_ptw, degs_in_all_ratio=-1,-1,-1,-1,-1\n",
    "abs_lfc_cutoff, fdr_lfc_cutoff, n_degs, n_degs_up, n_degs_dw=cfg.get_best_lfc_cutoff(case, 'not_normalized')\n",
    "\n",
    "\n",
    "print(f\"G/P LFC cutoffs: lfc={abs_lfc_cutoff:.3f}; fdr={fdr_lfc_cutoff:.3f}\")\n",
    "print(f\"Pathway cutoffs: pval={pval_pathway_cutoff:.3f}; fdr={fdr_pathway_cutoff:.3f}; num of genes={num_of_genes_cutoff}\")"
   ]
  },
  {
   "cell_type": "code",
   "execution_count": null,
   "id": "ed719afa-c353-47ff-ae14-c46df3a74ea8",
   "metadata": {},
   "outputs": [],
   "source": [
    "enr=enricheR(gene_protein, s_omics, project, s_project, root0,\n",
    "             case_list, has_age, has_gender, clone_objects=False,\n",
    "             exp_normalization=exp_normalization, geneset_num=0, \n",
    "             num_min_degs_for_ptw_enr=num_min_degs_for_ptw_enr, \n",
    "             tolerance_pathway_index=tolerance_pathway_index, \n",
    "             s_pathw_enrichm_method=s_pathw_enrichm_method,\n",
    "             abs_lfc_cutoff_inf=abs_lfc_cutoff_inf, \n",
    "             type_sat_ptw_index=type_sat_ptw_index, saturation_lfc_index=saturation_lfc_index)\n",
    "\n",
    "case=case_list[0]\n",
    "\n",
    "enr.cfg.set_default_best_lfc_cutoff(normalization, abs_lfc_cutoff=1, fdr_lfc_cutoff=0.05)\n",
    "ret, degs, degs_ensembl, dfdegs=enr.open_case(case, verbose=False)\n",
    "print(\"\\nEcho Parameters:\")\n",
    "enr.echo_parameters()\n",
    "geneset_num=enr.geneset_num"
   ]
  },
  {
   "cell_type": "code",
   "execution_count": null,
   "id": "034d1513-5e3d-4b8d-ae76-614f87a8b6e5",
   "metadata": {},
   "outputs": [],
   "source": [
    "enr.abs_lfc_cutoff_inf, abs_lfc_cutoff_inf"
   ]
  },
  {
   "cell_type": "code",
   "execution_count": null,
   "id": "b4eaa228-cee8-44a0-875f-963975e68db9",
   "metadata": {},
   "outputs": [],
   "source": [
    "print(len(enr.gene.df_my_gene))\n",
    "enr.gene.df_my_gene.head(2)"
   ]
  },
  {
   "cell_type": "code",
   "execution_count": null,
   "id": "39c73ea4",
   "metadata": {},
   "outputs": [],
   "source": [
    "lista=[x for x in os.listdir(enr.root_result) if 'medulloblastoma_DEG_' in x and not '~lock' in x]\n",
    "lista.sort()\n",
    "print(len(lista))\n",
    "lista[:3]"
   ]
  },
  {
   "cell_type": "code",
   "execution_count": null,
   "id": "fa6c2d0c-921d-485c-a845-9f71095be485",
   "metadata": {},
   "outputs": [],
   "source": [
    "files=[x for x in os.listdir(enr.root_enrichment) if 'Reactome_' in x and not '~lock' in x and '_WNT_' in x]\n",
    "print(len(files))\n",
    "files[:2]"
   ]
  },
  {
   "cell_type": "code",
   "execution_count": null,
   "id": "f9241eff-4415-4d2e-be82-6cc8d7825e6b",
   "metadata": {},
   "outputs": [],
   "source": []
  },
  {
   "cell_type": "markdown",
   "id": "44945ecd-7393-485b-b1e5-bebcc14a7e3c",
   "metadata": {},
   "source": [
    "### Summary of cases - below on can see the enriched tables for different databases"
   ]
  },
  {
   "cell_type": "code",
   "execution_count": null,
   "id": "2d76e2fd",
   "metadata": {},
   "outputs": [],
   "source": [
    "print(\"\")\n",
    "\n",
    "for case in case_list:\n",
    "    enr.open_case(case, verbose=False)\n",
    "    enr.echo_parameters()\n",
    "    print(\"\\n------------------\\n\\n\")"
   ]
  },
  {
   "cell_type": "code",
   "execution_count": null,
   "id": "bb408056-05ab-4f3b-af93-e5f24dc5e161",
   "metadata": {},
   "outputs": [],
   "source": []
  },
  {
   "cell_type": "markdown",
   "id": "40d36527",
   "metadata": {},
   "source": [
    "### Cutoffs and Results"
   ]
  },
  {
   "cell_type": "code",
   "execution_count": null,
   "id": "59e4c3bd-395c-4bc8-8de0-628759f68acb",
   "metadata": {},
   "outputs": [],
   "source": [
    "for case in case_list:\n",
    "    ret, degs, degs_ensembl, dfdegs=enr.open_case(case, verbose=False)\n",
    "\n",
    "    print(f\"For {case}\")\n",
    "    print(f\"\\tLFC cutoffs: lfc={enr.abs_lfc_cutoff:.3f}; fdr={enr.fdr_lfc_cutoff} #{enr.s_deg_dap}s={len(degs)}\")\n",
    "    print(f\"\\tPathway cutoffs: fdr={enr.pathway_fdr_cutoff:.3f}; num of genes={enr.num_of_genes_cutoff}, #Pathways={enr.n_pathways}, #{enr.s_deg_dap}s in pathwyas={enr.n_degs_in_pathways}\\n\")\n"
   ]
  },
  {
   "cell_type": "code",
   "execution_count": null,
   "id": "83e76446",
   "metadata": {},
   "outputs": [],
   "source": [
    "# df2=enr.dflfc_ori[ (enr.dflfc_ori.symbol == 'IGHA2') | (enr.dflfc_ori.symbol == 'A2M')]\n",
    "# df2"
   ]
  },
  {
   "cell_type": "code",
   "execution_count": null,
   "id": "70f0bb64-680e-4f8b-bd17-1f1edae558a6",
   "metadata": {},
   "outputs": [],
   "source": [
    "fname_final_ori, fname_ori, title=enr.set_lfc_names()\n",
    "fname_final_ori, title"
   ]
  },
  {
   "cell_type": "code",
   "execution_count": null,
   "id": "a2d73164",
   "metadata": {
    "scrolled": true
   },
   "outputs": [],
   "source": [
    "enr.set_enrichment_name()"
   ]
  },
  {
   "cell_type": "code",
   "execution_count": null,
   "id": "df77592f-f420-43e6-8c0d-271562f60f57",
   "metadata": {},
   "outputs": [],
   "source": [
    "enr.get_best_ptw_cutoff_biopax(verbose=True)\n",
    "# self.pathway_pval_cutoff, self.pathway_fdr_cutoff, self.num_of_genes_cutoff,"
   ]
  },
  {
   "cell_type": "markdown",
   "id": "a392c8b7-fe2c-4288-8ca8-6aae4e9db42b",
   "metadata": {},
   "source": [
    "### Testing EnrichR API "
   ]
  },
  {
   "cell_type": "code",
   "execution_count": null,
   "id": "13fb716b-d511-4068-b8ab-fbed45af02e5",
   "metadata": {},
   "outputs": [],
   "source": [
    "case=case_list[0]\n",
    "ret, degs, degs_ensembl, dfdegs=enr.open_case(case, verbose=False)\n",
    "ret, len(degs), enr.n_degs, enr.n_degs_ensembl"
   ]
  },
  {
   "cell_type": "code",
   "execution_count": null,
   "id": "4eaf4eaf-8082-4bf2-8860-05efda01e190",
   "metadata": {},
   "outputs": [],
   "source": [
    "# dfdegs.columns"
   ]
  },
  {
   "cell_type": "code",
   "execution_count": null,
   "id": "acc5f5da-eb1d-4dad-9ecc-cdacb2bbb0fc",
   "metadata": {
    "scrolled": true
   },
   "outputs": [],
   "source": [
    "print(len(dfdegs))\n",
    "dfdegs.head(3)"
   ]
  },
  {
   "cell_type": "code",
   "execution_count": null,
   "id": "dc7359d2-19e7-497e-97f0-f17076114a8b",
   "metadata": {},
   "outputs": [],
   "source": [
    "dfdegs_ensembl=dfdegs[ (~pd.isnull(dfdegs.ensembl_id)) & (dfdegs.biotype != 'TEC')].copy()\n",
    "cols=['probe', 'symbol', 'symbol_prev', 'symb_or_syn', 'biotype', '_type',\n",
    "       'lfc', 'abs_lfc', 'fdr', 'description',\n",
    "       'desc_gff', 'description_prev', 'accession', 'ensembl_id',\n",
    "       'ensembl_transc_id', 'geneid', 'cytoband', 'symbol_pipe', ]\n",
    "print(len(dfdegs), len(enr.dflfc), len(dfdegs_ensembl), len(enr.dfdegs_ensembl))\n",
    "dfdegs_ensembl[cols].head()"
   ]
  },
  {
   "cell_type": "code",
   "execution_count": null,
   "id": "462b8c05-293e-409a-bc5c-2acd4fc56955",
   "metadata": {},
   "outputs": [],
   "source": [
    "np.unique(dfdegs_ensembl.biotype)"
   ]
  },
  {
   "cell_type": "code",
   "execution_count": null,
   "id": "b0a61fd1-2059-4892-9f5b-24b96c4cef57",
   "metadata": {},
   "outputs": [],
   "source": []
  },
  {
   "cell_type": "code",
   "execution_count": null,
   "id": "fc6c0742-8225-4450-ae19-b608b4dda226",
   "metadata": {},
   "outputs": [],
   "source": [
    "len(enr.degs), len(enr.degs_ensembl)"
   ]
  },
  {
   "cell_type": "code",
   "execution_count": null,
   "id": "10d8d97d-8da4-4f61-804d-b87c4c6792f4",
   "metadata": {},
   "outputs": [],
   "source": [
    "enr.n_degs, enr.n_degs_ensembl"
   ]
  },
  {
   "cell_type": "code",
   "execution_count": null,
   "id": "601203c2-91a7-49e3-aec8-ba5e96e3071e",
   "metadata": {},
   "outputs": [],
   "source": [
    "enr.set_db(geneset_num=0)"
   ]
  },
  {
   "cell_type": "code",
   "execution_count": null,
   "id": "5f00a491-b5b2-439b-b084-d4b92af76450",
   "metadata": {},
   "outputs": [],
   "source": [
    "shortId, userListId=enr.open_session_upload_symbols(enr.degs_ensembl)\n",
    "shortId, userListId"
   ]
  },
  {
   "cell_type": "markdown",
   "id": "0a310a3a-7524-4f60-862d-1b3eeebc5e16",
   "metadata": {},
   "source": [
    "### All enriched cases for many databases"
   ]
  },
  {
   "cell_type": "code",
   "execution_count": null,
   "id": "ef05f2c6-acd6-44f1-877a-b07a4e87c531",
   "metadata": {},
   "outputs": [],
   "source": [
    "fdr_ptw_cutoff_list=enr.fdr_ptw_cutoff_list\n",
    "fdr_ptw_cutoff_list"
   ]
  },
  {
   "cell_type": "code",
   "execution_count": null,
   "id": "132ce8bf-3237-41a8-a8d0-ddd55820f244",
   "metadata": {},
   "outputs": [],
   "source": [
    "# dfsim=pdreadcsv( enr.cfg.fname_lfc_cutoff, enr.cfg.root_config)\n",
    "dfsim=enr.open_simulation_table()\n",
    "if dfsim is None:\n",
    "    dfsim=pd.DataFrame()\n",
    "\n",
    "print(len(dfsim))\n",
    "dfsim.tail(3)"
   ]
  },
  {
   "cell_type": "code",
   "execution_count": null,
   "id": "c769ebe7-8083-4e75-b6a0-a7dda3408b5a",
   "metadata": {},
   "outputs": [],
   "source": [
    "enr.lfc_list"
   ]
  },
  {
   "cell_type": "code",
   "execution_count": null,
   "id": "52a12933-aeab-4482-b1ff-cbbdab5ae8ab",
   "metadata": {},
   "outputs": [],
   "source": [
    "enr.fdr_list"
   ]
  },
  {
   "cell_type": "markdown",
   "id": "69c82f44-64ae-4410-8c36-1267700e5028",
   "metadata": {},
   "source": [
    "### How many samples per case?"
   ]
  },
  {
   "cell_type": "code",
   "execution_count": null,
   "id": "c8b199f4-44b1-4704-9b58-ecb28a87a321",
   "metadata": {},
   "outputs": [],
   "source": [
    "for case in case_list:\n",
    "    dfsim2=dfsim[ (dfsim.case == case) & (dfsim.normalization == enr.normalization) & (dfsim.n_degs >= enr.num_min_degs_for_ptw_enr)]\n",
    "    print(f\"case {case} #simulations {len(dfsim2)}\")"
   ]
  },
  {
   "cell_type": "code",
   "execution_count": null,
   "id": "78f87309-0fb1-43c1-86e5-ee8aa8731526",
   "metadata": {},
   "outputs": [],
   "source": []
  },
  {
   "cell_type": "code",
   "execution_count": null,
   "id": "da849f26-fa4d-47e0-9724-f83dd5880263",
   "metadata": {},
   "outputs": [],
   "source": [
    "dfsim2=dfsim[ (dfsim.normalization == enr.normalization) & (dfsim.n_degs > 2)].copy()\n",
    "dfsim2.index=np.arange(0, len(dfsim2))\n",
    "print(len(dfsim2))"
   ]
  },
  {
   "cell_type": "code",
   "execution_count": null,
   "id": "4c828d5d-7dab-4c1e-8c21-b35afb9557b3",
   "metadata": {
    "scrolled": true
   },
   "outputs": [],
   "source": [
    "for i in range(len(dfsim2)):\n",
    "    row=dfsim2.iloc[i]\n",
    "    degs=eval(row.degs)\n",
    "\n",
    "    case=row.case\n",
    "    abs_lfc_cutoff=row.abs_lfc_cutoff\n",
    "    fdr_lfc_cutoff=row.fdr_lfc_cutoff\n",
    "\n",
    "    print(i, case, abs_lfc_cutoff, fdr_lfc_cutoff, len(degs), degs[:9], '...')\n",
    "    if i > 3: break"
   ]
  },
  {
   "cell_type": "code",
   "execution_count": null,
   "id": "d6792f84-a90a-4948-8d0f-71f9044a9797",
   "metadata": {},
   "outputs": [],
   "source": [
    "enr.abs_lfc_cutoff_inf"
   ]
  },
  {
   "cell_type": "code",
   "execution_count": null,
   "id": "99ef8b17-fb21-43f8-aa56-b92133df6852",
   "metadata": {},
   "outputs": [],
   "source": [
    "dfsim[ (dfsim.case == 'WNT') & (dfsim.abs_lfc_cutoff == abs_lfc_cutoff_inf) & (dfsim.fdr_lfc_cutoff == 0.15)]"
   ]
  },
  {
   "cell_type": "code",
   "execution_count": null,
   "id": "314c2adc-7a65-4472-bc62-f2f8a5091038",
   "metadata": {},
   "outputs": [],
   "source": [
    "dfsim[ (dfsim.case == 'G4') & (dfsim.abs_lfc_cutoff == abs_lfc_cutoff_inf) & (dfsim.fdr_lfc_cutoff == 0.15)]"
   ]
  },
  {
   "cell_type": "code",
   "execution_count": null,
   "id": "b0c54452-8e9f-4279-ba83-797fc6f764ff",
   "metadata": {},
   "outputs": [],
   "source": []
  },
  {
   "cell_type": "markdown",
   "id": "a5a88e80-503f-4e9e-aa83-9aa7ebb17164",
   "metadata": {},
   "source": [
    "### Calc all enrichment analyses"
   ]
  },
  {
   "cell_type": "code",
   "execution_count": null,
   "id": "4c6cacb2-a290-4946-b7fd-2cdf95bba0c2",
   "metadata": {},
   "outputs": [],
   "source": [
    "geneset_num_list=[1, 2, 4, 5, 7]\n",
    "geneset_num_list=[0, 1, 2, 4, 5, 7]\n",
    "geneset_num_list=[0]"
   ]
  },
  {
   "cell_type": "code",
   "execution_count": null,
   "id": "8a5d122f-a64a-4a61-938a-bb704d9b49c4",
   "metadata": {},
   "outputs": [],
   "source": [
    "enr.set_db(0, verbose=True)"
   ]
  },
  {
   "cell_type": "code",
   "execution_count": null,
   "id": "097ef4fc-e57b-48fb-ab70-bd3c4939aa83",
   "metadata": {},
   "outputs": [],
   "source": [
    "enr.set_enrichment_name()"
   ]
  },
  {
   "cell_type": "code",
   "execution_count": null,
   "id": "6b329d01-1f1b-4d6d-8c76-ebca76212681",
   "metadata": {},
   "outputs": [],
   "source": [
    "enr.abs_lfc_cutoff_inf"
   ]
  },
  {
   "cell_type": "code",
   "execution_count": null,
   "id": "5e5d096d-2a84-425c-be61-c0b20a26b1e6",
   "metadata": {},
   "outputs": [],
   "source": [
    "print(enr.abs_lfc_cutoff_inf)\n",
    "df_fdr=enr.open_fdr_lfc_correlation(case, enr.abs_lfc_cutoff_inf)"
   ]
  },
  {
   "cell_type": "code",
   "execution_count": null,
   "id": "268fa2da-7c65-4c16-8b47-599b7242c7c2",
   "metadata": {},
   "outputs": [],
   "source": [
    "dfsim=enr.open_simulation_table()\n",
    "dfsim.head(3)"
   ]
  },
  {
   "cell_type": "code",
   "execution_count": null,
   "id": "74a34519-48fe-401f-a9e6-624d57cf2a29",
   "metadata": {},
   "outputs": [],
   "source": []
  },
  {
   "cell_type": "markdown",
   "id": "d0c52c8a-89c2-4cfe-866c-bc0e00195a45",
   "metadata": {},
   "source": [
    "### Calc DEFAULT paramenters Enrichment Analysis"
   ]
  },
  {
   "cell_type": "code",
   "execution_count": null,
   "id": "37d737b6-788b-47dc-a391-fa3758da6dd9",
   "metadata": {
    "scrolled": true
   },
   "outputs": [],
   "source": [
    "force=False\n",
    "verbose=False\n",
    "enr.calc_default_enrichment_analysis(geneset_num_list=[0, 1, 2, 4, 5, 7], force=force, verbose=verbose)"
   ]
  },
  {
   "cell_type": "markdown",
   "id": "103e4bcf-7004-4097-8f90-037adf3a9502",
   "metadata": {},
   "source": [
    "### Reactome in Enricher"
   ]
  },
  {
   "cell_type": "code",
   "execution_count": null,
   "id": "45e8355c-8e89-4e00-97e0-9520e4a141a5",
   "metadata": {},
   "outputs": [],
   "source": [
    "case=case_list[0]\n",
    "df_fdr=enr.open_fdr_lfc_correlation(case, enr.abs_lfc_cutoff_inf)\n",
    "df2=df_fdr[ pd.notnull(df_fdr['corr']) ]\n",
    "print(len(df2))\n",
    "df2.head(3)"
   ]
  },
  {
   "cell_type": "code",
   "execution_count": null,
   "id": "d865098d-4aac-4343-bdcf-4e8eeb627589",
   "metadata": {},
   "outputs": [],
   "source": []
  },
  {
   "cell_type": "code",
   "execution_count": null,
   "id": "d211ce42-e43c-4a2e-83f6-a01c4a3a18e3",
   "metadata": {
    "scrolled": true
   },
   "outputs": [],
   "source": [
    "verbose=False\n",
    "geneset_num_list=[0]\n",
    "# remove the comments - it last some minutes\n",
    "enr.calc_all_enrichment_analysis(geneset_num_list, force=force, verbose=verbose)"
   ]
  },
  {
   "cell_type": "code",
   "execution_count": null,
   "id": "ad1db490-57e8-444a-a38f-e404fe2889c5",
   "metadata": {
    "scrolled": true
   },
   "outputs": [],
   "source": [
    "verbose=False\n",
    "geneset_num_list=[1, 2, 4, 5, 7]\n",
    "# remove the comments - it last some minutes\n",
    "enr.calc_all_enrichment_analysis(geneset_num_list, force=force, verbose=verbose)"
   ]
  },
  {
   "cell_type": "markdown",
   "id": "d2c49beb-689f-4dbc-b085-d1bcc59122cc",
   "metadata": {},
   "source": [
    "### Sampling Pathways "
   ]
  },
  {
   "cell_type": "code",
   "execution_count": null,
   "id": "e24a1071-4b6c-4575-b4f9-ac174fef4e2d",
   "metadata": {},
   "outputs": [],
   "source": [
    "dfa=enr.count_sampling(geneset_num_list=[0], prompt_verbose=True)\n",
    "len(dfa)"
   ]
  },
  {
   "cell_type": "code",
   "execution_count": null,
   "id": "01ff32c3-c8ba-4477-8862-d5d997e76bea",
   "metadata": {},
   "outputs": [],
   "source": [
    "fig, dfa=enr.barplot_sampling_cutoffs(prompt_verbose=False, verbose=False)\n",
    "fig.show()"
   ]
  },
  {
   "cell_type": "code",
   "execution_count": null,
   "id": "558ee0a8-c538-4a24-a24e-0531e87ff847",
   "metadata": {},
   "outputs": [],
   "source": []
  },
  {
   "cell_type": "markdown",
   "id": "ef7fcc8f-3cc4-48bc-a1b1-5992237d2fe1",
   "metadata": {},
   "source": [
    "### Other tests"
   ]
  },
  {
   "cell_type": "code",
   "execution_count": null,
   "id": "c0d36b0d-81cb-49cb-81ef-653616d9e0f7",
   "metadata": {},
   "outputs": [],
   "source": [
    "force=False; verbose=False\n",
    "num_min_degs_for_ptw_enr=3\n",
    "\n",
    "geneset_num_list=[1, 2, 4, 5, 7]\n",
    "geneset_num_list=[0, 1, 2, 4, 5, 7]\n",
    "geneset_num_list=[0]\n",
    "\n",
    "want_test=False\n",
    "\n",
    "if want_test:\n",
    "    icount=-1\n",
    "    for case in case_list:\n",
    "        if not enr.open_case_simple(case):\n",
    "            print(f\"Problems for {case} !!!!\")\n",
    "            continue\n",
    "        \n",
    "        dfsim2=dfsim[ (dfsim.normalization == enr.normalization) & (dfsim.case == case) &\n",
    "                        (dfsim.n_degs >= num_min_degs_for_ptw_enr)]\n",
    "        \n",
    "        for i in range(len(dfsim2)):\n",
    "            icount += 1\n",
    "            \n",
    "            row=dfsim2.iloc[i]\n",
    "    \n",
    "            degs=eval(row.degs)\n",
    "            case=row.case\n",
    "            \n",
    "            abs_lfc_cutoff=row.abs_lfc_cutoff\n",
    "            fdr_lfc_cutoff=row.fdr_lfc_cutoff\n",
    "    \n",
    "            degs2, _=enr.list_of_degs_params(abs_lfc_cutoff, fdr_lfc_cutoff, verbose=False)\n",
    "    \n",
    "            if len(degs) != len(degs2):\n",
    "                print(\"Error:\", case, abs_lfc_cutoff, fdr_lfc_cutoff, len(degs), len(degs2))\n",
    "                continue\n",
    "    \n",
    "            # if i > 10:break\n",
    "            enr.calc_EA_dataset_symbol(degs, return_value=True, force=force, verbose=verbose)\n",
    "            if icount%100==0:\n",
    "                print(case, len(degs), abs_lfc_cutoff, fdr_lfc_cutoff)\n",
    "                enr.echo_degs()\n",
    "                print(\"\")\n",
    "                enr.echo_enriched_pathways()\n",
    "                print(\"\\n\")\n"
   ]
  },
  {
   "cell_type": "markdown",
   "id": "855069f4-effc-4150-8f1a-e54bba2b85b9",
   "metadata": {},
   "source": [
    "### Differences between databases\n",
    "#### Run only if you defined teh best config: new05 algorithm"
   ]
  },
  {
   "cell_type": "code",
   "execution_count": null,
   "id": "fa46d46f-a57b-47b5-aa82-a16321cf9b8a",
   "metadata": {},
   "outputs": [],
   "source": [
    "enr.get_best_ptw_cutoff_biopax()"
   ]
  },
  {
   "cell_type": "code",
   "execution_count": null,
   "id": "9584ff3d-2dfa-4794-a4e9-d7ca3f8d6ecf",
   "metadata": {},
   "outputs": [],
   "source": [
    "case=case_list[0]"
   ]
  },
  {
   "cell_type": "code",
   "execution_count": null,
   "id": "0e8d6ba4-995e-43b3-a255-14f7e3ab5a60",
   "metadata": {},
   "outputs": [],
   "source": [
    "enr.abs_lfc_cutoff , enr.fdr_lfc_cutoff, enr.pathway_pval_cutoff, enr.pathway_fdr_cutoff, enr.num_of_genes_cutoff"
   ]
  },
  {
   "cell_type": "code",
   "execution_count": null,
   "id": "50a1632b-80ee-473c-9eb2-f77bfff2c394",
   "metadata": {},
   "outputs": [],
   "source": [
    "case=case_list[0]\n",
    "ret, degs, degs_ensembl, dfdegs=enr.open_case(case, verbose=False)\n",
    "len(degs)"
   ]
  },
  {
   "cell_type": "code",
   "execution_count": null,
   "id": "cadc2ade-3631-4e39-ab99-e392f30f9ba2",
   "metadata": {},
   "outputs": [],
   "source": [
    "fname, fname_cutoff=enr.set_enrichment_name()\n",
    "fname, fname_cutoff "
   ]
  },
  {
   "cell_type": "code",
   "execution_count": null,
   "id": "dac45d65-06e3-4a0c-aef6-96dc9d361885",
   "metadata": {},
   "outputs": [],
   "source": []
  },
  {
   "cell_type": "code",
   "execution_count": null,
   "id": "2453de44-7e76-4359-bc31-85ad7351e87b",
   "metadata": {},
   "outputs": [],
   "source": [
    "geneset_num_list=[0, 1, 2, 4, 5, 7]\n",
    "verbose=True\n",
    "\n",
    "for geneset_num in geneset_num_list:\n",
    "    enr.set_db(geneset_num, verbose=verbose)"
   ]
  },
  {
   "cell_type": "code",
   "execution_count": null,
   "id": "be042b53-e1bf-4d75-b27f-52e568a9167a",
   "metadata": {},
   "outputs": [],
   "source": []
  },
  {
   "cell_type": "markdown",
   "id": "b01fbfd2-0105-4a82-8896-20f39ab5d2c1",
   "metadata": {},
   "source": [
    "### Reactome, Bioplanet, KEGG"
   ]
  },
  {
   "cell_type": "code",
   "execution_count": null,
   "id": "37400618-3b86-470b-a6ac-06ed5aaa5cf0",
   "metadata": {},
   "outputs": [],
   "source": [
    "enr.dbs_list"
   ]
  },
  {
   "cell_type": "code",
   "execution_count": null,
   "id": "cc276f06-fba3-4567-91b7-098410ada89f",
   "metadata": {},
   "outputs": [],
   "source": [
    "[enr.dbs_list[i] for i in [0, 1, 2, 4, 5, 7]]"
   ]
  },
  {
   "cell_type": "code",
   "execution_count": null,
   "id": "5fe55ef0-f8eb-411b-84d6-0fd3ad4b6d9f",
   "metadata": {},
   "outputs": [],
   "source": [
    "enr.set_which_db('xxx')"
   ]
  },
  {
   "cell_type": "code",
   "execution_count": null,
   "id": "a8064c64-3051-4a27-8521-79b668cb4ab4",
   "metadata": {},
   "outputs": [],
   "source": [
    "enr.set_which_db('Reactome_2022')"
   ]
  },
  {
   "cell_type": "code",
   "execution_count": null,
   "id": "c1ec06eb-7039-4690-a14a-4e910fe3e42f",
   "metadata": {},
   "outputs": [],
   "source": [
    "enr.set_which_db('Reactome')"
   ]
  },
  {
   "cell_type": "code",
   "execution_count": null,
   "id": "d35bb288-c8e6-4d75-9157-bad9547254e7",
   "metadata": {},
   "outputs": [],
   "source": [
    "enr.set_which_db('reactome')"
   ]
  },
  {
   "cell_type": "code",
   "execution_count": null,
   "id": "6856c5c5-2993-4916-bdee-30743f78ab19",
   "metadata": {},
   "outputs": [],
   "source": [
    "enr.set_which_db('KEGG_2021')"
   ]
  },
  {
   "cell_type": "code",
   "execution_count": null,
   "id": "a1d59998-4684-41a2-9ef1-dde3e41cd982",
   "metadata": {},
   "outputs": [],
   "source": [
    "enr.set_which_db('KEGG')"
   ]
  },
  {
   "cell_type": "code",
   "execution_count": null,
   "id": "b0b62a4e-6bd7-4322-8499-3df91de8f410",
   "metadata": {},
   "outputs": [],
   "source": [
    "enr.set_db(geneset_num=0)"
   ]
  },
  {
   "cell_type": "code",
   "execution_count": null,
   "id": "672d1afe-60c7-4168-bcad-0bb1176b823a",
   "metadata": {},
   "outputs": [],
   "source": []
  },
  {
   "cell_type": "markdown",
   "id": "84cf1224-7417-45e6-bd7a-5b4180aca5bf",
   "metadata": {},
   "source": [
    "### Reactome_2022"
   ]
  },
  {
   "cell_type": "code",
   "execution_count": null,
   "id": "c203801f-cfa2-4e03-9527-5cdee90f0038",
   "metadata": {},
   "outputs": [],
   "source": [
    "enr.set_db(0, verbose=True)\n",
    "case=case_list[0]\n",
    "ret, degs, degs_ensembl, dfdegs=enr.open_case(case, verbose=False)\n",
    "# print(\"\\nEcho Parameters:\")\n",
    "enr.echo_parameters()"
   ]
  },
  {
   "cell_type": "code",
   "execution_count": null,
   "id": "a6ac4eb6-255c-4f25-bc7a-25e002da8bc5",
   "metadata": {},
   "outputs": [],
   "source": [
    "if enr.df_enr is None:\n",
    "    enr.df_enr=pd.DataFrame()\n",
    "print(len(enr.df_enr))\n",
    "enr.df_enr"
   ]
  },
  {
   "cell_type": "markdown",
   "id": "92c3e8f5-08f2-4148-a8ad-16f1f4bbc490",
   "metadata": {},
   "source": [
    "### Reactome_2022 case G4"
   ]
  },
  {
   "cell_type": "code",
   "execution_count": null,
   "id": "0b790a13-6ace-47be-a84f-2180305d33dc",
   "metadata": {},
   "outputs": [],
   "source": [
    "enr.set_db(0, verbose=True)\n",
    "case=case_list[1]\n",
    "ret, degs, degs_ensembl, dfdegs=enr.open_case(case, verbose=False)\n",
    "# print(\"\\nEcho Parameters:\")\n",
    "enr.echo_parameters()"
   ]
  },
  {
   "cell_type": "code",
   "execution_count": null,
   "id": "5a30d0f3-25c2-47dc-bb71-3885315d1e8d",
   "metadata": {},
   "outputs": [],
   "source": [
    "if enr.df_enr is None:\n",
    "    enr.df_enr=pd.DataFrame()\n",
    "print(len(enr.df_enr))\n",
    "enr.df_enr"
   ]
  },
  {
   "cell_type": "markdown",
   "id": "578650ed-679f-4955-83ce-46755f323046",
   "metadata": {},
   "source": [
    "### WikiPathway_2021_Human"
   ]
  },
  {
   "cell_type": "code",
   "execution_count": null,
   "id": "23252e4c-b8e1-49a4-ac72-071eff06c2e5",
   "metadata": {},
   "outputs": [],
   "source": [
    "enr.set_db(1, verbose=True)\n",
    "case=case_list[0]\n",
    "ret, degs, degs_ensembl, dfdegs=enr.open_case(case, verbose=False)"
   ]
  },
  {
   "cell_type": "code",
   "execution_count": null,
   "id": "5071e54d-4825-4720-989e-bcab8aa046ae",
   "metadata": {},
   "outputs": [],
   "source": [
    "enr.echo_enriched_pathways()"
   ]
  },
  {
   "cell_type": "code",
   "execution_count": null,
   "id": "f8c7ab7a-c413-4ac0-bb92-9c9479225148",
   "metadata": {},
   "outputs": [],
   "source": [
    "if enr.df_enr is None:\n",
    "    enr.df_enr=pd.DataFrame()\n",
    "\n",
    "print(len(enr.df_enr))\n",
    "enr.df_enr.head(42)"
   ]
  },
  {
   "cell_type": "code",
   "execution_count": null,
   "id": "a8661425-888e-40cb-97cf-46d3261c8a74",
   "metadata": {},
   "outputs": [],
   "source": [
    "enr.df_enr.tail(40)"
   ]
  },
  {
   "cell_type": "markdown",
   "id": "671c8310-a211-4119-9830-22a142e4447b",
   "metadata": {},
   "source": [
    "### KEGG"
   ]
  },
  {
   "cell_type": "code",
   "execution_count": null,
   "id": "db628e5b-ec3e-4395-b37c-b5f31246cea2",
   "metadata": {},
   "outputs": [],
   "source": [
    "enr.set_db(2, verbose=True)\n",
    "case=case_list[0]\n",
    "ret, degs, degs_ensembl, dfdegs=enr.open_case(case, verbose=False)\n",
    "enr.echo_enriched_pathways()"
   ]
  },
  {
   "cell_type": "code",
   "execution_count": null,
   "id": "3547fbdf-4e40-46ce-9d69-8f59f5ef451b",
   "metadata": {},
   "outputs": [],
   "source": [
    "if enr.df_enr is None:\n",
    "    enr.df_enr=pd.DataFrame()\n",
    "\n",
    "print(len(enr.df_enr))\n",
    "enr.df_enr.head(45)"
   ]
  },
  {
   "cell_type": "code",
   "execution_count": null,
   "id": "3eeab9d6-8a20-4b56-a2e2-548b7faeef29",
   "metadata": {},
   "outputs": [],
   "source": [
    "enr.df_enr.tail(40)"
   ]
  },
  {
   "cell_type": "code",
   "execution_count": null,
   "id": "2040a5bd-996b-4a93-a6ce-5a3bcca1e91c",
   "metadata": {},
   "outputs": [],
   "source": []
  },
  {
   "cell_type": "code",
   "execution_count": null,
   "id": "b02892ee-b3dc-493c-a93f-55911e11d941",
   "metadata": {},
   "outputs": [],
   "source": [
    "enr.set_db(2, verbose=True)\n",
    "case=case_list[1]\n",
    "ret, degs, degs_ensembl, dfdegs=enr.open_case(case, verbose=False)\n",
    "enr.echo_enriched_pathways()"
   ]
  },
  {
   "cell_type": "code",
   "execution_count": null,
   "id": "062a1b40-f647-4dfe-8a43-1eb39f90358e",
   "metadata": {},
   "outputs": [],
   "source": [
    "if enr.df_enr is None:\n",
    "    enr.df_enr=pd.DataFrame()\n",
    "\n",
    "enr.df_enr.head(30)"
   ]
  },
  {
   "cell_type": "code",
   "execution_count": null,
   "id": "fc4ac468-81d3-4631-a53c-10e1d171f207",
   "metadata": {},
   "outputs": [],
   "source": [
    "enr.df_enr.tail(30)"
   ]
  },
  {
   "cell_type": "code",
   "execution_count": null,
   "id": "3690e242-36f8-4974-9b45-0df20e4e85a6",
   "metadata": {},
   "outputs": [],
   "source": []
  },
  {
   "cell_type": "markdown",
   "id": "7b821a24-4488-4109-889a-d5ef36420d54",
   "metadata": {},
   "source": [
    "### BioPlanet_2019=4"
   ]
  },
  {
   "cell_type": "code",
   "execution_count": null,
   "id": "b8936036-a851-43a0-b209-cc2b4ec2699b",
   "metadata": {},
   "outputs": [],
   "source": [
    "enr.set_db(4, verbose=True)\n",
    "case=case_list[0]\n",
    "ret, degs, degs_ensembl, dfdegs=enr.open_case(case, verbose=False)\n",
    "enr.echo_enriched_pathways()"
   ]
  },
  {
   "cell_type": "code",
   "execution_count": null,
   "id": "be5e0b69-8b59-4a04-80af-7c8801a493b9",
   "metadata": {},
   "outputs": [],
   "source": [
    "if enr.df_enr is None:\n",
    "    enr.df_enr=pd.DataFrame()\n",
    "\n",
    "print(len(enr.df_enr))\n",
    "enr.df_enr.head(57)"
   ]
  },
  {
   "cell_type": "code",
   "execution_count": null,
   "id": "a709f8f7-4470-4ab2-82b4-8dfc4cef66a6",
   "metadata": {},
   "outputs": [],
   "source": [
    "enr.df_enr.tail(50)"
   ]
  },
  {
   "cell_type": "code",
   "execution_count": null,
   "id": "e0f6e451-058f-4925-ba2e-432601f6272d",
   "metadata": {},
   "outputs": [],
   "source": []
  },
  {
   "cell_type": "code",
   "execution_count": null,
   "id": "cfd0a933-4b38-4518-b9e0-1c5baaf259c9",
   "metadata": {},
   "outputs": [],
   "source": [
    "enr.set_db(4, verbose=True)\n",
    "case=case_list[1]\n",
    "ret, degs, degs_ensembl, dfdegs=enr.open_case(case, verbose=False)\n",
    "enr.echo_enriched_pathways()"
   ]
  },
  {
   "cell_type": "code",
   "execution_count": null,
   "id": "16a4f76d-24aa-49b1-bae2-38df866b7278",
   "metadata": {},
   "outputs": [],
   "source": [
    "if enr.df_enr is None:\n",
    "    enr.df_enr=pd.DataFrame()\n",
    "\n",
    "print(len(enr.df_enr))\n",
    "enr.df_enr.head(50)"
   ]
  },
  {
   "cell_type": "code",
   "execution_count": null,
   "id": "73b17b04-5e07-4bb7-bf9e-911a8ef3390b",
   "metadata": {},
   "outputs": [],
   "source": [
    "enr.df_enr.tail(43)"
   ]
  }
 ],
 "metadata": {
  "kernelspec": {
   "display_name": "Python 3 (ipykernel)",
   "language": "python",
   "name": "python3"
  },
  "language_info": {
   "codemirror_mode": {
    "name": "ipython",
    "version": 3
   },
   "file_extension": ".py",
   "mimetype": "text/x-python",
   "name": "python",
   "nbconvert_exporter": "python",
   "pygments_lexer": "ipython3",
   "version": "3.11.11"
  }
 },
 "nbformat": 4,
 "nbformat_minor": 5
}
