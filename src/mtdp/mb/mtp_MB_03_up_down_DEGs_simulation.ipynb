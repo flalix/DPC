{
 "cells": [
  {
   "cell_type": "code",
   "execution_count": null,
   "metadata": {},
   "outputs": [],
   "source": [
    "from platform import python_version\n",
    "print(python_version())"
   ]
  },
  {
   "cell_type": "markdown",
   "metadata": {},
   "source": [
    "### Calculating DEGs statistics\n",
    "\n",
    "### For each LFC/FDR cutoff set we get diferent set of DEGs\n",
    "  - LFC: LFC cutoff and FDR_LFC cutoff\n",
    "  - Pathway: fdr and pval pathway cutoff and min num of genes\n",
    "\n",
    "### Up and Down\n",
    "  - Up and Down DEGs/DAPs\n",
    "  - Up and Down in pathways\n",
    "\n",
    "### there are 2 statistical tables\n",
    "  - pval/fdr cutoff x degs\n",
    "  - pval/fdr/geneset/quantile degs_in_pathway, num_pathways"
   ]
  },
  {
   "cell_type": "code",
   "execution_count": null,
   "metadata": {},
   "outputs": [],
   "source": [
    "import os, sys, pickle\n",
    "\n",
    "import numpy as np\n",
    "import pandas as pd\n",
    "pd.set_option('display.width', 100)\n",
    "pd.set_option('max_colwidth', 80)\n",
    "pd.set_option(\"display.precision\", 3)\n",
    "\n",
    "import yaml\n",
    "\n",
    "import seaborn as sns\n",
    "sns.set_context(\"notebook\", font_scale=1.4)\n",
    "\n",
    "import matplotlib.pyplot as plt\n",
    "import matplotlib.gridspec as gridspec\n",
    "%matplotlib inline\n",
    "\n",
    "sys.path.insert(1, '../src/')\n",
    "\n",
    "from Basic import *\n",
    "from biopax_lib import *\n",
    "\n",
    "import warnings\n",
    "warnings.filterwarnings(\"ignore\")\n",
    "\n",
    "from IPython.display import display, HTML\n",
    "display(HTML(\"<style>:root { --jp-notebook-max-width: 100% !important; }</style>\"))\n",
    "\n",
    "# !pip3 install pyyaml\n",
    "with open('params.yml', 'r') as file:\n",
    "    dic_yml = yaml.safe_load(file)"
   ]
  },
  {
   "cell_type": "code",
   "execution_count": null,
   "metadata": {},
   "outputs": [],
   "source": [
    "root0 = dic_yml['root0']\n",
    "email = dic_yml['email']\n",
    "\n",
    "project = dic_yml['project']\n",
    "s_project = dic_yml['s_project']\n",
    "\n",
    "gene_protein = dic_yml['gene_protein']\n",
    "s_omics = dic_yml['s_omics']\n",
    "\n",
    "has_age = dic_yml['has_age']\n",
    "has_gender = dic_yml['has_gender']\n",
    "\n",
    "want_normalized = dic_yml['want_normalized']\n",
    "\n",
    "abs_lfc_cutoff_inf = dic_yml['abs_lfc_cutoff_inf']\n",
    "s_pathw_enrichm_method = dic_yml['s_pathw_enrichm_method']\n",
    "num_min_degs_for_ptw_enr = dic_yml['num_min_degs_for_ptw_enr']\n",
    "\n",
    "tolerance_pathway_index = dic_yml['tolerance_pathway_index']\n",
    "type_sat_ptw_index = dic_yml['type_sat_ptw_index']\n",
    "saturation_lfc_index = dic_yml['saturation_lfc_index']\n",
    "chosen_model_sampling = dic_yml['chosen_model_sampling']\n",
    "\n",
    "case_list = dic_yml['case_list']\n",
    "\n",
    "pval_pathway_cutoff = dic_yml['pval_pathway_cutoff']\n",
    "fdr_pathway_cutoff = dic_yml['fdr_pathway_cutoff']\n",
    "num_of_genes_cutoff = dic_yml['num_of_genes_cutoff']\n",
    "\n",
    "run_list = dic_yml['run_list']\n",
    "chosen_model_list = dic_yml['chosen_model_list']\n",
    "i_dfp_list = dic_yml['i_dfp_list']\n",
    "\n",
    "exp_normalization='quantile_norm' if want_normalized else None\n",
    "normalization='not_normalized' if exp_normalization is None else exp_normalization\n",
    "\n",
    "cfg = Config(project, s_project, case_list, root0)\n",
    "\n",
    "case = case_list[0]\n",
    "\n",
    "n_genes_annot_ptw, n_degs, n_degs_in_ptw, n_degs_not_in_ptw, degs_in_all_ratio = -1,-1,-1,-1,-1\n",
    "abs_lfc_cutoff, fdr_lfc_cutoff, n_degs, n_degs_up, n_degs_dw = cfg.get_best_lfc_cutoff(case, 'not_normalized')\n",
    "\n",
    "\n",
    "print(f\"G/P LFC cutoffs: lfc={abs_lfc_cutoff:.3f}; fdr={fdr_lfc_cutoff:.3f}\")\n",
    "print(f\"Pathway cutoffs: pval={pval_pathway_cutoff:.3f}; fdr={fdr_pathway_cutoff:.3f}; num of genes={num_of_genes_cutoff}\")"
   ]
  },
  {
   "cell_type": "code",
   "execution_count": null,
   "metadata": {},
   "outputs": [],
   "source": [
    "bpx = Biopax(gene_protein, s_omics, project, s_project, root0,\n",
    "             case_list, has_age, has_gender, clone_objects=False,\n",
    "             exp_normalization=exp_normalization, geneset_num=0, \n",
    "             num_min_degs_for_ptw_enr=num_min_degs_for_ptw_enr, \n",
    "             tolerance_pathway_index=tolerance_pathway_index, \n",
    "             s_pathw_enrichm_method = s_pathw_enrichm_method,\n",
    "             abs_lfc_cutoff_inf = abs_lfc_cutoff_inf, \n",
    "             type_sat_ptw_index=type_sat_ptw_index, saturation_lfc_index=saturation_lfc_index)\n",
    "\n",
    "case = case_list[0]\n",
    "\n",
    "bpx.cfg.set_default_best_lfc_cutoff(normalization, abs_lfc_cutoff=1, fdr_lfc_cutoff=0.05)\n",
    "ret, degs, degs_ensembl, dfdegs = bpx.open_case(case, prompt_verbose=True, verbose=False)\n",
    "print(\"\\nEcho Parameters:\")\n",
    "bpx.echo_parameters()\n",
    "geneset_num = bpx.geneset_num"
   ]
  },
  {
   "cell_type": "code",
   "execution_count": null,
   "metadata": {},
   "outputs": [],
   "source": [
    "case = case_list[1]\n",
    "ret, degs, degs_ensembl, dfdegs = bpx.open_case(case, prompt_verbose=True, verbose=False)\n",
    "print(\"\\nEcho Parameters:\")\n",
    "bpx.echo_parameters()"
   ]
  },
  {
   "cell_type": "code",
   "execution_count": null,
   "metadata": {},
   "outputs": [],
   "source": [
    "bpx.fname_lfc_table0, bpx.fname_final_lfc_table0, bpx.fname_enrich_table0"
   ]
  },
  {
   "cell_type": "code",
   "execution_count": null,
   "metadata": {},
   "outputs": [],
   "source": [
    "fname, fname_cutoff = bpx.set_enrichment_name()\n",
    "fname, os.path.exists(os.path.join(bpx.root_enrich, fname)), fname_cutoff, os.path.exists(os.path.join(bpx.root_enrich, fname_cutoff))"
   ]
  },
  {
   "cell_type": "code",
   "execution_count": null,
   "metadata": {},
   "outputs": [],
   "source": [
    "bpx.case, bpx.group, bpx.gender, bpx.age, bpx.s_omics"
   ]
  },
  {
   "cell_type": "code",
   "execution_count": null,
   "metadata": {},
   "outputs": [],
   "source": [
    "bpx.geneset_num, bpx.geneset_lib"
   ]
  },
  {
   "cell_type": "code",
   "execution_count": null,
   "metadata": {},
   "outputs": [],
   "source": [
    "# bpx.gene.df_my_gene.head(2)"
   ]
  },
  {
   "cell_type": "markdown",
   "metadata": {},
   "source": [
    "### Removing or Renaming config files only the defautl cutoffs are defined"
   ]
  },
  {
   "cell_type": "code",
   "execution_count": null,
   "metadata": {},
   "outputs": [],
   "source": [
    "for case in case_list:\n",
    "    print(\">>>\", case)\n",
    "    ret, degs, fname_final_ori, dfdegs = bpx.open_case(case, verbose=False)\n",
    "\n",
    "    if not ret: continue\n",
    "    \n",
    "    fname_final_ori, fname_ori, title = bpx.set_lfc_names()\n",
    "    print(f\"fname '{fname_final_ori}' and title '{title}'\")\n",
    "    print(f\"LFC cutoff: lfc={bpx.abs_lfc_cutoff:.3f} fdr={bpx.fdr_lfc_cutoff}\")\n",
    "    \n",
    "    print(f\"{bpx.s_deg_dap}s = {len(degs)}\\n\")"
   ]
  },
  {
   "cell_type": "code",
   "execution_count": null,
   "metadata": {},
   "outputs": [],
   "source": []
  },
  {
   "cell_type": "code",
   "execution_count": null,
   "metadata": {},
   "outputs": [],
   "source": [
    "print(case)\n",
    "bpx.split_case(case)\n",
    "bpx.case, bpx.gender, bpx.age"
   ]
  },
  {
   "cell_type": "code",
   "execution_count": null,
   "metadata": {},
   "outputs": [],
   "source": [
    "fname_final_ori, fname_ori, title = bpx.set_lfc_names()\n",
    "fname_final_ori, fname_ori, title"
   ]
  },
  {
   "cell_type": "code",
   "execution_count": null,
   "metadata": {},
   "outputs": [],
   "source": [
    "fname, fname_cutoff = bpx.set_enrichment_name()\n",
    "fname, os.path.exists(os.path.join(bpx.root_enrich, fname)), fname_cutoff, os.path.exists(os.path.join(bpx.root_enrich, fname_cutoff))"
   ]
  },
  {
   "cell_type": "code",
   "execution_count": null,
   "metadata": {},
   "outputs": [],
   "source": []
  },
  {
   "cell_type": "code",
   "execution_count": null,
   "metadata": {},
   "outputs": [],
   "source": [
    "try:\n",
    "    dflfc_ori = bpx.dflfc_ori\n",
    "    print(len(dflfc_ori))\n",
    "except:\n",
    "    dflfc_ori = pd.DataFrame()\n",
    "    \n",
    "dflfc_ori.head(3)"
   ]
  },
  {
   "cell_type": "code",
   "execution_count": null,
   "metadata": {},
   "outputs": [],
   "source": [
    "lista = ['lncRNA', 'LNC']\n",
    "dflfc_lnc = dflfc_ori[dflfc_ori.biotype.isin(lista)]\n",
    "print(len(dflfc_lnc))\n",
    "dflfc_lnc.tail(3)"
   ]
  },
  {
   "cell_type": "code",
   "execution_count": null,
   "metadata": {},
   "outputs": [],
   "source": [
    "dflfc_ori = bpx.dflfc_ori\n",
    "print(len(dflfc_ori))\n",
    "\n",
    "try:\n",
    "    dflfc_ori_symb = dflfc_ori[~pd.isnull(dflfc_ori)]\n",
    "except:\n",
    "    dflfc_ori_symb = pd.DataFrame()\n",
    "    \n",
    "print(len(dflfc_ori_symb))\n",
    "dflfc_ori_symb.head(3)"
   ]
  },
  {
   "cell_type": "markdown",
   "metadata": {},
   "source": [
    "### Microarray with 28,232 unique symbols"
   ]
  },
  {
   "cell_type": "code",
   "execution_count": null,
   "metadata": {},
   "outputs": [],
   "source": [
    "try:\n",
    "    symbols = np.unique(dflfc_ori.symbol)\n",
    "except:\n",
    "    symbols = []\n",
    "    \n",
    "len(symbols)"
   ]
  },
  {
   "cell_type": "code",
   "execution_count": null,
   "metadata": {},
   "outputs": [],
   "source": [
    "try:\n",
    "    dflfc = bpx.dflfc\n",
    "    print(len(dflfc))\n",
    "except:\n",
    "    dflfc = pd.DataFrame()\n",
    "    \n",
    "dflfc.head(3)"
   ]
  },
  {
   "cell_type": "code",
   "execution_count": null,
   "metadata": {},
   "outputs": [],
   "source": [
    "dfbest = bpx.cfg.open_best_ptw_cutoff()\n",
    "dfbest"
   ]
  },
  {
   "cell_type": "code",
   "execution_count": null,
   "metadata": {},
   "outputs": [],
   "source": [
    "want_see_best_cutoff = False\n",
    "\n",
    "if want_see_best_cutoff:\n",
    "    dfbest = bpx.cfg.dfbest_cutoffs\n",
    "else:\n",
    "    dfbest = pd.DataFrame()\n",
    "dfbest    "
   ]
  },
  {
   "cell_type": "code",
   "execution_count": null,
   "metadata": {},
   "outputs": [],
   "source": [
    "if want_see_best_cutoff:\n",
    "    dfbest = bpx.cfg.dfbest_cutoffs\n",
    "    dfa = dfbest[(dfbest.case == case) & (dfbest.normalization == normalization) & (dfbest.geneset_num == geneset_num) ]\n",
    "else:\n",
    "    dfa = pd.DataFrame()\n",
    "\n",
    "dfa"
   ]
  },
  {
   "cell_type": "code",
   "execution_count": null,
   "metadata": {},
   "outputs": [],
   "source": [
    "try:\n",
    "    dflfc = bpx.dflfc_ori[(bpx.dflfc_ori.fdr < bpx.fdr_lfc_cutoff)]\n",
    "    print(len(dflfc))\n",
    "except:\n",
    "    dflfc = pd.DataFrame()\n",
    "\n",
    "dflfc.head(3)"
   ]
  },
  {
   "cell_type": "code",
   "execution_count": null,
   "metadata": {},
   "outputs": [],
   "source": [
    "for case in case_list:\n",
    "    print(\">>>\", case)\n",
    "    ret, degs, degs_ensembl, dfdegs = bpx.open_case(case, verbose=False)\n",
    "\n",
    "    if not ret: continue\n",
    "    \n",
    "    fname_final_ori, fname_ori, title = bpx.set_lfc_names()\n",
    "    print(f\"fname '{fname_final_ori}' and title '{title}'\")\n",
    "    print(f\"LFC cutoff: lfc={bpx.abs_lfc_cutoff:.3f} fdr={bpx.fdr_lfc_cutoff}\")\n",
    "    \n",
    "    print(f\"{bpx.s_deg_dap}s = {len(degs)}\\n\")"
   ]
  },
  {
   "cell_type": "code",
   "execution_count": null,
   "metadata": {},
   "outputs": [],
   "source": []
  },
  {
   "cell_type": "markdown",
   "metadata": {},
   "source": [
    "### Minimum LFC cutoff"
   ]
  },
  {
   "cell_type": "markdown",
   "metadata": {},
   "source": [
    "### DEGs simulation: no DEG/DAPs per cases\n",
    "### Saving simulation file dfsim in config:\n",
    "  - all_lfc_cutoffs_taubate_covid19.tsv\n",
    "\n",
    "#### Sampling\n",
    "\n",
    "### Cutoff sets to generate the statistical data\n",
    "  - inf lfc cutoff: 0.40 --> 0.48 ~ 40% modulation  --> 0.65\n",
    "  - sup fdr cutoff: 0.75 --> no more than"
   ]
  },
  {
   "cell_type": "code",
   "execution_count": null,
   "metadata": {},
   "outputs": [],
   "source": [
    "lfc_list = np.round(np.arange(1.0, -0.01, -.025), 3)\n",
    "bpx.lfc_list = lfc_list\n",
    "lfc_list[-1] = 0.0\n",
    "lfc_list"
   ]
  },
  {
   "cell_type": "code",
   "execution_count": null,
   "metadata": {},
   "outputs": [],
   "source": [
    "fdr_list = np.arange(0.05, 0.76, .01)\n",
    "bpx.fdr_list = fdr_list\n",
    "fdr_list"
   ]
  },
  {
   "cell_type": "code",
   "execution_count": null,
   "metadata": {},
   "outputs": [],
   "source": [
    "cutoff_list = np.round([(x, y) for x in lfc_list for y in fdr_list],3)\n",
    "print(len(cutoff_list))\n",
    "cutoff_list[:5], cutoff_list[-5:]"
   ]
  },
  {
   "cell_type": "markdown",
   "metadata": {},
   "source": [
    "### Saving simulationns\n",
    "\n",
    "config/all_lfc_cutoffs_medulloblastoma.tsv"
   ]
  },
  {
   "cell_type": "code",
   "execution_count": null,
   "metadata": {},
   "outputs": [],
   "source": [
    "force=False\n",
    "save_file=False\n",
    "\n",
    "# save_file\n",
    "# in list_of_degs_set_params ... save excel files\n",
    "\n",
    "dfsim = bpx.calc_degs_cutoff_simulation(cutoff_list=cutoff_list, force=force, save_file=force, n_echo=-1, verbose=False)\n",
    "dfsim = dfsim.sort_values(['case', 'fdr_lfc_cutoff', 'abs_lfc_cutoff'], ascending=[False, True, False])\n",
    "print(dfsim.columns)\n",
    "print(len(dfsim))"
   ]
  },
  {
   "cell_type": "code",
   "execution_count": null,
   "metadata": {},
   "outputs": [],
   "source": [
    "dfsim.head(3)"
   ]
  },
  {
   "cell_type": "code",
   "execution_count": null,
   "metadata": {},
   "outputs": [],
   "source": [
    "dfsim.tail(3)"
   ]
  },
  {
   "cell_type": "markdown",
   "metadata": {},
   "source": [
    "### Does the simulation worked?"
   ]
  },
  {
   "cell_type": "code",
   "execution_count": null,
   "metadata": {},
   "outputs": [],
   "source": [
    "dfsim = bpx.open_simulation_table()\n",
    "print(len(dfsim))\n",
    "\n",
    "dfsim2 = dfsim[dfsim.case == case]\n",
    "dfsim2.head(3)"
   ]
  },
  {
   "cell_type": "code",
   "execution_count": null,
   "metadata": {},
   "outputs": [],
   "source": [
    "bpx.lfc_list"
   ]
  },
  {
   "cell_type": "code",
   "execution_count": null,
   "metadata": {
    "scrolled": true
   },
   "outputs": [],
   "source": [
    "bpx.fdr_list"
   ]
  },
  {
   "cell_type": "code",
   "execution_count": null,
   "metadata": {},
   "outputs": [],
   "source": [
    "abs_lfc_cutoff = -0.0\n",
    "fdr_lfc_cutoff = 0.05\n",
    "\n",
    "# (dfsim.case == case) &\n",
    "dfsim[ (dfsim.abs_lfc_cutoff == abs_lfc_cutoff) & (dfsim.fdr_lfc_cutoff == fdr_lfc_cutoff)]"
   ]
  },
  {
   "cell_type": "code",
   "execution_count": null,
   "metadata": {},
   "outputs": [],
   "source": [
    "abs_lfc_cutoff = 0.95\n",
    "fdr_lfc_cutoff = 0.05\n",
    "\n",
    "# (dfsim.case == case) &\n",
    "dfsim[ (dfsim.abs_lfc_cutoff == abs_lfc_cutoff) & (dfsim.fdr_lfc_cutoff == fdr_lfc_cutoff)]"
   ]
  },
  {
   "cell_type": "markdown",
   "metadata": {},
   "source": [
    "### Simulations"
   ]
  },
  {
   "cell_type": "code",
   "execution_count": null,
   "metadata": {},
   "outputs": [],
   "source": [
    "for case in case_list:\n",
    "    dfsim2 = dfsim[ dfsim.case == case ]\n",
    "    print(f\"{case} \\thas {len(dfsim2)} LFC cutoff simulations\")"
   ]
  },
  {
   "cell_type": "code",
   "execution_count": null,
   "metadata": {},
   "outputs": [],
   "source": []
  },
  {
   "cell_type": "markdown",
   "metadata": {},
   "source": [
    "## Calc all Spearman Correlations - filter the 5 best not repeated fdrs\n",
    "#### Plot abs_LFC x num of DEG/DAPs\n",
    "#### corr_cutoff = -.90\n",
    "#### calc corelation with bpx.abs_lfc_cutoff_inf = 0.4"
   ]
  },
  {
   "cell_type": "code",
   "execution_count": null,
   "metadata": {},
   "outputs": [],
   "source": []
  },
  {
   "cell_type": "code",
   "execution_count": null,
   "metadata": {},
   "outputs": [],
   "source": [
    "df2 = dfsim[dfsim.case == 'WNT']\n",
    "len(df2)"
   ]
  },
  {
   "cell_type": "code",
   "execution_count": null,
   "metadata": {},
   "outputs": [],
   "source": [
    "bpx.abs_lfc_cutoff_inf = 0.2; fdr = 0.05\n",
    "bpx.abs_lfc_cutoff_inf, fdr"
   ]
  },
  {
   "cell_type": "code",
   "execution_count": null,
   "metadata": {},
   "outputs": [],
   "source": [
    "df2 = df2.sort_values(['fdr_lfc_cutoff', 'abs_lfc_cutoff'], ascending=[True, False])\n",
    "\n",
    "dfsim2 = df2[ (df2.fdr_lfc_cutoff == fdr) & (df2.abs_lfc_cutoff >= bpx.abs_lfc_cutoff_inf) ]\n",
    "\n",
    "cols2=['n_degs', 'fdr_lfc_cutoff', 'abs_lfc_cutoff']\n",
    "\n",
    "dfsim2[cols2]"
   ]
  },
  {
   "cell_type": "code",
   "execution_count": null,
   "metadata": {},
   "outputs": [],
   "source": [
    "fdr_list"
   ]
  },
  {
   "cell_type": "markdown",
   "metadata": {},
   "source": [
    "### Plot all dfsim"
   ]
  },
  {
   "cell_type": "code",
   "execution_count": null,
   "metadata": {},
   "outputs": [],
   "source": [
    "# !pip3 install -U kaleido"
   ]
  },
  {
   "cell_type": "code",
   "execution_count": null,
   "metadata": {},
   "outputs": [],
   "source": [
    "verbose=False\n",
    "\n",
    "for case in case_list:\n",
    "    print(\">>>\", case)\n",
    "    dic_fig = bpx.plot_all_dfsim(dfsim, case=case, fdr_list=fdr_list, width=1100, height=700, title=None, verbose=verbose)\n",
    "        \n",
    "    for key, fig in dic_fig.items():\n",
    "        print(\"\\t\", key)\n",
    "        fig.show()\n",
    "        break # remove to see Up and Dw\n",
    "\n",
    "    print(\"\\n\")\n",
    "    "
   ]
  },
  {
   "cell_type": "code",
   "execution_count": null,
   "metadata": {},
   "outputs": [],
   "source": [
    "# dfsim.columnscutoff_list"
   ]
  },
  {
   "cell_type": "markdown",
   "metadata": {},
   "source": [
    "### Restricting the best fdr by Spearman's Correlation"
   ]
  },
  {
   "cell_type": "markdown",
   "metadata": {},
   "source": [
    "### Must calc for each abs_lfc_cutoff_inf"
   ]
  },
  {
   "cell_type": "code",
   "execution_count": null,
   "metadata": {},
   "outputs": [],
   "source": [
    "corr_cutoff=-0.90\n",
    "nregs_fdr = 10\n",
    "bpx.abs_lfc_cutoff_inf = 0\n",
    "\n",
    "verbose=False\n",
    "force=False\n",
    "\n",
    "'''\n",
    "    calc_all_LFC_FDR_cutoffs:\n",
    "        for case_list\n",
    "            call calc_nDEG_curve_per_LFC_FDR()\n",
    "'''\n",
    "df_all_fdr = bpx.calc_all_LFC_FDR_cutoffs(cols2=['n_degs', 'abs_lfc_cutoff'], corr_cutoff=corr_cutoff, nregs_fdr=nregs_fdr,\n",
    "                                          force=force, verbose=verbose)\n",
    "print(len(df_all_fdr))"
   ]
  },
  {
   "cell_type": "markdown",
   "metadata": {},
   "source": [
    "### Medulloblastoma abs_lfc_cutoff_inf = 0.65"
   ]
  },
  {
   "cell_type": "code",
   "execution_count": null,
   "metadata": {},
   "outputs": [],
   "source": []
  },
  {
   "cell_type": "code",
   "execution_count": null,
   "metadata": {},
   "outputs": [],
   "source": [
    "dfsim = bpx.dfsim[bpx.dfsim.case == case]\n",
    "dfsim = dfsim.sort_values(['fdr_lfc_cutoff', 'abs_lfc_cutoff'], ascending=[True, False])\n",
    "\n",
    "dfsim.fdr_lfc_cutoff.unique(), dfsim.abs_lfc_cutoff.unique()"
   ]
  },
  {
   "cell_type": "code",
   "execution_count": null,
   "metadata": {},
   "outputs": [],
   "source": []
  },
  {
   "cell_type": "markdown",
   "metadata": {},
   "source": [
    "### For FDR == 0.05 (default cutoff) - there is no correlation, is a horizontal flat line for 0.05"
   ]
  },
  {
   "cell_type": "code",
   "execution_count": null,
   "metadata": {},
   "outputs": [],
   "source": [
    "fdr = 0.05\n",
    "dfsim2 = dfsim[ (dfsim.fdr_lfc_cutoff == fdr) & (dfsim.abs_lfc_cutoff >= bpx.abs_lfc_cutoff_inf) ]\n",
    "len(dfsim2)"
   ]
  },
  {
   "cell_type": "code",
   "execution_count": null,
   "metadata": {},
   "outputs": [],
   "source": [
    "dfsim2[cols2].head(5)"
   ]
  },
  {
   "cell_type": "code",
   "execution_count": null,
   "metadata": {},
   "outputs": [],
   "source": [
    "dfsim2[cols2].tail(5)"
   ]
  },
  {
   "cell_type": "code",
   "execution_count": null,
   "metadata": {},
   "outputs": [],
   "source": [
    "method='spearman'\n",
    "corr = dfsim2[cols2].corr(method=method).iloc[0,1]\n",
    "corr"
   ]
  },
  {
   "cell_type": "code",
   "execution_count": null,
   "metadata": {},
   "outputs": [],
   "source": [
    "pd.isnull(corr)"
   ]
  },
  {
   "cell_type": "markdown",
   "metadata": {},
   "source": [
    "### bpx.abs_lfc_cutoff_inf = 0.80"
   ]
  },
  {
   "cell_type": "code",
   "execution_count": null,
   "metadata": {},
   "outputs": [],
   "source": [
    "nregs_fdr = 10\n",
    "bpx.abs_lfc_cutoff_inf = 0.80\n",
    "\n",
    "verbose=True\n",
    "force=False\n",
    "\n",
    "'''\n",
    "    calc_all_LFC_FDR_cutoffs:\n",
    "        for case_list\n",
    "            call calc_nDEG_curve_per_LFC_FDR()\n",
    "'''\n",
    "df_all_fdr = bpx.calc_all_LFC_FDR_cutoffs(cols2=['n_degs', 'abs_lfc_cutoff'], corr_cutoff=corr_cutoff, nregs_fdr=nregs_fdr,\n",
    "                                          force=force, verbose=verbose)\n",
    "print(len(df_all_fdr))"
   ]
  },
  {
   "cell_type": "markdown",
   "metadata": {},
   "source": [
    "### WNT - Spearman starts 1714 DEGs !!!"
   ]
  },
  {
   "cell_type": "code",
   "execution_count": null,
   "metadata": {},
   "outputs": [],
   "source": [
    "case = case_list[0]\n",
    "\n",
    "df2 = df_all_fdr[ (df_all_fdr.case == case) & ( pd.notnull(df_all_fdr['corr'])  ) ]\n",
    "print(len(df2))\n",
    "df2.head(6)"
   ]
  },
  {
   "cell_type": "markdown",
   "metadata": {},
   "source": [
    "### G4 Spearman starts 1555 DEGs"
   ]
  },
  {
   "cell_type": "code",
   "execution_count": null,
   "metadata": {},
   "outputs": [],
   "source": [
    "case = case_list[1]\n",
    "\n",
    "df2 = df_all_fdr[ (df_all_fdr.case == case) & ( pd.notnull(df_all_fdr['corr'])  ) ]\n",
    "print(len(df2))\n",
    "df2.head(6)"
   ]
  },
  {
   "cell_type": "code",
   "execution_count": null,
   "metadata": {},
   "outputs": [],
   "source": [
    "df2.tail(5)"
   ]
  },
  {
   "cell_type": "markdown",
   "metadata": {},
   "source": [
    "### Plot abs_LFC x num of DEGs/DAPs\n",
    "  - set abs_lfc_cutoff_inf"
   ]
  },
  {
   "cell_type": "code",
   "execution_count": null,
   "metadata": {},
   "outputs": [],
   "source": [
    "corr_cutoff, nregs_fdr"
   ]
  },
  {
   "cell_type": "code",
   "execution_count": null,
   "metadata": {},
   "outputs": [],
   "source": [
    "case = case_list[0]\n",
    "\n",
    "cols2=['n_degs', 'abs_lfc_cutoff']\n",
    "method='spearman'\n",
    "verbose = True\n",
    "\n",
    "ret, dic_return = bpx.calc_nDEG_curve_per_LFC_FDR(case=case, cols2=cols2, \n",
    "                                                  corr_cutoff=corr_cutoff, nregs_fdr=nregs_fdr,\n",
    "                                                  method=method, force=False, verbose=verbose)"
   ]
  },
  {
   "cell_type": "code",
   "execution_count": null,
   "metadata": {},
   "outputs": [],
   "source": [
    "list(dic_return.keys())"
   ]
  },
  {
   "cell_type": "code",
   "execution_count": null,
   "metadata": {},
   "outputs": [],
   "source": [
    "len(dic_return['df_fdr'])"
   ]
  },
  {
   "cell_type": "code",
   "execution_count": null,
   "metadata": {},
   "outputs": [],
   "source": [
    "len(dic_return['name_list']), dic_return['name_list']"
   ]
  },
  {
   "cell_type": "code",
   "execution_count": null,
   "metadata": {},
   "outputs": [],
   "source": [
    "len(dic_return['fdrs']), np.array(dic_return['fdrs'])"
   ]
  },
  {
   "cell_type": "code",
   "execution_count": null,
   "metadata": {},
   "outputs": [],
   "source": [
    "bpx.abs_lfc_cutoff_inf"
   ]
  },
  {
   "cell_type": "code",
   "execution_count": null,
   "metadata": {},
   "outputs": [],
   "source": [
    "df_fdr = dic_return['df_fdr']\n",
    "df_fdr.head(3)"
   ]
  },
  {
   "cell_type": "code",
   "execution_count": null,
   "metadata": {},
   "outputs": [],
   "source": []
  },
  {
   "cell_type": "code",
   "execution_count": null,
   "metadata": {},
   "outputs": [],
   "source": [
    "corr_cutoff"
   ]
  },
  {
   "cell_type": "code",
   "execution_count": null,
   "metadata": {},
   "outputs": [],
   "source": [
    "verbose = False\n",
    "\n",
    "case = case_list[0]\n",
    "bpx.open_case(case)\n",
    "\n",
    "ret, dic_fig, df_fdr = bpx.plot_nDEG_curve_per_LFC_FDR(case, width=1100, height=700, title=None, \n",
    "                                                       corr_cutoff=corr_cutoff, nregs_fdr=nregs_fdr, verbose=verbose)\n",
    "\n",
    "for key, fig in dic_fig.items():\n",
    "    print(key)\n",
    "    fig.show()"
   ]
  },
  {
   "cell_type": "code",
   "execution_count": null,
   "metadata": {},
   "outputs": [],
   "source": [
    "verbose = False\n",
    "\n",
    "case = case_list[1]\n",
    "bpx.open_case(case)\n",
    "\n",
    "ret, dic_fig, df_fdr = bpx.plot_nDEG_curve_per_LFC_FDR(case, width=1100, height=700, title=None, \n",
    "                                                       corr_cutoff=corr_cutoff, nregs_fdr=nregs_fdr, verbose=verbose)\n",
    "\n",
    "for key, fig in dic_fig.items():\n",
    "    print(key)\n",
    "    fig.show()"
   ]
  },
  {
   "cell_type": "code",
   "execution_count": null,
   "metadata": {},
   "outputs": [],
   "source": []
  },
  {
   "cell_type": "markdown",
   "metadata": {},
   "source": [
    "### Testing calc_nDEG_curve_per_LFC_FDR()"
   ]
  },
  {
   "cell_type": "code",
   "execution_count": null,
   "metadata": {},
   "outputs": [],
   "source": [
    "corr_cutoff, nregs_fdr, method"
   ]
  },
  {
   "cell_type": "code",
   "execution_count": null,
   "metadata": {},
   "outputs": [],
   "source": [
    "cols2 = ['n_degs', 'abs_lfc_cutoff']\n",
    "verbose = True\n",
    "\n",
    "case = case_list[0]\n",
    "\n",
    "ret, dic_return = bpx.calc_nDEG_curve_per_LFC_FDR(case=case, cols2=cols2,\n",
    "                                                  corr_cutoff=corr_cutoff, nregs_fdr=nregs_fdr,\n",
    "                                                  method=method, verbose=verbose)"
   ]
  },
  {
   "cell_type": "code",
   "execution_count": null,
   "metadata": {},
   "outputs": [],
   "source": [
    "dic_return.keys(), len(dic_return['df_fdr'])"
   ]
  },
  {
   "cell_type": "code",
   "execution_count": null,
   "metadata": {},
   "outputs": [],
   "source": [
    "dic_return['df_fdr'].head(3)"
   ]
  },
  {
   "cell_type": "markdown",
   "metadata": {},
   "source": [
    "## abs_lfc_cutoff_inf = 0.80"
   ]
  },
  {
   "cell_type": "code",
   "execution_count": null,
   "metadata": {},
   "outputs": [],
   "source": [
    "bpx.abs_lfc_cutoff_inf"
   ]
  },
  {
   "cell_type": "markdown",
   "metadata": {},
   "source": [
    "### Ploting only Spearman's limiar curves"
   ]
  },
  {
   "cell_type": "code",
   "execution_count": null,
   "metadata": {},
   "outputs": [],
   "source": [
    "verbose=False\n",
    "\n",
    "dic_fig = bpx.plot_all_LFC_FDR_cutoffs(width=1100, height=700, title=None, \n",
    "                                       corr_cutoff=corr_cutoff, nregs_fdr=nregs_fdr, verbose=verbose)\n",
    "\n",
    "for case in case_list:\n",
    "    print(\">>>\", case)\n",
    "    try:\n",
    "        dic2 = dic_fig[case]\n",
    "    except:\n",
    "        continue\n",
    "        \n",
    "    for key, fig in dic2.items():\n",
    "        print(\"\\t\", key)\n",
    "        fig.show()\n",
    "        break\n",
    "    print(\"\")"
   ]
  },
  {
   "cell_type": "code",
   "execution_count": null,
   "metadata": {},
   "outputs": [],
   "source": []
  },
  {
   "cell_type": "code",
   "execution_count": null,
   "metadata": {},
   "outputs": [],
   "source": [
    "abs_lfc_cutoff_inf = .80"
   ]
  },
  {
   "cell_type": "code",
   "execution_count": null,
   "metadata": {},
   "outputs": [],
   "source": [
    "case = case_list[0]\n",
    "\n",
    "df_all_fdr = bpx.open_fdr_lfc_correlation(case, abs_lfc_cutoff_inf)\n",
    "df2 = df_all_fdr[ pd.notnull(df_all_fdr['corr']) ]\n",
    "print(len(df2))\n",
    "df2.head(6)"
   ]
  },
  {
   "cell_type": "code",
   "execution_count": null,
   "metadata": {},
   "outputs": [],
   "source": [
    "case = case_list[1]\n",
    "\n",
    "df_all_fdr = bpx.open_fdr_lfc_correlation(case, abs_lfc_cutoff_inf)\n",
    "df2 = df_all_fdr[ pd.notnull(df_all_fdr['corr']) ]\n",
    "print(len(df2))\n",
    "df2.head(6)"
   ]
  },
  {
   "cell_type": "markdown",
   "metadata": {},
   "source": [
    "### Summary DEG/DAPs + Up and Down (pre-best cutoff)"
   ]
  },
  {
   "cell_type": "code",
   "execution_count": null,
   "metadata": {},
   "outputs": [],
   "source": [
    "verbose=False\n",
    "per_biotype= False\n",
    "ensembl = False\n",
    "\n",
    "dfa = bpx.summary_degs_up_down(per_biotype=per_biotype, ensembl=ensembl, verbose=verbose)\n",
    "print(len(dfa))\n",
    "dfa.T"
   ]
  },
  {
   "cell_type": "code",
   "execution_count": null,
   "metadata": {},
   "outputs": [],
   "source": []
  },
  {
   "cell_type": "code",
   "execution_count": null,
   "metadata": {},
   "outputs": [],
   "source": [
    "verbose=False\n",
    "per_biotype= True\n",
    "ensembl = False\n",
    "\n",
    "dfa = bpx.summary_degs_up_down(per_biotype=per_biotype, ensembl=ensembl, verbose=verbose)\n",
    "print(len(dfa))\n",
    "dfa"
   ]
  },
  {
   "cell_type": "code",
   "execution_count": null,
   "metadata": {},
   "outputs": [],
   "source": [
    "per_biotype = True\n",
    "ensembl = True\n",
    "before_best_cutoff = True\n",
    "fig, dfa = bpx.barplot_up_down_genes_per_case(per_biotype=per_biotype, ensembl=ensembl, before_best_cutoff=before_best_cutoff, width=1100, height=700, verbose=False)\n",
    "fig.show()"
   ]
  },
  {
   "cell_type": "code",
   "execution_count": null,
   "metadata": {},
   "outputs": [],
   "source": []
  },
  {
   "cell_type": "code",
   "execution_count": null,
   "metadata": {},
   "outputs": [],
   "source": [
    "width = 1700\n",
    "\n",
    "fig = bpx.plot_all_degs_up_down_per_cutoffs(width=width, height=600, title=None, y_anchor=1.05, verbose=True)\n",
    "fig.show()"
   ]
  },
  {
   "cell_type": "code",
   "execution_count": null,
   "metadata": {},
   "outputs": [],
   "source": []
  },
  {
   "cell_type": "code",
   "execution_count": null,
   "metadata": {},
   "outputs": [],
   "source": [
    "dfa = bpx.summary_degs_up_down(per_biotype=False, ensembl=False, verbose=False)\n",
    "dfa"
   ]
  },
  {
   "cell_type": "code",
   "execution_count": null,
   "metadata": {},
   "outputs": [],
   "source": [
    "dfa = bpx.summary_degs_up_down(per_biotype=True, ensembl=False, verbose=False)\n",
    "dfa"
   ]
  },
  {
   "cell_type": "code",
   "execution_count": null,
   "metadata": {},
   "outputs": [],
   "source": [
    "dfa = bpx.summary_degs_up_down(per_biotype=True, ensembl=True, verbose=False)\n",
    "dfa"
   ]
  },
  {
   "cell_type": "code",
   "execution_count": null,
   "metadata": {},
   "outputs": [],
   "source": []
  },
  {
   "cell_type": "code",
   "execution_count": null,
   "metadata": {},
   "outputs": [],
   "source": [
    "want_review_data = True\n",
    "\n",
    "if want_review_data:\n",
    "    i=0\n",
    "    case = case_list[i]\n",
    "    bpx.open_case(case, verbose=False)\n",
    "    \n",
    "    fname, fname_ori, title = bpx.set_lfc_names()\n",
    "    print(f\"fname '{fname}' and title '{title}'\")\n",
    "    print(f\"LFC cutoff: lfc={bpx.abs_lfc_cutoff:.3f} fdr={bpx.fdr_lfc_cutoff}\")\n",
    "    \n",
    "    print(\"\")\n",
    "    bpx.echo_parameters()"
   ]
  },
  {
   "cell_type": "code",
   "execution_count": null,
   "metadata": {},
   "outputs": [],
   "source": []
  },
  {
   "cell_type": "code",
   "execution_count": null,
   "metadata": {},
   "outputs": [],
   "source": [
    "if want_review_data:\n",
    "\n",
    "    for case in case_list:\n",
    "        bpx.open_case(case, verbose=False)\n",
    "        print(\">>>\", case)\n",
    "        bpx.echo_parameters()\n",
    "        print(\"\\n\\n\")"
   ]
  },
  {
   "cell_type": "code",
   "execution_count": null,
   "metadata": {},
   "outputs": [],
   "source": []
  },
  {
   "cell_type": "markdown",
   "metadata": {},
   "source": [
    "### LNCs"
   ]
  },
  {
   "cell_type": "code",
   "execution_count": null,
   "metadata": {},
   "outputs": [],
   "source": [
    "lista = ['lncRNA', 'LNC']\n",
    "dflfc_lnc = dflfc_ori[dflfc_ori.biotype.isin(lista)]\n",
    "print(len(dflfc_lnc))\n",
    "dflfc_lnc.tail(3)"
   ]
  },
  {
   "cell_type": "code",
   "execution_count": null,
   "metadata": {},
   "outputs": [],
   "source": [
    "np.unique(dflfc_lnc._type)"
   ]
  },
  {
   "cell_type": "code",
   "execution_count": null,
   "metadata": {},
   "outputs": [],
   "source": [
    "np.unique(dflfc_lnc.biotype)"
   ]
  },
  {
   "cell_type": "code",
   "execution_count": null,
   "metadata": {},
   "outputs": [],
   "source": [
    "cols = ['probe', 'symbol', 'symbol_prev', 'symb_or_syn', 'biotype', '_type', 'lfc', 'abs_lfc', 'pval', 'fdr', 'mean_exp', 't', 'B', 'description', \n",
    "        'desc_gff', 'description_prev',   'accession', 'ensembl_id', 'ensembl_transc_id', 'geneid', 'cytoband', 'symbol_pipe',  'seqname', 'start', 'end', 'go_id', 'seq']\n",
    "\n",
    "cols = ['probe', 'symbol', 'biotype', '_type', 'lfc', 'fdr', 'desc_gff', 'accession', 'ensembl_id', 'ensembl_transc_id', 'cytoband', 'seqname', 'start', 'end', 'seq']\n",
    "print(len(dflfc_lnc))\n",
    "\n",
    "dflfc_lnc = dflfc_lnc.sort_values('abs_lfc', ascending=False)\n",
    "df2 = dflfc_lnc[cols]\n",
    "df2.head(30)"
   ]
  },
  {
   "cell_type": "code",
   "execution_count": null,
   "metadata": {},
   "outputs": [],
   "source": [
    "fname = 'microarray_ncRNAs.tsv'\n",
    "pdwritecsv(df2, fname, bpx.root_result, verbose=True)"
   ]
  },
  {
   "cell_type": "markdown",
   "metadata": {},
   "source": [
    "### Havana is the Ensembl curation project"
   ]
  },
  {
   "cell_type": "code",
   "execution_count": null,
   "metadata": {},
   "outputs": [],
   "source": [
    "dfgff = bpx.gene.prepare_final_gff(force=False, verbose=True)\n",
    "print(len(dfgff))\n",
    "dfgff.head(3)"
   ]
  },
  {
   "cell_type": "markdown",
   "metadata": {},
   "source": [
    "### DEGs/DAPs frequency\n",
    "### Not Normalized"
   ]
  },
  {
   "cell_type": "code",
   "execution_count": null,
   "metadata": {},
   "outputs": [],
   "source": [
    "#dfsim = pdreadcsv( bpx.cfg.fname_lfc_cutoff, bpx.cfg.root_config)\n",
    "dfsim = bpx.cfg.open_all_lfc_cutoff()\n",
    "print(len(dfsim))\n",
    "dfsim.tail(3)"
   ]
  },
  {
   "cell_type": "markdown",
   "metadata": {},
   "source": [
    "### WNT"
   ]
  },
  {
   "cell_type": "code",
   "execution_count": null,
   "metadata": {},
   "outputs": [],
   "source": [
    "bpx.set_db(0)\n",
    "\n",
    "i=0\n",
    "case = case_list[i]\n",
    "print(\">>>\", case)\n",
    "df2 = dfsim[dfsim.case == case]\n",
    "print(len(df2))\n",
    "df2.head(3)"
   ]
  },
  {
   "cell_type": "markdown",
   "metadata": {},
   "source": [
    "### G4"
   ]
  },
  {
   "cell_type": "code",
   "execution_count": null,
   "metadata": {},
   "outputs": [],
   "source": [
    "i=1\n",
    "case = case_list[i]\n",
    "print(\">>>\", case)\n",
    "df2 = dfsim[dfsim.case == case]\n",
    "print(len(df2))\n",
    "df2.head(3)"
   ]
  }
 ],
 "metadata": {
  "kernelspec": {
   "display_name": "Python 3 (ipykernel)",
   "language": "python",
   "name": "python3"
  },
  "language_info": {
   "codemirror_mode": {
    "name": "ipython",
    "version": 3
   },
   "file_extension": ".py",
   "mimetype": "text/x-python",
   "name": "python",
   "nbconvert_exporter": "python",
   "pygments_lexer": "ipython3",
   "version": "3.11.11"
  }
 },
 "nbformat": 4,
 "nbformat_minor": 4
}
