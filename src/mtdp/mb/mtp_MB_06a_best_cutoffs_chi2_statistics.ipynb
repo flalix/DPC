{
 "cells": [
  {
   "cell_type": "code",
   "execution_count": 3,
   "id": "8507fa29-279b-4485-965b-77219389672d",
   "metadata": {},
   "outputs": [
    {
     "name": "stdout",
     "output_type": "stream",
     "text": [
      "3.12.0\n"
     ]
    }
   ],
   "source": [
    "from platform import python_version\n",
    "print(python_version())"
   ]
  },
  {
   "cell_type": "markdown",
   "id": "bd5a749a-e8af-47a6-b830-146427535d00",
   "metadata": {},
   "source": [
    "### Calc best cutoffs\n",
    "### Simulate many indexs\n",
    "### Calc if random genes can be equal or better than best cutoffs"
   ]
  },
  {
   "cell_type": "markdown",
   "id": "7adfb8c5-2d54-4ba8-854f-4c6170997dd9",
   "metadata": {},
   "source": [
    "### Definitions:\n",
    "  - LFC table has:\n",
    "    - abs_LFC (the absolute LFC cutoff value)\n",
    "    - FDR_LFC, its FDR or p-value adjusted\n",
    "  - The enriched pathway table has:\n",
    "    - FDR_pathway cutoff value\n",
    "   \n",
    "### Default values for LFC table:\n",
    "  - abs_LFC = 1\n",
    "  - FDR_LFC = 0.05\n",
    "  - therefore, a DEG/DAP is abs(LFC) >= 1 and FDR < 0.05\n",
    "\n",
    "### Default values for Enriched Pathways:\n",
    "  - FDR_pathway = 0.05\n",
    "  - therefore, an enriched pathways has FDR < 0.05 and at least 3 DEGs/DAPs\n",
    "\n",
    "### Calculating the best cutoffs:\n",
    "  - We proposed and calculated many indexes to define a new statistics to flebilize the LFC and Enriched Pathway cutoffs.\n",
    "    - Indexes are calculated for each case, each cutoff, and each resulting enriched pathway.\n",
    "  - To find the possible best LFC/FDR expression and FDR pathway cutoffs:\n",
    "     - We look for a high number in n_pathway and n_DEGs_in_pathway, having a low FDR_LFC and a high absLFC.\n",
    "       - The default FDR_LFC (0.05):\n",
    "          - It may have fewer DEGs, resulting in fewer enriched pathways.\n",
    "          - It may have fewer enriched pathways, even having many DEGs/DAPs.\n",
    "       - Therefore, a trade-off exists between optimizing (abs_LFC and FDR_LFC cutoffs) and (FDR_pathway cutoffs, n_pathways, and n_DEGs_in_pathways.)\n",
    "\n",
    "### toi calculates the trade-off between \"LFC\" and \"Enriched Pathways\" cufoffs\n",
    "\n",
    "  - We proposed and calculated four Trade-Off Indexes (toi):\n",
    "\n",
    "<p style=\"font-size: 20px; color: yellow;\">\n",
    "$toi1 = \\sqrt{-log{_{10}}{FDR_{pathway}} * \\frac{n}{N} }$ </p>\n",
    "\n",
    "<p style=\"font-size: 20px; color: cyan;\">\n",
    "$toi2 = \\sqrt{-log{_{10}}{FDR_{LFC}} * -log{_{10}}{FDR_{pathway}} }$ </p>\n",
    "\n",
    "<p style=\"font-size: 20px; color: orange;\">\n",
    "$toi3 = (-log{_{10}}{FDR_{LFC}} * -log{_{10}}{FDR_{pathway}} * \\frac{n}{N})^{1/3}$ </p>\n",
    "\n",
    "<p style=\"font-size: 20px; color: pink;\">\n",
    "$toi4 = (abs\\_LFC * -log{_{10}}{FDR_{LFC}} * -log{_{10}}{FDR_{pathway}} * \\frac{n}{N})^{1/4}$ </p>\n",
    "\n",
    "where,\n",
    "  - n is the number of DEGs/DAPs found in the pathway\n",
    "  - N is the total number of annotated DEGs/DAPs in the pathway (depend in the database, our default database is Reactome 2022)\n",
    "\n",
    "### Then we searched for the best cutoffs\n",
    "  - In each 5 percentile of the index histogram, we look for the best abs_LFC, FDR_LFC, FDR_pathway:\n",
    "  -  We expected that the best cutoff should be in the right tail of the histogram (high index value.)\n",
    "  -  High index values must have a high number of n_pathways and n DEGs in pathways.\n",
    "\n",
    "### Testing the best cutoffs (for each case)\n",
    "\n",
    "  - Is the new set of cutoffs correct? good enough?\n",
    "  - How to establish that the calculated cutoff is correct?\n",
    "  - To answer these questions we calculated the chi-square test between the \"best cutoff\" and the \"default\"\n",
    "    - Best cutoff has:\n",
    "      - n DEGs/DAPs in pathways\n",
    "      - n DEGs/DAPs not in pathways\n",
    "    - The Default cutoff may have:\n",
    "      - n DEGs/DAPs in pathways\n",
    "      - n DEGs/DAPs not in pathways\n",
    "      - The DEGs/DAPs can be:\n",
    "        - greater or equal number of the best cutoff DEGs/DAPs\n",
    "        - fewer number of the best cutoff DEGs/DAPs:\n",
    "           - in this case, one complements the number of DEGs/DAPs with random genes not DEGs/DAPs (found in the experiment)\n",
    "\n",
    "#### Chi-square test:\n",
    "\n",
    "DEGs/DAPs | # in pathway | no in pathway\n",
    "--- | --- | --- \n",
    " Best cutoff |     A      |   B  \n",
    " Default cutoff |   C | D \n",
    "\n",
    "Chi-square p-value:\n",
    "  - p-value < 0.05 denotes that both distributions are not similar; therefore, random genes could not reach the best cutoff DEGs/DAPs; in conclusion, the best cutoff was not found randomly.\n",
    "  - p-value \\>= 0.05 denotes that both distributions are similar, and the best cutoff can be achieved randomly."
   ]
  },
  {
   "cell_type": "code",
   "execution_count": 4,
   "id": "f5a3b22e",
   "metadata": {},
   "outputs": [
    {
     "data": {
      "text/html": [
       "<style>.container { width:100% !important; }</style>"
      ],
      "text/plain": [
       "<IPython.core.display.HTML object>"
      ]
     },
     "metadata": {},
     "output_type": "display_data"
    }
   ],
   "source": [
    "import json, requests\n",
    "import os, sys\n",
    "import pandas as pd\n",
    "\n",
    "sys.path.insert(1, '../src/')\n",
    "\n",
    "from Basic import *\n",
    "from enricher_lib import *\n",
    "from biopax_lib import *\n",
    "from config_lib import *\n",
    "from stat_lib import *\n",
    "from graphic_lib import *\n",
    "\n",
    "pd.set_option(\"display.precision\", 3)\n",
    "from IPython.display import display, HTML\n",
    "display(HTML(\"<style>.container { width:100% !important; }</style>\"))"
   ]
  },
  {
   "cell_type": "code",
   "execution_count": 5,
   "id": "9630a588-a9d2-4114-a0ca-160a8f4038dd",
   "metadata": {},
   "outputs": [
    {
     "name": "stdout",
     "output_type": "stream",
     "text": [
      "G/P LFC cutoffs: lfc=1.000; fdr=0.050\n",
      "Pathway cutoffs: pval=0.050; fdr=0.050; num of genes=3\n"
     ]
    }
   ],
   "source": [
    "root_chibe = \"../../chibe/\"\n",
    "root_colab = '../../colaboracoes/'\n",
    "root0      = '../../colaboracoes/aparecida/'\n",
    "\n",
    "project = 'Medulloblastoma microarray study'\n",
    "s_project = 'medulloblastoma'\n",
    "\n",
    "gene_protein = 'dna'\n",
    "s_omics = 'microarray'\n",
    "\n",
    "has_age = False\n",
    "has_gender = False\n",
    "\n",
    "want_normalized = False\n",
    "exp_normalization='quantile_norm' if want_normalized else None\n",
    "normalization = 'not_normalized' if exp_normalization is None else exp_normalization\n",
    "\n",
    "abs_lfc_cutoff_inf = 0.80\n",
    "s_pathw_enrichm_method = 'enricher'\n",
    "num_min_degs_for_ptw_enr=3\n",
    "\n",
    "#------------ pathway pseudo-modulation index ------------\n",
    "tolerance_pathway_index = 0.15\n",
    "type_sat_ptw_index = 'linear_sat'\n",
    "saturation_lfc_index = 5\n",
    "\n",
    "case_list = ['WNT', 'G4']\n",
    "case = case_list[0]\n",
    "\n",
    "cfg = Config(project, s_project, case_list, root0)\n",
    "\n",
    "n_genes_annot_ptw, n_degs, n_degs_in_ptw, n_degs_not_in_ptw, degs_in_all_ratio = -1,-1,-1,-1,-1\n",
    "abs_lfc_cutoff, fdr_lfc_cutoff, n_degs, n_degs_up, n_degs_dw = cfg.get_best_lfc_cutoff(case, 'not_normalized')\n",
    "\n",
    "pval_pathway_cutoff = 0.05\n",
    "fdr_pathway_cutoff = .05\n",
    "num_of_genes_cutoff = 3\n",
    "\n",
    "print(f\"G/P LFC cutoffs: lfc={abs_lfc_cutoff:.3f}; fdr={fdr_lfc_cutoff:.3f}\")\n",
    "print(f\"Pathway cutoffs: pval={pval_pathway_cutoff:.3f}; fdr={fdr_pathway_cutoff:.3f}; num of genes={num_of_genes_cutoff}\")"
   ]
  },
  {
   "cell_type": "code",
   "execution_count": 7,
   "id": "2d76e2fd",
   "metadata": {
    "scrolled": true
   },
   "outputs": [
    {
     "name": "stdout",
     "output_type": "stream",
     "text": [
      "Start opening tables ....\n",
      "Building synonym dictionary ...\n",
      "\n",
      "\n",
      "Echo Parameters:\n",
      "For case 'WNT', there are 1043/766 DEGs/DEGs with ensembl_id\n",
      "DEG's cutoffs: abs(LFC)=1.000; FDR=0.130\n",
      "\t1043/766 DEGs/ensembl.\n",
      "\t\tUp 340/218 DEGs/ensembl.\n",
      "\t\tDw 703/548 DEGs/ensembl.\n",
      "\n",
      "Found 68 (best=68) pathways for geneset num=0 'Reactome_2022'\n",
      "Pathway cutoffs p-value=0.050 fdr=0.150 min genes=3\n",
      "DEGs found in enriched pathways:\n",
      "\tThere are 766 DEGs found in pathways\n",
      "\t279 (best=279) DEGs in pathways and 764/487 DEGs/ensembl not in pathways\n",
      "\n",
      "\t74 DEGs ensembl Up in pathways\n",
      "\t144 DEGs Up ensembl not in pathways\n",
      "\n",
      "\t205 DEGs ensembl Dw in pathways\n",
      "\t343 DEGs Dw ensembl not in pathways\n"
     ]
    }
   ],
   "source": [
    "pathway_name_id = 'Sensory Processing Of Sound By Inner Hair Cells Of Cochlea - R-HSA-9662360'\n",
    "pathway_name_id = 'Cardiac Conduction - R-HSA-5576891'\n",
    "pathway_name_id = 'RHOB GTPase Cycle - R-HSA-9013026'\n",
    "pathway_name_id = 'Gap Junction Assembly - R-HSA-190861'\n",
    "pathway_name_id = 'Opioid Signaling - R-HSA-111885'\n",
    "pathway_name_id = 'Neuronal System - R-HSA-112316'\n",
    "\n",
    "enr = enricheR(gene_protein, s_omics, project, s_project, root0,\n",
    "             case_list, has_age, has_gender, clone_objects=False,\n",
    "             exp_normalization=exp_normalization, geneset_num=0, \n",
    "             num_min_degs_for_ptw_enr=num_min_degs_for_ptw_enr, \n",
    "             tolerance_pathway_index=tolerance_pathway_index, \n",
    "             s_pathw_enrichm_method = s_pathw_enrichm_method,\n",
    "             abs_lfc_cutoff_inf = abs_lfc_cutoff_inf, \n",
    "             type_sat_ptw_index=type_sat_ptw_index, saturation_lfc_index=saturation_lfc_index)\n",
    "\n",
    "case = case_list[0]\n",
    "\n",
    "enr.cfg.set_default_best_lfc_cutoff(normalization, abs_lfc_cutoff=1, fdr_lfc_cutoff=0.05)\n",
    "ret, degs, degs_ensembl, dfdegs = enr.open_case(case, verbose=False)\n",
    "print(\"\\nEcho Parameters:\")\n",
    "enr.echo_parameters()\n",
    "\n",
    "geneset_num = enr.geneset_num"
   ]
  },
  {
   "cell_type": "code",
   "execution_count": null,
   "id": "6301785a-f61f-4b76-ac5c-6a2f4c413e71",
   "metadata": {},
   "outputs": [],
   "source": [
    "enr.case, enr.group, enr.gender, enr.age, enr.geneset_num, enr.abs_lfc_cutoff_inf"
   ]
  },
  {
   "cell_type": "markdown",
   "id": "87c6f0b6-4a10-4a4e-8b3c-a1ed8f7c9525",
   "metadata": {},
   "source": [
    "### BCA parameters"
   ]
  },
  {
   "cell_type": "code",
   "execution_count": null,
   "id": "9819673f-60d3-4d34-a695-588996ed72de",
   "metadata": {},
   "outputs": [],
   "source": [
    "enr.abs_lfc_cutoff, enr.fdr_lfc_cutoff, enr.pathway_fdr_cutoff"
   ]
  },
  {
   "cell_type": "markdown",
   "id": "0b492450-67f5-4bfd-bc7d-8d69fee20e4e",
   "metadata": {},
   "source": [
    "### Reference database"
   ]
  },
  {
   "cell_type": "code",
   "execution_count": null,
   "id": "c778c065-2690-416e-b297-74b017f0a1c3",
   "metadata": {
    "jupyter": {
     "source_hidden": true
    }
   },
   "outputs": [],
   "source": [
    "enr.geneset_num, enr.geneset_lib, enr.dbs_list"
   ]
  },
  {
   "cell_type": "markdown",
   "id": "40d36527",
   "metadata": {},
   "source": [
    "### Define database: 0 is Reactome"
   ]
  },
  {
   "cell_type": "code",
   "execution_count": null,
   "id": "42822773-5ea7-404b-9e8d-f76dd543aa9e",
   "metadata": {},
   "outputs": [],
   "source": [
    "want = False\n",
    "\n",
    "if want:\n",
    "    geneset_num = 0\n",
    "    enr.set_db(geneset_num, verbose=True)\n",
    "enr.geneset_num, enr.geneset_lib"
   ]
  },
  {
   "cell_type": "markdown",
   "id": "a609950d-36d8-49c2-8109-9cba829479a1",
   "metadata": {},
   "source": [
    "### The second case"
   ]
  },
  {
   "cell_type": "code",
   "execution_count": null,
   "id": "0217b466",
   "metadata": {
    "scrolled": true
   },
   "outputs": [],
   "source": [
    "i=1\n",
    "case = case_list[i]\n",
    "\n",
    "ret, degs, degs_ensembl, dfdegs = enr.open_case(case, verbose=False)\n",
    "print(f\"G/P cutoff: lfc={enr.abs_lfc_cutoff:.3f}; lfc_fdr={enr.fdr_lfc_cutoff:.3f}\")\n",
    "len(degs), len(degs_ensembl)"
   ]
  },
  {
   "cell_type": "markdown",
   "id": "9fc75422-c590-492f-acb4-bbbf5999ef46",
   "metadata": {},
   "source": [
    "### BCA parameters"
   ]
  },
  {
   "cell_type": "code",
   "execution_count": null,
   "id": "ef052235-bda8-4702-afc3-b44d37d285b4",
   "metadata": {},
   "outputs": [],
   "source": [
    "enr.abs_lfc_cutoff, enr.fdr_lfc_cutoff, enr.pathway_fdr_cutoff"
   ]
  },
  {
   "cell_type": "code",
   "execution_count": null,
   "id": "e7e3d2f7-8fc6-4b60-926e-677934281060",
   "metadata": {},
   "outputs": [],
   "source": [
    "enr.n_degs_in_pathways, enr.n_degs_ensembl_in_pathways"
   ]
  },
  {
   "cell_type": "code",
   "execution_count": null,
   "id": "1c60e9bc-5d87-4f2d-9479-46fd175e7522",
   "metadata": {},
   "outputs": [],
   "source": []
  },
  {
   "cell_type": "code",
   "execution_count": null,
   "id": "567229d3-db70-4b3a-a7f7-e48f6208a8b1",
   "metadata": {},
   "outputs": [],
   "source": [
    "degs_diff = [x for x in enr.degs_in_pathways if x not in enr.degs_ensembl_in_pathways]\n",
    "np.array(degs_diff)"
   ]
  },
  {
   "cell_type": "code",
   "execution_count": null,
   "id": "59fcd6d4-6dd9-43f2-92ff-2f51d7ffab77",
   "metadata": {},
   "outputs": [],
   "source": [
    "# dflfc_ori.columns"
   ]
  },
  {
   "cell_type": "code",
   "execution_count": null,
   "id": "1c0603e8-5e3d-46e4-b3a5-3585ccf03ad7",
   "metadata": {},
   "outputs": [],
   "source": [
    "gene = 'ADAMTSL3'\n",
    "\n",
    "dflfc_ori = enr.dflfc_ori\n",
    "cols = ['probe', 'symbol', 'symbol_prev', 'symb_or_syn', 'accession', 'ensembl_id', 'biotype', '_type',\n",
    "       'lfc', 'abs_lfc', 'fdr',  'description',  'desc_gff', 'description_prev',  ]\n",
    "\n",
    "df2 = dflfc_ori[dflfc_ori.symbol == gene][cols]\n",
    "df2"
   ]
  },
  {
   "cell_type": "code",
   "execution_count": null,
   "id": "414ec57a-27ae-43a0-b2e2-390dbd0b8234",
   "metadata": {},
   "outputs": [],
   "source": [
    "ensembl_id = df2.iloc[0].ensembl_id\n",
    "print(ensembl_id)\n",
    "gene in enr.degs_ensembl"
   ]
  },
  {
   "cell_type": "code",
   "execution_count": null,
   "id": "da2005e2-afd4-4f58-b7a0-2eab9cde48ba",
   "metadata": {},
   "outputs": [],
   "source": [
    "dflfc = enr.dflfc\n",
    "dflfc = dflfc.sort_values('abs_lfc', ascending=False)\n",
    "dflfc.head(6)"
   ]
  },
  {
   "cell_type": "code",
   "execution_count": null,
   "id": "cf740ee5-9d5b-4387-9271-f29c11f7bed3",
   "metadata": {},
   "outputs": [],
   "source": [
    "gene = 'SOX2'\n",
    "df2 = dflfc_ori[dflfc_ori.symbol == gene][cols]\n",
    "df2"
   ]
  },
  {
   "cell_type": "code",
   "execution_count": null,
   "id": "9a8ea878-c58c-4610-a9e4-f33acc8e4a9d",
   "metadata": {},
   "outputs": [],
   "source": [
    "df2 = dflfc[dflfc.symbol == gene][cols]\n",
    "df2"
   ]
  },
  {
   "cell_type": "code",
   "execution_count": null,
   "id": "372b9593-8959-4255-b223-0014d3691313",
   "metadata": {},
   "outputs": [],
   "source": [
    "gene in enr.degs_ensembl"
   ]
  },
  {
   "cell_type": "code",
   "execution_count": null,
   "id": "37cf8af0-eb31-4ad4-9f51-1abfc596783c",
   "metadata": {},
   "outputs": [],
   "source": []
  },
  {
   "cell_type": "markdown",
   "id": "02b63ff0-c60f-42c8-ad2d-37c591b8b326",
   "metadata": {},
   "source": [
    "### build_all_cutoffs_table(col)\n",
    "  - loop case_list\n",
    "    - best_cutoff_quantiles()\n",
    "      - calc_enrichment_cutoff_params_and_ndxs_per_case_and_geneset_lib\n",
    "\n",
    "### Next, calc_best_cutoffs_params()"
   ]
  },
  {
   "cell_type": "code",
   "execution_count": null,
   "id": "085d6279-fb0f-4706-b346-3946d3dd20c5",
   "metadata": {},
   "outputs": [],
   "source": [
    "case = 'WNT'\n",
    "dfi = enr.calc_enrichment_cutoff_params_and_ndxs_per_case_and_geneset_lib(case, force=False, verbose=False)\n",
    "df2 = dfi[ (dfi.case == case)]\n",
    "maxi = df2.toi4_median.max()\n",
    "median = df2.toi4_median.median()\n",
    "maxi, median"
   ]
  },
  {
   "cell_type": "code",
   "execution_count": null,
   "id": "08ca7791-f298-4a8e-a8ea-539e000e4b41",
   "metadata": {},
   "outputs": [],
   "source": [
    "case = 'G4'\n",
    "dfi = enr.calc_enrichment_cutoff_params_and_ndxs_per_case_and_geneset_lib(case, force=False, verbose=False)\n",
    "df2 = dfi[ (dfi.case == case)]\n",
    "maxi = df2.toi4_median.max()\n",
    "median = df2.toi4_median.median()\n",
    "maxi, median"
   ]
  },
  {
   "cell_type": "code",
   "execution_count": null,
   "id": "588aa4bd-fe76-4476-8320-8d19e67803f8",
   "metadata": {},
   "outputs": [],
   "source": []
  },
  {
   "cell_type": "code",
   "execution_count": null,
   "id": "e3e894be-798d-4c4b-8691-7e17071d9aad",
   "metadata": {},
   "outputs": [],
   "source": [
    "cols = ['case', 'geneset_num', 'normalization', 'med_max_ptw', 'parameter', 'quantile',\n",
    "        'quantile_val', 'quantile_val_inf', 'quantile_val_sup', \n",
    "        'abs_lfc_cutoff', 'fdr_lfc_cutoff', \n",
    "        'pathway_pval_cutoff', 'pathway_fdr_cutoff', 'num_of_genes_cutoff',\n",
    "        'n_pathways', 'n_degs_in_pathways', \n",
    "        'n_degs_in_pathways_mean', 'n_degs_in_pathways_median', 'n_degs_in_pathways_std', \n",
    "        'toi1_mean', 'toi1_median', 'toi1_std',\n",
    "        'toi2_mean', 'toi2_median', 'toi2_std',\n",
    "        'toi3_mean', 'toi3_median', 'toi3_std',\n",
    "        'toi4_mean', 'toi4_median', 'toi4_std',]\n",
    "\n",
    "\n",
    "cols = ['case', 'med_max_ptw', 'quantile', 'toi4_median', 'abs_lfc_cutoff', 'fdr_lfc_cutoff',\n",
    "        'pathway_pval_cutoff', 'pathway_fdr_cutoff', 'n_pathways', 'n_degs_in_pathways',\n",
    "        'toi1_median', 'toi2_median', 'toi3_median']"
   ]
  },
  {
   "cell_type": "markdown",
   "id": "74d329a6-d60a-47c5-9b7f-6b7bdf6a678e",
   "metadata": {},
   "source": [
    "### Look for different approaches (sorting)"
   ]
  },
  {
   "cell_type": "code",
   "execution_count": null,
   "id": "7b5073b1-f2c5-4277-9647-dc513f4329cd",
   "metadata": {},
   "outputs": [],
   "source": [
    "case = 'WNT'"
   ]
  },
  {
   "cell_type": "code",
   "execution_count": null,
   "id": "a51dff34",
   "metadata": {},
   "outputs": [],
   "source": [
    "col = 'toi4_median'\n",
    "dfcut = enr.build_all_cutoffs_table(selected_toi_col=col, force=False, verbose=False)\n",
    "df2 = dfcut[(dfcut.case == case) & (dfcut.n_degs_in_pathways > 3) & (dfcut.med_max_ptw == 'median')]\n",
    "df2 = df2.sort_values(col, ascending=False)\n",
    "df2[cols].head(6)"
   ]
  },
  {
   "cell_type": "code",
   "execution_count": null,
   "id": "4a4fb431-cf21-49db-bbfa-bfbfe3af81de",
   "metadata": {},
   "outputs": [],
   "source": []
  },
  {
   "cell_type": "code",
   "execution_count": null,
   "id": "fed9554a-8ec8-46b1-b901-7b3121e7f934",
   "metadata": {},
   "outputs": [],
   "source": [
    "colors=['navy', 'red', 'darkcyan', 'darkgreen', 'orange', 'brown', 'darksalmon',\n",
    "        'magenta', 'darkturquoise', 'orange', 'darkred', 'indigo', 'magenta', 'maroon', 'black',\n",
    "        'darkblue', 'darkcyan', 'darkgoldenrod', 'darkgray', 'darkgrey', 'olivedrab', 'navy'] + plotly_colors_proteins\n",
    "\n",
    "cols = ['case', 'toi4_median', 'med_max_ptw',  'quantile', 'quantile_val_inf', 'quantile_val_sup',\n",
    "        'abs_lfc_cutoff', 'fdr_lfc_cutoff', 'pathway_fdr_cutoff',  'n_pathways',\n",
    "       'n_degs_in_pathways']  #  'toi1_median', 'toi2_median',  'toi3_median',"
   ]
  },
  {
   "cell_type": "code",
   "execution_count": null,
   "id": "d7c2e489-f467-4b23-b8eb-a8272f8647ba",
   "metadata": {},
   "outputs": [],
   "source": [
    "selected_toi_col = 'toi4_median'"
   ]
  },
  {
   "cell_type": "code",
   "execution_count": null,
   "id": "9cf40fbf-bd03-4fb3-ab9b-81ab9fff1f48",
   "metadata": {},
   "outputs": [],
   "source": [
    "fig = enr.plot_degs_in_pathways_vs_toi_per_case(selected_toi_col=selected_toi_col, title=None, plot_all_dfi=False,\n",
    "                                                  width=1100, height=600, sel_colors=None, plot_bgcolor='lightgray', verbose=False)\n",
    "\n",
    "fig.show()"
   ]
  },
  {
   "cell_type": "code",
   "execution_count": null,
   "id": "3be675c7-d1d9-4c53-9b31-698f75964da7",
   "metadata": {},
   "outputs": [],
   "source": []
  },
  {
   "cell_type": "markdown",
   "id": "1e33bdd7-9afc-4fce-95c8-ae654457bd7c",
   "metadata": {},
   "source": [
    "### Open best cutoffs (config)"
   ]
  },
  {
   "cell_type": "code",
   "execution_count": null,
   "id": "a030ada5-78c9-47d1-9592-7483cd67f921",
   "metadata": {},
   "outputs": [],
   "source": [
    "dfbest = enr.cfg.open_best_ptw_cutoff(verbose=False)\n",
    "dfbest2 = dfbest[dfbest.med_max_ptw == 'median']\n",
    "dfbest2[cols]"
   ]
  },
  {
   "cell_type": "code",
   "execution_count": null,
   "id": "0b32df15-3493-4459-84fe-872cc132648f",
   "metadata": {},
   "outputs": [],
   "source": []
  },
  {
   "cell_type": "code",
   "execution_count": null,
   "id": "9526f6f3-119e-478a-969b-54b2736b5b38",
   "metadata": {},
   "outputs": [],
   "source": []
  },
  {
   "cell_type": "markdown",
   "id": "2bb8ef06-3f7c-4857-9366-7a30db247b08",
   "metadata": {},
   "source": [
    "### Is this cut statistically correct?\n",
    "  - Chi-square test - confusion matrix:\n",
    "    - the best defined cutoff\n",
    "    - against the default cutoff (LFC=1, FDR=0.05) + random Genes (all othere genes from the microarray experiment)\n",
    "   \n",
    "### Test retrieve best param"
   ]
  },
  {
   "cell_type": "code",
   "execution_count": null,
   "id": "959bf13d-5b0a-4b2d-9c27-ac6f71c8f293",
   "metadata": {},
   "outputs": [],
   "source": [
    "case = case_list[0]\n",
    "ret, degs, degs_ensembl, dfdegs = enr.open_case(case, verbose=False)\n",
    "enr.case"
   ]
  },
  {
   "cell_type": "code",
   "execution_count": null,
   "id": "904139fe-0b8f-4de2-a5e4-075a38ce0074",
   "metadata": {},
   "outputs": [],
   "source": [
    "enr.case, enr.quantile, enr.abs_lfc_cutoff, enr.fdr_lfc_cutoff, enr.pathway_pval_cutoff, enr.pathway_fdr_cutoff"
   ]
  },
  {
   "cell_type": "code",
   "execution_count": null,
   "id": "6a453c61-7a6a-46e2-abb3-662a5560f6c6",
   "metadata": {},
   "outputs": [],
   "source": []
  },
  {
   "cell_type": "markdown",
   "id": "85256e53-c379-4453-bb2f-672dde5579f3",
   "metadata": {},
   "source": [
    "### Prepare for chi-square test\n",
    "  - best cufoff\n",
    "  - default cutoffs (fdr=0.05,  abs_lfc=1)\n",
    "  - case[0] = g2a_male, as example\n",
    "\n",
    "### Default cutoff values x BCA"
   ]
  },
  {
   "cell_type": "code",
   "execution_count": null,
   "id": "c6c79437-6458-4bec-9ca4-99e9f3643a56",
   "metadata": {},
   "outputs": [],
   "source": [
    "for case in case_list:\n",
    "    print(\">>> case\", case, \"\\n\")\n",
    "    \n",
    "    print(\"Default params:\")\n",
    "    \n",
    "    ret, degs_default, degs_ensembl_default, dflfc_default = enr.open_case_params(case, abs_lfc_cutoff=1, fdr_lfc_cutoff=0.05, verbose=False)\n",
    "    # enr.echo_parameters(want_echo_default=False, jump_line=True)\n",
    "    degs_in_pathways_default = enr.degs_in_pathways\n",
    "    degs_not_in_pathways_default = enr.degs_not_in_pathways\n",
    "\n",
    "    print(f\"abs_lfc_cutoff={enr.abs_lfc_cutoff}, fdr_lfc_cutoff={enr.fdr_lfc_cutoff}, pathway_fdr_cutoff={enr.pathway_fdr_cutoff}\")\n",
    "    print(f\"degs {len(degs_default)}, degs with ensembl_id {len(degs_ensembl_default)}\")\n",
    "    \n",
    "    if enr.n_pathways == 0:\n",
    "        print(\"No pahtway enriched.\")\n",
    "    else:\n",
    "        print(f\"degs in pathways={len(degs_in_pathways_default)}, degs not in pathways={len(degs_not_in_pathways_default)}\")\n",
    "        print(f\"n pathways {enr.n_pathways}\")\n",
    "\n",
    "    print(\"\")\n",
    "    ret, degs_bca, degs_ensembl_bca, dflfc_best = enr.open_case(case)\n",
    "    print(\"BCA params:\")\n",
    "    # enr.echo_parameters(want_echo_default=False, jump_line=True)\n",
    "    \n",
    "    degs_in_pathways_bca = enr.degs_in_pathways\n",
    "    degs_not_in_pathways_bca = enr.degs_not_in_pathways\n",
    "\n",
    "    print(f\"abs_lfc_cutoff={enr.abs_lfc_cutoff}, fdr_lfc_cutoff={enr.fdr_lfc_cutoff}, pathway_fdr_cutoff={enr.pathway_fdr_cutoff}\")\n",
    "    print(f\"degs {len(degs_bca)}, degs with ensembl_id {len(degs_ensembl_bca)}\")\n",
    "\n",
    "    if enr.n_pathways == 0:\n",
    "        print(\"No pahtway enriched.\")\n",
    "    else:\n",
    "        print(f\"degs in pathways={len(degs_in_pathways_bca)}, degs not in pathways={len(degs_not_in_pathways_bca)}\")\n",
    "        print(f\"n pathways {enr.n_pathways}\")  # {len(enr.df_enr)}\n",
    "\n",
    "    print(\"\\n\")"
   ]
  },
  {
   "cell_type": "code",
   "execution_count": null,
   "id": "323d73d5-db97-4cf6-aeb2-c5fea7251446",
   "metadata": {},
   "outputs": [],
   "source": []
  },
  {
   "cell_type": "markdown",
   "id": "766d7b5a-8c97-450d-b9a2-e2adb99e1f23",
   "metadata": {},
   "source": [
    "### Getting random GENES = #(FOUND_BEST DEGS - FOUND_IN_DEFAULT DEGS)"
   ]
  },
  {
   "cell_type": "code",
   "execution_count": null,
   "id": "bfa4f9cb-1f16-4cd2-895a-34755a2320f9",
   "metadata": {},
   "outputs": [],
   "source": [
    "i = 0\n",
    "case = case_list[i]\n",
    "ret, degs_default, degs_ensembl_default, dflfc_default = enr.open_case_params(case, abs_lfc_cutoff=1, fdr_lfc_cutoff=0.05, verbose=False)\n",
    "# enr.echo_parameters(want_echo_default=False, jump_line=True)\n",
    "degs_in_pathways_default = enr.degs_in_pathways\n",
    "degs_not_in_pathways_default = enr.degs_not_in_pathways\n",
    "\n",
    "ret, degs_best, degs_ensembl_best, dflfc_best = enr.open_case(case, verbose=False)\n",
    "\n",
    "degs_in_pathways_best = enr.degs_in_pathways\n",
    "degs_not_in_pathways_best = enr.degs_not_in_pathways\n",
    "\n",
    "mat = np.array([ [len(degs_in_pathways_default), len(degs_not_in_pathways_default)], \n",
    "                 [len(degs_in_pathways_best), len(degs_not_in_pathways_best)]])\n",
    "mat"
   ]
  },
  {
   "cell_type": "markdown",
   "id": "4fbbc21c-b229-49e0-a7ac-5878c1e445a1",
   "metadata": {},
   "source": [
    "### Are the new discovery DEGs FP or TP?"
   ]
  },
  {
   "cell_type": "code",
   "execution_count": null,
   "id": "f6476c20-6327-4b2b-9d08-0e9905fc8591",
   "metadata": {},
   "outputs": [],
   "source": [
    "new_degs = [x for x in degs_in_pathways_best if x not in (degs_in_pathways_default) ]\n",
    "print(f\"Default DEGs in pahtways {len(degs_in_pathways_default)} x new discovered DEGs {len(new_degs)}\")"
   ]
  },
  {
   "cell_type": "code",
   "execution_count": null,
   "id": "62b49a6a-5632-4d31-b729-07d10048bf9b",
   "metadata": {},
   "outputs": [],
   "source": [
    "enr.get_best_ptw_cutoff_biopax()\n",
    "f\"case = {enr.case}, abs_lfc_cutoff = {enr.abs_lfc_cutoff}, fdr_lfc_cutoff = {enr.fdr_lfc_cutoff}, pathway_fdr_cutoff = {enr.pathway_fdr_cutoff}\""
   ]
  },
  {
   "cell_type": "code",
   "execution_count": null,
   "id": "4095630c-f74c-46f2-be44-013c2136d513",
   "metadata": {
    "scrolled": true
   },
   "outputs": [],
   "source": [
    "abs_lfc_cutoff_default = 1\n",
    "fdr_lfc_cutoff_default = 0.05\n",
    "pathway_fdr_cutoff_default = 0.05\n",
    "print(\">>>\", enr.case)\n",
    "i = 0\n",
    "df_enr = enr.calc_enriched_pathways_random_genes(i, case, abs_lfc_cutoff_default,\n",
    "                                                 fdr_lfc_cutoff_default, pathway_fdr_cutoff_default, prompt_verbose=True)\n",
    "\n",
    "if df_enr is None:\n",
    "    df_enr = pd.DataFrame()\n",
    "\n",
    "print(len(df_enr))\n",
    "df_enr.head(3)"
   ]
  },
  {
   "cell_type": "code",
   "execution_count": null,
   "id": "327ce958-7829-4532-9013-ad9c7e599f64",
   "metadata": {},
   "outputs": [],
   "source": [
    "enr.n_degs_in_pathways_bca, enr.n_degs_not_in_pathways_bca"
   ]
  },
  {
   "cell_type": "code",
   "execution_count": null,
   "id": "052abd66-d844-46e3-b816-3feba3aae2df",
   "metadata": {},
   "outputs": [],
   "source": [
    "enr.n_degs_in_pathways_random, enr.n_degs_not_in_pathways_random"
   ]
  },
  {
   "cell_type": "code",
   "execution_count": null,
   "id": "5d6dea4a-62bc-45ce-b5d7-302022bfe20f",
   "metadata": {},
   "outputs": [],
   "source": [
    "enr.degs_in_pathways_random[:5], enr.degs_not_in_pathways_random[:5]"
   ]
  },
  {
   "cell_type": "code",
   "execution_count": null,
   "id": "92d60c62-89f1-4f11-94f3-6aabfb612582",
   "metadata": {},
   "outputs": [],
   "source": []
  },
  {
   "cell_type": "markdown",
   "id": "a0960cdd-3c47-4eb4-a659-dd7124a3b666",
   "metadata": {},
   "source": [
    "### Prepare for chi-square test\n",
    "  - best cufoff\n",
    "  - default cutoffs (fdr=0.05,  abs_lfc=1)\n",
    "  - case[0] = g2a_male, as example"
   ]
  },
  {
   "cell_type": "code",
   "execution_count": null,
   "id": "9025cbf5-6bee-4f64-8641-9cedd5b1de41",
   "metadata": {},
   "outputs": [],
   "source": [
    "i = 0\n",
    "case = case_list[i]\n",
    "abs_lfc_cutoff_default = 1\n",
    "fdr_lfc_cutoff_default = 0.05\n",
    "pathway_fdr_cutoff_default = 0.05\n",
    "\n",
    "df_enr = enr.calc_enriched_pathways_random_genes(i, case, abs_lfc_cutoff_default, fdr_lfc_cutoff_default,\n",
    "                                                 pathway_fdr_cutoff_default, prompt_verbose=True)\n",
    "\n",
    "dfmat, ret_chi, dof, stat, pvalue, stri_stat = enr.build_matrix_calc_chi_square(n_degs_in_pathways_bca=enr.n_degs_in_pathways_bca, \n",
    "                                                                                n_degs_not_in_pathways_bca=enr.n_degs_not_in_pathways_bca,\n",
    "                                                                                n_degs_in_pathways_default=enr.n_degs_in_pathways_random, \n",
    "                                                                                n_degs_not_in_pathways_random=enr.n_degs_not_in_pathways_random)\n",
    "\n",
    "print(f\">>> chi-square statistics: {ret_chi} {stri_stat}, dof={dof}\")\n",
    "dfmat"
   ]
  },
  {
   "cell_type": "code",
   "execution_count": null,
   "id": "5c17c904-0573-46e6-991a-73a9377c81da",
   "metadata": {},
   "outputs": [],
   "source": [
    "i = 1\n",
    "case = case_list[i]\n",
    "abs_lfc_cutoff_default = 1\n",
    "fdr_lfc_cutoff_default = 0.05\n",
    "pathway_fdr_cutoff_default = 0.05\n",
    "\n",
    "df_enr = enr.calc_enriched_pathways_random_genes(i, case, abs_lfc_cutoff_default, fdr_lfc_cutoff_default,\n",
    "                                                 pathway_fdr_cutoff_default, prompt_verbose=True)\n",
    "\n",
    "dfmat, ret_chi, dof, stat, pvalue, stri_stat = enr.build_matrix_calc_chi_square(n_degs_in_pathways_bca=enr.n_degs_in_pathways_bca, \n",
    "                                                                                n_degs_not_in_pathways_bca=enr.n_degs_not_in_pathways_bca,\n",
    "                                                                                n_degs_in_pathways_default=enr.n_degs_in_pathways_random, \n",
    "                                                                                n_degs_not_in_pathways_random=enr.n_degs_not_in_pathways_random)\n",
    "\n",
    "print(f\">>> chi-square statistics: {ret_chi} {stri_stat}, dof={dof}\")\n",
    "dfmat"
   ]
  },
  {
   "cell_type": "markdown",
   "id": "44977697-d900-42cd-b8bb-1eee2a456ac5",
   "metadata": {},
   "source": [
    "### 100 simulations"
   ]
  },
  {
   "cell_type": "code",
   "execution_count": null,
   "id": "ea6bc81d-7846-43d1-a862-da5979a552d9",
   "metadata": {},
   "outputs": [],
   "source": [
    "case_list"
   ]
  },
  {
   "cell_type": "code",
   "execution_count": null,
   "id": "b1486425-d4d1-4f2f-9d55-cc47782b0191",
   "metadata": {},
   "outputs": [],
   "source": [
    "n_sim = 100\n",
    "abs_lfc_cutoff_default = 1.\n",
    "fdr_lfc_cutoff_default = 0.05\n",
    "pathway_fdr_cutoff_default = 0.05\n",
    "\n",
    "want = True\n",
    "force = True"
   ]
  },
  {
   "cell_type": "code",
   "execution_count": null,
   "id": "960404d2-d89f-4632-b0aa-bd30052c4585",
   "metadata": {},
   "outputs": [],
   "source": [
    "case = 'WNT'\n",
    "print(\">>>\", case)\n",
    "\n",
    "if want:\n",
    "    dff_wnt = enr.run_n_simulations(n_sim, case, abs_lfc_cutoff_default, fdr_lfc_cutoff_default, pathway_fdr_cutoff_default,\n",
    "                                    force=force, verbose=False)\n",
    "    print(len(dff_wnt))\n",
    "else:\n",
    "    dff_wnt = pd.DataFrame()\n",
    "\n",
    "dff_wnt.head(10)"
   ]
  },
  {
   "cell_type": "code",
   "execution_count": null,
   "id": "1b2638c5-e02d-4ab9-80e5-01e9ba42ec95",
   "metadata": {},
   "outputs": [],
   "source": [
    "dff_wnt[dff_wnt.stat_sig != True]"
   ]
  },
  {
   "cell_type": "code",
   "execution_count": null,
   "id": "7ebdefa9-2978-48d7-8e3d-3bb1b6641a7d",
   "metadata": {},
   "outputs": [],
   "source": [
    "dff_wnt.stat_sig.mean()"
   ]
  },
  {
   "cell_type": "code",
   "execution_count": null,
   "id": "40b72022-8a0c-4612-9b6a-6f3cc98a8282",
   "metadata": {},
   "outputs": [],
   "source": []
  },
  {
   "cell_type": "code",
   "execution_count": null,
   "id": "cc35b860-ebcc-4d5c-bf37-aaef5d23fcf9",
   "metadata": {},
   "outputs": [],
   "source": [
    "case = 'G4'\n",
    "\n",
    "if want:\n",
    "    dff_g4 = enr.run_n_simulations(n_sim, case, abs_lfc_cutoff_default, fdr_lfc_cutoff_default, pathway_fdr_cutoff_default,\n",
    "                                   force=force, verbose=False)\n",
    "    print(len(dff_g4))\n",
    "else:\n",
    "    dff_g4 = pd.DataFrame()\n",
    "\n",
    "dff_g4.head(10)"
   ]
  },
  {
   "cell_type": "code",
   "execution_count": null,
   "id": "588ef25f-87e9-407c-8087-69151c15048c",
   "metadata": {},
   "outputs": [],
   "source": [
    "dff_g4[dff_g4.stat_sig != True]"
   ]
  },
  {
   "cell_type": "code",
   "execution_count": null,
   "id": "91f013b7-668b-4ca2-a8bf-aa3c1a1d5840",
   "metadata": {},
   "outputs": [],
   "source": [
    "dff_g4.stat_sig.mean()"
   ]
  },
  {
   "cell_type": "code",
   "execution_count": null,
   "id": "34638037-45c0-42c5-94a1-18e4b8a6703e",
   "metadata": {},
   "outputs": [],
   "source": []
  },
  {
   "cell_type": "markdown",
   "id": "b637a756-1e12-4e37-b46d-6f3a70d366a9",
   "metadata": {},
   "source": [
    "### All 100 random tests are statisticall different from the best cutoffs for g2a_male\n",
    "\n",
    "  - to rerun turn force = True"
   ]
  },
  {
   "cell_type": "code",
   "execution_count": null,
   "id": "e233e9dc-a1e2-4e34-bb60-d3dc7955336f",
   "metadata": {},
   "outputs": [],
   "source": [
    "want = True\n",
    "dic = {}\n",
    "\n",
    "if want:\n",
    "    n_sim = 100\n",
    "    abs_lfc_cutoff_default = 1.\n",
    "    fdr_lfc_cutoff_default = 0.05\n",
    "    pathway_fdr_cutoff_default = 0.05\n",
    "    \n",
    "    force = False\n",
    "    \n",
    "    for case in case_list:\n",
    "        print(\">>>\", case, end = ' ')\n",
    "        dff = enr.run_n_simulations(n_sim, case, abs_lfc_cutoff_default, fdr_lfc_cutoff_default, pathway_fdr_cutoff_default, force=force, verbose=False)\n",
    "        dff['FDR'] = fdr(dff.pvalue)\n",
    "        print(len(dff), \"/\", len(dff[dff.stat_sig == False]))\n",
    "        dic[case] = dff\n",
    "    "
   ]
  },
  {
   "cell_type": "code",
   "execution_count": null,
   "id": "54d97c0b-aa2b-4e78-bd4d-7e10c3f2d721",
   "metadata": {},
   "outputs": [],
   "source": [
    "dfchi_wnt = dic['WNT']\n",
    "print(len(dfchi_wnt))\n",
    "dic2 = dfchi_wnt[dfchi_wnt.FDR > 0.05]\n",
    "dic2"
   ]
  },
  {
   "cell_type": "code",
   "execution_count": null,
   "id": "b21dfd06-85e9-422f-a8ce-4f103fc15535",
   "metadata": {},
   "outputs": [],
   "source": [
    "dfchi_g4 = dic['G4']\n",
    "print(len(dfchi_g4))\n",
    "dic2 = dfchi_g4[dfchi_g4.FDR > 0.05]\n",
    "dic2"
   ]
  },
  {
   "cell_type": "markdown",
   "id": "661d8fa3-320d-4b9c-8eda-e6bde8906726",
   "metadata": {},
   "source": [
    "### Running all cases"
   ]
  },
  {
   "cell_type": "code",
   "execution_count": null,
   "id": "3bd91c4d-2ef4-4de7-abab-ad13c4e00845",
   "metadata": {},
   "outputs": [],
   "source": [
    "enr.cfg.open_best_ptw_cutoff()\n",
    "\n",
    "enr.echo_default()\n",
    "print(\"\")\n",
    "\n",
    "all_degs = []\n",
    "for case in case_list:\n",
    "    print(\">>>\", case)\n",
    "    ret, degs, degs_ensembl, dfdegs = enr.open_case(case, verbose=False)\n",
    "    \n",
    "    if not ret:\n",
    "        print(f\"\\nError?? case {case}\")\n",
    "        enr.echo_degs()\n",
    "        print(\"\")\n",
    "        continue\n",
    "\n",
    "    enr.echo_parameters(want_echo_default=False, jump_line=True)\n",
    "    print(\"\")\n",
    "    all_degs += enr.degs_in_pathways + enr.degs_not_in_pathways\n",
    "    print(\"\")\n",
    "\n",
    "print_all = False\n",
    "\n",
    "all_degs = np.unique(all_degs)\n",
    "print(f\"There are {len(all_degs)} {enr.s_deg_dap}s in all cases \")\n",
    "if print_all: print(\"\\n\\nall degs:\", \"; \".join(all_degs))\n",
    "print(\"\\n\")"
   ]
  },
  {
   "cell_type": "markdown",
   "id": "4707ad1f-babe-44c1-8b14-77c76b480e7f",
   "metadata": {
    "jp-MarkdownHeadingCollapsed": true
   },
   "source": [
    "### Enriched Pathways"
   ]
  },
  {
   "cell_type": "markdown",
   "id": "417fc0fa-4778-4492-9edd-ad11ddaea98d",
   "metadata": {},
   "source": [
    "### WNT"
   ]
  },
  {
   "cell_type": "code",
   "execution_count": null,
   "id": "8c0a55ce-eebd-4a9e-b070-62013780180e",
   "metadata": {},
   "outputs": [],
   "source": [
    "case = case_list[0]\n",
    "ret, degs, degs_ensembl, dflfc = enr.open_case(case)\n",
    "print(len(enr.df_enr))\n",
    "enr.df_enr.head(50)"
   ]
  },
  {
   "cell_type": "markdown",
   "id": "ef6c1289-8c82-4289-8fa9-4094e7df19e1",
   "metadata": {},
   "source": [
    "### Group 4"
   ]
  },
  {
   "cell_type": "code",
   "execution_count": null,
   "id": "7c9611e4-9003-45a8-91b9-4262fbb6d492",
   "metadata": {},
   "outputs": [],
   "source": [
    "case = case_list[1]\n",
    "ret, degs, degs_ensembl, dflfc = enr.open_case(case)\n",
    "print(len(enr.df_enr))\n",
    "enr.df_enr.head(50)"
   ]
  },
  {
   "cell_type": "code",
   "execution_count": null,
   "id": "c23af981-f128-4ee8-8290-c88b994cec8f",
   "metadata": {},
   "outputs": [],
   "source": []
  },
  {
   "cell_type": "markdown",
   "id": "33adbbe6-d359-4805-b25d-5f9e5921fc75",
   "metadata": {
    "jp-MarkdownHeadingCollapsed": true
   },
   "source": [
    "### Development & tests"
   ]
  },
  {
   "cell_type": "markdown",
   "id": "bd800701-3e4c-4c1d-a080-630ddb60f49a",
   "metadata": {},
   "source": [
    "### Genes stat for one Case"
   ]
  },
  {
   "cell_type": "code",
   "execution_count": null,
   "id": "652b370a-cc27-4592-a9a6-057c9905f607",
   "metadata": {},
   "outputs": [],
   "source": [
    "dfa = enr.calc_only_genes_in_pathway_per_case(force=False, verbose=False)\n",
    "print(len(dfa))\n",
    "dfa.head()"
   ]
  },
  {
   "cell_type": "code",
   "execution_count": null,
   "id": "3a4a8070-4104-4c0f-9d66-37213afcaf3d",
   "metadata": {},
   "outputs": [],
   "source": [
    "case = case_list[0]\n",
    "verbose=False\n",
    "\n",
    "dfq = enr.calc_pathway_gene_index_per_case(case, verbose=verbose)\n",
    "print(len(dfq))\n",
    "dfq.head()"
   ]
  },
  {
   "cell_type": "markdown",
   "id": "ed7b8012-a65b-48fe-8c2c-bc87efeaef79",
   "metadata": {},
   "source": [
    "### Summary genes"
   ]
  },
  {
   "cell_type": "code",
   "execution_count": null,
   "id": "801c7796-6f48-4d3f-abf5-3576bf958a34",
   "metadata": {
    "scrolled": true
   },
   "outputs": [],
   "source": [
    "force=False\n",
    "prompt_verbose=False\n",
    "save_up_down = False\n",
    "\n",
    "dfa = enr.calc_all_genes_in_pubmed_per_case(force=force, prompt_verbose=prompt_verbose, verbose=False)\n",
    "\n",
    "print(len(dfa))\n",
    "dfa.head(3)"
   ]
  },
  {
   "cell_type": "markdown",
   "id": "01f5b174-aa36-4f83-910d-1a86ea30b10b",
   "metadata": {},
   "source": [
    "### Summary pathways and quantiles"
   ]
  },
  {
   "cell_type": "code",
   "execution_count": null,
   "id": "0284ed53-e1f9-4b99-89bf-1dfd948d228f",
   "metadata": {},
   "outputs": [],
   "source": [
    "force=False\n",
    "prompt_verbose=False\n",
    "\n",
    "enr.calc_pathway_and_quantile_summary(quantile_list=[0.5, 0.75, 0.9],force=force, prompt_verbose=prompt_verbose, verbose=False)\n",
    "\n",
    "df_enr_summ = enr.df_enr_summ\n",
    "df_enr_anal = enr.df_enr_anal\n",
    "df_quant_summ = enr.df_quant_summ\n",
    "\n",
    "print(len(df_enr_summ))\n",
    "df_enr_summ"
   ]
  },
  {
   "cell_type": "code",
   "execution_count": null,
   "id": "bcaae1ff-ce94-4837-9ffe-eb71d5d9b216",
   "metadata": {},
   "outputs": [],
   "source": [
    "dfqq = df_enr_summ[df_enr_summ.case == 'g2a_female']\n",
    "dfqq"
   ]
  },
  {
   "cell_type": "code",
   "execution_count": null,
   "id": "4609ce93-58a9-41a9-bfb6-5e62edfc9e70",
   "metadata": {},
   "outputs": [],
   "source": [
    "dfqq = df_enr_anal[df_enr_anal.case == 'g2a_male'].groupby('quantile').coundegs_bestt().reset_index().iloc[:,:2]\n",
    "dfqq.columns = ['quantile', 'n_pathways']\n",
    "dfqq"
   ]
  },
  {
   "cell_type": "code",
   "execution_count": null,
   "id": "c8dba11b-e982-40f1-9d2a-83ef8910fc9d",
   "metadata": {},
   "outputs": [],
   "source": []
  },
  {
   "cell_type": "code",
   "execution_count": null,
   "id": "60cd9dea-e890-42de-8dab-bcbdd89ebca8",
   "metadata": {},
   "outputs": [],
   "source": [
    "print(len(df_enr_anal))\n",
    "df_enr_anal.head(2)"
   ]
  },
  {
   "cell_type": "code",
   "execution_count": null,
   "id": "840660ec-4b96-451f-8777-3f7ec902e4e1",
   "metadata": {},
   "outputs": [],
   "source": []
  },
  {
   "cell_type": "code",
   "execution_count": null,
   "id": "ab362a8c-8c60-4221-8713-5718eb2f29ac",
   "metadata": {},
   "outputs": [],
   "source": [
    "df_quant_summ = enr.df_quant_summ\n",
    "print(len(df_quant_summ))\n",
    "df_quant_summ.head(3)"
   ]
  },
  {
   "cell_type": "code",
   "execution_count": null,
   "id": "3c7c90c1-2392-456d-b983-3b79ddd417ca",
   "metadata": {},
   "outputs": [],
   "source": []
  },
  {
   "cell_type": "code",
   "execution_count": null,
   "id": "c5c97e81-a820-467a-ae2e-f11a5ca1f520",
   "metadata": {},
   "outputs": [],
   "source": [
    "width=800; height=400\n",
    "col = 'mean_toi1'\n",
    "\n",
    "for _plot in ['genes', 'pathways']:\n",
    "    fig = go.Figure()\n",
    "    \n",
    "    for quantile in quantile_list:\n",
    "        df2 = dfcut[dfcut['quantile'] == quantile]\n",
    "        if df2.empty: continue\n",
    "\n",
    "        if _plot == 'genes':\n",
    "            fig.add_trace(go.Bar(x=df2.case, y=df2.n_genes_in_pahtways, name=f'{quantile:.3f}'))\n",
    "        else:\n",
    "            fig.add_trace(go.Bar(x=df2.case, y=df2.n_pathways, name=f'{quantile:.3f}'))\n",
    "\n",
    "    fig.update_layout(title=f\"{_plot} frequency per quantile cutoff\",\n",
    "                      width=width,\n",
    "                      height=height,\n",
    "                      xaxis_title='cases',\n",
    "                      yaxis_title=f\"{_plot} counts\",\n",
    "                      legend_title=\"Quantiles\",\n",
    "                      showlegend=True)\n",
    "\n",
    "\n",
    "    fig.show()"
   ]
  },
  {
   "cell_type": "code",
   "execution_count": null,
   "id": "f43f9082-5a41-4451-bbeb-0552fee4ad2a",
   "metadata": {},
   "outputs": [],
   "source": [
    "width=1100; height=700\n",
    "col = 'mean_toi1'\n",
    "\n",
    "fig = make_subplots(rows=2, cols=1, subplot_titles=['genes', 'pathways'])\n",
    "\n",
    "nrow = 0; ncol=1\n",
    "for subplot in ['genes', 'pathways']:\n",
    "    nrow += 1\n",
    "    \n",
    "    for quantile in quantile_list:\n",
    "        df2 = dfcut[dfcut['quantile'] == quantile]\n",
    "        if df2.empty: continue\n",
    "\n",
    "        if subplot == 'genes':\n",
    "            fig.add_trace(go.Bar(x=df2.case, y=df2.n_genes_in_pahtways, name=f'genes-{quantile:.3f}'), row=nrow, col=ncol)\n",
    "        else:\n",
    "            fig.add_trace(go.Bar(x=df2.case, y=df2.n_pathways, name=f'pathways-{quantile:.3f}'), row=nrow, col=ncol)\n",
    "\n",
    "fig.update_layout(title=f\"{enr.project}\",\n",
    "                  width=width,\n",
    "                  height=height,\n",
    "                  xaxis_title='cases',\n",
    "                  yaxis_title=\"counts\",\n",
    "                  showlegend=True)\n",
    "\n",
    "\n",
    "fig.show()"
   ]
  },
  {
   "cell_type": "code",
   "execution_count": null,
   "id": "bac96052-8f7e-4ec9-9405-d804ca384205",
   "metadata": {},
   "outputs": [],
   "source": [
    "pd.DataFrame(dfcut.iloc[0]).T"
   ]
  },
  {
   "cell_type": "markdown",
   "id": "e119ee4c-9bb0-418c-9331-6713db8d5443",
   "metadata": {},
   "source": [
    "### Build best params"
   ]
  },
  {
   "cell_type": "code",
   "execution_count": null,
   "id": "7c4f1bb8-88a7-4d9f-9437-1c6c912be1f3",
   "metadata": {},
   "outputs": [],
   "source": [
    "df_list = []\n",
    "for case in case_list:\n",
    "    dfq = dfcut[dfcut.case == case][cols].sort_values(['n_pathways', 'n_genes_in_pahtways', 'pathway_fdr_cutoff'], ascending=[False, False, True])\n",
    "    best_qtl = dfq.iloc[0]['quantile']\n",
    "    print(\">>>\", case, best_qtl)\n",
    "    dfa = dfq[dfq['quantile'] == best_qtl]\n",
    "    df_list.append(dfa)\n",
    "\n",
    "dfconfig = pd.concat(df_list)\n",
    "dfconfig.index = np.arange(0, len(dfconfig))\n",
    "dfconfig"
   ]
  },
  {
   "cell_type": "markdown",
   "id": "05994804-0eb5-4f34-9f35-ae1e375c4aa3",
   "metadata": {},
   "source": [
    "### Save best params"
   ]
  },
  {
   "cell_type": "code",
   "execution_count": null,
   "id": "5146a862-5068-4657-a786-bffe44a870cf",
   "metadata": {},
   "outputs": [],
   "source": [
    "enr.cfg.save_best_ptw_cutoff(dfconfig, force=True, verbose=True)"
   ]
  },
  {
   "cell_type": "markdown",
   "id": "f3b8077d-eb1e-4886-8d4e-a3a332301f87",
   "metadata": {},
   "source": [
    "```\n",
    "def get_any_ptw_cutoff(enr, case:str, normalization:str, geneset_num:int,\n",
    "                            verbose:bool=False) -> (float, float, int, int, int, float):\n",
    "        if enr.dfbest_ptw_cutoff is None:\n",
    "            _ = enr.open_best_ptw_cutoff()\n",
    "            if enr.dfbest_ptw_cutoff is None:\n",
    "                if verbose:\n",
    "                    print(\"Houston we have a problem: No best parameter file for Pathways was found.\")\n",
    "                    print(\">>> run: new06_enricher_statistics_and_save_config_table.ipynb\")\n",
    "                return enr.param_ptw_defaults\n",
    "\n",
    "        dfa = enr.dfbest_ptw_cutoff[(enr.dfbest_ptw_cutoff.case == case) & (enr.dfbest_ptw_cutoff.normalization == normalization) &\n",
    "                                     (enr.dfbest_ptw_cutoff.geneset_num == geneset_num) & (enr.dfbest_ptw_cutoff['quantile'] == quantile) ]\n",
    "        if dfa.empty:\n",
    "            return enr.param_ptw_defaults\n",
    "```            "
   ]
  },
  {
   "cell_type": "code",
   "execution_count": null,
   "id": "31c2c3e9-bc02-4c55-8f86-7dd7b132b615",
   "metadata": {},
   "outputs": [],
   "source": []
  },
  {
   "cell_type": "code",
   "execution_count": null,
   "id": "4f84b429-026a-4721-9c7a-5c20413ad2da",
   "metadata": {},
   "outputs": [],
   "source": [
    "files = [x for x in os.listdir(enr.root_enrichment) if '_pathway_pval_' in x \\\n",
    "                 and case in x and enr.geneset_lib in x and enr.normalization in x and not '~lock' in x]\n",
    "len(files)"
   ]
  },
  {
   "cell_type": "code",
   "execution_count": null,
   "id": "da861df9-6b8f-4a49-9757-ef7ab3d17633",
   "metadata": {},
   "outputs": [],
   "source": [
    "\" - \".join(files[0].split(\"_\"))"
   ]
  },
  {
   "cell_type": "code",
   "execution_count": null,
   "id": "f93968aa-563d-4b9f-8179-eb01792d91c3",
   "metadata": {},
   "outputs": [],
   "source": []
  },
  {
   "cell_type": "code",
   "execution_count": null,
   "id": "7bc583f2-0699-41a6-bd85-78424199de9e",
   "metadata": {},
   "outputs": [],
   "source": [
    "df_best = enr.cfg.dfbest_ptw_cutoff\n",
    "df_best.head(2)"
   ]
  },
  {
   "cell_type": "code",
   "execution_count": null,
   "id": "9390afe5-a5a2-437c-9114-cc0ecd9d8023",
   "metadata": {},
   "outputs": [],
   "source": [
    "dfq = df_best[(df_best.case == case) & (df_best.geneset_num == geneset_num) & \\\n",
    "              (df_best.normalization == normalization) ]\n",
    "\n",
    "row = dfq.iloc[0]\n",
    "row"
   ]
  },
  {
   "cell_type": "code",
   "execution_count": null,
   "id": "2c925f1f-79f7-4a25-8a32-8f5f8aa71a2a",
   "metadata": {},
   "outputs": [],
   "source": []
  },
  {
   "cell_type": "code",
   "execution_count": null,
   "id": "8ac0bc5c-0fdb-4104-ab0d-efe361707a85",
   "metadata": {},
   "outputs": [],
   "source": [
    "force=False; verbose=False\n",
    "\n",
    "dfi = enr.calc_enrichment_cutoff_params_and_ndxs_per_case_and_geneset_lib(case, force=force, verbose=verbose)\n",
    "print(dfi.columns)\n",
    "print(len(dfi))"
   ]
  },
  {
   "cell_type": "code",
   "execution_count": null,
   "id": "53943a4b-c681-453a-9781-76436790818d",
   "metadata": {},
   "outputs": [],
   "source": [
    "col='mean_toi1'\n",
    "\n",
    "quantiles = np.quantile(dfi[col], quantile_list)\n",
    "quantiles"
   ]
  },
  {
   "cell_type": "code",
   "execution_count": null,
   "id": "c98ce49a-7c3c-4455-a8d2-7a1439cc168b",
   "metadata": {},
   "outputs": [],
   "source": [
    "perc_tolerance=0.05\n",
    "\n",
    "for i in range(len(quantiles)):\n",
    "    if quantiles[i] < 0.95:\n",
    "        lim_inf = quantiles[i]\n",
    "        lim_sup = quantiles[i+1]\n",
    "    else:\n",
    "        lim_inf = quantiles[i]\n",
    "        lim_sup = None\n",
    "        \n",
    "    print(lim_inf, quantile, lim_sup)"
   ]
  },
  {
   "cell_type": "code",
   "execution_count": null,
   "id": "ba03a909-de78-41ca-b189-f9f92ed2dd2a",
   "metadata": {},
   "outputs": [],
   "source": [
    "df2 = dfi[ (dfi[col] >= lim_inf) & (dfi[col] <= lim_sup) ].copy()\n",
    "df2 = df2.sort_values(['lfc_cutoff', 'fdr_cutoff', 'pathway_fdr_cutoff'], ascending=[False, True, True])\n",
    "df2.head(6)"
   ]
  },
  {
   "cell_type": "code",
   "execution_count": null,
   "id": "420ccdd3-0bb6-4352-a303-597ef3e6a962",
   "metadata": {},
   "outputs": [],
   "source": [
    "df2 = dfi[ (dfi[col] >= lim_inf) & (dfi[col] <= lim_sup) ].copy()\n",
    "df2 = df2.sort_values(['pathway_fdr_cutoff', 'fdr_cutoff', 'lfc_cutoff'], ascending=[True, True, False])\n",
    "df2.head(6)"
   ]
  },
  {
   "cell_type": "code",
   "execution_count": null,
   "id": "d04a01cd-4323-4cdd-9d4f-cc57b5574b25",
   "metadata": {},
   "outputs": [],
   "source": []
  },
  {
   "cell_type": "code",
   "execution_count": null,
   "id": "da9ac8ef-dacf-402a-bd5d-a37fec1f0f53",
   "metadata": {},
   "outputs": [],
   "source": [
    "case = case_list[4]\n",
    "print(\">>>\", case)\n",
    "col='mean_toi1'\n",
    "quantile_list=(0.50, 0.75, .90)\n",
    "force = False\n",
    "verbose = False\n",
    "\n",
    "dic_quant = enr.best_cutoff_quantiles(case, col, quantile_list, force=force, verbose=verbose)\n",
    "print(len(dic_quant))"
   ]
  },
  {
   "cell_type": "code",
   "execution_count": null,
   "id": "48564c2e",
   "metadata": {},
   "outputs": [],
   "source": [
    "print(len(df_enr_mod))\n",
    "df_enr_mod.head(6)"
   ]
  },
  {
   "cell_type": "code",
   "execution_count": null,
   "id": "b4218a0c-7bea-4d5c-8970-1d3f0ef25478",
   "metadata": {},
   "outputs": [],
   "source": [
    "df_enr0 = enr.df_enr0\n",
    "print(len(df_enr0))\n",
    "df_enr0.head(6)"
   ]
  },
  {
   "cell_type": "code",
   "execution_count": null,
   "id": "04b8264e-f72d-4064-a4fb-263c5920671f",
   "metadata": {},
   "outputs": [],
   "source": []
  },
  {
   "cell_type": "markdown",
   "id": "fdf4b6dd-93b9-43c0-b71b-4d64206a59d5",
   "metadata": {},
   "source": [
    "### Development & tests"
   ]
  },
  {
   "cell_type": "code",
   "execution_count": null,
   "id": "34e6d6fe",
   "metadata": {},
   "outputs": [],
   "source": [
    "def all_equal_list(cols1, cols2):\n",
    "    if cols1 is None and cols2 is None: return True\n",
    "    if cols1 == [] and cols2 == []: return True\n",
    "    \n",
    "    if len(cols1) != len(cols2): return False\n",
    "    \n",
    "    soma = np.sum([1 if cols1[i] != cols2[i] else 0 for i in range(len(cols1))])\n",
    "    return soma == 0\n",
    "\n",
    "cols1 = list(enr.dflfc_all.columns)\n",
    "\n",
    "cols2 = ['probe', 'symbol', 'geneid', 'description', 'logFC', 'meanExpr', \\\n",
    "        't.stat', 'p-value', 'fdr', 'B', 'chr.range', 'org.chromosome', \\\n",
    "        'forward.reverse', 'nuc.sequence', 'gemmaid', 'go.term']\n",
    "\n",
    "all_equal_list(cols1, cols2)"
   ]
  },
  {
   "cell_type": "code",
   "execution_count": null,
   "id": "0f1f5ea1",
   "metadata": {},
   "outputs": [],
   "source": [
    "all_genes = []\n",
    "for i in range(len(dfsig)):\n",
    "    genes = eval(dfsig.iloc[i].genes)\n",
    "    # print(i, len(genes))\n",
    "    all_genes += genes\n",
    "    \n",
    "all_genes = np.unique(all_genes)\n",
    "all_genes.sort()\n",
    "all_genes\n",
    "\n",
    "not_found_genes = np.array([x for x in enr.deg_list if not x in all_genes])\n",
    "not_found_genes"
   ]
  },
  {
   "cell_type": "code",
   "execution_count": null,
   "id": "a6422904",
   "metadata": {},
   "outputs": [],
   "source": []
  },
  {
   "cell_type": "code",
   "execution_count": null,
   "id": "093e7936",
   "metadata": {},
   "outputs": [],
   "source": [
    "def find_hugo_symbol(gene):\n",
    "    try:\n",
    "        i = enr.dic_genes[gene]\n",
    "        if isinstance(i, list):\n",
    "def calc_enriched_pathways_random_genes(degs_best, degs_default, abs_lfc_cutoff=1, fdr_lfc_cutoff=0.05,\n",
    "                                        fdr_pathway_cutoff=0.05, verbose=False):\n",
    "    n_genes = len(degs_best)\n",
    "    n_diff = n_genes - len(degs_default)\n",
    "    \n",
    "    if n_diff == 0:\n",
    "        flag_ok = True\n",
    "    else:\n",
    "        flag_ok = False\n",
    "    \n",
    "        if n_diff > 0:\n",
    "            best_has_more = True\n",
    "        else:\n",
    "            best_has_more = False\n",
    "    \n",
    "    if flag_ok or not best_has_more:\n",
    "        return None, [], []\n",
    "\n",
    "    dfa = enr.dflfc_ori[ ~enr.dflfc_ori.symbol.isin(degs_default) ].copy()\n",
    "    dfa.index = np.arange(0, len(dfa))\n",
    "\n",
    "    rows = np.random.randint(0, len(dfa), n_diff)\n",
    "    # print(len(rows))\n",
    "    # print(\",\".join([str(x) for x in rows]))\n",
    "    random_genes = [x for x in dfa.iloc[rows].symbol if isinstance(x, str)]\n",
    "    random_genes.sort()\n",
    "\n",
    "    degs_random = degs_default + random_genes\n",
    "\n",
    "    ret, degs_default, degs_ensembl_default, dflfc_default = enr.open_case_params(case, abs_lfc_cutoff=abs_lfc_cutoff, fdr_lfc_cutoff=fdr_lfc_cutoff)\n",
    "    enr.calc_EA_dataset_symbol(degs_random, force=force, calc_many_sig=False, verbose=verbose)\n",
    "    \n",
    "    df_enr = enr.df_enr0.copy()\n",
    "    df_enr = df_enr[(df_enr.pval < 0.05) & (df_enr.fdr < fdr_pathway_cutoff) & (df_enr.num_of_genes >= 3)]\n",
    "    if df_enr.empty:\n",
    "        print(\"No enrichment analysis wwere found.\")\n",
    "    else:\n",
    "        df_enr = df_enr.sort_values('fdr', ascending=True)\n",
    "        df_enr.index = np.arange(0, len(df_enr))\n",
    "    \n",
    "    if verbose: print(f\"There are {len(df_enr)} enriched pathways.\")\n",
    "\n",
    "    if df_enr.empty:\n",
    "        all_enr_degs, degs_in_pathways_random, degs_not_in_pathways_random = [], [], []\n",
    "    else:\n",
    "        all_enr_degs = []\n",
    "        for i in range(len(df_enr)):\n",
    "            genes = df_enr.iloc[i].genes\n",
    "            if isinstance(genes, str):\n",
    "                genes = eval(genes)\n",
    "            all_enr_degs += genes\n",
    "        \n",
    "        all_enr_degs = list(np.unique(all_enr_degs))\n",
    "        \n",
    "        degs_in_pathways_random     = [x for x in degs_random if x     in all_enr_degs]\n",
    "        degs_not_in_pathways_random = [x for x in degs_random if x not in all_enr_degs]\n",
    "\n",
    "    \n",
    "    return df_enr, degs_in_pathways_random, degs_not_in_pathways_random\n",
    "\n",
    "            i = i[0]\n",
    "            \n",
    "        mat = enr.df_synonyms.iloc[i]['synonyms']\n",
    "        print(\">>>\", gene, i, mat, type(mat))\n",
    "        if isinstance(mat, str):\n",
    "            mat = eval(mat)\n",
    "            \n",
    "        gene0 = mat[0]\n",
    "    except:\n",
    "        gene0 = gene\n",
    "\n",
    "    return gene0"
   ]
  },
  {
   "cell_type": "code",
   "execution_count": null,
   "id": "86ac57d7",
   "metadata": {},
   "outputs": [],
   "source": [
    "gene = 'SEPP1'\n",
    "find_hugo_symbol(gene)"
   ]
  },
  {
   "cell_type": "code",
   "execution_count": null,
   "id": "73e700f3",
   "metadata": {},
   "outputs": [],
   "source": [
    "enr.dic_genes[gene]"
   ]
  },
  {
   "cell_type": "code",
   "execution_count": null,
   "id": "b4ed5d11-4630-41c9-bea4-607d4da43b4c",
   "metadata": {},
   "outputs": [],
   "source": []
  },
  {
   "cell_type": "code",
   "execution_count": null,
   "id": "920c4973-32d3-44db-8b80-8b6dd1d2f12c",
   "metadata": {},
   "outputs": [],
   "source": [
    "\n",
    "def calc_enriched_pathways_random_genes(degs_best, degs_default, abs_lfc_cutoff=1, fdr_lfc_cutoff=0.05,\n",
    "                                        fdr_pathway_cutoff=0.05, verbose=False):\n",
    "    n_genes = len(degs_best)\n",
    "    n_diff = n_genes - len(degs_default)\n",
    "    \n",
    "    if n_diff == 0:\n",
    "        flag_ok = True\n",
    "    else:\n",
    "        flag_ok = False\n",
    "    \n",
    "        if n_diff > 0:\n",
    "            best_has_more = True\n",
    "        else:\n",
    "            best_has_more = False\n",
    "    \n",
    "    if flag_ok or not best_has_more:\n",
    "        return None, [], []\n",
    "\n",
    "    dfa = enr.dflfc_ori[ ~enr.dflfc_ori.symbol.isin(degs_default) ].copy()\n",
    "    dfa.index = np.arange(0, len(dfa))\n",
    "\n",
    "    rows = np.random.randint(0, len(dfa), n_diff)\n",
    "    # print(len(rows))\n",
    "    # print(\",\".join([str(x) for x in rows]))\n",
    "    random_genes = [x for x in dfa.iloc[rows].symbol if isinstance(x, str)]\n",
    "    random_genes.sort()\n",
    "\n",
    "    degs_random = degs_default + random_genes\n",
    "\n",
    "    ret, degs_default, degs_ensembl_default, dflfc_default = enr.open_case_params(case, abs_lfc_cutoff=abs_lfc_cutoff, fdr_lfc_cutoff=fdr_lfc_cutoff)\n",
    "    enr.calc_EA_dataset_symbol(degs_random, force=force, calc_many_sig=False, verbose=verbose)\n",
    "    \n",
    "    df_enr = enr.df_enr0.copy()\n",
    "    df_enr = df_enr[(df_enr.pval < 0.05) & (df_enr.fdr < fdr_pathway_cutoff) & (df_enr.num_of_genes >= 3)]\n",
    "    if df_enr.empty:\n",
    "        print(\"No enrichment analysis wwere found.\")\n",
    "    else:\n",
    "        df_enr = df_enr.sort_values('fdr', ascending=True)\n",
    "        df_enr.index = np.arange(0, len(df_enr))\n",
    "    \n",
    "    if verbose: print(f\"There are {len(df_enr)} enriched pathways.\")\n",
    "\n",
    "    if df_enr.empty:\n",
    "        all_enr_degs, degs_in_pathways_random, degs_not_in_pathways_random = [], [], []\n",
    "    else:\n",
    "        all_enr_degs = []\n",
    "        for i in range(len(df_enr)):\n",
    "            genes = df_enr.iloc[i].genes\n",
    "            if isinstance(genes, str):\n",
    "                genes = eval(genes)\n",
    "            all_enr_degs += genes\n",
    "        \n",
    "        all_enr_degs = list(np.unique(all_enr_degs))\n",
    "        \n",
    "        degs_in_pathways_random     = [x for x in degs_random if x     in all_enr_degs]\n",
    "        degs_not_in_pathways_random = [x for x in degs_random if x not in all_enr_degs]\n",
    "\n",
    "    \n",
    "    return df_enr, degs_in_pathways_random, degs_not_in_pathways_random\n"
   ]
  },
  {
   "cell_type": "code",
   "execution_count": null,
   "id": "574d1763-e50c-4560-b301-bddf31410450",
   "metadata": {},
   "outputs": [],
   "source": []
  },
  {
   "cell_type": "code",
   "execution_count": null,
   "id": "a572e62e-d4cb-4c98-90ff-c38ef9e84a11",
   "metadata": {},
   "outputs": [],
   "source": []
  },
  {
   "cell_type": "code",
   "execution_count": null,
   "id": "027fd05e-7a69-4cac-9890-d7a0b19657c3",
   "metadata": {},
   "outputs": [],
   "source": [
    "def build_matrix_calc_chi_square(degs_in_pathways_best, degs_not_in_pathways_best,\n",
    "                                 degs_in_pathways_random, degs_not_in_pathways_random):\n",
    "    mat = [ [len(degs_in_pathways_best), len(degs_not_in_pathways_best)],\n",
    "       [len(degs_in_pathways_random), len(degs_not_in_pathways_random)],\n",
    "      ]\n",
    "    dfmat = pd.DataFrame(mat)\n",
    "    dfmat.index = ['enriched', 'random']\n",
    "    dfmat.columns = ['degs_in', 'degs_out']\n",
    "\n",
    "    ret_chi, dof, stat, pvalue, stri_stat = chisquare_2by2(dfmat)\n",
    "\n",
    "    return dfmat, ret_chi, dof, stat, pvalue, stri_stat\n",
    "\n"
   ]
  },
  {
   "cell_type": "markdown",
   "id": "445a6d98-8949-44c6-9f8d-4ebd7fe4bcd3",
   "metadata": {},
   "source": [
    "### 30 simulations"
   ]
  },
  {
   "cell_type": "code",
   "execution_count": null,
   "id": "042ddf5c-4fac-4010-9bf6-2754da2e6965",
   "metadata": {},
   "outputs": [],
   "source": [
    "dic = {}\n",
    "for i in range(30):\n",
    "    df_enr, degs_in_pathways_random, degs_not_in_pathways_random = calc_enriched_pathways_random_genes(degs_best, degs_default,\n",
    "                                                               abs_lfc_cutoff=1, fdr_lfc_cutoff=0.5,\n",
    "                                                               fdr_pathway_cutoff=0.05)\n",
    "    dfmat, ret_chi, dof, stat, pvalue, stri_stat = build_matrix_calc_chi_square(degs_in_pathways_best, degs_not_in_pathways_best,\n",
    "                                                                            degs_in_pathways_random, degs_not_in_pathways_random)\n",
    "\n",
    "    dic[i] = {}\n",
    "    dic2 = dic[i]\n",
    "\n",
    "    dic2['stat_sig'] = ret_chi\n",
    "    dic2['dof'] = dof\n",
    "    dic2['stat'] = stat\n",
    "    dic2['pvalue'] = f'{pvalue:.3e}'\n",
    "    dic2['stri_stat'] = stri_stat\n",
    "    dic2['dfmat'] = dfmat\n",
    "\n",
    "dff = pd.DataFrame(dic).T\n",
    "dff[ dff.stat_sig==False ]"
   ]
  },
  {
   "cell_type": "code",
   "execution_count": null,
   "id": "1b9c0e8a-f788-4362-a342-aca2f6cc8686",
   "metadata": {},
   "outputs": [],
   "source": []
  },
  {
   "cell_type": "code",
   "execution_count": null,
   "id": "a9f49388-0978-41ad-ae2a-91fe5cf7877a",
   "metadata": {},
   "outputs": [],
   "source": [
    "def filter_my_gene():\n",
    "    df_mg = enr.gene.df_my_gene.copy()\n",
    "    df_mg = df_mg[ ~ df_mg.symbol.str.startswith('LOC')]\n",
    "    df_mg = df_mg[ ~ df_mg.symbol.str.startswith('LINC')]\n",
    "    df_mg = df_mg[ ~ df_mg.symbol.str.startswith('LNC')]\n",
    "    df_mg = df_mg[ ~ df_mg.symbol.str.startswith('MIR')]\n",
    "    df_mg = df_mg[ [False if '-' in x else True for x in df_mg.symbol] ]\n",
    "    \n",
    "    df_mg.index = np.arange(0, len(df_mg))\n",
    "\n",
    "    return df_mg\n",
    "\n",
    "df_mg = filter_my_gene()\n",
    "n_genes = len(df_mg)\n",
    "\n",
    "print(n_genes)"
   ]
  },
  {
   "cell_type": "code",
   "execution_count": null,
   "id": "4f082721-17ab-4bf5-9857-1bfa9de79e68",
   "metadata": {},
   "outputs": [],
   "source": []
  },
  {
   "cell_type": "code",
   "execution_count": null,
   "id": "d562df5d-2e3f-4ffa-a79f-03c341b9b134",
   "metadata": {},
   "outputs": [],
   "source": [
    "selected_toi_col='toi4_median'\n",
    "dfcut = enr.build_all_cutoffs_table(selected_toi_col, force=False, verbose=False)\n",
    "print(len(dfcut))\n",
    "dfcut.head(3)"
   ]
  },
  {
   "cell_type": "code",
   "execution_count": null,
   "id": "23e8e800-dc86-43bd-87b6-e8df2803a61b",
   "metadata": {},
   "outputs": [],
   "source": [
    "dfcut.case.unique()"
   ]
  },
  {
   "cell_type": "code",
   "execution_count": null,
   "id": "c6282ea7-4c91-410c-b5e6-d97a80093459",
   "metadata": {},
   "outputs": [],
   "source": [
    "df2  = dfcut[ (dfcut.case == 'WNT') ]\n",
    "fdr_list = np.unique(df2.fdr_lfc_cutoff)\n",
    "fdr_list"
   ]
  },
  {
   "cell_type": "code",
   "execution_count": null,
   "id": "c1ebd0fe-55c1-4fae-9d6a-85e80d69cee0",
   "metadata": {},
   "outputs": [],
   "source": [
    "df2  = dfcut[ (dfcut.case == 'C4') ]\n",
    "fdr_list = np.unique(df2.fdr_lfc_cutoff)\n",
    "fdr_list"
   ]
  },
  {
   "cell_type": "code",
   "execution_count": null,
   "id": "6af60f40-a24b-4468-a5de-de28e85386a0",
   "metadata": {},
   "outputs": [],
   "source": [
    "from graphic_lib import *\n",
    "\n",
    "_plot = 'genes'\n",
    "_plot = 'pathways'\n",
    "width=1100; height=500\n",
    "plot_all_dfi = True\n",
    "\n",
    "colors = ['olivedrab', 'navy', 'red', 'darkcyan', 'darkgreen', 'orange', 'brown', 'darksalmon', \n",
    "          'magenta', 'darkturquoise', 'orange', 'darkred', 'indigo', 'magenta', 'maroon', 'black', \n",
    "          \"darkblue\", \"darkcyan\", \"darkgoldenrod\", \"darkgray\", \"darkgrey\", \"darkgreen\", 'navy'] \n",
    "\n",
    "selected_toi_col='toi4_median'\n",
    "print(\">>>\", selected_toi_col)\n",
    "\n",
    "dfcut = enr.build_all_cutoffs_table(selected_toi_col, force=False, verbose=False)\n",
    "\n",
    "# fig = make_subplots(rows=2, cols=1, subplot_titles=['genes', 'pathways'])\n",
    "\n",
    "i = -1\n",
    "for _plot in ['genes', 'pathways']:\n",
    "\n",
    "    if _plot == 'genes':\n",
    "        plot_name = f\"'Best' number of {enr.s_deg_dap}s in pathways\"\n",
    "        yaxis_title = f\"# {enr.s_deg_dap}s in pathways\"\n",
    "    else:\n",
    "        plot_name = f\"'Best' number of enriched pathways\"\n",
    "        yaxis_title = \"# of pathways\"\n",
    "\n",
    "    fig = go.Figure()\n",
    "    \n",
    "    for case in enr.case_list:\n",
    "        df2  = dfcut[ (dfcut.case == case) ]\n",
    "        fdr_list = np.unique(df2.fdr_lfc_cutoff)\n",
    "\n",
    "        if plot_all_dfi: dfi = enr.calc_enrichment_cutoff_params_and_ndxs_per_case_and_geneset_lib(case)\n",
    "\n",
    "        for fdr in fdr_list:\n",
    "            i += 1\n",
    "  \n",
    "            df2  = dfcut[ (dfcut.case == case) & (dfcut.fdr_lfc_cutoff == fdr) ]\n",
    "            if plot_all_dfi: dfi2 = dfi[   (dfi.case == case)   & (dfi.fdr_lfc_cutoff == fdr) ]\n",
    "            \n",
    "            if df2.empty:\n",
    "                continue\n",
    "    \n",
    "            name1 = f\"{case} fdr={fdr:.3f} for {_plot}\"\n",
    "            name2 = name1 + '_all'\n",
    "            df2  = df2.sort_values( selected_toi_col, ascending=True)\n",
    "            if plot_all_dfi: dfi2 = dfi2.sort_values(selected_toi_col, ascending=True)\n",
    "            color = colors[i]\n",
    "    \n",
    "            if _plot == 'genes':\n",
    "                fig.add_trace(go.Scatter(x=df2[selected_toi_col],   y=df2.n_degs_in_pathways,  marker_color=color, name=name1) ) # , row=1, col=1)\n",
    "                if plot_all_dfi: fig.add_trace(go.Scatter(x=dfi2[selected_toi_col], y=dfi2.n_degs_in_pathways, line=dict(dash='dash'), marker_color=color, name=name2)) # , row=1, col=1)\n",
    "            else:\n",
    "                fig.add_trace(go.Scatter(x=df2[selected_toi_col],   y=df2.n_pathways, marker_color=color, name=name1)) #, row=2, col=1)\n",
    "                if plot_all_dfi: fig.add_trace(go.Scatter(x=dfi2[selected_toi_col], y=dfi2.n_pathways, line=dict(dash='dash'), marker_color=color, name=name2)) #, row=2, col=1)\n",
    "    \n",
    "    fig.update_layout(title=f\"{selected_toi_col} x {_plot}\",\n",
    "                      width=width,\n",
    "                      height=height,\n",
    "                      xaxis_title=selected_toi_col,\n",
    "                      yaxis_title=yaxis_title,\n",
    "                      # xaxis2_title=selected_toi_col,\n",
    "                      legend_title=\"cases\",\n",
    "                      showlegend=True)\n",
    "    \n",
    "    #fig['layout']['yaxis']['title']=yaxis_title1\n",
    "    # fig['layout']['yaxis2']['title']=yaxis_title2\n",
    "    \n",
    "    fig.show()\n",
    "    print(\"\")"
   ]
  },
  {
   "cell_type": "code",
   "execution_count": null,
   "id": "c2846320-e109-4c6d-a917-4a828eaf7d4c",
   "metadata": {},
   "outputs": [],
   "source": []
  },
  {
   "cell_type": "code",
   "execution_count": null,
   "id": "0c3b2cdb-78b6-4690-8c04-e18ccca15e58",
   "metadata": {},
   "outputs": [],
   "source": []
  },
  {
   "cell_type": "code",
   "execution_count": null,
   "id": "7bb1f08f-fb01-4c3a-b68b-73d4b61e22e8",
   "metadata": {},
   "outputs": [],
   "source": [
    "dflfc = enr.dflfc_ori\n",
    "dflfc = dflfc.sort_values(['symbol', 'abs_lfc'], ascending=[True, False]).copy()\n",
    "dflfc.index = np.arange(0, len(dflfc))\n",
    "\n",
    "previous = ''; goods = []\n",
    "for i in range(len(dflfc)):\n",
    "\n",
    "    if not isinstance(dflfc.iloc[i].symbol, str):\n",
    "        goods.append(False)\n",
    "    elif dflfc.iloc[i].symbol != previous:\n",
    "        previous = dflfc.iloc[i].symbol\n",
    "        goods.append(True)\n",
    "    else:\n",
    "        goods.append(False)\n",
    "\n",
    "dflfc['symbol_ori'] = dflfc.symbol\n",
    "dflfc.loc[:, 'symbol'] = [enr.gene.replace_synonym_and_hugo_symbol(x) for x in dflfc.symbol]\n",
    "\n",
    "print(len(dflfc))\n",
    "dflfc = dflfc[goods]\n",
    "print(len(dflfc))\n",
    "\n",
    "fname = \"medulloblastoma_NO_DUP_LFC_%s_x_CTRL_%s.tsv\"%(enr.case, enr.normalization)\n",
    "# pdwritecsv(dflfc, fname, enr.root_result, verbose=True)"
   ]
  },
  {
   "cell_type": "code",
   "execution_count": null,
   "id": "3e2424d3-030e-4f46-b189-747899fe996f",
   "metadata": {},
   "outputs": [],
   "source": [
    "diff = [True if dflfc.iloc[i].symbol != dflfc.iloc[i].symbol_ori else False for i in range(len(dflfc))  ]\n",
    "\n",
    "cols = ['symbol', 'symbol_ori', 'probe', 'description']\n",
    "dflfc[diff][cols]"
   ]
  },
  {
   "cell_type": "code",
   "execution_count": null,
   "id": "849991c0-69fb-4408-80da-2ff61742d488",
   "metadata": {},
   "outputs": [],
   "source": []
  }
 ],
 "metadata": {
  "kernelspec": {
   "display_name": "Python 3 (ipykernel)",
   "language": "python",
   "name": "python3"
  },
  "language_info": {
   "codemirror_mode": {
    "name": "ipython",
    "version": 3
   },
   "file_extension": ".py",
   "mimetype": "text/x-python",
   "name": "python",
   "nbconvert_exporter": "python",
   "pygments_lexer": "ipython3",
   "version": "3.12.0"
  }
 },
 "nbformat": 4,
 "nbformat_minor": 5
}
